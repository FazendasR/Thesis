{
 "cells": [
  {
   "cell_type": "code",
   "execution_count": 1,
   "metadata": {},
   "outputs": [
    {
     "name": "stdout",
     "output_type": "stream",
     "text": [
      "Current Directory: c:\\Users\\1176153\\Downloads\\github\\Thesis\\model\\src\n"
     ]
    }
   ],
   "source": [
    "import os\n",
    "# Move to Thesis directory (two levels up)\n",
    "os.chdir(os.path.abspath(os.path.join(\"..\", \"..\")))\n",
    "\n",
    "# Move to model/src if it exists\n",
    "model_dir = os.path.join(os.getcwd(), \"model\", \"src\")\n",
    "if os.path.exists(model_dir):\n",
    "    os.chdir(model_dir)\n",
    "\n",
    "print(\"Current Directory:\", os.getcwd())"
   ]
  },
  {
   "cell_type": "code",
   "execution_count": 2,
   "metadata": {},
   "outputs": [
    {
     "name": "stderr",
     "output_type": "stream",
     "text": [
      "[nltk_data] Downloading package punkt to\n",
      "[nltk_data]     C:\\Users\\1176153\\AppData\\Roaming\\nltk_data...\n",
      "[nltk_data]   Package punkt is already up-to-date!\n"
     ]
    }
   ],
   "source": [
    "import pandas as pd\n",
    "import re\n",
    "import libs.data_understanding as du\n",
    "import libs.data_preparation as dp"
   ]
  },
  {
   "cell_type": "code",
   "execution_count": 3,
   "metadata": {},
   "outputs": [],
   "source": [
    "dict_studyplan_raw = pd.read_pickle(r\"../../data/Webscrapping/bachelor_dict_textfiles_raw/dict_studyplan_raw.pkl\")\n"
   ]
  },
  {
   "cell_type": "markdown",
   "metadata": {},
   "source": [
    "# Cleaning Teaching Staff files"
   ]
  },
  {
   "cell_type": "code",
   "execution_count": 4,
   "metadata": {},
   "outputs": [
    {
     "data": {
      "text/plain": [
       "dict_keys(['data-science_program_extracted_text.txt', 'information-management_program_extracted_text.txt', 'information-systems_program_extracted_text.txt'])"
      ]
     },
     "execution_count": 4,
     "metadata": {},
     "output_type": "execute_result"
    }
   ],
   "source": [
    "dict_studyplan_raw.keys()"
   ]
  },
  {
   "cell_type": "markdown",
   "metadata": {},
   "source": [
    "## Deleting words"
   ]
  },
  {
   "cell_type": "code",
   "execution_count": 5,
   "metadata": {},
   "outputs": [
    {
     "name": "stdout",
     "output_type": "stream",
     "text": [
      "\n",
      "--- data-science_program_extracted_text.txt ---\n",
      "Text from https://www.novaims.unl.pt/en/education/programs/bachelor-s-degrees/data-science/program/#:\n",
      "Program\n",
      "Study Plan\n",
      "en\n",
      "Education\n",
      "Programs\n",
      "Bachelor's Degrees\n",
      "Data Science\n",
      "Program\n",
      "1\n",
      "st\n",
      "year - Fall Semester\n",
      "resumo do conteudo da tabela\n",
      "Course Units\n",
      "Duration\n",
      "Type\n",
      "Contact Hours\n",
      "Total Workload\n",
      "ECTS\n",
      "Computers' Architecture\n",
      "Semester\n",
      "Mandatory\n",
      "TP - 45 | OT - 5\n",
      "112\n",
      "4\n",
      "Foundational aspects of data science\n",
      "Semester\n",
      "Mandatory\n",
      "TP - 45 | OT - 5\n",
      "112\n",
      "4\n",
      "Information Systems\n",
      "Semester\n",
      "Mandatory\n",
      "TP - 64,5 | S - 3 | OT - 7,5\n",
      "168\n",
      "6\n",
      "Introduction to Programming\n",
      "Semester\n",
      "Mandatory\n",
      "TP - 67,5 | OT - 7,5\n",
      "196\n",
      "7\n",
      "Linear Algebra\n",
      "Semester\n",
      "Mandatory\n",
      "T - 22,5 | PL - 22,5 | OT - 7,5\n",
      "112\n",
      "4\n",
      "Show subtitles\n",
      "T – Theoretical Teaching;\n",
      "TP – Theoretical/ Practical Teaching;\n",
      "TC – Field Work;\n",
      "PL – Theoretical/ Practical Teaching;\n",
      "S – Seminar;\n",
      "OT – Tutor Group;\n",
      "** – Course Unit available in both semesters;\n",
      "1\n",
      "st\n",
      "year - Spring Semester\n",
      "resumo do conteudo da tabela\n",
      "Course Units\n",
      "Duration\n",
      "Type\n",
      "Contact Hours\n",
      "Total Workload\n",
      "ECTS\n",
      "Algorithms and Data Structures\n",
      "Semester\n",
      "Mandatory\n",
      "TP - 67,5 | OT - 7,5\n",
      "168\n",
      "6\n",
      "Introduction to Artificial Intelligence\n",
      "Semester\n",
      "Mandatory\n",
      "TP - 67,5 | OT - 15\n",
      "140\n",
      "5\n",
      "Introduction to Computational Thinking and Data Science\n",
      "Semester\n",
      "Mandatory\n",
      "TP - 45 | OT - 5\n",
      "112\n",
      "4\n",
      "Mathematical Analysis I **\n",
      "Semester\n",
      "Mandatory\n",
      "T - 22,5 | PL - 45 | OT - 7,5\n",
      "140\n",
      "5\n",
      "Mathematical Analysis II **\n",
      "Semester\n",
      "Mandatory\n",
      "T - 22,5 | PL - 45 | OT - 7,5\n",
      "196\n",
      "7\n",
      "Personal Development I\n",
      "Semester\n",
      "Mandatory\n",
      "TP - 22,5 | OT - 7,5\n",
      "56\n",
      "2\n",
      "Statistics and Probability Distributions\n",
      "Semester\n",
      "Mandatory\n",
      "TP - 67,5 | OT - 7,5\n",
      "168\n",
      "6\n",
      "Show subtitles\n",
      "T – Theoretical Teaching;\n",
      "TP – Theoretical/ Practical Teaching;\n",
      "TC – Field Work;\n",
      "PL – Theoretical/ Practical Teaching;\n",
      "S – Seminar;\n",
      "OT – Tutor Group;\n",
      "** – Course Unit available in both semesters;\n",
      "Semestre 1 - 2;\n",
      "2\n",
      "nd\n",
      "year - Fall Semester\n",
      "resumo do conteudo da tabela\n",
      "Course Units\n",
      "Duration\n",
      "Type\n",
      "Contact Hours\n",
      "Total Workload\n",
      "ECTS\n",
      "Data preprocessing and visualization\n",
      "Semester\n",
      "Mandatory\n",
      "TP - 67,5 | OT - 7,5\n",
      "168\n",
      "6\n",
      "Databases\n",
      "Semester\n",
      "Mandatory\n",
      "TP - 64,5 | S - 3 | OT - 7,5\n",
      "168\n",
      "6\n",
      "Machine Learning I\n",
      "Semester\n",
      "Mandatory\n",
      "TP - 67,5 | OT - 7,5\n",
      "168\n",
      "6\n",
      "Programming for Data Science\n",
      "Semester\n",
      "Mandatory\n",
      "TP - 67,5 | OT - 7,5\n",
      "168\n",
      "6\n",
      "Statistical Inference\n",
      "Semester\n",
      "Mandatory\n",
      "TP - 67,5 | OT - 7,5\n",
      "168\n",
      "6\n",
      "Show subtitles\n",
      "T – Theoretical Teaching;\n",
      "TP – Theoretical/ Practical Teaching;\n",
      "TC – Field Work;\n",
      "PL – Theoretical/ Practical Teaching;\n",
      "S – Seminar;\n",
      "OT – Tutor Group;\n",
      "** – Course Unit available in both semesters;\n",
      "Semestre 2 - 1;\n",
      "2\n",
      "nd\n",
      "year - Spring Semester\n",
      "resumo do conteudo da tabela\n",
      "Course Units\n",
      "Duration\n",
      "Type\n",
      "Contact Hours\n",
      "Total Workload\n",
      "ECTS\n",
      "Big Data Storage\n",
      "Semester\n",
      "Mandatory\n",
      "TP - 67,5 | OT - 7,5\n",
      "168\n",
      "6\n",
      "Forecasting Methods\n",
      "Semester\n",
      "Mandatory\n",
      "TP - 67,5 | OT - 15\n",
      "168\n",
      "6\n",
      "Machine Learning II\n",
      "Semester\n",
      "Mandatory\n",
      "TP - 67,5 | OT - 7,5\n",
      "168\n",
      "6\n",
      "Optimization Algorithms\n",
      "Semester\n",
      "Mandatory\n",
      "TP - 67,5 | OT - 7,5\n",
      "168\n",
      "6\n",
      "Regression Analysis\n",
      "Semester\n",
      "Mandatory\n",
      "TP - 67,5 | OT - 7,5\n",
      "168\n",
      "6\n",
      "Show subtitles\n",
      "T – Theoretical Teaching;\n",
      "TP – Theoretical/ Practical Teaching;\n",
      "TC – Field Work;\n",
      "PL – Theoretical/ Practical Teaching;\n",
      "S – Seminar;\n",
      "OT – Tutor Group;\n",
      "** – Course Unit available in both semesters;\n",
      "3\n",
      "rd\n",
      "year - Fall Semester\n",
      "resumo do conteudo da tabela\n",
      "Course Units\n",
      "Duration\n",
      "Type\n",
      "Contact Hours\n",
      "Total Workload\n",
      "ECTS\n",
      "Big Data Analysis\n",
      "Semester\n",
      "Mandatory\n",
      "TP - 67,5 | OT - 15\n",
      "168\n",
      "6\n",
      "Capstone Project\n",
      "Semester\n",
      "Mandatory\n",
      "TP - 22,5 | OT - 45\n",
      "224\n",
      "8\n",
      "Deep Learning\n",
      "Semester\n",
      "Mandatory\n",
      "TP - 67,5 | OT - 15\n",
      "168\n",
      "6\n",
      "Ethical, Social and Legal Aspects of Artificial Intelligence\n",
      "Semester\n",
      "Mandatory\n",
      "TP - 22,5 | OT - 7,5\n",
      "56\n",
      "2\n",
      "Personal Development II\n",
      "Semester\n",
      "Mandatory\n",
      "TP - 22,5 | OT - 7,5\n",
      "56\n",
      "2\n",
      "Text Mining\n",
      "Semester\n",
      "Mandatory\n",
      "TP - 45 | OT - 12,5\n",
      "168\n",
      "6\n",
      "Show subtitles\n",
      "T – Theoretical Teaching;\n",
      "TP – Theoretical/ Practical Teaching;\n",
      "TC – Field Work;\n",
      "PL – Theoretical/ Practical Teaching;\n",
      "S – Seminar;\n",
      "OT – Tutor Group;\n",
      "** – Course Unit available in both semesters;\n",
      "3\n",
      "rd\n",
      "year - Spring Semester\n",
      "resumo do conteudo da tabela\n",
      "Course Units\n",
      "Duration\n",
      "Type\n",
      "Contact Hours\n",
      "Total Workload\n",
      "ECTS\n",
      "Applied Economics\n",
      "Semester\n",
      "Elective\n",
      "TP - 45 | OT - 5\n",
      "112\n",
      "4\n",
      "Digital Innovation Projects\n",
      "Semester\n",
      "Elective\n",
      "TP - 45 | OT - 10\n",
      "112\n",
      "4\n",
      "Entrepreneurship and Project Analysis\n",
      "Semester\n",
      "Elective\n",
      "TP - 45 | OT - 7,5\n",
      "112\n",
      "4\n",
      "Financial Calculus and Project Analysis\n",
      "Semester\n",
      "Elective\n",
      "TP - 45\n",
      "112\n",
      "4\n",
      "Geospatial Analytics\n",
      "Semester\n",
      "Elective\n",
      "TP - 45 | OT - 7,5\n",
      "112\n",
      "4\n",
      "Informatics and Information Law\n",
      "Semester\n",
      "Elective\n",
      "TP - 45 | OT - 10\n",
      "112\n",
      "4\n",
      "Information Systems Seminar\n",
      "Semester\n",
      "Elective\n",
      "T - 9 | S - 45 | OT - 7,5 | TC - 13,5\n",
      "168\n",
      "6\n",
      "Information Tecnologies, Governance and Service Management\n",
      "Semester\n",
      "Elective\n",
      "TP - 77,5 | OT - 10\n",
      "168\n",
      "6\n",
      "Network Analysis\n",
      "Semester\n",
      "Elective\n",
      "TP - 67,5 | OT - 10\n",
      "168\n",
      "6\n",
      "People Management and Leadership\n",
      "Semester\n",
      "Elective\n",
      "TP - 45\n",
      "112\n",
      "4\n",
      "Process Intelligence\n",
      "Semester\n",
      "Elective\n",
      "TP - 45 | OT - 7,5\n",
      "112\n",
      "4\n",
      "Risk Management\n",
      "Semester\n",
      "Elective\n",
      "TP - 67,5 | OT - 10\n",
      "168\n",
      "6\n",
      "Web Analytics\n",
      "Semester\n",
      "Elective\n",
      "TP - 45 | OT - 7,5\n",
      "112\n",
      "4\n",
      "Web Marketing and E-business\n",
      "Semester\n",
      "Elective\n",
      "TP - 45 | OT - 10\n",
      "112\n",
      "4\n",
      "Show subtitles\n",
      "T – Theoretical Teaching;\n",
      "TP – Theoretical/ Practical Teaching;\n",
      "TC – Field Work;\n",
      "PL – Theoretical/ Practical Teaching;\n",
      "S – Seminar;\n",
      "OT – Tutor Group;\n",
      "** – Course Unit available in both semesters;\n",
      "Course Unit\n",
      "Loading...\n",
      "modal item\n",
      "card item\n",
      "\n",
      "\n"
     ]
    }
   ],
   "source": [
    "# Print the full text of the first document\n",
    "for filename, content in dict_studyplan_raw.items():\n",
    "    print(f\"\\n--- {filename} ---\")\n",
    "    print(content)\n",
    "    break"
   ]
  },
  {
   "cell_type": "code",
   "execution_count": 8,
   "metadata": {},
   "outputs": [],
   "source": [
    "cleaned_studyplan = dp.clean_text_documents(\n",
    "    dict_studyplan_raw, \n",
    "    words_to_remove=[\"Programs\", \"resumo do conteudo da tabela\", \"Loading...\", \"Education\", \"modal item\",\n",
    "                     \"card item\"\n",
    "                     ]\n",
    ")"
   ]
  },
  {
   "cell_type": "code",
   "execution_count": 9,
   "metadata": {},
   "outputs": [
    {
     "name": "stdout",
     "output_type": "stream",
     "text": [
      "\n",
      "--- data-science_program_extracted_text.txt ---\n",
      "Text from https://www.novaims.unl.pt/en///bachelor-s-degrees/data-science/program/#: Program Study Plan en Bachelor's Degrees Data Science Program 1 st year - Fall Semester Course Units Duration Type Contact Hours Total Workload ECTS Computers' Architecture Semester Mandatory TP - 45 | OT - 5 112 4 Foundational aspects of data science Semester Mandatory TP - 45 | OT - 5 112 4 Information Systems Semester Mandatory TP - 64,5 | S - 3 | OT - 7,5 168 6 Introduction to Programming Semester Mandatory TP - 67,5 | OT - 7,5 196 7 Linear Algebra Semester Mandatory T - 22,5 | PL - 22,5 | OT - 7,5 112 4 Show subtitles T – Theoretical Teaching; TP – Theoretical/ Practical Teaching; TC – Field Work; PL – Theoretical/ Practical Teaching; S – Seminar; OT – Tutor Group; ** – Course Unit available in both semesters; 1 st year - Spring Semester Course Units Duration Type Contact Hours Total Workload ECTS Algorithms and Data Structures Semester Mandatory TP - 67,5 | OT - 7,5 168 6 Introduction to Artificial Intelligence Semester Mandatory TP - 67,5 | OT - 15 140 5 Introduction to Computational Thinking and Data Science Semester Mandatory TP - 45 | OT - 5 112 4 Mathematical Analysis I ** Semester Mandatory T - 22,5 | PL - 45 | OT - 7,5 140 5 Mathematical Analysis II ** Semester Mandatory T - 22,5 | PL - 45 | OT - 7,5 196 7 Personal Development I Semester Mandatory TP - 22,5 | OT - 7,5 56 2 Statistics and Probability Distributions Semester Mandatory TP - 67,5 | OT - 7,5 168 6 Show subtitles T – Theoretical Teaching; TP – Theoretical/ Practical Teaching; TC – Field Work; PL – Theoretical/ Practical Teaching; S – Seminar; OT – Tutor Group; ** – Course Unit available in both semesters; Semestre 1 - 2; 2 nd year - Fall Semester Course Units Duration Type Contact Hours Total Workload ECTS Data preprocessing and visualization Semester Mandatory TP - 67,5 | OT - 7,5 168 6 Databases Semester Mandatory TP - 64,5 | S - 3 | OT - 7,5 168 6 Machine Learning I Semester Mandatory TP - 67,5 | OT - 7,5 168 6 Programming for Data Science Semester Mandatory TP - 67,5 | OT - 7,5 168 6 Statistical Inference Semester Mandatory TP - 67,5 | OT - 7,5 168 6 Show subtitles T – Theoretical Teaching; TP – Theoretical/ Practical Teaching; TC – Field Work; PL – Theoretical/ Practical Teaching; S – Seminar; OT – Tutor Group; ** – Course Unit available in both semesters; Semestre 2 - 1; 2 nd year - Spring Semester Course Units Duration Type Contact Hours Total Workload ECTS Big Data Storage Semester Mandatory TP - 67,5 | OT - 7,5 168 6 Forecasting Methods Semester Mandatory TP - 67,5 | OT - 15 168 6 Machine Learning II Semester Mandatory TP - 67,5 | OT - 7,5 168 6 Optimization Algorithms Semester Mandatory TP - 67,5 | OT - 7,5 168 6 Regression Analysis Semester Mandatory TP - 67,5 | OT - 7,5 168 6 Show subtitles T – Theoretical Teaching; TP – Theoretical/ Practical Teaching; TC – Field Work; PL – Theoretical/ Practical Teaching; S – Seminar; OT – Tutor Group; ** – Course Unit available in both semesters; 3 rd year - Fall Semester Course Units Duration Type Contact Hours Total Workload ECTS Big Data Analysis Semester Mandatory TP - 67,5 | OT - 15 168 6 Capstone Project Semester Mandatory TP - 22,5 | OT - 45 224 8 Deep Learning Semester Mandatory TP - 67,5 | OT - 15 168 6 Ethical, Social and Legal Aspects of Artificial Intelligence Semester Mandatory TP - 22,5 | OT - 7,5 56 2 Personal Development II Semester Mandatory TP - 22,5 | OT - 7,5 56 2 Text Mining Semester Mandatory TP - 45 | OT - 12,5 168 6 Show subtitles T – Theoretical Teaching; TP – Theoretical/ Practical Teaching; TC – Field Work; PL – Theoretical/ Practical Teaching; S – Seminar; OT – Tutor Group; ** – Course Unit available in both semesters; 3 rd year - Spring Semester Course Units Duration Type Contact Hours Total Workload ECTS Applied Economics Semester Elective TP - 45 | OT - 5 112 4 Digital Innovation Projects Semester Elective TP - 45 | OT - 10 112 4 Entrepreneurship and Project Analysis Semester Elective TP - 45 | OT - 7,5 112 4 Financial Calculus and Project Analysis Semester Elective TP - 45 112 4 Geospatial Analytics Semester Elective TP - 45 | OT - 7,5 112 4 Informatics and Information Law Semester Elective TP - 45 | OT - 10 112 4 Information Systems Seminar Semester Elective T - 9 | S - 45 | OT - 7,5 | TC - 13,5 168 6 Information Tecnologies, Governance and Service Management Semester Elective TP - 77,5 | OT - 10 168 6 Network Analysis Semester Elective TP - 67,5 | OT - 10 168 6 People Management and Leadership Semester Elective TP - 45 112 4 Process Intelligence Semester Elective TP - 45 | OT - 7,5 112 4 Risk Management Semester Elective TP - 67,5 | OT - 10 168 6 Web Analytics Semester Elective TP - 45 | OT - 7,5 112 4 Web Marketing and E-business Semester Elective TP - 45 | OT - 10 112 4 Show subtitles T – Theoretical Teaching; TP – Theoretical/ Practical Teaching; TC – Field Work; PL – Theoretical/ Practical Teaching; S – Seminar; OT – Tutor Group; ** – Course Unit available in both semesters; Course Unit\n"
     ]
    }
   ],
   "source": [
    "# Print the full text of the first document\n",
    "for filename, content in cleaned_studyplan.items():\n",
    "    print(f\"\\n--- {filename} ---\")\n",
    "    print(content)\n",
    "    break"
   ]
  },
  {
   "cell_type": "markdown",
   "metadata": {},
   "source": [
    "## Teaching staff stats after cleaning"
   ]
  },
  {
   "cell_type": "code",
   "execution_count": 10,
   "metadata": {},
   "outputs": [
    {
     "data": {
      "application/vnd.plotly.v1+json": {
       "config": {
        "plotlyServerURL": "https://plot.ly"
       },
       "data": [
        {
         "bingroup": "x",
         "hovertemplate": "Word Count=%{x}<br>count=%{y}<extra></extra>",
         "legendgroup": "",
         "marker": {
          "color": "#636efa",
          "pattern": {
           "shape": ""
          }
         },
         "name": "",
         "nbinsx": 10,
         "orientation": "v",
         "showlegend": false,
         "type": "histogram",
         "x": {
          "bdata": "qwM5BDsE",
          "dtype": "i2"
         },
         "xaxis": "x",
         "yaxis": "y"
        }
       ],
       "layout": {
        "bargap": 0.1,
        "barmode": "relative",
        "legend": {
         "tracegroupgap": 0
        },
        "template": {
         "data": {
          "bar": [
           {
            "error_x": {
             "color": "#2a3f5f"
            },
            "error_y": {
             "color": "#2a3f5f"
            },
            "marker": {
             "line": {
              "color": "#E5ECF6",
              "width": 0.5
             },
             "pattern": {
              "fillmode": "overlay",
              "size": 10,
              "solidity": 0.2
             }
            },
            "type": "bar"
           }
          ],
          "barpolar": [
           {
            "marker": {
             "line": {
              "color": "#E5ECF6",
              "width": 0.5
             },
             "pattern": {
              "fillmode": "overlay",
              "size": 10,
              "solidity": 0.2
             }
            },
            "type": "barpolar"
           }
          ],
          "carpet": [
           {
            "aaxis": {
             "endlinecolor": "#2a3f5f",
             "gridcolor": "white",
             "linecolor": "white",
             "minorgridcolor": "white",
             "startlinecolor": "#2a3f5f"
            },
            "baxis": {
             "endlinecolor": "#2a3f5f",
             "gridcolor": "white",
             "linecolor": "white",
             "minorgridcolor": "white",
             "startlinecolor": "#2a3f5f"
            },
            "type": "carpet"
           }
          ],
          "choropleth": [
           {
            "colorbar": {
             "outlinewidth": 0,
             "ticks": ""
            },
            "type": "choropleth"
           }
          ],
          "contour": [
           {
            "colorbar": {
             "outlinewidth": 0,
             "ticks": ""
            },
            "colorscale": [
             [
              0,
              "#0d0887"
             ],
             [
              0.1111111111111111,
              "#46039f"
             ],
             [
              0.2222222222222222,
              "#7201a8"
             ],
             [
              0.3333333333333333,
              "#9c179e"
             ],
             [
              0.4444444444444444,
              "#bd3786"
             ],
             [
              0.5555555555555556,
              "#d8576b"
             ],
             [
              0.6666666666666666,
              "#ed7953"
             ],
             [
              0.7777777777777778,
              "#fb9f3a"
             ],
             [
              0.8888888888888888,
              "#fdca26"
             ],
             [
              1,
              "#f0f921"
             ]
            ],
            "type": "contour"
           }
          ],
          "contourcarpet": [
           {
            "colorbar": {
             "outlinewidth": 0,
             "ticks": ""
            },
            "type": "contourcarpet"
           }
          ],
          "heatmap": [
           {
            "colorbar": {
             "outlinewidth": 0,
             "ticks": ""
            },
            "colorscale": [
             [
              0,
              "#0d0887"
             ],
             [
              0.1111111111111111,
              "#46039f"
             ],
             [
              0.2222222222222222,
              "#7201a8"
             ],
             [
              0.3333333333333333,
              "#9c179e"
             ],
             [
              0.4444444444444444,
              "#bd3786"
             ],
             [
              0.5555555555555556,
              "#d8576b"
             ],
             [
              0.6666666666666666,
              "#ed7953"
             ],
             [
              0.7777777777777778,
              "#fb9f3a"
             ],
             [
              0.8888888888888888,
              "#fdca26"
             ],
             [
              1,
              "#f0f921"
             ]
            ],
            "type": "heatmap"
           }
          ],
          "histogram": [
           {
            "marker": {
             "pattern": {
              "fillmode": "overlay",
              "size": 10,
              "solidity": 0.2
             }
            },
            "type": "histogram"
           }
          ],
          "histogram2d": [
           {
            "colorbar": {
             "outlinewidth": 0,
             "ticks": ""
            },
            "colorscale": [
             [
              0,
              "#0d0887"
             ],
             [
              0.1111111111111111,
              "#46039f"
             ],
             [
              0.2222222222222222,
              "#7201a8"
             ],
             [
              0.3333333333333333,
              "#9c179e"
             ],
             [
              0.4444444444444444,
              "#bd3786"
             ],
             [
              0.5555555555555556,
              "#d8576b"
             ],
             [
              0.6666666666666666,
              "#ed7953"
             ],
             [
              0.7777777777777778,
              "#fb9f3a"
             ],
             [
              0.8888888888888888,
              "#fdca26"
             ],
             [
              1,
              "#f0f921"
             ]
            ],
            "type": "histogram2d"
           }
          ],
          "histogram2dcontour": [
           {
            "colorbar": {
             "outlinewidth": 0,
             "ticks": ""
            },
            "colorscale": [
             [
              0,
              "#0d0887"
             ],
             [
              0.1111111111111111,
              "#46039f"
             ],
             [
              0.2222222222222222,
              "#7201a8"
             ],
             [
              0.3333333333333333,
              "#9c179e"
             ],
             [
              0.4444444444444444,
              "#bd3786"
             ],
             [
              0.5555555555555556,
              "#d8576b"
             ],
             [
              0.6666666666666666,
              "#ed7953"
             ],
             [
              0.7777777777777778,
              "#fb9f3a"
             ],
             [
              0.8888888888888888,
              "#fdca26"
             ],
             [
              1,
              "#f0f921"
             ]
            ],
            "type": "histogram2dcontour"
           }
          ],
          "mesh3d": [
           {
            "colorbar": {
             "outlinewidth": 0,
             "ticks": ""
            },
            "type": "mesh3d"
           }
          ],
          "parcoords": [
           {
            "line": {
             "colorbar": {
              "outlinewidth": 0,
              "ticks": ""
             }
            },
            "type": "parcoords"
           }
          ],
          "pie": [
           {
            "automargin": true,
            "type": "pie"
           }
          ],
          "scatter": [
           {
            "fillpattern": {
             "fillmode": "overlay",
             "size": 10,
             "solidity": 0.2
            },
            "type": "scatter"
           }
          ],
          "scatter3d": [
           {
            "line": {
             "colorbar": {
              "outlinewidth": 0,
              "ticks": ""
             }
            },
            "marker": {
             "colorbar": {
              "outlinewidth": 0,
              "ticks": ""
             }
            },
            "type": "scatter3d"
           }
          ],
          "scattercarpet": [
           {
            "marker": {
             "colorbar": {
              "outlinewidth": 0,
              "ticks": ""
             }
            },
            "type": "scattercarpet"
           }
          ],
          "scattergeo": [
           {
            "marker": {
             "colorbar": {
              "outlinewidth": 0,
              "ticks": ""
             }
            },
            "type": "scattergeo"
           }
          ],
          "scattergl": [
           {
            "marker": {
             "colorbar": {
              "outlinewidth": 0,
              "ticks": ""
             }
            },
            "type": "scattergl"
           }
          ],
          "scattermap": [
           {
            "marker": {
             "colorbar": {
              "outlinewidth": 0,
              "ticks": ""
             }
            },
            "type": "scattermap"
           }
          ],
          "scattermapbox": [
           {
            "marker": {
             "colorbar": {
              "outlinewidth": 0,
              "ticks": ""
             }
            },
            "type": "scattermapbox"
           }
          ],
          "scatterpolar": [
           {
            "marker": {
             "colorbar": {
              "outlinewidth": 0,
              "ticks": ""
             }
            },
            "type": "scatterpolar"
           }
          ],
          "scatterpolargl": [
           {
            "marker": {
             "colorbar": {
              "outlinewidth": 0,
              "ticks": ""
             }
            },
            "type": "scatterpolargl"
           }
          ],
          "scatterternary": [
           {
            "marker": {
             "colorbar": {
              "outlinewidth": 0,
              "ticks": ""
             }
            },
            "type": "scatterternary"
           }
          ],
          "surface": [
           {
            "colorbar": {
             "outlinewidth": 0,
             "ticks": ""
            },
            "colorscale": [
             [
              0,
              "#0d0887"
             ],
             [
              0.1111111111111111,
              "#46039f"
             ],
             [
              0.2222222222222222,
              "#7201a8"
             ],
             [
              0.3333333333333333,
              "#9c179e"
             ],
             [
              0.4444444444444444,
              "#bd3786"
             ],
             [
              0.5555555555555556,
              "#d8576b"
             ],
             [
              0.6666666666666666,
              "#ed7953"
             ],
             [
              0.7777777777777778,
              "#fb9f3a"
             ],
             [
              0.8888888888888888,
              "#fdca26"
             ],
             [
              1,
              "#f0f921"
             ]
            ],
            "type": "surface"
           }
          ],
          "table": [
           {
            "cells": {
             "fill": {
              "color": "#EBF0F8"
             },
             "line": {
              "color": "white"
             }
            },
            "header": {
             "fill": {
              "color": "#C8D4E3"
             },
             "line": {
              "color": "white"
             }
            },
            "type": "table"
           }
          ]
         },
         "layout": {
          "annotationdefaults": {
           "arrowcolor": "#2a3f5f",
           "arrowhead": 0,
           "arrowwidth": 1
          },
          "autotypenumbers": "strict",
          "coloraxis": {
           "colorbar": {
            "outlinewidth": 0,
            "ticks": ""
           }
          },
          "colorscale": {
           "diverging": [
            [
             0,
             "#8e0152"
            ],
            [
             0.1,
             "#c51b7d"
            ],
            [
             0.2,
             "#de77ae"
            ],
            [
             0.3,
             "#f1b6da"
            ],
            [
             0.4,
             "#fde0ef"
            ],
            [
             0.5,
             "#f7f7f7"
            ],
            [
             0.6,
             "#e6f5d0"
            ],
            [
             0.7,
             "#b8e186"
            ],
            [
             0.8,
             "#7fbc41"
            ],
            [
             0.9,
             "#4d9221"
            ],
            [
             1,
             "#276419"
            ]
           ],
           "sequential": [
            [
             0,
             "#0d0887"
            ],
            [
             0.1111111111111111,
             "#46039f"
            ],
            [
             0.2222222222222222,
             "#7201a8"
            ],
            [
             0.3333333333333333,
             "#9c179e"
            ],
            [
             0.4444444444444444,
             "#bd3786"
            ],
            [
             0.5555555555555556,
             "#d8576b"
            ],
            [
             0.6666666666666666,
             "#ed7953"
            ],
            [
             0.7777777777777778,
             "#fb9f3a"
            ],
            [
             0.8888888888888888,
             "#fdca26"
            ],
            [
             1,
             "#f0f921"
            ]
           ],
           "sequentialminus": [
            [
             0,
             "#0d0887"
            ],
            [
             0.1111111111111111,
             "#46039f"
            ],
            [
             0.2222222222222222,
             "#7201a8"
            ],
            [
             0.3333333333333333,
             "#9c179e"
            ],
            [
             0.4444444444444444,
             "#bd3786"
            ],
            [
             0.5555555555555556,
             "#d8576b"
            ],
            [
             0.6666666666666666,
             "#ed7953"
            ],
            [
             0.7777777777777778,
             "#fb9f3a"
            ],
            [
             0.8888888888888888,
             "#fdca26"
            ],
            [
             1,
             "#f0f921"
            ]
           ]
          },
          "colorway": [
           "#636efa",
           "#EF553B",
           "#00cc96",
           "#ab63fa",
           "#FFA15A",
           "#19d3f3",
           "#FF6692",
           "#B6E880",
           "#FF97FF",
           "#FECB52"
          ],
          "font": {
           "color": "#2a3f5f"
          },
          "geo": {
           "bgcolor": "white",
           "lakecolor": "white",
           "landcolor": "#E5ECF6",
           "showlakes": true,
           "showland": true,
           "subunitcolor": "white"
          },
          "hoverlabel": {
           "align": "left"
          },
          "hovermode": "closest",
          "mapbox": {
           "style": "light"
          },
          "paper_bgcolor": "white",
          "plot_bgcolor": "#E5ECF6",
          "polar": {
           "angularaxis": {
            "gridcolor": "white",
            "linecolor": "white",
            "ticks": ""
           },
           "bgcolor": "#E5ECF6",
           "radialaxis": {
            "gridcolor": "white",
            "linecolor": "white",
            "ticks": ""
           }
          },
          "scene": {
           "xaxis": {
            "backgroundcolor": "#E5ECF6",
            "gridcolor": "white",
            "gridwidth": 2,
            "linecolor": "white",
            "showbackground": true,
            "ticks": "",
            "zerolinecolor": "white"
           },
           "yaxis": {
            "backgroundcolor": "#E5ECF6",
            "gridcolor": "white",
            "gridwidth": 2,
            "linecolor": "white",
            "showbackground": true,
            "ticks": "",
            "zerolinecolor": "white"
           },
           "zaxis": {
            "backgroundcolor": "#E5ECF6",
            "gridcolor": "white",
            "gridwidth": 2,
            "linecolor": "white",
            "showbackground": true,
            "ticks": "",
            "zerolinecolor": "white"
           }
          },
          "shapedefaults": {
           "line": {
            "color": "#2a3f5f"
           }
          },
          "ternary": {
           "aaxis": {
            "gridcolor": "white",
            "linecolor": "white",
            "ticks": ""
           },
           "baxis": {
            "gridcolor": "white",
            "linecolor": "white",
            "ticks": ""
           },
           "bgcolor": "#E5ECF6",
           "caxis": {
            "gridcolor": "white",
            "linecolor": "white",
            "ticks": ""
           }
          },
          "title": {
           "x": 0.05
          },
          "xaxis": {
           "automargin": true,
           "gridcolor": "white",
           "linecolor": "white",
           "ticks": "",
           "title": {
            "standoff": 15
           },
           "zerolinecolor": "white",
           "zerolinewidth": 2
          },
          "yaxis": {
           "automargin": true,
           "gridcolor": "white",
           "linecolor": "white",
           "ticks": "",
           "title": {
            "standoff": 15
           },
           "zerolinecolor": "white",
           "zerolinewidth": 2
          }
         }
        },
        "title": {
         "text": "Distribution of Documents by Word Count"
        },
        "xaxis": {
         "anchor": "y",
         "domain": [
          0,
          1
         ],
         "title": {
          "text": "Word Count"
         }
        },
        "yaxis": {
         "anchor": "x",
         "domain": [
          0,
          1
         ],
         "title": {
          "text": "Number of Documents"
         }
        }
       }
      }
     },
     "metadata": {},
     "output_type": "display_data"
    },
    {
     "data": {
      "application/vnd.plotly.v1+json": {
       "config": {
        "plotlyServerURL": "https://plot.ly"
       },
       "data": [
        {
         "bingroup": "x",
         "hovertemplate": "Token Count=%{x}<br>count=%{y}<extra></extra>",
         "legendgroup": "",
         "marker": {
          "color": "#636efa",
          "pattern": {
           "shape": ""
          }
         },
         "name": "",
         "nbinsx": 15,
         "orientation": "v",
         "showlegend": false,
         "type": "histogram",
         "x": {
          "bdata": "ZAU5BjcG",
          "dtype": "i2"
         },
         "xaxis": "x",
         "yaxis": "y"
        }
       ],
       "layout": {
        "bargap": 0.1,
        "barmode": "relative",
        "legend": {
         "tracegroupgap": 0
        },
        "template": {
         "data": {
          "bar": [
           {
            "error_x": {
             "color": "#2a3f5f"
            },
            "error_y": {
             "color": "#2a3f5f"
            },
            "marker": {
             "line": {
              "color": "#E5ECF6",
              "width": 0.5
             },
             "pattern": {
              "fillmode": "overlay",
              "size": 10,
              "solidity": 0.2
             }
            },
            "type": "bar"
           }
          ],
          "barpolar": [
           {
            "marker": {
             "line": {
              "color": "#E5ECF6",
              "width": 0.5
             },
             "pattern": {
              "fillmode": "overlay",
              "size": 10,
              "solidity": 0.2
             }
            },
            "type": "barpolar"
           }
          ],
          "carpet": [
           {
            "aaxis": {
             "endlinecolor": "#2a3f5f",
             "gridcolor": "white",
             "linecolor": "white",
             "minorgridcolor": "white",
             "startlinecolor": "#2a3f5f"
            },
            "baxis": {
             "endlinecolor": "#2a3f5f",
             "gridcolor": "white",
             "linecolor": "white",
             "minorgridcolor": "white",
             "startlinecolor": "#2a3f5f"
            },
            "type": "carpet"
           }
          ],
          "choropleth": [
           {
            "colorbar": {
             "outlinewidth": 0,
             "ticks": ""
            },
            "type": "choropleth"
           }
          ],
          "contour": [
           {
            "colorbar": {
             "outlinewidth": 0,
             "ticks": ""
            },
            "colorscale": [
             [
              0,
              "#0d0887"
             ],
             [
              0.1111111111111111,
              "#46039f"
             ],
             [
              0.2222222222222222,
              "#7201a8"
             ],
             [
              0.3333333333333333,
              "#9c179e"
             ],
             [
              0.4444444444444444,
              "#bd3786"
             ],
             [
              0.5555555555555556,
              "#d8576b"
             ],
             [
              0.6666666666666666,
              "#ed7953"
             ],
             [
              0.7777777777777778,
              "#fb9f3a"
             ],
             [
              0.8888888888888888,
              "#fdca26"
             ],
             [
              1,
              "#f0f921"
             ]
            ],
            "type": "contour"
           }
          ],
          "contourcarpet": [
           {
            "colorbar": {
             "outlinewidth": 0,
             "ticks": ""
            },
            "type": "contourcarpet"
           }
          ],
          "heatmap": [
           {
            "colorbar": {
             "outlinewidth": 0,
             "ticks": ""
            },
            "colorscale": [
             [
              0,
              "#0d0887"
             ],
             [
              0.1111111111111111,
              "#46039f"
             ],
             [
              0.2222222222222222,
              "#7201a8"
             ],
             [
              0.3333333333333333,
              "#9c179e"
             ],
             [
              0.4444444444444444,
              "#bd3786"
             ],
             [
              0.5555555555555556,
              "#d8576b"
             ],
             [
              0.6666666666666666,
              "#ed7953"
             ],
             [
              0.7777777777777778,
              "#fb9f3a"
             ],
             [
              0.8888888888888888,
              "#fdca26"
             ],
             [
              1,
              "#f0f921"
             ]
            ],
            "type": "heatmap"
           }
          ],
          "histogram": [
           {
            "marker": {
             "pattern": {
              "fillmode": "overlay",
              "size": 10,
              "solidity": 0.2
             }
            },
            "type": "histogram"
           }
          ],
          "histogram2d": [
           {
            "colorbar": {
             "outlinewidth": 0,
             "ticks": ""
            },
            "colorscale": [
             [
              0,
              "#0d0887"
             ],
             [
              0.1111111111111111,
              "#46039f"
             ],
             [
              0.2222222222222222,
              "#7201a8"
             ],
             [
              0.3333333333333333,
              "#9c179e"
             ],
             [
              0.4444444444444444,
              "#bd3786"
             ],
             [
              0.5555555555555556,
              "#d8576b"
             ],
             [
              0.6666666666666666,
              "#ed7953"
             ],
             [
              0.7777777777777778,
              "#fb9f3a"
             ],
             [
              0.8888888888888888,
              "#fdca26"
             ],
             [
              1,
              "#f0f921"
             ]
            ],
            "type": "histogram2d"
           }
          ],
          "histogram2dcontour": [
           {
            "colorbar": {
             "outlinewidth": 0,
             "ticks": ""
            },
            "colorscale": [
             [
              0,
              "#0d0887"
             ],
             [
              0.1111111111111111,
              "#46039f"
             ],
             [
              0.2222222222222222,
              "#7201a8"
             ],
             [
              0.3333333333333333,
              "#9c179e"
             ],
             [
              0.4444444444444444,
              "#bd3786"
             ],
             [
              0.5555555555555556,
              "#d8576b"
             ],
             [
              0.6666666666666666,
              "#ed7953"
             ],
             [
              0.7777777777777778,
              "#fb9f3a"
             ],
             [
              0.8888888888888888,
              "#fdca26"
             ],
             [
              1,
              "#f0f921"
             ]
            ],
            "type": "histogram2dcontour"
           }
          ],
          "mesh3d": [
           {
            "colorbar": {
             "outlinewidth": 0,
             "ticks": ""
            },
            "type": "mesh3d"
           }
          ],
          "parcoords": [
           {
            "line": {
             "colorbar": {
              "outlinewidth": 0,
              "ticks": ""
             }
            },
            "type": "parcoords"
           }
          ],
          "pie": [
           {
            "automargin": true,
            "type": "pie"
           }
          ],
          "scatter": [
           {
            "fillpattern": {
             "fillmode": "overlay",
             "size": 10,
             "solidity": 0.2
            },
            "type": "scatter"
           }
          ],
          "scatter3d": [
           {
            "line": {
             "colorbar": {
              "outlinewidth": 0,
              "ticks": ""
             }
            },
            "marker": {
             "colorbar": {
              "outlinewidth": 0,
              "ticks": ""
             }
            },
            "type": "scatter3d"
           }
          ],
          "scattercarpet": [
           {
            "marker": {
             "colorbar": {
              "outlinewidth": 0,
              "ticks": ""
             }
            },
            "type": "scattercarpet"
           }
          ],
          "scattergeo": [
           {
            "marker": {
             "colorbar": {
              "outlinewidth": 0,
              "ticks": ""
             }
            },
            "type": "scattergeo"
           }
          ],
          "scattergl": [
           {
            "marker": {
             "colorbar": {
              "outlinewidth": 0,
              "ticks": ""
             }
            },
            "type": "scattergl"
           }
          ],
          "scattermap": [
           {
            "marker": {
             "colorbar": {
              "outlinewidth": 0,
              "ticks": ""
             }
            },
            "type": "scattermap"
           }
          ],
          "scattermapbox": [
           {
            "marker": {
             "colorbar": {
              "outlinewidth": 0,
              "ticks": ""
             }
            },
            "type": "scattermapbox"
           }
          ],
          "scatterpolar": [
           {
            "marker": {
             "colorbar": {
              "outlinewidth": 0,
              "ticks": ""
             }
            },
            "type": "scatterpolar"
           }
          ],
          "scatterpolargl": [
           {
            "marker": {
             "colorbar": {
              "outlinewidth": 0,
              "ticks": ""
             }
            },
            "type": "scatterpolargl"
           }
          ],
          "scatterternary": [
           {
            "marker": {
             "colorbar": {
              "outlinewidth": 0,
              "ticks": ""
             }
            },
            "type": "scatterternary"
           }
          ],
          "surface": [
           {
            "colorbar": {
             "outlinewidth": 0,
             "ticks": ""
            },
            "colorscale": [
             [
              0,
              "#0d0887"
             ],
             [
              0.1111111111111111,
              "#46039f"
             ],
             [
              0.2222222222222222,
              "#7201a8"
             ],
             [
              0.3333333333333333,
              "#9c179e"
             ],
             [
              0.4444444444444444,
              "#bd3786"
             ],
             [
              0.5555555555555556,
              "#d8576b"
             ],
             [
              0.6666666666666666,
              "#ed7953"
             ],
             [
              0.7777777777777778,
              "#fb9f3a"
             ],
             [
              0.8888888888888888,
              "#fdca26"
             ],
             [
              1,
              "#f0f921"
             ]
            ],
            "type": "surface"
           }
          ],
          "table": [
           {
            "cells": {
             "fill": {
              "color": "#EBF0F8"
             },
             "line": {
              "color": "white"
             }
            },
            "header": {
             "fill": {
              "color": "#C8D4E3"
             },
             "line": {
              "color": "white"
             }
            },
            "type": "table"
           }
          ]
         },
         "layout": {
          "annotationdefaults": {
           "arrowcolor": "#2a3f5f",
           "arrowhead": 0,
           "arrowwidth": 1
          },
          "autotypenumbers": "strict",
          "coloraxis": {
           "colorbar": {
            "outlinewidth": 0,
            "ticks": ""
           }
          },
          "colorscale": {
           "diverging": [
            [
             0,
             "#8e0152"
            ],
            [
             0.1,
             "#c51b7d"
            ],
            [
             0.2,
             "#de77ae"
            ],
            [
             0.3,
             "#f1b6da"
            ],
            [
             0.4,
             "#fde0ef"
            ],
            [
             0.5,
             "#f7f7f7"
            ],
            [
             0.6,
             "#e6f5d0"
            ],
            [
             0.7,
             "#b8e186"
            ],
            [
             0.8,
             "#7fbc41"
            ],
            [
             0.9,
             "#4d9221"
            ],
            [
             1,
             "#276419"
            ]
           ],
           "sequential": [
            [
             0,
             "#0d0887"
            ],
            [
             0.1111111111111111,
             "#46039f"
            ],
            [
             0.2222222222222222,
             "#7201a8"
            ],
            [
             0.3333333333333333,
             "#9c179e"
            ],
            [
             0.4444444444444444,
             "#bd3786"
            ],
            [
             0.5555555555555556,
             "#d8576b"
            ],
            [
             0.6666666666666666,
             "#ed7953"
            ],
            [
             0.7777777777777778,
             "#fb9f3a"
            ],
            [
             0.8888888888888888,
             "#fdca26"
            ],
            [
             1,
             "#f0f921"
            ]
           ],
           "sequentialminus": [
            [
             0,
             "#0d0887"
            ],
            [
             0.1111111111111111,
             "#46039f"
            ],
            [
             0.2222222222222222,
             "#7201a8"
            ],
            [
             0.3333333333333333,
             "#9c179e"
            ],
            [
             0.4444444444444444,
             "#bd3786"
            ],
            [
             0.5555555555555556,
             "#d8576b"
            ],
            [
             0.6666666666666666,
             "#ed7953"
            ],
            [
             0.7777777777777778,
             "#fb9f3a"
            ],
            [
             0.8888888888888888,
             "#fdca26"
            ],
            [
             1,
             "#f0f921"
            ]
           ]
          },
          "colorway": [
           "#636efa",
           "#EF553B",
           "#00cc96",
           "#ab63fa",
           "#FFA15A",
           "#19d3f3",
           "#FF6692",
           "#B6E880",
           "#FF97FF",
           "#FECB52"
          ],
          "font": {
           "color": "#2a3f5f"
          },
          "geo": {
           "bgcolor": "white",
           "lakecolor": "white",
           "landcolor": "#E5ECF6",
           "showlakes": true,
           "showland": true,
           "subunitcolor": "white"
          },
          "hoverlabel": {
           "align": "left"
          },
          "hovermode": "closest",
          "mapbox": {
           "style": "light"
          },
          "paper_bgcolor": "white",
          "plot_bgcolor": "#E5ECF6",
          "polar": {
           "angularaxis": {
            "gridcolor": "white",
            "linecolor": "white",
            "ticks": ""
           },
           "bgcolor": "#E5ECF6",
           "radialaxis": {
            "gridcolor": "white",
            "linecolor": "white",
            "ticks": ""
           }
          },
          "scene": {
           "xaxis": {
            "backgroundcolor": "#E5ECF6",
            "gridcolor": "white",
            "gridwidth": 2,
            "linecolor": "white",
            "showbackground": true,
            "ticks": "",
            "zerolinecolor": "white"
           },
           "yaxis": {
            "backgroundcolor": "#E5ECF6",
            "gridcolor": "white",
            "gridwidth": 2,
            "linecolor": "white",
            "showbackground": true,
            "ticks": "",
            "zerolinecolor": "white"
           },
           "zaxis": {
            "backgroundcolor": "#E5ECF6",
            "gridcolor": "white",
            "gridwidth": 2,
            "linecolor": "white",
            "showbackground": true,
            "ticks": "",
            "zerolinecolor": "white"
           }
          },
          "shapedefaults": {
           "line": {
            "color": "#2a3f5f"
           }
          },
          "ternary": {
           "aaxis": {
            "gridcolor": "white",
            "linecolor": "white",
            "ticks": ""
           },
           "baxis": {
            "gridcolor": "white",
            "linecolor": "white",
            "ticks": ""
           },
           "bgcolor": "#E5ECF6",
           "caxis": {
            "gridcolor": "white",
            "linecolor": "white",
            "ticks": ""
           }
          },
          "title": {
           "x": 0.05
          },
          "xaxis": {
           "automargin": true,
           "gridcolor": "white",
           "linecolor": "white",
           "ticks": "",
           "title": {
            "standoff": 15
           },
           "zerolinecolor": "white",
           "zerolinewidth": 2
          },
          "yaxis": {
           "automargin": true,
           "gridcolor": "white",
           "linecolor": "white",
           "ticks": "",
           "title": {
            "standoff": 15
           },
           "zerolinecolor": "white",
           "zerolinewidth": 2
          }
         }
        },
        "title": {
         "text": "Distribution of Documents by Token Count"
        },
        "xaxis": {
         "anchor": "y",
         "domain": [
          0,
          1
         ],
         "title": {
          "text": "Token Count"
         }
        },
        "yaxis": {
         "anchor": "x",
         "domain": [
          0,
          1
         ],
         "title": {
          "text": "Number of Documents"
         }
        }
       }
      }
     },
     "metadata": {},
     "output_type": "display_data"
    },
    {
     "data": {
      "application/vnd.plotly.v1+json": {
       "config": {
        "plotlyServerURL": "https://plot.ly"
       },
       "data": [
        {
         "colorscale": [
          [
           0,
           "#00083e"
          ],
          [
           0.5,
           "#ededee"
          ],
          [
           1,
           "#ffffff"
          ]
         ],
         "hoverinfo": "none",
         "opacity": 0.75,
         "showscale": false,
         "type": "heatmap",
         "z": [
          [
           0,
           0
          ],
          [
           0.5,
           0.5
          ],
          [
           1,
           1
          ],
          [
           0.5,
           0.5
          ],
          [
           1,
           1
          ],
          [
           0.5,
           0.5
          ],
          [
           1,
           1
          ],
          [
           0.5,
           0.5
          ],
          [
           1,
           1
          ]
         ]
        }
       ],
       "layout": {
        "annotations": [
         {
          "align": "center",
          "font": {
           "color": "#ffffff"
          },
          "showarrow": false,
          "text": "<b>Metric</b>",
          "x": -0.45,
          "xanchor": "left",
          "xref": "x",
          "y": 0,
          "yref": "y"
         },
         {
          "align": "center",
          "font": {
           "color": "#ffffff"
          },
          "showarrow": false,
          "text": "<b>Value</b>",
          "x": 0.55,
          "xanchor": "left",
          "xref": "x",
          "y": 0,
          "yref": "y"
         },
         {
          "align": "center",
          "font": {
           "color": "#000000"
          },
          "showarrow": false,
          "text": "count",
          "x": -0.45,
          "xanchor": "left",
          "xref": "x",
          "y": 1,
          "yref": "y"
         },
         {
          "align": "center",
          "font": {
           "color": "#000000"
          },
          "showarrow": false,
          "text": "3.00",
          "x": 0.55,
          "xanchor": "left",
          "xref": "x",
          "y": 1,
          "yref": "y"
         },
         {
          "align": "center",
          "font": {
           "color": "#000000"
          },
          "showarrow": false,
          "text": "mean",
          "x": -0.45,
          "xanchor": "left",
          "xref": "x",
          "y": 2,
          "yref": "y"
         },
         {
          "align": "center",
          "font": {
           "color": "#000000"
          },
          "showarrow": false,
          "text": "1,093.33",
          "x": 0.55,
          "xanchor": "left",
          "xref": "x",
          "y": 2,
          "yref": "y"
         },
         {
          "align": "center",
          "font": {
           "color": "#000000"
          },
          "showarrow": false,
          "text": "std",
          "x": -0.45,
          "xanchor": "left",
          "xref": "x",
          "y": 3,
          "yref": "y"
         },
         {
          "align": "center",
          "font": {
           "color": "#000000"
          },
          "showarrow": false,
          "text": "81.77",
          "x": 0.55,
          "xanchor": "left",
          "xref": "x",
          "y": 3,
          "yref": "y"
         },
         {
          "align": "center",
          "font": {
           "color": "#000000"
          },
          "showarrow": false,
          "text": "min",
          "x": -0.45,
          "xanchor": "left",
          "xref": "x",
          "y": 4,
          "yref": "y"
         },
         {
          "align": "center",
          "font": {
           "color": "#000000"
          },
          "showarrow": false,
          "text": "999.00",
          "x": 0.55,
          "xanchor": "left",
          "xref": "x",
          "y": 4,
          "yref": "y"
         },
         {
          "align": "center",
          "font": {
           "color": "#000000"
          },
          "showarrow": false,
          "text": "25%",
          "x": -0.45,
          "xanchor": "left",
          "xref": "x",
          "y": 5,
          "yref": "y"
         },
         {
          "align": "center",
          "font": {
           "color": "#000000"
          },
          "showarrow": false,
          "text": "1,068.00",
          "x": 0.55,
          "xanchor": "left",
          "xref": "x",
          "y": 5,
          "yref": "y"
         },
         {
          "align": "center",
          "font": {
           "color": "#000000"
          },
          "showarrow": false,
          "text": "50%",
          "x": -0.45,
          "xanchor": "left",
          "xref": "x",
          "y": 6,
          "yref": "y"
         },
         {
          "align": "center",
          "font": {
           "color": "#000000"
          },
          "showarrow": false,
          "text": "1,137.00",
          "x": 0.55,
          "xanchor": "left",
          "xref": "x",
          "y": 6,
          "yref": "y"
         },
         {
          "align": "center",
          "font": {
           "color": "#000000"
          },
          "showarrow": false,
          "text": "75%",
          "x": -0.45,
          "xanchor": "left",
          "xref": "x",
          "y": 7,
          "yref": "y"
         },
         {
          "align": "center",
          "font": {
           "color": "#000000"
          },
          "showarrow": false,
          "text": "1,140.50",
          "x": 0.55,
          "xanchor": "left",
          "xref": "x",
          "y": 7,
          "yref": "y"
         },
         {
          "align": "center",
          "font": {
           "color": "#000000"
          },
          "showarrow": false,
          "text": "max",
          "x": -0.45,
          "xanchor": "left",
          "xref": "x",
          "y": 8,
          "yref": "y"
         },
         {
          "align": "center",
          "font": {
           "color": "#000000"
          },
          "showarrow": false,
          "text": "1,144.00",
          "x": 0.55,
          "xanchor": "left",
          "xref": "x",
          "y": 8,
          "yref": "y"
         }
        ],
        "height": 320,
        "margin": {
         "b": 0,
         "l": 0,
         "r": 0,
         "t": 0
        },
        "template": {
         "data": {
          "bar": [
           {
            "error_x": {
             "color": "#2a3f5f"
            },
            "error_y": {
             "color": "#2a3f5f"
            },
            "marker": {
             "line": {
              "color": "#E5ECF6",
              "width": 0.5
             },
             "pattern": {
              "fillmode": "overlay",
              "size": 10,
              "solidity": 0.2
             }
            },
            "type": "bar"
           }
          ],
          "barpolar": [
           {
            "marker": {
             "line": {
              "color": "#E5ECF6",
              "width": 0.5
             },
             "pattern": {
              "fillmode": "overlay",
              "size": 10,
              "solidity": 0.2
             }
            },
            "type": "barpolar"
           }
          ],
          "carpet": [
           {
            "aaxis": {
             "endlinecolor": "#2a3f5f",
             "gridcolor": "white",
             "linecolor": "white",
             "minorgridcolor": "white",
             "startlinecolor": "#2a3f5f"
            },
            "baxis": {
             "endlinecolor": "#2a3f5f",
             "gridcolor": "white",
             "linecolor": "white",
             "minorgridcolor": "white",
             "startlinecolor": "#2a3f5f"
            },
            "type": "carpet"
           }
          ],
          "choropleth": [
           {
            "colorbar": {
             "outlinewidth": 0,
             "ticks": ""
            },
            "type": "choropleth"
           }
          ],
          "contour": [
           {
            "colorbar": {
             "outlinewidth": 0,
             "ticks": ""
            },
            "colorscale": [
             [
              0,
              "#0d0887"
             ],
             [
              0.1111111111111111,
              "#46039f"
             ],
             [
              0.2222222222222222,
              "#7201a8"
             ],
             [
              0.3333333333333333,
              "#9c179e"
             ],
             [
              0.4444444444444444,
              "#bd3786"
             ],
             [
              0.5555555555555556,
              "#d8576b"
             ],
             [
              0.6666666666666666,
              "#ed7953"
             ],
             [
              0.7777777777777778,
              "#fb9f3a"
             ],
             [
              0.8888888888888888,
              "#fdca26"
             ],
             [
              1,
              "#f0f921"
             ]
            ],
            "type": "contour"
           }
          ],
          "contourcarpet": [
           {
            "colorbar": {
             "outlinewidth": 0,
             "ticks": ""
            },
            "type": "contourcarpet"
           }
          ],
          "heatmap": [
           {
            "colorbar": {
             "outlinewidth": 0,
             "ticks": ""
            },
            "colorscale": [
             [
              0,
              "#0d0887"
             ],
             [
              0.1111111111111111,
              "#46039f"
             ],
             [
              0.2222222222222222,
              "#7201a8"
             ],
             [
              0.3333333333333333,
              "#9c179e"
             ],
             [
              0.4444444444444444,
              "#bd3786"
             ],
             [
              0.5555555555555556,
              "#d8576b"
             ],
             [
              0.6666666666666666,
              "#ed7953"
             ],
             [
              0.7777777777777778,
              "#fb9f3a"
             ],
             [
              0.8888888888888888,
              "#fdca26"
             ],
             [
              1,
              "#f0f921"
             ]
            ],
            "type": "heatmap"
           }
          ],
          "histogram": [
           {
            "marker": {
             "pattern": {
              "fillmode": "overlay",
              "size": 10,
              "solidity": 0.2
             }
            },
            "type": "histogram"
           }
          ],
          "histogram2d": [
           {
            "colorbar": {
             "outlinewidth": 0,
             "ticks": ""
            },
            "colorscale": [
             [
              0,
              "#0d0887"
             ],
             [
              0.1111111111111111,
              "#46039f"
             ],
             [
              0.2222222222222222,
              "#7201a8"
             ],
             [
              0.3333333333333333,
              "#9c179e"
             ],
             [
              0.4444444444444444,
              "#bd3786"
             ],
             [
              0.5555555555555556,
              "#d8576b"
             ],
             [
              0.6666666666666666,
              "#ed7953"
             ],
             [
              0.7777777777777778,
              "#fb9f3a"
             ],
             [
              0.8888888888888888,
              "#fdca26"
             ],
             [
              1,
              "#f0f921"
             ]
            ],
            "type": "histogram2d"
           }
          ],
          "histogram2dcontour": [
           {
            "colorbar": {
             "outlinewidth": 0,
             "ticks": ""
            },
            "colorscale": [
             [
              0,
              "#0d0887"
             ],
             [
              0.1111111111111111,
              "#46039f"
             ],
             [
              0.2222222222222222,
              "#7201a8"
             ],
             [
              0.3333333333333333,
              "#9c179e"
             ],
             [
              0.4444444444444444,
              "#bd3786"
             ],
             [
              0.5555555555555556,
              "#d8576b"
             ],
             [
              0.6666666666666666,
              "#ed7953"
             ],
             [
              0.7777777777777778,
              "#fb9f3a"
             ],
             [
              0.8888888888888888,
              "#fdca26"
             ],
             [
              1,
              "#f0f921"
             ]
            ],
            "type": "histogram2dcontour"
           }
          ],
          "mesh3d": [
           {
            "colorbar": {
             "outlinewidth": 0,
             "ticks": ""
            },
            "type": "mesh3d"
           }
          ],
          "parcoords": [
           {
            "line": {
             "colorbar": {
              "outlinewidth": 0,
              "ticks": ""
             }
            },
            "type": "parcoords"
           }
          ],
          "pie": [
           {
            "automargin": true,
            "type": "pie"
           }
          ],
          "scatter": [
           {
            "fillpattern": {
             "fillmode": "overlay",
             "size": 10,
             "solidity": 0.2
            },
            "type": "scatter"
           }
          ],
          "scatter3d": [
           {
            "line": {
             "colorbar": {
              "outlinewidth": 0,
              "ticks": ""
             }
            },
            "marker": {
             "colorbar": {
              "outlinewidth": 0,
              "ticks": ""
             }
            },
            "type": "scatter3d"
           }
          ],
          "scattercarpet": [
           {
            "marker": {
             "colorbar": {
              "outlinewidth": 0,
              "ticks": ""
             }
            },
            "type": "scattercarpet"
           }
          ],
          "scattergeo": [
           {
            "marker": {
             "colorbar": {
              "outlinewidth": 0,
              "ticks": ""
             }
            },
            "type": "scattergeo"
           }
          ],
          "scattergl": [
           {
            "marker": {
             "colorbar": {
              "outlinewidth": 0,
              "ticks": ""
             }
            },
            "type": "scattergl"
           }
          ],
          "scattermap": [
           {
            "marker": {
             "colorbar": {
              "outlinewidth": 0,
              "ticks": ""
             }
            },
            "type": "scattermap"
           }
          ],
          "scattermapbox": [
           {
            "marker": {
             "colorbar": {
              "outlinewidth": 0,
              "ticks": ""
             }
            },
            "type": "scattermapbox"
           }
          ],
          "scatterpolar": [
           {
            "marker": {
             "colorbar": {
              "outlinewidth": 0,
              "ticks": ""
             }
            },
            "type": "scatterpolar"
           }
          ],
          "scatterpolargl": [
           {
            "marker": {
             "colorbar": {
              "outlinewidth": 0,
              "ticks": ""
             }
            },
            "type": "scatterpolargl"
           }
          ],
          "scatterternary": [
           {
            "marker": {
             "colorbar": {
              "outlinewidth": 0,
              "ticks": ""
             }
            },
            "type": "scatterternary"
           }
          ],
          "surface": [
           {
            "colorbar": {
             "outlinewidth": 0,
             "ticks": ""
            },
            "colorscale": [
             [
              0,
              "#0d0887"
             ],
             [
              0.1111111111111111,
              "#46039f"
             ],
             [
              0.2222222222222222,
              "#7201a8"
             ],
             [
              0.3333333333333333,
              "#9c179e"
             ],
             [
              0.4444444444444444,
              "#bd3786"
             ],
             [
              0.5555555555555556,
              "#d8576b"
             ],
             [
              0.6666666666666666,
              "#ed7953"
             ],
             [
              0.7777777777777778,
              "#fb9f3a"
             ],
             [
              0.8888888888888888,
              "#fdca26"
             ],
             [
              1,
              "#f0f921"
             ]
            ],
            "type": "surface"
           }
          ],
          "table": [
           {
            "cells": {
             "fill": {
              "color": "#EBF0F8"
             },
             "line": {
              "color": "white"
             }
            },
            "header": {
             "fill": {
              "color": "#C8D4E3"
             },
             "line": {
              "color": "white"
             }
            },
            "type": "table"
           }
          ]
         },
         "layout": {
          "annotationdefaults": {
           "arrowcolor": "#2a3f5f",
           "arrowhead": 0,
           "arrowwidth": 1
          },
          "autotypenumbers": "strict",
          "coloraxis": {
           "colorbar": {
            "outlinewidth": 0,
            "ticks": ""
           }
          },
          "colorscale": {
           "diverging": [
            [
             0,
             "#8e0152"
            ],
            [
             0.1,
             "#c51b7d"
            ],
            [
             0.2,
             "#de77ae"
            ],
            [
             0.3,
             "#f1b6da"
            ],
            [
             0.4,
             "#fde0ef"
            ],
            [
             0.5,
             "#f7f7f7"
            ],
            [
             0.6,
             "#e6f5d0"
            ],
            [
             0.7,
             "#b8e186"
            ],
            [
             0.8,
             "#7fbc41"
            ],
            [
             0.9,
             "#4d9221"
            ],
            [
             1,
             "#276419"
            ]
           ],
           "sequential": [
            [
             0,
             "#0d0887"
            ],
            [
             0.1111111111111111,
             "#46039f"
            ],
            [
             0.2222222222222222,
             "#7201a8"
            ],
            [
             0.3333333333333333,
             "#9c179e"
            ],
            [
             0.4444444444444444,
             "#bd3786"
            ],
            [
             0.5555555555555556,
             "#d8576b"
            ],
            [
             0.6666666666666666,
             "#ed7953"
            ],
            [
             0.7777777777777778,
             "#fb9f3a"
            ],
            [
             0.8888888888888888,
             "#fdca26"
            ],
            [
             1,
             "#f0f921"
            ]
           ],
           "sequentialminus": [
            [
             0,
             "#0d0887"
            ],
            [
             0.1111111111111111,
             "#46039f"
            ],
            [
             0.2222222222222222,
             "#7201a8"
            ],
            [
             0.3333333333333333,
             "#9c179e"
            ],
            [
             0.4444444444444444,
             "#bd3786"
            ],
            [
             0.5555555555555556,
             "#d8576b"
            ],
            [
             0.6666666666666666,
             "#ed7953"
            ],
            [
             0.7777777777777778,
             "#fb9f3a"
            ],
            [
             0.8888888888888888,
             "#fdca26"
            ],
            [
             1,
             "#f0f921"
            ]
           ]
          },
          "colorway": [
           "#636efa",
           "#EF553B",
           "#00cc96",
           "#ab63fa",
           "#FFA15A",
           "#19d3f3",
           "#FF6692",
           "#B6E880",
           "#FF97FF",
           "#FECB52"
          ],
          "font": {
           "color": "#2a3f5f"
          },
          "geo": {
           "bgcolor": "white",
           "lakecolor": "white",
           "landcolor": "#E5ECF6",
           "showlakes": true,
           "showland": true,
           "subunitcolor": "white"
          },
          "hoverlabel": {
           "align": "left"
          },
          "hovermode": "closest",
          "mapbox": {
           "style": "light"
          },
          "paper_bgcolor": "white",
          "plot_bgcolor": "#E5ECF6",
          "polar": {
           "angularaxis": {
            "gridcolor": "white",
            "linecolor": "white",
            "ticks": ""
           },
           "bgcolor": "#E5ECF6",
           "radialaxis": {
            "gridcolor": "white",
            "linecolor": "white",
            "ticks": ""
           }
          },
          "scene": {
           "xaxis": {
            "backgroundcolor": "#E5ECF6",
            "gridcolor": "white",
            "gridwidth": 2,
            "linecolor": "white",
            "showbackground": true,
            "ticks": "",
            "zerolinecolor": "white"
           },
           "yaxis": {
            "backgroundcolor": "#E5ECF6",
            "gridcolor": "white",
            "gridwidth": 2,
            "linecolor": "white",
            "showbackground": true,
            "ticks": "",
            "zerolinecolor": "white"
           },
           "zaxis": {
            "backgroundcolor": "#E5ECF6",
            "gridcolor": "white",
            "gridwidth": 2,
            "linecolor": "white",
            "showbackground": true,
            "ticks": "",
            "zerolinecolor": "white"
           }
          },
          "shapedefaults": {
           "line": {
            "color": "#2a3f5f"
           }
          },
          "ternary": {
           "aaxis": {
            "gridcolor": "white",
            "linecolor": "white",
            "ticks": ""
           },
           "baxis": {
            "gridcolor": "white",
            "linecolor": "white",
            "ticks": ""
           },
           "bgcolor": "#E5ECF6",
           "caxis": {
            "gridcolor": "white",
            "linecolor": "white",
            "ticks": ""
           }
          },
          "title": {
           "x": 0.05
          },
          "xaxis": {
           "automargin": true,
           "gridcolor": "white",
           "linecolor": "white",
           "ticks": "",
           "title": {
            "standoff": 15
           },
           "zerolinecolor": "white",
           "zerolinewidth": 2
          },
          "yaxis": {
           "automargin": true,
           "gridcolor": "white",
           "linecolor": "white",
           "ticks": "",
           "title": {
            "standoff": 15
           },
           "zerolinecolor": "white",
           "zerolinewidth": 2
          }
         }
        },
        "title": {
         "text": "Document Statistics"
        },
        "xaxis": {
         "dtick": 1,
         "gridwidth": 2,
         "showticklabels": false,
         "tick0": -0.5,
         "ticks": "",
         "zeroline": false
        },
        "yaxis": {
         "autorange": "reversed",
         "dtick": 1,
         "gridwidth": 2,
         "showticklabels": false,
         "tick0": 0.5,
         "ticks": "",
         "zeroline": false
        }
       }
      }
     },
     "metadata": {},
     "output_type": "display_data"
    },
    {
     "data": {
      "application/vnd.plotly.v1+json": {
       "config": {
        "plotlyServerURL": "https://plot.ly"
       },
       "data": [
        {
         "colorscale": [
          [
           0,
           "#00083e"
          ],
          [
           0.5,
           "#ededee"
          ],
          [
           1,
           "#ffffff"
          ]
         ],
         "hoverinfo": "none",
         "opacity": 0.75,
         "showscale": false,
         "type": "heatmap",
         "z": [
          [
           0,
           0
          ],
          [
           0.5,
           0.5
          ],
          [
           1,
           1
          ],
          [
           0.5,
           0.5
          ],
          [
           1,
           1
          ],
          [
           0.5,
           0.5
          ],
          [
           1,
           1
          ],
          [
           0.5,
           0.5
          ],
          [
           1,
           1
          ]
         ]
        }
       ],
       "layout": {
        "annotations": [
         {
          "align": "center",
          "font": {
           "color": "#ffffff"
          },
          "showarrow": false,
          "text": "<b>Metric</b>",
          "x": -0.45,
          "xanchor": "left",
          "xref": "x",
          "y": 0,
          "yref": "y"
         },
         {
          "align": "center",
          "font": {
           "color": "#ffffff"
          },
          "showarrow": false,
          "text": "<b>Value</b>",
          "x": 0.55,
          "xanchor": "left",
          "xref": "x",
          "y": 0,
          "yref": "y"
         },
         {
          "align": "center",
          "font": {
           "color": "#000000"
          },
          "showarrow": false,
          "text": "count",
          "x": -0.45,
          "xanchor": "left",
          "xref": "x",
          "y": 1,
          "yref": "y"
         },
         {
          "align": "center",
          "font": {
           "color": "#000000"
          },
          "showarrow": false,
          "text": "3.00",
          "x": 0.55,
          "xanchor": "left",
          "xref": "x",
          "y": 1,
          "yref": "y"
         },
         {
          "align": "center",
          "font": {
           "color": "#000000"
          },
          "showarrow": false,
          "text": "mean",
          "x": -0.45,
          "xanchor": "left",
          "xref": "x",
          "y": 2,
          "yref": "y"
         },
         {
          "align": "center",
          "font": {
           "color": "#000000"
          },
          "showarrow": false,
          "text": "1,521.33",
          "x": 0.55,
          "xanchor": "left",
          "xref": "x",
          "y": 2,
          "yref": "y"
         },
         {
          "align": "center",
          "font": {
           "color": "#000000"
          },
          "showarrow": false,
          "text": "std",
          "x": -0.45,
          "xanchor": "left",
          "xref": "x",
          "y": 3,
          "yref": "y"
         },
         {
          "align": "center",
          "font": {
           "color": "#000000"
          },
          "showarrow": false,
          "text": "122.40",
          "x": 0.55,
          "xanchor": "left",
          "xref": "x",
          "y": 3,
          "yref": "y"
         },
         {
          "align": "center",
          "font": {
           "color": "#000000"
          },
          "showarrow": false,
          "text": "min",
          "x": -0.45,
          "xanchor": "left",
          "xref": "x",
          "y": 4,
          "yref": "y"
         },
         {
          "align": "center",
          "font": {
           "color": "#000000"
          },
          "showarrow": false,
          "text": "1,380.00",
          "x": 0.55,
          "xanchor": "left",
          "xref": "x",
          "y": 4,
          "yref": "y"
         },
         {
          "align": "center",
          "font": {
           "color": "#000000"
          },
          "showarrow": false,
          "text": "25%",
          "x": -0.45,
          "xanchor": "left",
          "xref": "x",
          "y": 5,
          "yref": "y"
         },
         {
          "align": "center",
          "font": {
           "color": "#000000"
          },
          "showarrow": false,
          "text": "1,485.50",
          "x": 0.55,
          "xanchor": "left",
          "xref": "x",
          "y": 5,
          "yref": "y"
         },
         {
          "align": "center",
          "font": {
           "color": "#000000"
          },
          "showarrow": false,
          "text": "50%",
          "x": -0.45,
          "xanchor": "left",
          "xref": "x",
          "y": 6,
          "yref": "y"
         },
         {
          "align": "center",
          "font": {
           "color": "#000000"
          },
          "showarrow": false,
          "text": "1,591.00",
          "x": 0.55,
          "xanchor": "left",
          "xref": "x",
          "y": 6,
          "yref": "y"
         },
         {
          "align": "center",
          "font": {
           "color": "#000000"
          },
          "showarrow": false,
          "text": "75%",
          "x": -0.45,
          "xanchor": "left",
          "xref": "x",
          "y": 7,
          "yref": "y"
         },
         {
          "align": "center",
          "font": {
           "color": "#000000"
          },
          "showarrow": false,
          "text": "1,592.00",
          "x": 0.55,
          "xanchor": "left",
          "xref": "x",
          "y": 7,
          "yref": "y"
         },
         {
          "align": "center",
          "font": {
           "color": "#000000"
          },
          "showarrow": false,
          "text": "max",
          "x": -0.45,
          "xanchor": "left",
          "xref": "x",
          "y": 8,
          "yref": "y"
         },
         {
          "align": "center",
          "font": {
           "color": "#000000"
          },
          "showarrow": false,
          "text": "1,593.00",
          "x": 0.55,
          "xanchor": "left",
          "xref": "x",
          "y": 8,
          "yref": "y"
         }
        ],
        "height": 320,
        "margin": {
         "b": 0,
         "l": 0,
         "r": 0,
         "t": 0
        },
        "template": {
         "data": {
          "bar": [
           {
            "error_x": {
             "color": "#2a3f5f"
            },
            "error_y": {
             "color": "#2a3f5f"
            },
            "marker": {
             "line": {
              "color": "#E5ECF6",
              "width": 0.5
             },
             "pattern": {
              "fillmode": "overlay",
              "size": 10,
              "solidity": 0.2
             }
            },
            "type": "bar"
           }
          ],
          "barpolar": [
           {
            "marker": {
             "line": {
              "color": "#E5ECF6",
              "width": 0.5
             },
             "pattern": {
              "fillmode": "overlay",
              "size": 10,
              "solidity": 0.2
             }
            },
            "type": "barpolar"
           }
          ],
          "carpet": [
           {
            "aaxis": {
             "endlinecolor": "#2a3f5f",
             "gridcolor": "white",
             "linecolor": "white",
             "minorgridcolor": "white",
             "startlinecolor": "#2a3f5f"
            },
            "baxis": {
             "endlinecolor": "#2a3f5f",
             "gridcolor": "white",
             "linecolor": "white",
             "minorgridcolor": "white",
             "startlinecolor": "#2a3f5f"
            },
            "type": "carpet"
           }
          ],
          "choropleth": [
           {
            "colorbar": {
             "outlinewidth": 0,
             "ticks": ""
            },
            "type": "choropleth"
           }
          ],
          "contour": [
           {
            "colorbar": {
             "outlinewidth": 0,
             "ticks": ""
            },
            "colorscale": [
             [
              0,
              "#0d0887"
             ],
             [
              0.1111111111111111,
              "#46039f"
             ],
             [
              0.2222222222222222,
              "#7201a8"
             ],
             [
              0.3333333333333333,
              "#9c179e"
             ],
             [
              0.4444444444444444,
              "#bd3786"
             ],
             [
              0.5555555555555556,
              "#d8576b"
             ],
             [
              0.6666666666666666,
              "#ed7953"
             ],
             [
              0.7777777777777778,
              "#fb9f3a"
             ],
             [
              0.8888888888888888,
              "#fdca26"
             ],
             [
              1,
              "#f0f921"
             ]
            ],
            "type": "contour"
           }
          ],
          "contourcarpet": [
           {
            "colorbar": {
             "outlinewidth": 0,
             "ticks": ""
            },
            "type": "contourcarpet"
           }
          ],
          "heatmap": [
           {
            "colorbar": {
             "outlinewidth": 0,
             "ticks": ""
            },
            "colorscale": [
             [
              0,
              "#0d0887"
             ],
             [
              0.1111111111111111,
              "#46039f"
             ],
             [
              0.2222222222222222,
              "#7201a8"
             ],
             [
              0.3333333333333333,
              "#9c179e"
             ],
             [
              0.4444444444444444,
              "#bd3786"
             ],
             [
              0.5555555555555556,
              "#d8576b"
             ],
             [
              0.6666666666666666,
              "#ed7953"
             ],
             [
              0.7777777777777778,
              "#fb9f3a"
             ],
             [
              0.8888888888888888,
              "#fdca26"
             ],
             [
              1,
              "#f0f921"
             ]
            ],
            "type": "heatmap"
           }
          ],
          "histogram": [
           {
            "marker": {
             "pattern": {
              "fillmode": "overlay",
              "size": 10,
              "solidity": 0.2
             }
            },
            "type": "histogram"
           }
          ],
          "histogram2d": [
           {
            "colorbar": {
             "outlinewidth": 0,
             "ticks": ""
            },
            "colorscale": [
             [
              0,
              "#0d0887"
             ],
             [
              0.1111111111111111,
              "#46039f"
             ],
             [
              0.2222222222222222,
              "#7201a8"
             ],
             [
              0.3333333333333333,
              "#9c179e"
             ],
             [
              0.4444444444444444,
              "#bd3786"
             ],
             [
              0.5555555555555556,
              "#d8576b"
             ],
             [
              0.6666666666666666,
              "#ed7953"
             ],
             [
              0.7777777777777778,
              "#fb9f3a"
             ],
             [
              0.8888888888888888,
              "#fdca26"
             ],
             [
              1,
              "#f0f921"
             ]
            ],
            "type": "histogram2d"
           }
          ],
          "histogram2dcontour": [
           {
            "colorbar": {
             "outlinewidth": 0,
             "ticks": ""
            },
            "colorscale": [
             [
              0,
              "#0d0887"
             ],
             [
              0.1111111111111111,
              "#46039f"
             ],
             [
              0.2222222222222222,
              "#7201a8"
             ],
             [
              0.3333333333333333,
              "#9c179e"
             ],
             [
              0.4444444444444444,
              "#bd3786"
             ],
             [
              0.5555555555555556,
              "#d8576b"
             ],
             [
              0.6666666666666666,
              "#ed7953"
             ],
             [
              0.7777777777777778,
              "#fb9f3a"
             ],
             [
              0.8888888888888888,
              "#fdca26"
             ],
             [
              1,
              "#f0f921"
             ]
            ],
            "type": "histogram2dcontour"
           }
          ],
          "mesh3d": [
           {
            "colorbar": {
             "outlinewidth": 0,
             "ticks": ""
            },
            "type": "mesh3d"
           }
          ],
          "parcoords": [
           {
            "line": {
             "colorbar": {
              "outlinewidth": 0,
              "ticks": ""
             }
            },
            "type": "parcoords"
           }
          ],
          "pie": [
           {
            "automargin": true,
            "type": "pie"
           }
          ],
          "scatter": [
           {
            "fillpattern": {
             "fillmode": "overlay",
             "size": 10,
             "solidity": 0.2
            },
            "type": "scatter"
           }
          ],
          "scatter3d": [
           {
            "line": {
             "colorbar": {
              "outlinewidth": 0,
              "ticks": ""
             }
            },
            "marker": {
             "colorbar": {
              "outlinewidth": 0,
              "ticks": ""
             }
            },
            "type": "scatter3d"
           }
          ],
          "scattercarpet": [
           {
            "marker": {
             "colorbar": {
              "outlinewidth": 0,
              "ticks": ""
             }
            },
            "type": "scattercarpet"
           }
          ],
          "scattergeo": [
           {
            "marker": {
             "colorbar": {
              "outlinewidth": 0,
              "ticks": ""
             }
            },
            "type": "scattergeo"
           }
          ],
          "scattergl": [
           {
            "marker": {
             "colorbar": {
              "outlinewidth": 0,
              "ticks": ""
             }
            },
            "type": "scattergl"
           }
          ],
          "scattermap": [
           {
            "marker": {
             "colorbar": {
              "outlinewidth": 0,
              "ticks": ""
             }
            },
            "type": "scattermap"
           }
          ],
          "scattermapbox": [
           {
            "marker": {
             "colorbar": {
              "outlinewidth": 0,
              "ticks": ""
             }
            },
            "type": "scattermapbox"
           }
          ],
          "scatterpolar": [
           {
            "marker": {
             "colorbar": {
              "outlinewidth": 0,
              "ticks": ""
             }
            },
            "type": "scatterpolar"
           }
          ],
          "scatterpolargl": [
           {
            "marker": {
             "colorbar": {
              "outlinewidth": 0,
              "ticks": ""
             }
            },
            "type": "scatterpolargl"
           }
          ],
          "scatterternary": [
           {
            "marker": {
             "colorbar": {
              "outlinewidth": 0,
              "ticks": ""
             }
            },
            "type": "scatterternary"
           }
          ],
          "surface": [
           {
            "colorbar": {
             "outlinewidth": 0,
             "ticks": ""
            },
            "colorscale": [
             [
              0,
              "#0d0887"
             ],
             [
              0.1111111111111111,
              "#46039f"
             ],
             [
              0.2222222222222222,
              "#7201a8"
             ],
             [
              0.3333333333333333,
              "#9c179e"
             ],
             [
              0.4444444444444444,
              "#bd3786"
             ],
             [
              0.5555555555555556,
              "#d8576b"
             ],
             [
              0.6666666666666666,
              "#ed7953"
             ],
             [
              0.7777777777777778,
              "#fb9f3a"
             ],
             [
              0.8888888888888888,
              "#fdca26"
             ],
             [
              1,
              "#f0f921"
             ]
            ],
            "type": "surface"
           }
          ],
          "table": [
           {
            "cells": {
             "fill": {
              "color": "#EBF0F8"
             },
             "line": {
              "color": "white"
             }
            },
            "header": {
             "fill": {
              "color": "#C8D4E3"
             },
             "line": {
              "color": "white"
             }
            },
            "type": "table"
           }
          ]
         },
         "layout": {
          "annotationdefaults": {
           "arrowcolor": "#2a3f5f",
           "arrowhead": 0,
           "arrowwidth": 1
          },
          "autotypenumbers": "strict",
          "coloraxis": {
           "colorbar": {
            "outlinewidth": 0,
            "ticks": ""
           }
          },
          "colorscale": {
           "diverging": [
            [
             0,
             "#8e0152"
            ],
            [
             0.1,
             "#c51b7d"
            ],
            [
             0.2,
             "#de77ae"
            ],
            [
             0.3,
             "#f1b6da"
            ],
            [
             0.4,
             "#fde0ef"
            ],
            [
             0.5,
             "#f7f7f7"
            ],
            [
             0.6,
             "#e6f5d0"
            ],
            [
             0.7,
             "#b8e186"
            ],
            [
             0.8,
             "#7fbc41"
            ],
            [
             0.9,
             "#4d9221"
            ],
            [
             1,
             "#276419"
            ]
           ],
           "sequential": [
            [
             0,
             "#0d0887"
            ],
            [
             0.1111111111111111,
             "#46039f"
            ],
            [
             0.2222222222222222,
             "#7201a8"
            ],
            [
             0.3333333333333333,
             "#9c179e"
            ],
            [
             0.4444444444444444,
             "#bd3786"
            ],
            [
             0.5555555555555556,
             "#d8576b"
            ],
            [
             0.6666666666666666,
             "#ed7953"
            ],
            [
             0.7777777777777778,
             "#fb9f3a"
            ],
            [
             0.8888888888888888,
             "#fdca26"
            ],
            [
             1,
             "#f0f921"
            ]
           ],
           "sequentialminus": [
            [
             0,
             "#0d0887"
            ],
            [
             0.1111111111111111,
             "#46039f"
            ],
            [
             0.2222222222222222,
             "#7201a8"
            ],
            [
             0.3333333333333333,
             "#9c179e"
            ],
            [
             0.4444444444444444,
             "#bd3786"
            ],
            [
             0.5555555555555556,
             "#d8576b"
            ],
            [
             0.6666666666666666,
             "#ed7953"
            ],
            [
             0.7777777777777778,
             "#fb9f3a"
            ],
            [
             0.8888888888888888,
             "#fdca26"
            ],
            [
             1,
             "#f0f921"
            ]
           ]
          },
          "colorway": [
           "#636efa",
           "#EF553B",
           "#00cc96",
           "#ab63fa",
           "#FFA15A",
           "#19d3f3",
           "#FF6692",
           "#B6E880",
           "#FF97FF",
           "#FECB52"
          ],
          "font": {
           "color": "#2a3f5f"
          },
          "geo": {
           "bgcolor": "white",
           "lakecolor": "white",
           "landcolor": "#E5ECF6",
           "showlakes": true,
           "showland": true,
           "subunitcolor": "white"
          },
          "hoverlabel": {
           "align": "left"
          },
          "hovermode": "closest",
          "mapbox": {
           "style": "light"
          },
          "paper_bgcolor": "white",
          "plot_bgcolor": "#E5ECF6",
          "polar": {
           "angularaxis": {
            "gridcolor": "white",
            "linecolor": "white",
            "ticks": ""
           },
           "bgcolor": "#E5ECF6",
           "radialaxis": {
            "gridcolor": "white",
            "linecolor": "white",
            "ticks": ""
           }
          },
          "scene": {
           "xaxis": {
            "backgroundcolor": "#E5ECF6",
            "gridcolor": "white",
            "gridwidth": 2,
            "linecolor": "white",
            "showbackground": true,
            "ticks": "",
            "zerolinecolor": "white"
           },
           "yaxis": {
            "backgroundcolor": "#E5ECF6",
            "gridcolor": "white",
            "gridwidth": 2,
            "linecolor": "white",
            "showbackground": true,
            "ticks": "",
            "zerolinecolor": "white"
           },
           "zaxis": {
            "backgroundcolor": "#E5ECF6",
            "gridcolor": "white",
            "gridwidth": 2,
            "linecolor": "white",
            "showbackground": true,
            "ticks": "",
            "zerolinecolor": "white"
           }
          },
          "shapedefaults": {
           "line": {
            "color": "#2a3f5f"
           }
          },
          "ternary": {
           "aaxis": {
            "gridcolor": "white",
            "linecolor": "white",
            "ticks": ""
           },
           "baxis": {
            "gridcolor": "white",
            "linecolor": "white",
            "ticks": ""
           },
           "bgcolor": "#E5ECF6",
           "caxis": {
            "gridcolor": "white",
            "linecolor": "white",
            "ticks": ""
           }
          },
          "title": {
           "x": 0.05
          },
          "xaxis": {
           "automargin": true,
           "gridcolor": "white",
           "linecolor": "white",
           "ticks": "",
           "title": {
            "standoff": 15
           },
           "zerolinecolor": "white",
           "zerolinewidth": 2
          },
          "yaxis": {
           "automargin": true,
           "gridcolor": "white",
           "linecolor": "white",
           "ticks": "",
           "title": {
            "standoff": 15
           },
           "zerolinecolor": "white",
           "zerolinewidth": 2
          }
         }
        },
        "title": {
         "text": "Token-Based Document Statistics"
        },
        "xaxis": {
         "dtick": 1,
         "gridwidth": 2,
         "showticklabels": false,
         "tick0": -0.5,
         "ticks": "",
         "zeroline": false
        },
        "yaxis": {
         "autorange": "reversed",
         "dtick": 1,
         "gridwidth": 2,
         "showticklabels": false,
         "tick0": 0.5,
         "ticks": "",
         "zeroline": false
        }
       }
      }
     },
     "metadata": {},
     "output_type": "display_data"
    },
    {
     "data": {
      "application/vnd.plotly.v1+json": {
       "config": {
        "plotlyServerURL": "https://plot.ly"
       },
       "data": [
        {
         "hovertemplate": "Word=%{x}<br>Frequency=%{marker.color}<br>text=%{text}<extra></extra>",
         "legendgroup": "",
         "marker": {
          "color": {
           "bdata": "pQCYAIoAVwBKAD0APQA8ADsAOwA2AC0AJwAnACQAJAAjAB0AFgAVAA==",
           "dtype": "i2"
          },
          "coloraxis": "coloraxis",
          "pattern": {
           "shape": ""
          }
         },
         "name": "",
         "orientation": "v",
         "showlegend": false,
         "text": [
          "165 (7.39%)",
          "152 (6.80%)",
          "138 (6.18%)",
          "87 (3.89%)",
          "74 (3.31%)",
          "61 (2.73%)",
          "61 (2.73%)",
          "60 (2.69%)",
          "59 (2.64%)",
          "59 (2.64%)",
          "54 (2.42%)",
          "45 (2.01%)",
          "39 (1.75%)",
          "39 (1.75%)",
          "36 (1.61%)",
          "36 (1.61%)",
          "35 (1.57%)",
          "29 (1.30%)",
          "22 (0.98%)",
          "21 (0.94%)"
         ],
         "textposition": "outside",
         "type": "bar",
         "x": [
          "semester",
          "ot",
          "tp",
          "mandatory",
          "45",
          "112",
          "4",
          "elective",
          "168",
          "6",
          "teaching",
          "t",
          "course",
          "pl",
          "5",
          "practical",
          "and",
          "s",
          "10",
          "tc"
         ],
         "xaxis": "x",
         "y": {
          "bdata": "pQCYAIoAVwBKAD0APQA8ADsAOwA2AC0AJwAnACQAJAAjAB0AFgAVAA==",
          "dtype": "i2"
         },
         "yaxis": "y"
        }
       ],
       "layout": {
        "bargap": 0.2,
        "barmode": "relative",
        "coloraxis": {
         "colorbar": {
          "title": {
           "text": "Frequency"
          }
         },
         "colorscale": [
          [
           0,
           "rgb(247,251,255)"
          ],
          [
           0.125,
           "rgb(222,235,247)"
          ],
          [
           0.25,
           "rgb(198,219,239)"
          ],
          [
           0.375,
           "rgb(158,202,225)"
          ],
          [
           0.5,
           "rgb(107,174,214)"
          ],
          [
           0.625,
           "rgb(66,146,198)"
          ],
          [
           0.75,
           "rgb(33,113,181)"
          ],
          [
           0.875,
           "rgb(8,81,156)"
          ],
          [
           1,
           "rgb(8,48,107)"
          ]
         ],
         "showscale": false
        },
        "legend": {
         "tracegroupgap": 0
        },
        "template": {
         "data": {
          "bar": [
           {
            "error_x": {
             "color": "#2a3f5f"
            },
            "error_y": {
             "color": "#2a3f5f"
            },
            "marker": {
             "line": {
              "color": "#E5ECF6",
              "width": 0.5
             },
             "pattern": {
              "fillmode": "overlay",
              "size": 10,
              "solidity": 0.2
             }
            },
            "type": "bar"
           }
          ],
          "barpolar": [
           {
            "marker": {
             "line": {
              "color": "#E5ECF6",
              "width": 0.5
             },
             "pattern": {
              "fillmode": "overlay",
              "size": 10,
              "solidity": 0.2
             }
            },
            "type": "barpolar"
           }
          ],
          "carpet": [
           {
            "aaxis": {
             "endlinecolor": "#2a3f5f",
             "gridcolor": "white",
             "linecolor": "white",
             "minorgridcolor": "white",
             "startlinecolor": "#2a3f5f"
            },
            "baxis": {
             "endlinecolor": "#2a3f5f",
             "gridcolor": "white",
             "linecolor": "white",
             "minorgridcolor": "white",
             "startlinecolor": "#2a3f5f"
            },
            "type": "carpet"
           }
          ],
          "choropleth": [
           {
            "colorbar": {
             "outlinewidth": 0,
             "ticks": ""
            },
            "type": "choropleth"
           }
          ],
          "contour": [
           {
            "colorbar": {
             "outlinewidth": 0,
             "ticks": ""
            },
            "colorscale": [
             [
              0,
              "#0d0887"
             ],
             [
              0.1111111111111111,
              "#46039f"
             ],
             [
              0.2222222222222222,
              "#7201a8"
             ],
             [
              0.3333333333333333,
              "#9c179e"
             ],
             [
              0.4444444444444444,
              "#bd3786"
             ],
             [
              0.5555555555555556,
              "#d8576b"
             ],
             [
              0.6666666666666666,
              "#ed7953"
             ],
             [
              0.7777777777777778,
              "#fb9f3a"
             ],
             [
              0.8888888888888888,
              "#fdca26"
             ],
             [
              1,
              "#f0f921"
             ]
            ],
            "type": "contour"
           }
          ],
          "contourcarpet": [
           {
            "colorbar": {
             "outlinewidth": 0,
             "ticks": ""
            },
            "type": "contourcarpet"
           }
          ],
          "heatmap": [
           {
            "colorbar": {
             "outlinewidth": 0,
             "ticks": ""
            },
            "colorscale": [
             [
              0,
              "#0d0887"
             ],
             [
              0.1111111111111111,
              "#46039f"
             ],
             [
              0.2222222222222222,
              "#7201a8"
             ],
             [
              0.3333333333333333,
              "#9c179e"
             ],
             [
              0.4444444444444444,
              "#bd3786"
             ],
             [
              0.5555555555555556,
              "#d8576b"
             ],
             [
              0.6666666666666666,
              "#ed7953"
             ],
             [
              0.7777777777777778,
              "#fb9f3a"
             ],
             [
              0.8888888888888888,
              "#fdca26"
             ],
             [
              1,
              "#f0f921"
             ]
            ],
            "type": "heatmap"
           }
          ],
          "histogram": [
           {
            "marker": {
             "pattern": {
              "fillmode": "overlay",
              "size": 10,
              "solidity": 0.2
             }
            },
            "type": "histogram"
           }
          ],
          "histogram2d": [
           {
            "colorbar": {
             "outlinewidth": 0,
             "ticks": ""
            },
            "colorscale": [
             [
              0,
              "#0d0887"
             ],
             [
              0.1111111111111111,
              "#46039f"
             ],
             [
              0.2222222222222222,
              "#7201a8"
             ],
             [
              0.3333333333333333,
              "#9c179e"
             ],
             [
              0.4444444444444444,
              "#bd3786"
             ],
             [
              0.5555555555555556,
              "#d8576b"
             ],
             [
              0.6666666666666666,
              "#ed7953"
             ],
             [
              0.7777777777777778,
              "#fb9f3a"
             ],
             [
              0.8888888888888888,
              "#fdca26"
             ],
             [
              1,
              "#f0f921"
             ]
            ],
            "type": "histogram2d"
           }
          ],
          "histogram2dcontour": [
           {
            "colorbar": {
             "outlinewidth": 0,
             "ticks": ""
            },
            "colorscale": [
             [
              0,
              "#0d0887"
             ],
             [
              0.1111111111111111,
              "#46039f"
             ],
             [
              0.2222222222222222,
              "#7201a8"
             ],
             [
              0.3333333333333333,
              "#9c179e"
             ],
             [
              0.4444444444444444,
              "#bd3786"
             ],
             [
              0.5555555555555556,
              "#d8576b"
             ],
             [
              0.6666666666666666,
              "#ed7953"
             ],
             [
              0.7777777777777778,
              "#fb9f3a"
             ],
             [
              0.8888888888888888,
              "#fdca26"
             ],
             [
              1,
              "#f0f921"
             ]
            ],
            "type": "histogram2dcontour"
           }
          ],
          "mesh3d": [
           {
            "colorbar": {
             "outlinewidth": 0,
             "ticks": ""
            },
            "type": "mesh3d"
           }
          ],
          "parcoords": [
           {
            "line": {
             "colorbar": {
              "outlinewidth": 0,
              "ticks": ""
             }
            },
            "type": "parcoords"
           }
          ],
          "pie": [
           {
            "automargin": true,
            "type": "pie"
           }
          ],
          "scatter": [
           {
            "fillpattern": {
             "fillmode": "overlay",
             "size": 10,
             "solidity": 0.2
            },
            "type": "scatter"
           }
          ],
          "scatter3d": [
           {
            "line": {
             "colorbar": {
              "outlinewidth": 0,
              "ticks": ""
             }
            },
            "marker": {
             "colorbar": {
              "outlinewidth": 0,
              "ticks": ""
             }
            },
            "type": "scatter3d"
           }
          ],
          "scattercarpet": [
           {
            "marker": {
             "colorbar": {
              "outlinewidth": 0,
              "ticks": ""
             }
            },
            "type": "scattercarpet"
           }
          ],
          "scattergeo": [
           {
            "marker": {
             "colorbar": {
              "outlinewidth": 0,
              "ticks": ""
             }
            },
            "type": "scattergeo"
           }
          ],
          "scattergl": [
           {
            "marker": {
             "colorbar": {
              "outlinewidth": 0,
              "ticks": ""
             }
            },
            "type": "scattergl"
           }
          ],
          "scattermap": [
           {
            "marker": {
             "colorbar": {
              "outlinewidth": 0,
              "ticks": ""
             }
            },
            "type": "scattermap"
           }
          ],
          "scattermapbox": [
           {
            "marker": {
             "colorbar": {
              "outlinewidth": 0,
              "ticks": ""
             }
            },
            "type": "scattermapbox"
           }
          ],
          "scatterpolar": [
           {
            "marker": {
             "colorbar": {
              "outlinewidth": 0,
              "ticks": ""
             }
            },
            "type": "scatterpolar"
           }
          ],
          "scatterpolargl": [
           {
            "marker": {
             "colorbar": {
              "outlinewidth": 0,
              "ticks": ""
             }
            },
            "type": "scatterpolargl"
           }
          ],
          "scatterternary": [
           {
            "marker": {
             "colorbar": {
              "outlinewidth": 0,
              "ticks": ""
             }
            },
            "type": "scatterternary"
           }
          ],
          "surface": [
           {
            "colorbar": {
             "outlinewidth": 0,
             "ticks": ""
            },
            "colorscale": [
             [
              0,
              "#0d0887"
             ],
             [
              0.1111111111111111,
              "#46039f"
             ],
             [
              0.2222222222222222,
              "#7201a8"
             ],
             [
              0.3333333333333333,
              "#9c179e"
             ],
             [
              0.4444444444444444,
              "#bd3786"
             ],
             [
              0.5555555555555556,
              "#d8576b"
             ],
             [
              0.6666666666666666,
              "#ed7953"
             ],
             [
              0.7777777777777778,
              "#fb9f3a"
             ],
             [
              0.8888888888888888,
              "#fdca26"
             ],
             [
              1,
              "#f0f921"
             ]
            ],
            "type": "surface"
           }
          ],
          "table": [
           {
            "cells": {
             "fill": {
              "color": "#EBF0F8"
             },
             "line": {
              "color": "white"
             }
            },
            "header": {
             "fill": {
              "color": "#C8D4E3"
             },
             "line": {
              "color": "white"
             }
            },
            "type": "table"
           }
          ]
         },
         "layout": {
          "annotationdefaults": {
           "arrowcolor": "#2a3f5f",
           "arrowhead": 0,
           "arrowwidth": 1
          },
          "autotypenumbers": "strict",
          "coloraxis": {
           "colorbar": {
            "outlinewidth": 0,
            "ticks": ""
           }
          },
          "colorscale": {
           "diverging": [
            [
             0,
             "#8e0152"
            ],
            [
             0.1,
             "#c51b7d"
            ],
            [
             0.2,
             "#de77ae"
            ],
            [
             0.3,
             "#f1b6da"
            ],
            [
             0.4,
             "#fde0ef"
            ],
            [
             0.5,
             "#f7f7f7"
            ],
            [
             0.6,
             "#e6f5d0"
            ],
            [
             0.7,
             "#b8e186"
            ],
            [
             0.8,
             "#7fbc41"
            ],
            [
             0.9,
             "#4d9221"
            ],
            [
             1,
             "#276419"
            ]
           ],
           "sequential": [
            [
             0,
             "#0d0887"
            ],
            [
             0.1111111111111111,
             "#46039f"
            ],
            [
             0.2222222222222222,
             "#7201a8"
            ],
            [
             0.3333333333333333,
             "#9c179e"
            ],
            [
             0.4444444444444444,
             "#bd3786"
            ],
            [
             0.5555555555555556,
             "#d8576b"
            ],
            [
             0.6666666666666666,
             "#ed7953"
            ],
            [
             0.7777777777777778,
             "#fb9f3a"
            ],
            [
             0.8888888888888888,
             "#fdca26"
            ],
            [
             1,
             "#f0f921"
            ]
           ],
           "sequentialminus": [
            [
             0,
             "#0d0887"
            ],
            [
             0.1111111111111111,
             "#46039f"
            ],
            [
             0.2222222222222222,
             "#7201a8"
            ],
            [
             0.3333333333333333,
             "#9c179e"
            ],
            [
             0.4444444444444444,
             "#bd3786"
            ],
            [
             0.5555555555555556,
             "#d8576b"
            ],
            [
             0.6666666666666666,
             "#ed7953"
            ],
            [
             0.7777777777777778,
             "#fb9f3a"
            ],
            [
             0.8888888888888888,
             "#fdca26"
            ],
            [
             1,
             "#f0f921"
            ]
           ]
          },
          "colorway": [
           "#636efa",
           "#EF553B",
           "#00cc96",
           "#ab63fa",
           "#FFA15A",
           "#19d3f3",
           "#FF6692",
           "#B6E880",
           "#FF97FF",
           "#FECB52"
          ],
          "font": {
           "color": "#2a3f5f"
          },
          "geo": {
           "bgcolor": "white",
           "lakecolor": "white",
           "landcolor": "#E5ECF6",
           "showlakes": true,
           "showland": true,
           "subunitcolor": "white"
          },
          "hoverlabel": {
           "align": "left"
          },
          "hovermode": "closest",
          "mapbox": {
           "style": "light"
          },
          "paper_bgcolor": "white",
          "plot_bgcolor": "#E5ECF6",
          "polar": {
           "angularaxis": {
            "gridcolor": "white",
            "linecolor": "white",
            "ticks": ""
           },
           "bgcolor": "#E5ECF6",
           "radialaxis": {
            "gridcolor": "white",
            "linecolor": "white",
            "ticks": ""
           }
          },
          "scene": {
           "xaxis": {
            "backgroundcolor": "#E5ECF6",
            "gridcolor": "white",
            "gridwidth": 2,
            "linecolor": "white",
            "showbackground": true,
            "ticks": "",
            "zerolinecolor": "white"
           },
           "yaxis": {
            "backgroundcolor": "#E5ECF6",
            "gridcolor": "white",
            "gridwidth": 2,
            "linecolor": "white",
            "showbackground": true,
            "ticks": "",
            "zerolinecolor": "white"
           },
           "zaxis": {
            "backgroundcolor": "#E5ECF6",
            "gridcolor": "white",
            "gridwidth": 2,
            "linecolor": "white",
            "showbackground": true,
            "ticks": "",
            "zerolinecolor": "white"
           }
          },
          "shapedefaults": {
           "line": {
            "color": "#2a3f5f"
           }
          },
          "ternary": {
           "aaxis": {
            "gridcolor": "white",
            "linecolor": "white",
            "ticks": ""
           },
           "baxis": {
            "gridcolor": "white",
            "linecolor": "white",
            "ticks": ""
           },
           "bgcolor": "#E5ECF6",
           "caxis": {
            "gridcolor": "white",
            "linecolor": "white",
            "ticks": ""
           }
          },
          "title": {
           "x": 0.05
          },
          "xaxis": {
           "automargin": true,
           "gridcolor": "white",
           "linecolor": "white",
           "ticks": "",
           "title": {
            "standoff": 15
           },
           "zerolinecolor": "white",
           "zerolinewidth": 2
          },
          "yaxis": {
           "automargin": true,
           "gridcolor": "white",
           "linecolor": "white",
           "ticks": "",
           "title": {
            "standoff": 15
           },
           "zerolinecolor": "white",
           "zerolinewidth": 2
          }
         }
        },
        "title": {
         "text": "Top 20 Most Frequent Words"
        },
        "xaxis": {
         "anchor": "y",
         "domain": [
          0,
          1
         ],
         "title": {
          "text": "Words"
         }
        },
        "yaxis": {
         "anchor": "x",
         "domain": [
          0,
          1
         ],
         "title": {
          "text": "Frequency"
         }
        }
       }
      }
     },
     "metadata": {},
     "output_type": "display_data"
    },
    {
     "data": {
      "application/vnd.plotly.v1+json": {
       "config": {
        "plotlyServerURL": "https://plot.ly"
       },
       "data": [
        {
         "hovertemplate": "N-Gram=%{x}<br>Frequency=%{marker.color}<br>text=%{text}<extra></extra>",
         "legendgroup": "",
         "marker": {
          "color": {
           "bdata": "V0hDPTw7NzYwJCQYGBYWFRISEhI=",
           "dtype": "i1"
          },
          "coloraxis": "coloraxis",
          "pattern": {
           "shape": ""
          }
         },
         "name": "",
         "orientation": "v",
         "showlegend": false,
         "text": [
          "87 (3.90%)",
          "72 (3.23%)",
          "67 (3.00%)",
          "61 (2.73%)",
          "60 (2.69%)",
          "59 (2.64%)",
          "55 (2.47%)",
          "54 (2.42%)",
          "48 (2.15%)",
          "36 (1.61%)",
          "36 (1.61%)",
          "24 (1.08%)",
          "24 (1.08%)",
          "22 (0.99%)",
          "22 (0.99%)",
          "21 (0.94%)",
          "18 (0.81%)",
          "18 (0.81%)",
          "18 (0.81%)",
          "18 (0.81%)"
         ],
         "textposition": "outside",
         "type": "bar",
         "x": [
          "semester mandatory",
          "mandatory tp",
          "45 ot",
          "112 4",
          "semester elective",
          "168 6",
          "tp ot",
          "tp 45",
          "elective tp",
          "ot 168",
          "practical teaching",
          "ot 5",
          "ot 112",
          "5 112",
          "ot 10",
          "course unit",
          "semester course",
          "course units",
          "units duration",
          "duration type"
         ],
         "xaxis": "x",
         "y": {
          "bdata": "V0hDPTw7NzYwJCQYGBYWFRISEhI=",
          "dtype": "i1"
         },
         "yaxis": "y"
        }
       ],
       "layout": {
        "bargap": 0.2,
        "barmode": "relative",
        "coloraxis": {
         "colorbar": {
          "title": {
           "text": "Frequency"
          }
         },
         "colorscale": [
          [
           0,
           "rgb(247,251,255)"
          ],
          [
           0.125,
           "rgb(222,235,247)"
          ],
          [
           0.25,
           "rgb(198,219,239)"
          ],
          [
           0.375,
           "rgb(158,202,225)"
          ],
          [
           0.5,
           "rgb(107,174,214)"
          ],
          [
           0.625,
           "rgb(66,146,198)"
          ],
          [
           0.75,
           "rgb(33,113,181)"
          ],
          [
           0.875,
           "rgb(8,81,156)"
          ],
          [
           1,
           "rgb(8,48,107)"
          ]
         ],
         "showscale": false
        },
        "legend": {
         "tracegroupgap": 0
        },
        "template": {
         "data": {
          "bar": [
           {
            "error_x": {
             "color": "#2a3f5f"
            },
            "error_y": {
             "color": "#2a3f5f"
            },
            "marker": {
             "line": {
              "color": "#E5ECF6",
              "width": 0.5
             },
             "pattern": {
              "fillmode": "overlay",
              "size": 10,
              "solidity": 0.2
             }
            },
            "type": "bar"
           }
          ],
          "barpolar": [
           {
            "marker": {
             "line": {
              "color": "#E5ECF6",
              "width": 0.5
             },
             "pattern": {
              "fillmode": "overlay",
              "size": 10,
              "solidity": 0.2
             }
            },
            "type": "barpolar"
           }
          ],
          "carpet": [
           {
            "aaxis": {
             "endlinecolor": "#2a3f5f",
             "gridcolor": "white",
             "linecolor": "white",
             "minorgridcolor": "white",
             "startlinecolor": "#2a3f5f"
            },
            "baxis": {
             "endlinecolor": "#2a3f5f",
             "gridcolor": "white",
             "linecolor": "white",
             "minorgridcolor": "white",
             "startlinecolor": "#2a3f5f"
            },
            "type": "carpet"
           }
          ],
          "choropleth": [
           {
            "colorbar": {
             "outlinewidth": 0,
             "ticks": ""
            },
            "type": "choropleth"
           }
          ],
          "contour": [
           {
            "colorbar": {
             "outlinewidth": 0,
             "ticks": ""
            },
            "colorscale": [
             [
              0,
              "#0d0887"
             ],
             [
              0.1111111111111111,
              "#46039f"
             ],
             [
              0.2222222222222222,
              "#7201a8"
             ],
             [
              0.3333333333333333,
              "#9c179e"
             ],
             [
              0.4444444444444444,
              "#bd3786"
             ],
             [
              0.5555555555555556,
              "#d8576b"
             ],
             [
              0.6666666666666666,
              "#ed7953"
             ],
             [
              0.7777777777777778,
              "#fb9f3a"
             ],
             [
              0.8888888888888888,
              "#fdca26"
             ],
             [
              1,
              "#f0f921"
             ]
            ],
            "type": "contour"
           }
          ],
          "contourcarpet": [
           {
            "colorbar": {
             "outlinewidth": 0,
             "ticks": ""
            },
            "type": "contourcarpet"
           }
          ],
          "heatmap": [
           {
            "colorbar": {
             "outlinewidth": 0,
             "ticks": ""
            },
            "colorscale": [
             [
              0,
              "#0d0887"
             ],
             [
              0.1111111111111111,
              "#46039f"
             ],
             [
              0.2222222222222222,
              "#7201a8"
             ],
             [
              0.3333333333333333,
              "#9c179e"
             ],
             [
              0.4444444444444444,
              "#bd3786"
             ],
             [
              0.5555555555555556,
              "#d8576b"
             ],
             [
              0.6666666666666666,
              "#ed7953"
             ],
             [
              0.7777777777777778,
              "#fb9f3a"
             ],
             [
              0.8888888888888888,
              "#fdca26"
             ],
             [
              1,
              "#f0f921"
             ]
            ],
            "type": "heatmap"
           }
          ],
          "histogram": [
           {
            "marker": {
             "pattern": {
              "fillmode": "overlay",
              "size": 10,
              "solidity": 0.2
             }
            },
            "type": "histogram"
           }
          ],
          "histogram2d": [
           {
            "colorbar": {
             "outlinewidth": 0,
             "ticks": ""
            },
            "colorscale": [
             [
              0,
              "#0d0887"
             ],
             [
              0.1111111111111111,
              "#46039f"
             ],
             [
              0.2222222222222222,
              "#7201a8"
             ],
             [
              0.3333333333333333,
              "#9c179e"
             ],
             [
              0.4444444444444444,
              "#bd3786"
             ],
             [
              0.5555555555555556,
              "#d8576b"
             ],
             [
              0.6666666666666666,
              "#ed7953"
             ],
             [
              0.7777777777777778,
              "#fb9f3a"
             ],
             [
              0.8888888888888888,
              "#fdca26"
             ],
             [
              1,
              "#f0f921"
             ]
            ],
            "type": "histogram2d"
           }
          ],
          "histogram2dcontour": [
           {
            "colorbar": {
             "outlinewidth": 0,
             "ticks": ""
            },
            "colorscale": [
             [
              0,
              "#0d0887"
             ],
             [
              0.1111111111111111,
              "#46039f"
             ],
             [
              0.2222222222222222,
              "#7201a8"
             ],
             [
              0.3333333333333333,
              "#9c179e"
             ],
             [
              0.4444444444444444,
              "#bd3786"
             ],
             [
              0.5555555555555556,
              "#d8576b"
             ],
             [
              0.6666666666666666,
              "#ed7953"
             ],
             [
              0.7777777777777778,
              "#fb9f3a"
             ],
             [
              0.8888888888888888,
              "#fdca26"
             ],
             [
              1,
              "#f0f921"
             ]
            ],
            "type": "histogram2dcontour"
           }
          ],
          "mesh3d": [
           {
            "colorbar": {
             "outlinewidth": 0,
             "ticks": ""
            },
            "type": "mesh3d"
           }
          ],
          "parcoords": [
           {
            "line": {
             "colorbar": {
              "outlinewidth": 0,
              "ticks": ""
             }
            },
            "type": "parcoords"
           }
          ],
          "pie": [
           {
            "automargin": true,
            "type": "pie"
           }
          ],
          "scatter": [
           {
            "fillpattern": {
             "fillmode": "overlay",
             "size": 10,
             "solidity": 0.2
            },
            "type": "scatter"
           }
          ],
          "scatter3d": [
           {
            "line": {
             "colorbar": {
              "outlinewidth": 0,
              "ticks": ""
             }
            },
            "marker": {
             "colorbar": {
              "outlinewidth": 0,
              "ticks": ""
             }
            },
            "type": "scatter3d"
           }
          ],
          "scattercarpet": [
           {
            "marker": {
             "colorbar": {
              "outlinewidth": 0,
              "ticks": ""
             }
            },
            "type": "scattercarpet"
           }
          ],
          "scattergeo": [
           {
            "marker": {
             "colorbar": {
              "outlinewidth": 0,
              "ticks": ""
             }
            },
            "type": "scattergeo"
           }
          ],
          "scattergl": [
           {
            "marker": {
             "colorbar": {
              "outlinewidth": 0,
              "ticks": ""
             }
            },
            "type": "scattergl"
           }
          ],
          "scattermap": [
           {
            "marker": {
             "colorbar": {
              "outlinewidth": 0,
              "ticks": ""
             }
            },
            "type": "scattermap"
           }
          ],
          "scattermapbox": [
           {
            "marker": {
             "colorbar": {
              "outlinewidth": 0,
              "ticks": ""
             }
            },
            "type": "scattermapbox"
           }
          ],
          "scatterpolar": [
           {
            "marker": {
             "colorbar": {
              "outlinewidth": 0,
              "ticks": ""
             }
            },
            "type": "scatterpolar"
           }
          ],
          "scatterpolargl": [
           {
            "marker": {
             "colorbar": {
              "outlinewidth": 0,
              "ticks": ""
             }
            },
            "type": "scatterpolargl"
           }
          ],
          "scatterternary": [
           {
            "marker": {
             "colorbar": {
              "outlinewidth": 0,
              "ticks": ""
             }
            },
            "type": "scatterternary"
           }
          ],
          "surface": [
           {
            "colorbar": {
             "outlinewidth": 0,
             "ticks": ""
            },
            "colorscale": [
             [
              0,
              "#0d0887"
             ],
             [
              0.1111111111111111,
              "#46039f"
             ],
             [
              0.2222222222222222,
              "#7201a8"
             ],
             [
              0.3333333333333333,
              "#9c179e"
             ],
             [
              0.4444444444444444,
              "#bd3786"
             ],
             [
              0.5555555555555556,
              "#d8576b"
             ],
             [
              0.6666666666666666,
              "#ed7953"
             ],
             [
              0.7777777777777778,
              "#fb9f3a"
             ],
             [
              0.8888888888888888,
              "#fdca26"
             ],
             [
              1,
              "#f0f921"
             ]
            ],
            "type": "surface"
           }
          ],
          "table": [
           {
            "cells": {
             "fill": {
              "color": "#EBF0F8"
             },
             "line": {
              "color": "white"
             }
            },
            "header": {
             "fill": {
              "color": "#C8D4E3"
             },
             "line": {
              "color": "white"
             }
            },
            "type": "table"
           }
          ]
         },
         "layout": {
          "annotationdefaults": {
           "arrowcolor": "#2a3f5f",
           "arrowhead": 0,
           "arrowwidth": 1
          },
          "autotypenumbers": "strict",
          "coloraxis": {
           "colorbar": {
            "outlinewidth": 0,
            "ticks": ""
           }
          },
          "colorscale": {
           "diverging": [
            [
             0,
             "#8e0152"
            ],
            [
             0.1,
             "#c51b7d"
            ],
            [
             0.2,
             "#de77ae"
            ],
            [
             0.3,
             "#f1b6da"
            ],
            [
             0.4,
             "#fde0ef"
            ],
            [
             0.5,
             "#f7f7f7"
            ],
            [
             0.6,
             "#e6f5d0"
            ],
            [
             0.7,
             "#b8e186"
            ],
            [
             0.8,
             "#7fbc41"
            ],
            [
             0.9,
             "#4d9221"
            ],
            [
             1,
             "#276419"
            ]
           ],
           "sequential": [
            [
             0,
             "#0d0887"
            ],
            [
             0.1111111111111111,
             "#46039f"
            ],
            [
             0.2222222222222222,
             "#7201a8"
            ],
            [
             0.3333333333333333,
             "#9c179e"
            ],
            [
             0.4444444444444444,
             "#bd3786"
            ],
            [
             0.5555555555555556,
             "#d8576b"
            ],
            [
             0.6666666666666666,
             "#ed7953"
            ],
            [
             0.7777777777777778,
             "#fb9f3a"
            ],
            [
             0.8888888888888888,
             "#fdca26"
            ],
            [
             1,
             "#f0f921"
            ]
           ],
           "sequentialminus": [
            [
             0,
             "#0d0887"
            ],
            [
             0.1111111111111111,
             "#46039f"
            ],
            [
             0.2222222222222222,
             "#7201a8"
            ],
            [
             0.3333333333333333,
             "#9c179e"
            ],
            [
             0.4444444444444444,
             "#bd3786"
            ],
            [
             0.5555555555555556,
             "#d8576b"
            ],
            [
             0.6666666666666666,
             "#ed7953"
            ],
            [
             0.7777777777777778,
             "#fb9f3a"
            ],
            [
             0.8888888888888888,
             "#fdca26"
            ],
            [
             1,
             "#f0f921"
            ]
           ]
          },
          "colorway": [
           "#636efa",
           "#EF553B",
           "#00cc96",
           "#ab63fa",
           "#FFA15A",
           "#19d3f3",
           "#FF6692",
           "#B6E880",
           "#FF97FF",
           "#FECB52"
          ],
          "font": {
           "color": "#2a3f5f"
          },
          "geo": {
           "bgcolor": "white",
           "lakecolor": "white",
           "landcolor": "#E5ECF6",
           "showlakes": true,
           "showland": true,
           "subunitcolor": "white"
          },
          "hoverlabel": {
           "align": "left"
          },
          "hovermode": "closest",
          "mapbox": {
           "style": "light"
          },
          "paper_bgcolor": "white",
          "plot_bgcolor": "#E5ECF6",
          "polar": {
           "angularaxis": {
            "gridcolor": "white",
            "linecolor": "white",
            "ticks": ""
           },
           "bgcolor": "#E5ECF6",
           "radialaxis": {
            "gridcolor": "white",
            "linecolor": "white",
            "ticks": ""
           }
          },
          "scene": {
           "xaxis": {
            "backgroundcolor": "#E5ECF6",
            "gridcolor": "white",
            "gridwidth": 2,
            "linecolor": "white",
            "showbackground": true,
            "ticks": "",
            "zerolinecolor": "white"
           },
           "yaxis": {
            "backgroundcolor": "#E5ECF6",
            "gridcolor": "white",
            "gridwidth": 2,
            "linecolor": "white",
            "showbackground": true,
            "ticks": "",
            "zerolinecolor": "white"
           },
           "zaxis": {
            "backgroundcolor": "#E5ECF6",
            "gridcolor": "white",
            "gridwidth": 2,
            "linecolor": "white",
            "showbackground": true,
            "ticks": "",
            "zerolinecolor": "white"
           }
          },
          "shapedefaults": {
           "line": {
            "color": "#2a3f5f"
           }
          },
          "ternary": {
           "aaxis": {
            "gridcolor": "white",
            "linecolor": "white",
            "ticks": ""
           },
           "baxis": {
            "gridcolor": "white",
            "linecolor": "white",
            "ticks": ""
           },
           "bgcolor": "#E5ECF6",
           "caxis": {
            "gridcolor": "white",
            "linecolor": "white",
            "ticks": ""
           }
          },
          "title": {
           "x": 0.05
          },
          "xaxis": {
           "automargin": true,
           "gridcolor": "white",
           "linecolor": "white",
           "ticks": "",
           "title": {
            "standoff": 15
           },
           "zerolinecolor": "white",
           "zerolinewidth": 2
          },
          "yaxis": {
           "automargin": true,
           "gridcolor": "white",
           "linecolor": "white",
           "ticks": "",
           "title": {
            "standoff": 15
           },
           "zerolinecolor": "white",
           "zerolinewidth": 2
          }
         }
        },
        "title": {
         "text": "Top 20 Most Frequent 2-Grams"
        },
        "xaxis": {
         "anchor": "y",
         "domain": [
          0,
          1
         ],
         "title": {
          "text": "2-Grams"
         }
        },
        "yaxis": {
         "anchor": "x",
         "domain": [
          0,
          1
         ],
         "title": {
          "text": "Frequency"
         }
        }
       }
      }
     },
     "metadata": {},
     "output_type": "display_data"
    }
   ],
   "source": [
    "du.histogram_word_count_multiple_docs(cleaned_studyplan)\n",
    "du.histogram_token_count_multiple_docs(cleaned_studyplan)\n",
    "du.generate_document_statistics_by_word_count(cleaned_studyplan)\n",
    "du.generate_document_statistics_by_tokens(cleaned_studyplan)\n",
    "du.bar_plot_word_frequency(cleaned_studyplan, top_n=20)\n",
    "du.bar_plot_ngram_frequency(cleaned_studyplan, n=2, top_n=20) "
   ]
  },
  {
   "cell_type": "markdown",
   "metadata": {},
   "source": [
    "# Analysing the results"
   ]
  },
  {
   "cell_type": "code",
   "execution_count": 11,
   "metadata": {},
   "outputs": [
    {
     "name": "stdout",
     "output_type": "stream",
     "text": [
      "\n",
      "--- information-management_program_extracted_text.txt ---\n",
      "\n",
      "Text from https://www.novaims.unl.pt/en///bachelor-s-degrees/information-management/program/#: Program Study Plan en Bachelor's Degrees Information Management Program 1 st year - Fall Semester Course Units Duration Type Contact Hours Total Workload ECTS Business Management Semester Mandatory TP - 45 | OT - 5 112 4 Computation I Semester Mandatory TP - 67,5 | OT - 7,5 196 7 Economic Analysis Semester Mandatory TP - 45 | OT - 5 112 4 Information Systems Semester Mandatory TP - 64,5 | S - 3 | OT - 7,5 168 6 Linear Algebra Semester Mandatory T - 22,5 | PL - 22,5 | OT - 7,5 112 4 Mathematical Analysis I ** Semester Mandatory T - 22,5 | PL - 45 | OT - 7,5 140 5 Show subtitles T – Theoretical Teaching; TP – Theoretical/ Practical Teaching; TC – Field Work; PL – Theoretical/ Practical Teaching; S – Seminar; OT – Tutor Group; ** – Course Unit available in both semesters; 1 st year - Spring Semester Course Units Duration Type Contact Hours Total Workload ECTS Foundational Aspects of Information Semester Mandatory TP - 67,5 | OT - 7,5 140 5 Marketing Semester Mandatory TP - 45 | OT - 5 112 4 Mathematical Analysis II ** Semester Mandatory T - 22,5 | PL - 45 | OT - 7,5 196 7 Personal Development I Semester Mandatory TP - 22,5 | OT - 7,5 56 2 Programming for Business Semester Mandatory T - 22,5 | PL - 45 | OT - 7,5 168 6 Statistics and Probability Distributions Semester Mandatory TP - 67,5 | OT - 7,5 168 6 Show subtitles T – Theoretical Teaching; TP – Theoretical/ Practical Teaching; TC – Field Work; PL – Theoretical/ Practical Teaching; S – Seminar; OT – Tutor Group; ** – Course Unit available in both semesters; 2 nd year - Fall Semester Course Units Duration Type Contact Hours Total Workload ECTS Data Analysis Semester Mandatory TP - 67,5 | OT - 7,5 168 6 Data Preprocessing Semester Mandatory TP - 45 | OT - 5 112 4 Databases I Semester Mandatory TP - 64,5 | S - 3 | OT - 7,5 168 6 Financial Analysis and Management Control Semester Mandatory TP - 45 | OT - 5 112 4 Geospatial Intelligence Semester Mandatory TP - 45 | OT - 5 112 4 Statistical Inference Semester Mandatory TP - 67,5 | OT - 7,5 168 6 Show subtitles T – Theoretical Teaching; TP – Theoretical/ Practical Teaching; TC – Field Work; PL – Theoretical/ Practical Teaching; S – Seminar; OT – Tutor Group; ** – Course Unit available in both semesters; 2 nd year - Spring Semester Course Units Duration Type Contact Hours Total Workload ECTS Business Intelligence Semester Mandatory TP - 67,5 | OT - 7,5 168 6 Computational Methods for Optimization Semester Mandatory TP - 45 | OT - 5 112 4 Econometrics I Semester Mandatory TP - 67,5 | OT - 7,5 168 6 Machine Learning Semester Mandatory TP - 67,5 | OT - 7,5 168 6 Nonparametric and Computational Statistics Semester Mandatory TP - 45 | OT - 5 112 4 Survey Methodology Semester Mandatory TP - 45 | OT - 5 112 4 Show subtitles T – Theoretical Teaching; TP – Theoretical/ Practical Teaching; TC – Field Work; PL – Theoretical/ Practical Teaching; S – Seminar; OT – Tutor Group; ** – Course Unit available in both semesters; 3 rd year - Fall Semester Course Units Duration Type Contact Hours Total Workload ECTS Business Process Management Semester Mandatory TP - 67,5 | OT - 7,5 168 6 Business Strategy and Digital Transformation Semester Mandatory TP - 67,5 | OT - 7,5 168 6 Econometrics II Semester Mandatory TP - 67,5 | OT - 7,5 168 6 Enterprise Information Systems Semester Mandatory TP - 67,5 | OT - 7,5 168 6 Market Research Semester Mandatory TP - 45 | OT - 5 112 4 Personal Development II Semester Mandatory TP - 22,5 | OT - 5 56 2 Geospatial Intelligence Semester Elective TP - 52,5 112 4 Show subtitles T – Theoretical Teaching; TP – Theoretical/ Practical Teaching; TC – Field Work; PL – Theoretical/ Practical Teaching; S – Seminar; OT – Tutor Group; ** – Course Unit available in both semesters; 3 rd year - Spring Semester Course Units Duration Type Contact Hours Total Workload ECTS Applied Cybersecurity Semester Elective TP - 45 112 4 Applied Economics Semester Elective TP - 45 | OT - 5 112 4 Business Law Semester Elective TP - 45 | OT - 7,5 112 4 Digital Innovation Projects Semester Elective TP - 45 | OT - 10 112 4 Entrepreneurship and Project Analysis Semester Elective TP - 45 | OT - 7,5 112 4 Financial Calculus and Project Analysis Semester Elective TP - 45 | OT - 7,5 112 4 Forecasting Methods Semester Elective TP - 67,5 | OT - 15 168 6 Geospatial Analytics Semester Elective TP - 45 | OT - 7,5 112 4 Informatics and Information Law Semester Elective TP - 45 | OT - 10 112 4 Information Systems Seminar Semester Elective T - 9 | S - 45 | OT - 7,5 | TC - 13,5 168 6 Information Tecnologies, Governance and Service Management Semester Elective T - 22,5 | PL - 45 | OT - 10 168 6 Mobile Apps Development Semester Elective T - 22,5 | PL - 42 140 5 Network Analysis Semester Elective T - 67,5 168 6 People Management and Leadership Semester Elective TP - 45 | OT - 7,5 112 4 Process Intelligence Semester Elective TP - 45 112 4 Project Management Semester Elective TP - 45 | OT - 7,5 112 4 Remote Sensing Semester Elective TP - 67,5 | OT - 10 168 6 Risk Management Semester Elective TP - 67,5 | OT - 10 168 6 Smart and Sustainable Cities Semester Elective TP - 45 | OT - 7,5 112 4 Startup Venture Studio Semester Elective TP - 64,5 | OT - 7,5 168 6 Technologies and Web Apps Semester Elective TP - 22,5 | PL - 42 140 5 Web Analytics Semester Elective TP - 45 | OT - 7,5 112 4 Web Marketing and E-business Semester Elective TP - 45 | OT - 10 112 4 Show subtitles T – Theoretical Teaching; TP – Theoretical/ Practical Teaching; TC – Field Work; PL – Theoretical/ Practical Teaching; S – Seminar; OT – Tutor Group; ** – Course Unit available in both semesters; Course Unit\n"
     ]
    }
   ],
   "source": [
    "target_filename = 'information-management_program_extracted_text.txt'\n",
    "\n",
    "if target_filename in cleaned_studyplan:\n",
    "    print(f\"\\n--- {target_filename} ---\\n\")\n",
    "    formatted_content = cleaned_studyplan[target_filename].replace('. ', '.\\n').replace('? ', '?\\n').replace('! ', '!\\n')\n",
    "    print(formatted_content)\n",
    "else:\n",
    "    print(f\"Document with key '{target_filename}' not found.\")"
   ]
  },
  {
   "cell_type": "code",
   "execution_count": 12,
   "metadata": {},
   "outputs": [
    {
     "name": "stdout",
     "output_type": "stream",
     "text": [
      "\n",
      "--- information-systems_program_extracted_text.txt ---\n",
      "\n",
      "Text from https://www.novaims.unl.pt/en///bachelor-s-degrees/information-systems/program/#: Program Study Plan en Bachelor's Degrees Information Systems Program 1 st year - Fall Semester Course Units Duration Type Contact Hours Total Workload ECTS Business Management Semester Mandatory TP - 45 | OT - 5 112 4 Computation I Semester Mandatory TP - 67,5 | OT - 7,5 196 7 Information Systems Semester Mandatory TP - 64,5 | S - 3 | OT - 7,5 168 6 Linear Algebra Semester Mandatory T - 22,5 | PL - 22,5 | OT - 7,5 112 4 Mathematical Analysis I ** Semester Mandatory T - 22,5 | PL - 45 | OT - 7,5 140 5 Organizations Behavior Semester Mandatory TP - 45 | OT - 5 112 4 Show subtitles T – Theoretical Teaching; TP – Theoretical/ Practical Teaching; TC – Field Work; PL – Theoretical/ Practical Teaching; S – Seminar; OT – Tutor Group; ** – Course Unit available in both semesters; 1 st year - Spring Semester Course Units Duration Type Contact Hours Total Workload ECTS Computation II Semester Mandatory TP - 67,5 | OT - 7,5 168 6 Mathematical Analysis II ** Semester Mandatory T - 22,5 | PL - 45 | OT - 7,5 196 7 Personal Development I Semester Mandatory TP - 22,5 | OT - 7,5 56 2 Statistics and Probability Distributions Semester Mandatory TP - 67,5 | OT - 7,5 168 6 Technologies and Web Apps Semester Mandatory TP - 22,5 | PL - 42 140 5 Theory and Practice of Information Systems Semester Mandatory TP - 45 | OT - 5 112 4 Show subtitles T – Theoretical Teaching; TP – Theoretical/ Practical Teaching; TC – Field Work; PL – Theoretical/ Practical Teaching; S – Seminar; OT – Tutor Group; ** – Course Unit available in both semesters; 2 nd year - Fall Semester Course Units Duration Type Contact Hours Total Workload ECTS Computation III Semester Mandatory TP - 67,5 | OT - 10 168 6 Databases I Semester Mandatory TP - 64,5 | S - 3 | OT - 7,5 168 6 Information Technologies Hardware and Software Semester Mandatory TP - 67,5 | OT - 10 168 6 Statistical Inference Semester Mandatory TP - 67,5 | OT - 7,5 168 6 Systems Analysis Semester Mandatory TP - 64,5 | S - 3 | OT - 7,5 168 6 Show subtitles T – Theoretical Teaching; TP – Theoretical/ Practical Teaching; TC – Field Work; PL – Theoretical/ Practical Teaching; S – Seminar; OT – Tutor Group; ** – Course Unit available in both semesters; 2 nd year - Spring Semester Course Units Duration Type Contact Hours Total Workload ECTS Computer Networks & Cloud Computing Semester Mandatory T - 22,5 | PL - 45 | OT - 7,5 140 5 Databases II Semester Mandatory T - 22,5 | PL - 45 | OT - 7,5 168 6 Human - Computer Interaction Semester Mandatory TP - 67,5 | OT - 10 140 5 Information Systems Project Management (A) Semester Mandatory T - 22,5 | PL - 42 | S - 3 | OT - 7,5 140 5 Mobile Apps Development Semester Mandatory T - 22,5 | PL - 42 140 5 Web Marketing and E-business Semester Mandatory TP - 45 | OT - 5 112 4 Show subtitles T – Theoretical Teaching; TP – Theoretical/ Practical Teaching; TC – Field Work; PL – Theoretical/ Practical Teaching; S – Seminar; OT – Tutor Group; ** – Course Unit available in both semesters; (A) - Possible IPMA Certificat; 3 rd year - Fall Semester Course Units Duration Type Contact Hours Total Workload ECTS Artificial Intelligence Semester Mandatory T - 22,5 | PL - 45 | OT - 15 168 6 Business Process Management Semester Mandatory TP - 67,5 | OT - 7,5 168 6 Cybersecurity Semester Mandatory TP - 67,5 | OT - 10 112 4 Geospatial Intelligence Semester Mandatory TP - 45 | OT - 7,5 112 4 Personal Development II Semester Mandatory TP - 22,5 | OT - 5 56 2 Project of Information Systems Powered by Webasto Semester Mandatory TP - 22,5 | PL - 45 | OT - 10 224 8 Show subtitles T – Theoretical Teaching; TP – Theoretical/ Practical Teaching; TC – Field Work; PL – Theoretical/ Practical Teaching; S – Seminar; OT – Tutor Group; ** – Course Unit available in both semesters; 3 rd year - Spring Semester Course Units Duration Type Contact Hours Total Workload ECTS Applied Cybersecurity Semester Elective TP - 45 | OT - 7,5 112 4 Applied Economics Semester Elective T - 45 | OT - 5 112 4 Business Law Semester Elective TP - 45 | OT - 7,5 112 4 Digital Innovation Projects Semester Elective T - 45 | OT - 10 112 4 Entrepreneurship and Project Analysis Semester Elective TP - 45 | OT - 7,5 112 4 Financial Calculus and Project Analysis Semester Elective TP - 45 | OT - 7,5 112 4 Forecasting Methods Semester Elective T - 67,5 | OT - 15 168 6 Geospatial Analytics Semester Elective TP - 45 | OT - 7,5 112 4 Informatics and Information Law Semester Elective TP - 45 | OT - 10 112 4 Information Systems Seminar Semester Elective T - 9 | S - 45 | TC - 13,5 168 6 Information Tecnologies, Governance and Service Management Semester Elective T - 22,5 | PL - 45 | OT - 10 168 6 Machine Learning Semester Elective TP - 67,5 | OT - 15 168 6 Network Analysis Semester Elective T - 67,5 168 6 Nonparametric and Computational Statistics Semester Elective TP - 45 | OT - 5 112 4 People Management and Leadership Semester Elective TP - 45 | OT - 7,5 112 4 Process Intelligence Semester Elective TP - 45 112 4 Remote Sensing Semester Elective TP - 67,5 | OT - 10 168 6 Risk Management Semester Elective TP - 67,5 | OT - 10 168 6 Smart and Sustainable Cities Semester Elective T - 45 | OT - 7,5 112 4 Startup Venture Studio Semester Elective TP - 64,5 | OT - 7,5 168 6 Survey Methodology Semester Elective TP - 45 | OT - 5 112 4 Web Analytics Semester Elective TP - 45 | OT - 7,5 112 4 Show subtitles T – Theoretical Teaching; TP – Theoretical/ Practical Teaching; TC – Field Work; PL – Theoretical/ Practical Teaching; S – Seminar; OT – Tutor Group; ** – Course Unit available in both semesters; Course Unit\n"
     ]
    }
   ],
   "source": [
    "target_filename = 'information-systems_program_extracted_text.txt'\n",
    "\n",
    "if target_filename in cleaned_studyplan:\n",
    "    print(f\"\\n--- {target_filename} ---\\n\")\n",
    "    formatted_content = cleaned_studyplan[target_filename].replace('. ', '.\\n').replace('? ', '?\\n').replace('! ', '!\\n')\n",
    "    print(formatted_content)\n",
    "else:\n",
    "    print(f\"Document with key '{target_filename}' not found.\")"
   ]
  },
  {
   "cell_type": "markdown",
   "metadata": {},
   "source": [
    "# Saving the cleaned files in dictionaries"
   ]
  },
  {
   "cell_type": "code",
   "execution_count": 13,
   "metadata": {},
   "outputs": [
    {
     "data": {
      "text/plain": [
       "{'data-science_program_extracted_text.txt': \"Text from https://www.novaims.unl.pt/en///bachelor-s-degrees/data-science/program/#: Program Study Plan en Bachelor's Degrees Data Science Program 1 st year - Fall Semester Course Units Duration Type Contact Hours Total Workload ECTS Computers' Architecture Semester Mandatory TP - 45 | OT - 5 112 4 Foundational aspects of data science Semester Mandatory TP - 45 | OT - 5 112 4 Information Systems Semester Mandatory TP - 64,5 | S - 3 | OT - 7,5 168 6 Introduction to Programming Semester Mandatory TP - 67,5 | OT - 7,5 196 7 Linear Algebra Semester Mandatory T - 22,5 | PL - 22,5 | OT - 7,5 112 4 Show subtitles T – Theoretical Teaching; TP – Theoretical/ Practical Teaching; TC – Field Work; PL – Theoretical/ Practical Teaching; S – Seminar; OT – Tutor Group; ** – Course Unit available in both semesters; 1 st year - Spring Semester Course Units Duration Type Contact Hours Total Workload ECTS Algorithms and Data Structures Semester Mandatory TP - 67,5 | OT - 7,5 168 6 Introduction to Artificial Intelligence Semester Mandatory TP - 67,5 | OT - 15 140 5 Introduction to Computational Thinking and Data Science Semester Mandatory TP - 45 | OT - 5 112 4 Mathematical Analysis I ** Semester Mandatory T - 22,5 | PL - 45 | OT - 7,5 140 5 Mathematical Analysis II ** Semester Mandatory T - 22,5 | PL - 45 | OT - 7,5 196 7 Personal Development I Semester Mandatory TP - 22,5 | OT - 7,5 56 2 Statistics and Probability Distributions Semester Mandatory TP - 67,5 | OT - 7,5 168 6 Show subtitles T – Theoretical Teaching; TP – Theoretical/ Practical Teaching; TC – Field Work; PL – Theoretical/ Practical Teaching; S – Seminar; OT – Tutor Group; ** – Course Unit available in both semesters; Semestre 1 - 2; 2 nd year - Fall Semester Course Units Duration Type Contact Hours Total Workload ECTS Data preprocessing and visualization Semester Mandatory TP - 67,5 | OT - 7,5 168 6 Databases Semester Mandatory TP - 64,5 | S - 3 | OT - 7,5 168 6 Machine Learning I Semester Mandatory TP - 67,5 | OT - 7,5 168 6 Programming for Data Science Semester Mandatory TP - 67,5 | OT - 7,5 168 6 Statistical Inference Semester Mandatory TP - 67,5 | OT - 7,5 168 6 Show subtitles T – Theoretical Teaching; TP – Theoretical/ Practical Teaching; TC – Field Work; PL – Theoretical/ Practical Teaching; S – Seminar; OT – Tutor Group; ** – Course Unit available in both semesters; Semestre 2 - 1; 2 nd year - Spring Semester Course Units Duration Type Contact Hours Total Workload ECTS Big Data Storage Semester Mandatory TP - 67,5 | OT - 7,5 168 6 Forecasting Methods Semester Mandatory TP - 67,5 | OT - 15 168 6 Machine Learning II Semester Mandatory TP - 67,5 | OT - 7,5 168 6 Optimization Algorithms Semester Mandatory TP - 67,5 | OT - 7,5 168 6 Regression Analysis Semester Mandatory TP - 67,5 | OT - 7,5 168 6 Show subtitles T – Theoretical Teaching; TP – Theoretical/ Practical Teaching; TC – Field Work; PL – Theoretical/ Practical Teaching; S – Seminar; OT – Tutor Group; ** – Course Unit available in both semesters; 3 rd year - Fall Semester Course Units Duration Type Contact Hours Total Workload ECTS Big Data Analysis Semester Mandatory TP - 67,5 | OT - 15 168 6 Capstone Project Semester Mandatory TP - 22,5 | OT - 45 224 8 Deep Learning Semester Mandatory TP - 67,5 | OT - 15 168 6 Ethical, Social and Legal Aspects of Artificial Intelligence Semester Mandatory TP - 22,5 | OT - 7,5 56 2 Personal Development II Semester Mandatory TP - 22,5 | OT - 7,5 56 2 Text Mining Semester Mandatory TP - 45 | OT - 12,5 168 6 Show subtitles T – Theoretical Teaching; TP – Theoretical/ Practical Teaching; TC – Field Work; PL – Theoretical/ Practical Teaching; S – Seminar; OT – Tutor Group; ** – Course Unit available in both semesters; 3 rd year - Spring Semester Course Units Duration Type Contact Hours Total Workload ECTS Applied Economics Semester Elective TP - 45 | OT - 5 112 4 Digital Innovation Projects Semester Elective TP - 45 | OT - 10 112 4 Entrepreneurship and Project Analysis Semester Elective TP - 45 | OT - 7,5 112 4 Financial Calculus and Project Analysis Semester Elective TP - 45 112 4 Geospatial Analytics Semester Elective TP - 45 | OT - 7,5 112 4 Informatics and Information Law Semester Elective TP - 45 | OT - 10 112 4 Information Systems Seminar Semester Elective T - 9 | S - 45 | OT - 7,5 | TC - 13,5 168 6 Information Tecnologies, Governance and Service Management Semester Elective TP - 77,5 | OT - 10 168 6 Network Analysis Semester Elective TP - 67,5 | OT - 10 168 6 People Management and Leadership Semester Elective TP - 45 112 4 Process Intelligence Semester Elective TP - 45 | OT - 7,5 112 4 Risk Management Semester Elective TP - 67,5 | OT - 10 168 6 Web Analytics Semester Elective TP - 45 | OT - 7,5 112 4 Web Marketing and E-business Semester Elective TP - 45 | OT - 10 112 4 Show subtitles T – Theoretical Teaching; TP – Theoretical/ Practical Teaching; TC – Field Work; PL – Theoretical/ Practical Teaching; S – Seminar; OT – Tutor Group; ** – Course Unit available in both semesters; Course Unit\",\n",
       " 'information-management_program_extracted_text.txt': \"Text from https://www.novaims.unl.pt/en///bachelor-s-degrees/information-management/program/#: Program Study Plan en Bachelor's Degrees Information Management Program 1 st year - Fall Semester Course Units Duration Type Contact Hours Total Workload ECTS Business Management Semester Mandatory TP - 45 | OT - 5 112 4 Computation I Semester Mandatory TP - 67,5 | OT - 7,5 196 7 Economic Analysis Semester Mandatory TP - 45 | OT - 5 112 4 Information Systems Semester Mandatory TP - 64,5 | S - 3 | OT - 7,5 168 6 Linear Algebra Semester Mandatory T - 22,5 | PL - 22,5 | OT - 7,5 112 4 Mathematical Analysis I ** Semester Mandatory T - 22,5 | PL - 45 | OT - 7,5 140 5 Show subtitles T – Theoretical Teaching; TP – Theoretical/ Practical Teaching; TC – Field Work; PL – Theoretical/ Practical Teaching; S – Seminar; OT – Tutor Group; ** – Course Unit available in both semesters; 1 st year - Spring Semester Course Units Duration Type Contact Hours Total Workload ECTS Foundational Aspects of Information Semester Mandatory TP - 67,5 | OT - 7,5 140 5 Marketing Semester Mandatory TP - 45 | OT - 5 112 4 Mathematical Analysis II ** Semester Mandatory T - 22,5 | PL - 45 | OT - 7,5 196 7 Personal Development I Semester Mandatory TP - 22,5 | OT - 7,5 56 2 Programming for Business Semester Mandatory T - 22,5 | PL - 45 | OT - 7,5 168 6 Statistics and Probability Distributions Semester Mandatory TP - 67,5 | OT - 7,5 168 6 Show subtitles T – Theoretical Teaching; TP – Theoretical/ Practical Teaching; TC – Field Work; PL – Theoretical/ Practical Teaching; S – Seminar; OT – Tutor Group; ** – Course Unit available in both semesters; 2 nd year - Fall Semester Course Units Duration Type Contact Hours Total Workload ECTS Data Analysis Semester Mandatory TP - 67,5 | OT - 7,5 168 6 Data Preprocessing Semester Mandatory TP - 45 | OT - 5 112 4 Databases I Semester Mandatory TP - 64,5 | S - 3 | OT - 7,5 168 6 Financial Analysis and Management Control Semester Mandatory TP - 45 | OT - 5 112 4 Geospatial Intelligence Semester Mandatory TP - 45 | OT - 5 112 4 Statistical Inference Semester Mandatory TP - 67,5 | OT - 7,5 168 6 Show subtitles T – Theoretical Teaching; TP – Theoretical/ Practical Teaching; TC – Field Work; PL – Theoretical/ Practical Teaching; S – Seminar; OT – Tutor Group; ** – Course Unit available in both semesters; 2 nd year - Spring Semester Course Units Duration Type Contact Hours Total Workload ECTS Business Intelligence Semester Mandatory TP - 67,5 | OT - 7,5 168 6 Computational Methods for Optimization Semester Mandatory TP - 45 | OT - 5 112 4 Econometrics I Semester Mandatory TP - 67,5 | OT - 7,5 168 6 Machine Learning Semester Mandatory TP - 67,5 | OT - 7,5 168 6 Nonparametric and Computational Statistics Semester Mandatory TP - 45 | OT - 5 112 4 Survey Methodology Semester Mandatory TP - 45 | OT - 5 112 4 Show subtitles T – Theoretical Teaching; TP – Theoretical/ Practical Teaching; TC – Field Work; PL – Theoretical/ Practical Teaching; S – Seminar; OT – Tutor Group; ** – Course Unit available in both semesters; 3 rd year - Fall Semester Course Units Duration Type Contact Hours Total Workload ECTS Business Process Management Semester Mandatory TP - 67,5 | OT - 7,5 168 6 Business Strategy and Digital Transformation Semester Mandatory TP - 67,5 | OT - 7,5 168 6 Econometrics II Semester Mandatory TP - 67,5 | OT - 7,5 168 6 Enterprise Information Systems Semester Mandatory TP - 67,5 | OT - 7,5 168 6 Market Research Semester Mandatory TP - 45 | OT - 5 112 4 Personal Development II Semester Mandatory TP - 22,5 | OT - 5 56 2 Geospatial Intelligence Semester Elective TP - 52,5 112 4 Show subtitles T – Theoretical Teaching; TP – Theoretical/ Practical Teaching; TC – Field Work; PL – Theoretical/ Practical Teaching; S – Seminar; OT – Tutor Group; ** – Course Unit available in both semesters; 3 rd year - Spring Semester Course Units Duration Type Contact Hours Total Workload ECTS Applied Cybersecurity Semester Elective TP - 45 112 4 Applied Economics Semester Elective TP - 45 | OT - 5 112 4 Business Law Semester Elective TP - 45 | OT - 7,5 112 4 Digital Innovation Projects Semester Elective TP - 45 | OT - 10 112 4 Entrepreneurship and Project Analysis Semester Elective TP - 45 | OT - 7,5 112 4 Financial Calculus and Project Analysis Semester Elective TP - 45 | OT - 7,5 112 4 Forecasting Methods Semester Elective TP - 67,5 | OT - 15 168 6 Geospatial Analytics Semester Elective TP - 45 | OT - 7,5 112 4 Informatics and Information Law Semester Elective TP - 45 | OT - 10 112 4 Information Systems Seminar Semester Elective T - 9 | S - 45 | OT - 7,5 | TC - 13,5 168 6 Information Tecnologies, Governance and Service Management Semester Elective T - 22,5 | PL - 45 | OT - 10 168 6 Mobile Apps Development Semester Elective T - 22,5 | PL - 42 140 5 Network Analysis Semester Elective T - 67,5 168 6 People Management and Leadership Semester Elective TP - 45 | OT - 7,5 112 4 Process Intelligence Semester Elective TP - 45 112 4 Project Management Semester Elective TP - 45 | OT - 7,5 112 4 Remote Sensing Semester Elective TP - 67,5 | OT - 10 168 6 Risk Management Semester Elective TP - 67,5 | OT - 10 168 6 Smart and Sustainable Cities Semester Elective TP - 45 | OT - 7,5 112 4 Startup Venture Studio Semester Elective TP - 64,5 | OT - 7,5 168 6 Technologies and Web Apps Semester Elective TP - 22,5 | PL - 42 140 5 Web Analytics Semester Elective TP - 45 | OT - 7,5 112 4 Web Marketing and E-business Semester Elective TP - 45 | OT - 10 112 4 Show subtitles T – Theoretical Teaching; TP – Theoretical/ Practical Teaching; TC – Field Work; PL – Theoretical/ Practical Teaching; S – Seminar; OT – Tutor Group; ** – Course Unit available in both semesters; Course Unit\",\n",
       " 'information-systems_program_extracted_text.txt': \"Text from https://www.novaims.unl.pt/en///bachelor-s-degrees/information-systems/program/#: Program Study Plan en Bachelor's Degrees Information Systems Program 1 st year - Fall Semester Course Units Duration Type Contact Hours Total Workload ECTS Business Management Semester Mandatory TP - 45 | OT - 5 112 4 Computation I Semester Mandatory TP - 67,5 | OT - 7,5 196 7 Information Systems Semester Mandatory TP - 64,5 | S - 3 | OT - 7,5 168 6 Linear Algebra Semester Mandatory T - 22,5 | PL - 22,5 | OT - 7,5 112 4 Mathematical Analysis I ** Semester Mandatory T - 22,5 | PL - 45 | OT - 7,5 140 5 Organizations Behavior Semester Mandatory TP - 45 | OT - 5 112 4 Show subtitles T – Theoretical Teaching; TP – Theoretical/ Practical Teaching; TC – Field Work; PL – Theoretical/ Practical Teaching; S – Seminar; OT – Tutor Group; ** – Course Unit available in both semesters; 1 st year - Spring Semester Course Units Duration Type Contact Hours Total Workload ECTS Computation II Semester Mandatory TP - 67,5 | OT - 7,5 168 6 Mathematical Analysis II ** Semester Mandatory T - 22,5 | PL - 45 | OT - 7,5 196 7 Personal Development I Semester Mandatory TP - 22,5 | OT - 7,5 56 2 Statistics and Probability Distributions Semester Mandatory TP - 67,5 | OT - 7,5 168 6 Technologies and Web Apps Semester Mandatory TP - 22,5 | PL - 42 140 5 Theory and Practice of Information Systems Semester Mandatory TP - 45 | OT - 5 112 4 Show subtitles T – Theoretical Teaching; TP – Theoretical/ Practical Teaching; TC – Field Work; PL – Theoretical/ Practical Teaching; S – Seminar; OT – Tutor Group; ** – Course Unit available in both semesters; 2 nd year - Fall Semester Course Units Duration Type Contact Hours Total Workload ECTS Computation III Semester Mandatory TP - 67,5 | OT - 10 168 6 Databases I Semester Mandatory TP - 64,5 | S - 3 | OT - 7,5 168 6 Information Technologies Hardware and Software Semester Mandatory TP - 67,5 | OT - 10 168 6 Statistical Inference Semester Mandatory TP - 67,5 | OT - 7,5 168 6 Systems Analysis Semester Mandatory TP - 64,5 | S - 3 | OT - 7,5 168 6 Show subtitles T – Theoretical Teaching; TP – Theoretical/ Practical Teaching; TC – Field Work; PL – Theoretical/ Practical Teaching; S – Seminar; OT – Tutor Group; ** – Course Unit available in both semesters; 2 nd year - Spring Semester Course Units Duration Type Contact Hours Total Workload ECTS Computer Networks & Cloud Computing Semester Mandatory T - 22,5 | PL - 45 | OT - 7,5 140 5 Databases II Semester Mandatory T - 22,5 | PL - 45 | OT - 7,5 168 6 Human - Computer Interaction Semester Mandatory TP - 67,5 | OT - 10 140 5 Information Systems Project Management (A) Semester Mandatory T - 22,5 | PL - 42 | S - 3 | OT - 7,5 140 5 Mobile Apps Development Semester Mandatory T - 22,5 | PL - 42 140 5 Web Marketing and E-business Semester Mandatory TP - 45 | OT - 5 112 4 Show subtitles T – Theoretical Teaching; TP – Theoretical/ Practical Teaching; TC – Field Work; PL – Theoretical/ Practical Teaching; S – Seminar; OT – Tutor Group; ** – Course Unit available in both semesters; (A) - Possible IPMA Certificat; 3 rd year - Fall Semester Course Units Duration Type Contact Hours Total Workload ECTS Artificial Intelligence Semester Mandatory T - 22,5 | PL - 45 | OT - 15 168 6 Business Process Management Semester Mandatory TP - 67,5 | OT - 7,5 168 6 Cybersecurity Semester Mandatory TP - 67,5 | OT - 10 112 4 Geospatial Intelligence Semester Mandatory TP - 45 | OT - 7,5 112 4 Personal Development II Semester Mandatory TP - 22,5 | OT - 5 56 2 Project of Information Systems Powered by Webasto Semester Mandatory TP - 22,5 | PL - 45 | OT - 10 224 8 Show subtitles T – Theoretical Teaching; TP – Theoretical/ Practical Teaching; TC – Field Work; PL – Theoretical/ Practical Teaching; S – Seminar; OT – Tutor Group; ** – Course Unit available in both semesters; 3 rd year - Spring Semester Course Units Duration Type Contact Hours Total Workload ECTS Applied Cybersecurity Semester Elective TP - 45 | OT - 7,5 112 4 Applied Economics Semester Elective T - 45 | OT - 5 112 4 Business Law Semester Elective TP - 45 | OT - 7,5 112 4 Digital Innovation Projects Semester Elective T - 45 | OT - 10 112 4 Entrepreneurship and Project Analysis Semester Elective TP - 45 | OT - 7,5 112 4 Financial Calculus and Project Analysis Semester Elective TP - 45 | OT - 7,5 112 4 Forecasting Methods Semester Elective T - 67,5 | OT - 15 168 6 Geospatial Analytics Semester Elective TP - 45 | OT - 7,5 112 4 Informatics and Information Law Semester Elective TP - 45 | OT - 10 112 4 Information Systems Seminar Semester Elective T - 9 | S - 45 | TC - 13,5 168 6 Information Tecnologies, Governance and Service Management Semester Elective T - 22,5 | PL - 45 | OT - 10 168 6 Machine Learning Semester Elective TP - 67,5 | OT - 15 168 6 Network Analysis Semester Elective T - 67,5 168 6 Nonparametric and Computational Statistics Semester Elective TP - 45 | OT - 5 112 4 People Management and Leadership Semester Elective TP - 45 | OT - 7,5 112 4 Process Intelligence Semester Elective TP - 45 112 4 Remote Sensing Semester Elective TP - 67,5 | OT - 10 168 6 Risk Management Semester Elective TP - 67,5 | OT - 10 168 6 Smart and Sustainable Cities Semester Elective T - 45 | OT - 7,5 112 4 Startup Venture Studio Semester Elective TP - 64,5 | OT - 7,5 168 6 Survey Methodology Semester Elective TP - 45 | OT - 5 112 4 Web Analytics Semester Elective TP - 45 | OT - 7,5 112 4 Show subtitles T – Theoretical Teaching; TP – Theoretical/ Practical Teaching; TC – Field Work; PL – Theoretical/ Practical Teaching; S – Seminar; OT – Tutor Group; ** – Course Unit available in both semesters; Course Unit\"}"
      ]
     },
     "execution_count": 13,
     "metadata": {},
     "output_type": "execute_result"
    }
   ],
   "source": [
    "cleaned_studyplan"
   ]
  },
  {
   "cell_type": "code",
   "execution_count": 14,
   "metadata": {},
   "outputs": [
    {
     "name": "stdout",
     "output_type": "stream",
     "text": [
      "Pickle files saved successfully!\n"
     ]
    }
   ],
   "source": [
    "import pickle \n",
    "# Define output folder\n",
    "output_folder = \"../../data/Preprocessing_text/bachelors_data\"\n",
    "\n",
    "os.makedirs(output_folder, exist_ok=True)  # Ensure output folder exists\n",
    "\n",
    "# Save each dictionary as a separate Pickle file\n",
    "with open(os.path.join(output_folder, \"dict_studyplan_cleaned.pkl\"), \"wb\") as f:\n",
    "    pickle.dump(cleaned_studyplan, f)\n",
    "\n",
    "print(\"Pickle files saved successfully!\")"
   ]
  }
 ],
 "metadata": {
  "kernelspec": {
   "display_name": "my_env",
   "language": "python",
   "name": "python3"
  },
  "language_info": {
   "codemirror_mode": {
    "name": "ipython",
    "version": 3
   },
   "file_extension": ".py",
   "mimetype": "text/x-python",
   "name": "python",
   "nbconvert_exporter": "python",
   "pygments_lexer": "ipython3",
   "version": "3.13.2"
  }
 },
 "nbformat": 4,
 "nbformat_minor": 2
}

{
 "cells": [
  {
   "cell_type": "code",
   "execution_count": 1,
   "metadata": {},
   "outputs": [
    {
     "name": "stdout",
     "output_type": "stream",
     "text": [
      "Current Directory: c:\\Users\\1176153\\Downloads\\github\\Thesis\\model\\src\n"
     ]
    }
   ],
   "source": [
    "import os\n",
    "# Move to Thesis directory (two levels up)\n",
    "os.chdir(os.path.abspath(os.path.join(\"..\", \"..\")))\n",
    "\n",
    "# Move to model/src if it exists\n",
    "model_dir = os.path.join(os.getcwd(), \"model\", \"src\")\n",
    "if os.path.exists(model_dir):\n",
    "    os.chdir(model_dir)\n",
    "\n",
    "print(\"Current Directory:\", os.getcwd())"
   ]
  },
  {
   "cell_type": "code",
   "execution_count": 2,
   "metadata": {},
   "outputs": [
    {
     "name": "stderr",
     "output_type": "stream",
     "text": [
      "[nltk_data] Downloading package punkt to\n",
      "[nltk_data]     C:\\Users\\1176153\\AppData\\Roaming\\nltk_data...\n",
      "[nltk_data]   Package punkt is already up-to-date!\n"
     ]
    }
   ],
   "source": [
    "import pandas as pd\n",
    "import re\n",
    "import libs.data_understanding as du\n",
    "import libs.data_preparation as dp"
   ]
  },
  {
   "cell_type": "code",
   "execution_count": 3,
   "metadata": {},
   "outputs": [],
   "source": [
    "dict_maininfo_raw = pd.read_pickle(r\"../../data/Webscrapping/bachelor_dict_textfiles_raw/dict_maininfo_raw.pkl\")\n"
   ]
  },
  {
   "cell_type": "markdown",
   "metadata": {},
   "source": [
    "# Cleaning Teaching Staff files"
   ]
  },
  {
   "cell_type": "code",
   "execution_count": 4,
   "metadata": {},
   "outputs": [
    {
     "data": {
      "text/plain": [
       "dict_keys(['data-science_main_course_extracted_text.txt', 'information-management_main_course_extracted_text.txt', 'information-systems_main_course_extracted_text.txt'])"
      ]
     },
     "execution_count": 4,
     "metadata": {},
     "output_type": "execute_result"
    }
   ],
   "source": [
    "dict_maininfo_raw.keys()"
   ]
  },
  {
   "cell_type": "markdown",
   "metadata": {},
   "source": [
    "## Deleting words"
   ]
  },
  {
   "cell_type": "code",
   "execution_count": 5,
   "metadata": {},
   "outputs": [
    {
     "name": "stdout",
     "output_type": "stream",
     "text": [
      "\n",
      "--- data-science_main_course_extracted_text.txt ---\n",
      "Text from https://www.novaims.unl.pt/en/education/programs/bachelor-s-degrees/data-science/:\n",
      "Data Science\n",
      "Degree in\n",
      "Data Science\n",
      "en\n",
      "Education\n",
      "Programs\n",
      "Bachelor's Degrees\n",
      "Data Science\n",
      "In the Bachelor´s Degree in Data Science, students learn the most modern techniques of artificial intelligence and machine learning to analyze large volumes of data (Big Data).\n",
      "They will become true data scientists - considered the sexiest profession of the 21\n",
      "st\n",
      "century by the Harvard Business Review.\n",
      "The main objective of this course is to train future professionals capable of understanding, developing and using models, algorithms and the most advanced techniques in data science, to analyze and extract knowledge from Big Data.\n",
      "The 3\n",
      "rd\n",
      "phase of applications under the International Student Statute for the 2025/26 academic year are open from February 26\n",
      "th\n",
      "to March 27\n",
      "th\n",
      ", 2025.\n",
      "Duration\n",
      "3 years (6 semesters)\n",
      "Timetable\n",
      "Daytime\n",
      "Start\n",
      "September 2025\n",
      "Career Opportunities\n",
      "The Bachelor´s Degree in Data Science allows a quick integration in the most varied sectors of activity, namely: Information Technology Companies, Communication Companies, Banking, Insurance, Retail, Telecommunications, Utilities Companies, Biomedical Companies, Pharmaceuticals, Public Administration and Companies industrial. The main professional opportunities are:\n",
      "Big Data Analyst;\n",
      "Data Scientist;\n",
      "Data Engineer;\n",
      "Specialist in Artificial Intelligence Systems;\n",
      "Specialist in Machine Learning;\n",
      "Specialist in the development of Automatic Learning Algorithms.\n",
      "Technical and Managerial Positions in Public Administration.\n",
      "At NOVA IMS we encourage continuous individual development through excellence.\n",
      "- For this reason, we believe that we must reward all those who stand out at the entrance of the Bachelor´s Degree courses and who, during their academic career, work to exceed their and our expectations.\n",
      "At NOVA IMS we encourage continuous individual development through excellence.\n",
      "- For this reason, we believe that we must reward all those who stand out at the entrance of the Bachelor´s Degree courses and who, during their academic career, work to exceed their and our expectations.\n",
      "Award for\n",
      "Academic Excellence Incentive\n",
      "Application prize awarded to all students whose average entry grade to the National Competition is equal to or greater than 18 values\n",
      "Know more\n",
      "Who is it for?\n",
      "Who is it for?\n",
      "Program Goals\n",
      "Program Structure\n",
      "Admissions and Fees\n",
      "Achievement Awards\n",
      "Teaching Staff\n",
      "Tuition Fee\n",
      "Scholarships\n",
      "Calendar, Timetable and Exams\n",
      "FAQ\n",
      "Regulations and Accreditations\n",
      "Apply here\n",
      "Who is it for?\n",
      "This degree is intended for all final-year students who aspire to become data scientists. Thus, the study cycle is suitable for all students who wish to obtain in-depth training in the most recent techniques of data science and artificial intelligence, based on automatic logical reasoning, data management methods and techniques, as well as machine learning applications.\n",
      "The course aims to train highly specialized professionals who will enable organizations to take advantage of the huge volume of data they currently have at their disposal.\n",
      "For information about the International Student Access, please click\n",
      "here\n",
      ".\n",
      "Program Goals\n",
      "The bachelor's degree in Data Science aims to strengthen the intermediate step between data collection and decision making based on them, i.e. to develop advanced methods of data science and artificial intelligence. To this end, the course of study adopts a primarily technical perspective. The goal is to provide in-depth knowledge of the fundamental methodologies and concepts, in order to provide the student with the ability to update more specific technical knowledge and to keep up with the rapid evolution of this sector.\n",
      "In this context, the graduate in Data Science should:\n",
      "Understand the theoretical foundations of statistics, Machine Learning and Artificial Intelligence methods;\n",
      "Identify and understand the most efficient algorithm for each specific problem;\n",
      "Design and develop state-of-the-art data science algorithms;\n",
      "Work closely with IT specialists to integrate Data Science algorithms into existing systems;\n",
      "Identify underlying patterns and extract useful information from the large volume of heterogeneous data that exists in organizations;\n",
      "Be proficient in commonly used statistical procedures, frameworks, machine learning techniques and systems;\n",
      "Stimulate interest in keeping up with scientific advances in the field of Data Science and Artificial Intelligence.\n",
      "Program Structure\n",
      "The course lasts 3 years (6 semesters) and classes start in September 2025.\n",
      "The study plan corresponds to 180 ECTS, of which 150 ECTS correspond to mandatory curricular units (the first 5 semesters) and 30 ECTS correspond to optional curricular units (last semester of the course), which will be chosen by each Student, from among a wide range of curricular units available.\n",
      "See study plan\n",
      "Admissions and Fees\n",
      "Establishment Code:\n",
      "0906 - Universidade Nova de Lisboa - Instituto Superior de Estatística e Gestão de Informação\n",
      "Course Code:\n",
      "L188\n",
      "Entry Exam Subjects (One of the following):\n",
      "19 - Mathematics A and 02 - Biology and Geology\n",
      "19 - Mathematics A and 04 - Economy\n",
      "19 - Mathematics A and 07 - Physics and Chemistry\n",
      "19 - Mathematics A and 09 - Geography\n",
      "19 - Mathematics A and 10 - Descriptive Geometry\n",
      "19 - Mathematics A and 18 - Portuguese\n",
      "Course Unit\n",
      "Loading...\n",
      "modal item\n",
      "card item\n",
      "NOTICE:\n",
      "The exams presented are valid for admissions in the 2025/26 academic year, through the National Competition for Access to Higher Education.\n",
      "Minimum Grades\n",
      "Applicants Grade: 100\n",
      "Entry Exam Grade: 95\n",
      "Formula of Applicants Grade\n",
      "Secondary School Grade: 50%\n",
      "Entry Exam Subjects: 50%\n",
      "Prerequesites\n",
      "None\n",
      "Vacancies\n",
      "45\n",
      "General Quota Last Entry Grade 2024-2025\n",
      "1\n",
      "st\n",
      "Phase - 17.78\n",
      "2025/26 Academic Year\n",
      "Consult the entrance exams applicable to 2025/26 in the Frequently Asked Questions.\n",
      "Achievement Awards\n",
      "(*)\n",
      "Prize corresponding to the 1\n",
      "st\n",
      "year tuition fee.\n",
      "The undergraduate students who achieve a high level of academic performance each year will have access to the following awards\n",
      "(1)\n",
      ":\n",
      "Approved ECTS\n",
      "Average (Values)\n",
      "Award\n",
      "At the end of the 1\n",
      "st\n",
      "year of Enrollment\n",
      "equal or greater than 60\n",
      "equal or greater than 16,5\n",
      "700€\n",
      "At the end of the 2\n",
      "nd\n",
      "year of Enrollment\n",
      "equal or greater than 120\n",
      "equal or greater than 16,5\n",
      "700€\n",
      "At the end of the 3\n",
      "rd\n",
      "year of Enrollment\n",
      "equal or greater than 180\n",
      "equal or greater than 16,5\n",
      "€3.000 off (2)\n",
      "(1)\n",
      "Prize applied to students admitted in 2024/2025.\n",
      "(2)\n",
      "The value of the tuition for a master's degree to be attended at the NOVA IMS, if admission and enrollment occur in the year immediately following the completion of the bachelor's degree. Not cumulative with Alumni discount. Cumulative with financial discount.\n",
      "Excellence awards given by the Members of AD NOVA IMS and other supportive entities (3)\n",
      "All students that stand out, during their academic path, for their academic excellence in the different course units and programs are also awarded.\n",
      "(3)\n",
      "Prizes in force in the school year 2023/24.\n",
      "Supportive Entities\n",
      "Best student of the Course Unit\n",
      "€1.000\n",
      "Best Student of Undergraduate and Master Degree Programs\n",
      "Scholarship with Value to be Defined\n",
      "Best Application Grade\n",
      "€1.000\n",
      "Loading...\n",
      "resumo do conteudo da tabela\n",
      "Curricular\n",
      "Unit\n",
      "Program\n",
      "Annual Prize\n",
      "Value\n",
      "caption text\n",
      "Tuition Fee\n",
      "The annual fee set for the academic year\n",
      "2024/25,\n",
      "for the students of the National Contest for Access to Higher Education,\n",
      "is €697.\n",
      "This payment can be paid in full or in 10 instalments.\n",
      "For the students of the International Student Contest, the annual fee for the academic year\n",
      "2024/25, is €7.500.\n",
      "This payment can also be paid in full or in 5 instalments.\n",
      "The Student (national or international), when registering for a school year, has to take into account that the full payment of the tuition fee fixed for that school year (the monthly fees/benefits are a payment facility), even if they cancel the registration/withdraw of the course.\n",
      "For more information, please consult the Frequently Asked Questions at the bottom of the page.\n",
      "FAQ\n",
      "What is the language of instruction of the course?\n",
      "The course is taught in English. Nowadays, being comfortable with the English language is a competitive advantage, which makes a difference in the global job market.\n",
      "NOVA IMS students have all the support to quickly adapt to the language and can always speak in Portuguese when they are unable to express themselves.\n",
      "Where is NOVA IMS located?\n",
      "NOVA IMS is located on the Campolide Campus, in Lisbon. Watch the campus tour made by NOVA IMS Students\n",
      "here\n",
      ".\n",
      "What is the schedule?\n",
      "The Bachelor´s Degree will work on daytime , 5 days a week.\n",
      "Where can I see an overview of undergraduate programs?\n",
      "You can watch it\n",
      "here\n",
      "and for more information click\n",
      "here\n",
      ".\n",
      "What is the cost of the tuition and enrollment fee for the students of the National Contest?\n",
      "The value of the Annual Fee for\n",
      "2024/2025 is €697\n",
      ". The student, enrolling in a school year, has to consider that full payment of the fee fixed for that year (tuition / benefits are ease of payment) is due, although they may unsubscribe / fold the course.\n",
      "The payment of tuition fees can be made as follows:\n",
      "At once (€697), until October 8\n",
      "th\n",
      ", 2024 or in 10 installments:\n",
      "1\n",
      "st\n",
      "Installment: September 27\n",
      "th\n",
      "to October 8\n",
      "th\n",
      ", 2024: €69,70 (to be received upon registration);\n",
      "2\n",
      "nd\n",
      "Installment: November 1\n",
      "st\n",
      "to 8\n",
      "th\n",
      ", 2024: €69,70;\n",
      "3\n",
      "rd\n",
      "Installment: December 1\n",
      "st\n",
      "to 8\n",
      "th\n",
      ", 2024: €69,70;\n",
      "4\n",
      "th\n",
      "Installment: January 1\n",
      "st\n",
      "to 8\n",
      "th\n",
      ", 2025: €69,70;\n",
      "5\n",
      "th\n",
      "Installment: February 1\n",
      "st\n",
      "to 8\n",
      "th\n",
      ", 2025: €69,70;\n",
      "6\n",
      "th\n",
      "Installment: March 1\n",
      "st\n",
      "to 8\n",
      "th\n",
      ", 2025: €69,70;\n",
      "7\n",
      "th\n",
      "Installment: April 1\n",
      "st\n",
      "to 8\n",
      "th\n",
      ", 2025: €69,70;\n",
      "8\n",
      "th\n",
      "Installment: May 1\n",
      "st\n",
      "to 8\n",
      "th\n",
      ", 2025: €69,70;\n",
      "9\n",
      "th\n",
      "Installment: June 1\n",
      "st\n",
      "to 8\n",
      "th\n",
      ", 2025: €69,70;\n",
      "10\n",
      "th\n",
      "Installment: July 1\n",
      "st\n",
      "to 8\n",
      "th\n",
      ", 2025: €69,70.\n",
      "For students who have applied for the Merit (SAS / UNL) scholarship, the payment of tuition fees should only be made after the delivery of the final decision about the case, and if the scholarship is granted, the payment must be done afterwards. The student has, in these cases, a period of 15 days to rectify the situation.\n",
      "To apply for the scholarship the student must register on-time and deliver the declaration of honor (paper provided by the Academic Services) on how he/she is applying for this benefit.\n",
      "For further enquiries please contact Admissions office at NOVA rectory.\n",
      "Upon registration, the students should make the following payments:\n",
      "€69,70 - for 1\n",
      "st\n",
      "installment of tuition fee;\n",
      "€35 - for annual enrollment fee;\n",
      "€1,40 - for annual school insurance.\n",
      "The enrolment fees are updated annually in the Universidade NOVA de Lisboa table of emoluments, published in the Official  Portuguese Government Gazette\n",
      "(Diário da República)\n",
      ".\n",
      "What is the cost of the tuition and enrollment fee for the students of the International Student Contest?\n",
      "The annual fee set for the academic year\n",
      "2024/25,\n",
      "for the\n",
      "students of the International Student Contest,\n",
      "is €7500.\n",
      "This payment can be as following:\n",
      "Full payment (€7500), unit October 1\n",
      "st\n",
      ", 2024, or in 5 installments:\n",
      "1\n",
      "st\n",
      "installment: September 1\n",
      "st\n",
      "to 8\n",
      "th\n",
      ", 2024: €1500;\n",
      "2\n",
      "nd\n",
      "installment: November 1\n",
      "st\n",
      "to 8\n",
      "th\n",
      ", 2024: €1500;\n",
      "3\n",
      "rd\n",
      "installment: January 1\n",
      "st\n",
      "to 8\n",
      "th\n",
      ", 2025: €1500;\n",
      "4\n",
      "th\n",
      "installment: March 1\n",
      "st\n",
      "to 8\n",
      "th\n",
      ", 2025: €1500;\n",
      "5\n",
      "th\n",
      "installment: May 1\n",
      "st\n",
      "to 8\n",
      "th\n",
      ", 2025: €1500.\n",
      "Are there special access quotas?\n",
      "There are several special quotas, beyond to the general quota, to which certain percentages of vacancies are allocated, intended for candidates who meet the conditions of each quota. These are:\n",
      "Candidates from the Autonomous Region of the Açores;\n",
      "Candidates from the Autonomous Region of Madeira;\n",
      "Portuguese Emigrant Candidates and family members who live with them;\n",
      "Military Candidates Under Contract;\n",
      "Candidates with Disabilities.\n",
      "I completed secondary education abroad or at a foreign school. Can I apply for the national contest?\n",
      "Yes, however there are some conditions that are important to know. For more information, you should contact\n",
      "Direcção-Geral do Ensino Superior\n",
      ".\n",
      "What is the application process for the international student?\n",
      "Candidates who do not have the nationality of a Member State of the European Union and who have not lived in Portugal for more than two consecutive years can apply for a Bachelor's degree at NOVA IMS under the International Student status. The application process is different from the National Contest for Access to Higher Education. For more information, click\n",
      "here\n",
      ".\n",
      "What is ObipNOVA?\n",
      "ObipNOVA\n",
      "is the Observatory of Graduates’ Transitions into Work at NOVA. The ObipNOVA analyses the graduates of all the study cycles: bachelors, masters and doctorates. Every year, a series of phone surveys are conducted to evaluate the professional activity of those who graduated in the previous year. The more recent data is related to 2019 graduated students.\n",
      "Regulations and Accreditations\n",
      "Regulations\n",
      "Regulation n.º 820/2021, on September 1\n",
      "st\n",
      "(in Portuguese);\n",
      "Partial Time Student Regulation\n",
      "(in Portuguese).\n",
      "Accreditations\n",
      "Submission of the application - New study cycle\n",
      "(in Portuguese);\n",
      "External Review Team Final Report (CAE)\n",
      "(in Portuguese);\n",
      "Decision of the A3ES Board of Directors\n",
      "(in Portuguese);\n",
      "A3ES Deliberation\n",
      ".\n",
      "Support and Funding\n",
      "https://recuperarportugal.gov.pt/\n",
      "Loading...\n",
      "resumo do conteudo da tabela\n",
      "Curricular\n",
      "Unit\n",
      "Program\n",
      "Annual Prize\n",
      "Value\n",
      "caption text\n",
      "\n",
      "\n"
     ]
    }
   ],
   "source": [
    "# Print the full text of the first document\n",
    "for filename, content in dict_maininfo_raw.items():\n",
    "    print(f\"\\n--- {filename} ---\")\n",
    "    print(content)\n",
    "    break"
   ]
  },
  {
   "cell_type": "code",
   "execution_count": 6,
   "metadata": {},
   "outputs": [],
   "source": [
    "cleaned_maininfo = dp.clean_text_documents(\n",
    "    dict_maininfo_raw, \n",
    "    words_to_remove=[\"Programs\", \"resumo do conteudo da tabela\", \"Loading...\", \"Education\", \"caption text\",\n",
    "                     \"card item\", \"modal item\", \"Apply here\", \"Know more\"\n",
    "                     ],\n",
    "    words_to_deduplicate=[\"Data Science\", \"Information Management\", \"Information Systems\", \"Who is it for?\"]\n",
    ")"
   ]
  },
  {
   "cell_type": "code",
   "execution_count": 7,
   "metadata": {},
   "outputs": [
    {
     "name": "stdout",
     "output_type": "stream",
     "text": [
      "\n",
      "--- data-science_main_course_extracted_text.txt ---\n",
      "Text from https://www.novaims.unl.pt/en///bachelor-s-degrees/data-science/: Data Science Degree in Data Science en Bachelor's Degrees Data Science In the Bachelor´s Degree in Data Science, students learn the most modern techniques of artificial intelligence and machine learning to analyze large volumes of data (Big Data). They will become true data scientists - considered the sexiest profession of the 21 st century by the Harvard Business Review. The main objective of this course is to train future professionals capable of understanding, developing and using models, algorithms and the most advanced techniques in data science, to analyze and extract knowledge from Big Data. The 3 rd phase of applications under the International Student Statute for the 2025/26 academic year are open from February 26 th to March 27 th , 2025. Duration 3 years (6 semesters) Timetable Daytime Start September 2025 Career Opportunities The Bachelor´s Degree in Data Science allows a quick integration in the most varied sectors of activity, namely: Information Technology Companies, Communication Companies, Banking, Insurance, Retail, Telecommunications, Utilities Companies, Biomedical Companies, Pharmaceuticals, Public Administration and Companies industrial. The main professional opportunities are: Big Data Analyst; Data Scientist; Data Engineer; Specialist in Artificial Intelligence Systems; Specialist in Machine Learning; Specialist in the development of Automatic Learning Algorithms. Technical and Managerial Positions in Public Administration. At NOVA IMS we encourage continuous individual development through excellence. - For this reason, we believe that we must reward all those who stand out at the entrance of the Bachelor´s Degree courses and who, during their academic career, work to exceed their and our expectations. At NOVA IMS we encourage continuous individual development through excellence. - For this reason, we believe that we must reward all those who stand out at the entrance of the Bachelor´s Degree courses and who, during their academic career, work to exceed their and our expectations. Award for Academic Excellence Incentive Application prize awarded to all students whose average entry grade to the National Competition is equal to or greater than 18 values Who is it for? Who is it for? Program Goals Program Structure Admissions and Fees Achievement Awards Teaching Staff Tuition Fee Scholarships Calendar, Timetable and Exams FAQ Regulations and Accreditations Who is it for? This degree is intended for all final-year students who aspire to become data scientists. Thus, the study cycle is suitable for all students who wish to obtain in-depth training in the most recent techniques of data science and artificial intelligence, based on automatic logical reasoning, data management methods and techniques, as well as machine learning applications. The course aims to train highly specialized professionals who will enable organizations to take advantage of the huge volume of data they currently have at their disposal. For information about the International Student Access, please click here . Program Goals The bachelor's degree in Data Science aims to strengthen the intermediate step between data collection and decision making based on them, i.e. to develop advanced methods of data science and artificial intelligence. To this end, the course of study adopts a primarily technical perspective. The goal is to provide in-depth knowledge of the fundamental methodologies and concepts, in order to provide the student with the ability to update more specific technical knowledge and to keep up with the rapid evolution of this sector. In this context, the graduate in Data Science should: Understand the theoretical foundations of statistics, Machine Learning and Artificial Intelligence methods; Identify and understand the most efficient algorithm for each specific problem; Design and develop state-of-the-art data science algorithms; Work closely with IT specialists to integrate Data Science algorithms into existing systems; Identify underlying patterns and extract useful information from the large volume of heterogeneous data that exists in organizations; Be proficient in commonly used statistical procedures, frameworks, machine learning techniques and systems; Stimulate interest in keeping up with scientific advances in the field of Data Science and Artificial Intelligence. Program Structure The course lasts 3 years (6 semesters) and classes start in September 2025. The study plan corresponds to 180 ECTS, of which 150 ECTS correspond to mandatory curricular units (the first 5 semesters) and 30 ECTS correspond to optional curricular units (last semester of the course), which will be chosen by each Student, from among a wide range of curricular units available. See study plan Admissions and Fees Establishment Code: 0906 - Universidade Nova de Lisboa - Instituto Superior de Estatística e Gestão de Informação Course Code: L188 Entry Exam Subjects (One of the following): 19 - Mathematics A and 02 - Biology and Geology 19 - Mathematics A and 04 - Economy 19 - Mathematics A and 07 - Physics and Chemistry 19 - Mathematics A and 09 - Geography 19 - Mathematics A and 10 - Descriptive Geometry 19 - Mathematics A and 18 - Portuguese Course Unit NOTICE: The exams presented are valid for admissions in the 2025/26 academic year, through the National Competition for Access to Higher . Minimum Grades Applicants Grade: 100 Entry Exam Grade: 95 Formula of Applicants Grade Secondary School Grade: 50% Entry Exam Subjects: 50% Prerequesites None Vacancies 45 General Quota Last Entry Grade 2024-2025 1 st Phase - 17.78 2025/26 Academic Year Consult the entrance exams applicable to 2025/26 in the Frequently Asked Questions. Achievement Awards (*) Prize corresponding to the 1 st year tuition fee. The undergraduate students who achieve a high level of academic performance each year will have access to the following awards (1) : Approved ECTS Average (Values) Award At the end of the 1 st year of Enrollment equal or greater than 60 equal or greater than 16,5 700€ At the end of the 2 nd year of Enrollment equal or greater than 120 equal or greater than 16,5 700€ At the end of the 3 rd year of Enrollment equal or greater than 180 equal or greater than 16,5 €3.000 off (2) (1) Prize applied to students admitted in 2024/2025. (2) The value of the tuition for a master's degree to be attended at the NOVA IMS, if admission and enrollment occur in the year immediately following the completion of the bachelor's degree. Not cumulative with Alumni discount. Cumulative with financial discount. Excellence awards given by the Members of AD NOVA IMS and other supportive entities (3) All students that stand out, during their academic path, for their academic excellence in the different course units and are also awarded. (3) Prizes in force in the school year 2023/24. Supportive Entities Best student of the Course Unit €1.000 Best Student of Undergraduate and Master Degree Scholarship with Value to be Defined Best Application Grade €1.000 Curricular Unit Program Annual Prize Value Tuition Fee The annual fee set for the academic year 2024/25, for the students of the National Contest for Access to Higher , is €697. This payment can be paid in full or in 10 instalments. For the students of the International Student Contest, the annual fee for the academic year 2024/25, is €7.500. This payment can also be paid in full or in 5 instalments. The Student (national or international), when registering for a school year, has to take into account that the full payment of the tuition fee fixed for that school year (the monthly fees/benefits are a payment facility), even if they cancel the registration/withdraw of the course. For more information, please consult the Frequently Asked Questions at the bottom of the page. FAQ What is the language of instruction of the course? The course is taught in English. Nowadays, being comfortable with the English language is a competitive advantage, which makes a difference in the global job market. NOVA IMS students have all the support to quickly adapt to the language and can always speak in Portuguese when they are unable to express themselves. Where is NOVA IMS located? NOVA IMS is located on the Campolide Campus, in Lisbon. Watch the campus tour made by NOVA IMS Students here . What is the schedule? The Bachelor´s Degree will work on daytime , 5 days a week. Where can I see an overview of undergraduate ? You can watch it here and for more information click here . What is the cost of the tuition and enrollment fee for the students of the National Contest? The value of the Annual Fee for 2024/2025 is €697 . The student, enrolling in a school year, has to consider that full payment of the fee fixed for that year (tuition / benefits are ease of payment) is due, although they may unsubscribe / fold the course. The payment of tuition fees can be made as follows: At once (€697), until October 8 th , 2024 or in 10 installments: 1 st Installment: September 27 th to October 8 th , 2024: €69,70 (to be received upon registration); 2 nd Installment: November 1 st to 8 th , 2024: €69,70; 3 rd Installment: December 1 st to 8 th , 2024: €69,70; 4 th Installment: January 1 st to 8 th , 2025: €69,70; 5 th Installment: February 1 st to 8 th , 2025: €69,70; 6 th Installment: March 1 st to 8 th , 2025: €69,70; 7 th Installment: April 1 st to 8 th , 2025: €69,70; 8 th Installment: May 1 st to 8 th , 2025: €69,70; 9 th Installment: June 1 st to 8 th , 2025: €69,70; 10 th Installment: July 1 st to 8 th , 2025: €69,70. For students who have applied for the Merit (SAS / UNL) scholarship, the payment of tuition fees should only be made after the delivery of the final decision about the case, and if the scholarship is granted, the payment must be done afterwards. The student has, in these cases, a period of 15 days to rectify the situation. To apply for the scholarship the student must register on-time and deliver the declaration of honor (paper provided by the Academic Services) on how he/she is applying for this benefit. For further enquiries please contact Admissions office at NOVA rectory. Upon registration, the students should make the following payments: €69,70 - for 1 st installment of tuition fee; €35 - for annual enrollment fee; €1,40 - for annual school insurance. The enrolment fees are updated annually in the Universidade NOVA de Lisboa table of emoluments, published in the Official Portuguese Government Gazette (Diário da República) . What is the cost of the tuition and enrollment fee for the students of the International Student Contest? The annual fee set for the academic year 2024/25, for the students of the International Student Contest, is €7500. This payment can be as following: Full payment (€7500), unit October 1 st , 2024, or in 5 installments: 1 st installment: September 1 st to 8 th , 2024: €1500; 2 nd installment: November 1 st to 8 th , 2024: €1500; 3 rd installment: January 1 st to 8 th , 2025: €1500; 4 th installment: March 1 st to 8 th , 2025: €1500; 5 th installment: May 1 st to 8 th , 2025: €1500. Are there special access quotas? There are several special quotas, beyond to the general quota, to which certain percentages of vacancies are allocated, intended for candidates who meet the conditions of each quota. These are: Candidates from the Autonomous Region of the Açores; Candidates from the Autonomous Region of Madeira; Portuguese Emigrant Candidates and family members who live with them; Military Candidates Under Contract; Candidates with Disabilities. I completed secondary abroad or at a foreign school. Can I apply for the national contest? Yes, however there are some conditions that are important to know. For more information, you should contact Direcção-Geral do Ensino Superior . What is the application process for the international student? Candidates who do not have the nationality of a Member State of the European Union and who have not lived in Portugal for more than two consecutive years can apply for a Bachelor's degree at NOVA IMS under the International Student status. The application process is different from the National Contest for Access to Higher . For more information, click here . What is ObipNOVA? ObipNOVA is the Observatory of Graduates’ Transitions into Work at NOVA. The ObipNOVA analyses the graduates of all the study cycles: bachelors, masters and doctorates. Every year, a series of phone surveys are conducted to evaluate the professional activity of those who graduated in the previous year. The more recent data is related to 2019 graduated students. Regulations and Accreditations Regulations Regulation n.º 820/2021, on September 1 st (in Portuguese); Partial Time Student Regulation (in Portuguese). Accreditations Submission of the application - New study cycle (in Portuguese); External Review Team Final Report (CAE) (in Portuguese); Decision of the A3ES Board of Directors (in Portuguese); A3ES Deliberation . Support and Funding https://recuperarportugal.gov.pt/ Curricular Unit Program Annual Prize Value\n"
     ]
    }
   ],
   "source": [
    "# Print the full text of the first document\n",
    "for filename, content in cleaned_maininfo.items():\n",
    "    print(f\"\\n--- {filename} ---\")\n",
    "    print(content)\n",
    "    break"
   ]
  },
  {
   "cell_type": "markdown",
   "metadata": {},
   "source": [
    "## Teaching staff stats after cleaning"
   ]
  },
  {
   "cell_type": "code",
   "execution_count": 8,
   "metadata": {},
   "outputs": [
    {
     "data": {
      "application/vnd.plotly.v1+json": {
       "config": {
        "plotlyServerURL": "https://plot.ly"
       },
       "data": [
        {
         "bingroup": "x",
         "hovertemplate": "Word Count=%{x}<br>count=%{y}<extra></extra>",
         "legendgroup": "",
         "marker": {
          "color": "#636efa",
          "pattern": {
           "shape": ""
          }
         },
         "name": "",
         "nbinsx": 10,
         "orientation": "v",
         "showlegend": false,
         "type": "histogram",
         "x": {
          "bdata": "UggjCAQK",
          "dtype": "i2"
         },
         "xaxis": "x",
         "yaxis": "y"
        }
       ],
       "layout": {
        "bargap": 0.1,
        "barmode": "relative",
        "legend": {
         "tracegroupgap": 0
        },
        "template": {
         "data": {
          "bar": [
           {
            "error_x": {
             "color": "#2a3f5f"
            },
            "error_y": {
             "color": "#2a3f5f"
            },
            "marker": {
             "line": {
              "color": "#E5ECF6",
              "width": 0.5
             },
             "pattern": {
              "fillmode": "overlay",
              "size": 10,
              "solidity": 0.2
             }
            },
            "type": "bar"
           }
          ],
          "barpolar": [
           {
            "marker": {
             "line": {
              "color": "#E5ECF6",
              "width": 0.5
             },
             "pattern": {
              "fillmode": "overlay",
              "size": 10,
              "solidity": 0.2
             }
            },
            "type": "barpolar"
           }
          ],
          "carpet": [
           {
            "aaxis": {
             "endlinecolor": "#2a3f5f",
             "gridcolor": "white",
             "linecolor": "white",
             "minorgridcolor": "white",
             "startlinecolor": "#2a3f5f"
            },
            "baxis": {
             "endlinecolor": "#2a3f5f",
             "gridcolor": "white",
             "linecolor": "white",
             "minorgridcolor": "white",
             "startlinecolor": "#2a3f5f"
            },
            "type": "carpet"
           }
          ],
          "choropleth": [
           {
            "colorbar": {
             "outlinewidth": 0,
             "ticks": ""
            },
            "type": "choropleth"
           }
          ],
          "contour": [
           {
            "colorbar": {
             "outlinewidth": 0,
             "ticks": ""
            },
            "colorscale": [
             [
              0,
              "#0d0887"
             ],
             [
              0.1111111111111111,
              "#46039f"
             ],
             [
              0.2222222222222222,
              "#7201a8"
             ],
             [
              0.3333333333333333,
              "#9c179e"
             ],
             [
              0.4444444444444444,
              "#bd3786"
             ],
             [
              0.5555555555555556,
              "#d8576b"
             ],
             [
              0.6666666666666666,
              "#ed7953"
             ],
             [
              0.7777777777777778,
              "#fb9f3a"
             ],
             [
              0.8888888888888888,
              "#fdca26"
             ],
             [
              1,
              "#f0f921"
             ]
            ],
            "type": "contour"
           }
          ],
          "contourcarpet": [
           {
            "colorbar": {
             "outlinewidth": 0,
             "ticks": ""
            },
            "type": "contourcarpet"
           }
          ],
          "heatmap": [
           {
            "colorbar": {
             "outlinewidth": 0,
             "ticks": ""
            },
            "colorscale": [
             [
              0,
              "#0d0887"
             ],
             [
              0.1111111111111111,
              "#46039f"
             ],
             [
              0.2222222222222222,
              "#7201a8"
             ],
             [
              0.3333333333333333,
              "#9c179e"
             ],
             [
              0.4444444444444444,
              "#bd3786"
             ],
             [
              0.5555555555555556,
              "#d8576b"
             ],
             [
              0.6666666666666666,
              "#ed7953"
             ],
             [
              0.7777777777777778,
              "#fb9f3a"
             ],
             [
              0.8888888888888888,
              "#fdca26"
             ],
             [
              1,
              "#f0f921"
             ]
            ],
            "type": "heatmap"
           }
          ],
          "histogram": [
           {
            "marker": {
             "pattern": {
              "fillmode": "overlay",
              "size": 10,
              "solidity": 0.2
             }
            },
            "type": "histogram"
           }
          ],
          "histogram2d": [
           {
            "colorbar": {
             "outlinewidth": 0,
             "ticks": ""
            },
            "colorscale": [
             [
              0,
              "#0d0887"
             ],
             [
              0.1111111111111111,
              "#46039f"
             ],
             [
              0.2222222222222222,
              "#7201a8"
             ],
             [
              0.3333333333333333,
              "#9c179e"
             ],
             [
              0.4444444444444444,
              "#bd3786"
             ],
             [
              0.5555555555555556,
              "#d8576b"
             ],
             [
              0.6666666666666666,
              "#ed7953"
             ],
             [
              0.7777777777777778,
              "#fb9f3a"
             ],
             [
              0.8888888888888888,
              "#fdca26"
             ],
             [
              1,
              "#f0f921"
             ]
            ],
            "type": "histogram2d"
           }
          ],
          "histogram2dcontour": [
           {
            "colorbar": {
             "outlinewidth": 0,
             "ticks": ""
            },
            "colorscale": [
             [
              0,
              "#0d0887"
             ],
             [
              0.1111111111111111,
              "#46039f"
             ],
             [
              0.2222222222222222,
              "#7201a8"
             ],
             [
              0.3333333333333333,
              "#9c179e"
             ],
             [
              0.4444444444444444,
              "#bd3786"
             ],
             [
              0.5555555555555556,
              "#d8576b"
             ],
             [
              0.6666666666666666,
              "#ed7953"
             ],
             [
              0.7777777777777778,
              "#fb9f3a"
             ],
             [
              0.8888888888888888,
              "#fdca26"
             ],
             [
              1,
              "#f0f921"
             ]
            ],
            "type": "histogram2dcontour"
           }
          ],
          "mesh3d": [
           {
            "colorbar": {
             "outlinewidth": 0,
             "ticks": ""
            },
            "type": "mesh3d"
           }
          ],
          "parcoords": [
           {
            "line": {
             "colorbar": {
              "outlinewidth": 0,
              "ticks": ""
             }
            },
            "type": "parcoords"
           }
          ],
          "pie": [
           {
            "automargin": true,
            "type": "pie"
           }
          ],
          "scatter": [
           {
            "fillpattern": {
             "fillmode": "overlay",
             "size": 10,
             "solidity": 0.2
            },
            "type": "scatter"
           }
          ],
          "scatter3d": [
           {
            "line": {
             "colorbar": {
              "outlinewidth": 0,
              "ticks": ""
             }
            },
            "marker": {
             "colorbar": {
              "outlinewidth": 0,
              "ticks": ""
             }
            },
            "type": "scatter3d"
           }
          ],
          "scattercarpet": [
           {
            "marker": {
             "colorbar": {
              "outlinewidth": 0,
              "ticks": ""
             }
            },
            "type": "scattercarpet"
           }
          ],
          "scattergeo": [
           {
            "marker": {
             "colorbar": {
              "outlinewidth": 0,
              "ticks": ""
             }
            },
            "type": "scattergeo"
           }
          ],
          "scattergl": [
           {
            "marker": {
             "colorbar": {
              "outlinewidth": 0,
              "ticks": ""
             }
            },
            "type": "scattergl"
           }
          ],
          "scattermap": [
           {
            "marker": {
             "colorbar": {
              "outlinewidth": 0,
              "ticks": ""
             }
            },
            "type": "scattermap"
           }
          ],
          "scattermapbox": [
           {
            "marker": {
             "colorbar": {
              "outlinewidth": 0,
              "ticks": ""
             }
            },
            "type": "scattermapbox"
           }
          ],
          "scatterpolar": [
           {
            "marker": {
             "colorbar": {
              "outlinewidth": 0,
              "ticks": ""
             }
            },
            "type": "scatterpolar"
           }
          ],
          "scatterpolargl": [
           {
            "marker": {
             "colorbar": {
              "outlinewidth": 0,
              "ticks": ""
             }
            },
            "type": "scatterpolargl"
           }
          ],
          "scatterternary": [
           {
            "marker": {
             "colorbar": {
              "outlinewidth": 0,
              "ticks": ""
             }
            },
            "type": "scatterternary"
           }
          ],
          "surface": [
           {
            "colorbar": {
             "outlinewidth": 0,
             "ticks": ""
            },
            "colorscale": [
             [
              0,
              "#0d0887"
             ],
             [
              0.1111111111111111,
              "#46039f"
             ],
             [
              0.2222222222222222,
              "#7201a8"
             ],
             [
              0.3333333333333333,
              "#9c179e"
             ],
             [
              0.4444444444444444,
              "#bd3786"
             ],
             [
              0.5555555555555556,
              "#d8576b"
             ],
             [
              0.6666666666666666,
              "#ed7953"
             ],
             [
              0.7777777777777778,
              "#fb9f3a"
             ],
             [
              0.8888888888888888,
              "#fdca26"
             ],
             [
              1,
              "#f0f921"
             ]
            ],
            "type": "surface"
           }
          ],
          "table": [
           {
            "cells": {
             "fill": {
              "color": "#EBF0F8"
             },
             "line": {
              "color": "white"
             }
            },
            "header": {
             "fill": {
              "color": "#C8D4E3"
             },
             "line": {
              "color": "white"
             }
            },
            "type": "table"
           }
          ]
         },
         "layout": {
          "annotationdefaults": {
           "arrowcolor": "#2a3f5f",
           "arrowhead": 0,
           "arrowwidth": 1
          },
          "autotypenumbers": "strict",
          "coloraxis": {
           "colorbar": {
            "outlinewidth": 0,
            "ticks": ""
           }
          },
          "colorscale": {
           "diverging": [
            [
             0,
             "#8e0152"
            ],
            [
             0.1,
             "#c51b7d"
            ],
            [
             0.2,
             "#de77ae"
            ],
            [
             0.3,
             "#f1b6da"
            ],
            [
             0.4,
             "#fde0ef"
            ],
            [
             0.5,
             "#f7f7f7"
            ],
            [
             0.6,
             "#e6f5d0"
            ],
            [
             0.7,
             "#b8e186"
            ],
            [
             0.8,
             "#7fbc41"
            ],
            [
             0.9,
             "#4d9221"
            ],
            [
             1,
             "#276419"
            ]
           ],
           "sequential": [
            [
             0,
             "#0d0887"
            ],
            [
             0.1111111111111111,
             "#46039f"
            ],
            [
             0.2222222222222222,
             "#7201a8"
            ],
            [
             0.3333333333333333,
             "#9c179e"
            ],
            [
             0.4444444444444444,
             "#bd3786"
            ],
            [
             0.5555555555555556,
             "#d8576b"
            ],
            [
             0.6666666666666666,
             "#ed7953"
            ],
            [
             0.7777777777777778,
             "#fb9f3a"
            ],
            [
             0.8888888888888888,
             "#fdca26"
            ],
            [
             1,
             "#f0f921"
            ]
           ],
           "sequentialminus": [
            [
             0,
             "#0d0887"
            ],
            [
             0.1111111111111111,
             "#46039f"
            ],
            [
             0.2222222222222222,
             "#7201a8"
            ],
            [
             0.3333333333333333,
             "#9c179e"
            ],
            [
             0.4444444444444444,
             "#bd3786"
            ],
            [
             0.5555555555555556,
             "#d8576b"
            ],
            [
             0.6666666666666666,
             "#ed7953"
            ],
            [
             0.7777777777777778,
             "#fb9f3a"
            ],
            [
             0.8888888888888888,
             "#fdca26"
            ],
            [
             1,
             "#f0f921"
            ]
           ]
          },
          "colorway": [
           "#636efa",
           "#EF553B",
           "#00cc96",
           "#ab63fa",
           "#FFA15A",
           "#19d3f3",
           "#FF6692",
           "#B6E880",
           "#FF97FF",
           "#FECB52"
          ],
          "font": {
           "color": "#2a3f5f"
          },
          "geo": {
           "bgcolor": "white",
           "lakecolor": "white",
           "landcolor": "#E5ECF6",
           "showlakes": true,
           "showland": true,
           "subunitcolor": "white"
          },
          "hoverlabel": {
           "align": "left"
          },
          "hovermode": "closest",
          "mapbox": {
           "style": "light"
          },
          "paper_bgcolor": "white",
          "plot_bgcolor": "#E5ECF6",
          "polar": {
           "angularaxis": {
            "gridcolor": "white",
            "linecolor": "white",
            "ticks": ""
           },
           "bgcolor": "#E5ECF6",
           "radialaxis": {
            "gridcolor": "white",
            "linecolor": "white",
            "ticks": ""
           }
          },
          "scene": {
           "xaxis": {
            "backgroundcolor": "#E5ECF6",
            "gridcolor": "white",
            "gridwidth": 2,
            "linecolor": "white",
            "showbackground": true,
            "ticks": "",
            "zerolinecolor": "white"
           },
           "yaxis": {
            "backgroundcolor": "#E5ECF6",
            "gridcolor": "white",
            "gridwidth": 2,
            "linecolor": "white",
            "showbackground": true,
            "ticks": "",
            "zerolinecolor": "white"
           },
           "zaxis": {
            "backgroundcolor": "#E5ECF6",
            "gridcolor": "white",
            "gridwidth": 2,
            "linecolor": "white",
            "showbackground": true,
            "ticks": "",
            "zerolinecolor": "white"
           }
          },
          "shapedefaults": {
           "line": {
            "color": "#2a3f5f"
           }
          },
          "ternary": {
           "aaxis": {
            "gridcolor": "white",
            "linecolor": "white",
            "ticks": ""
           },
           "baxis": {
            "gridcolor": "white",
            "linecolor": "white",
            "ticks": ""
           },
           "bgcolor": "#E5ECF6",
           "caxis": {
            "gridcolor": "white",
            "linecolor": "white",
            "ticks": ""
           }
          },
          "title": {
           "x": 0.05
          },
          "xaxis": {
           "automargin": true,
           "gridcolor": "white",
           "linecolor": "white",
           "ticks": "",
           "title": {
            "standoff": 15
           },
           "zerolinecolor": "white",
           "zerolinewidth": 2
          },
          "yaxis": {
           "automargin": true,
           "gridcolor": "white",
           "linecolor": "white",
           "ticks": "",
           "title": {
            "standoff": 15
           },
           "zerolinecolor": "white",
           "zerolinewidth": 2
          }
         }
        },
        "title": {
         "text": "Distribution of Documents by Word Count"
        },
        "xaxis": {
         "anchor": "y",
         "domain": [
          0,
          1
         ],
         "title": {
          "text": "Word Count"
         }
        },
        "yaxis": {
         "anchor": "x",
         "domain": [
          0,
          1
         ],
         "title": {
          "text": "Number of Documents"
         }
        }
       }
      }
     },
     "metadata": {},
     "output_type": "display_data"
    },
    {
     "data": {
      "application/vnd.plotly.v1+json": {
       "config": {
        "plotlyServerURL": "https://plot.ly"
       },
       "data": [
        {
         "bingroup": "x",
         "hovertemplate": "Token Count=%{x}<br>count=%{y}<extra></extra>",
         "legendgroup": "",
         "marker": {
          "color": "#636efa",
          "pattern": {
           "shape": ""
          }
         },
         "name": "",
         "nbinsx": 15,
         "orientation": "v",
         "showlegend": false,
         "type": "histogram",
         "x": {
          "bdata": "JAsHC2UN",
          "dtype": "i2"
         },
         "xaxis": "x",
         "yaxis": "y"
        }
       ],
       "layout": {
        "bargap": 0.1,
        "barmode": "relative",
        "legend": {
         "tracegroupgap": 0
        },
        "template": {
         "data": {
          "bar": [
           {
            "error_x": {
             "color": "#2a3f5f"
            },
            "error_y": {
             "color": "#2a3f5f"
            },
            "marker": {
             "line": {
              "color": "#E5ECF6",
              "width": 0.5
             },
             "pattern": {
              "fillmode": "overlay",
              "size": 10,
              "solidity": 0.2
             }
            },
            "type": "bar"
           }
          ],
          "barpolar": [
           {
            "marker": {
             "line": {
              "color": "#E5ECF6",
              "width": 0.5
             },
             "pattern": {
              "fillmode": "overlay",
              "size": 10,
              "solidity": 0.2
             }
            },
            "type": "barpolar"
           }
          ],
          "carpet": [
           {
            "aaxis": {
             "endlinecolor": "#2a3f5f",
             "gridcolor": "white",
             "linecolor": "white",
             "minorgridcolor": "white",
             "startlinecolor": "#2a3f5f"
            },
            "baxis": {
             "endlinecolor": "#2a3f5f",
             "gridcolor": "white",
             "linecolor": "white",
             "minorgridcolor": "white",
             "startlinecolor": "#2a3f5f"
            },
            "type": "carpet"
           }
          ],
          "choropleth": [
           {
            "colorbar": {
             "outlinewidth": 0,
             "ticks": ""
            },
            "type": "choropleth"
           }
          ],
          "contour": [
           {
            "colorbar": {
             "outlinewidth": 0,
             "ticks": ""
            },
            "colorscale": [
             [
              0,
              "#0d0887"
             ],
             [
              0.1111111111111111,
              "#46039f"
             ],
             [
              0.2222222222222222,
              "#7201a8"
             ],
             [
              0.3333333333333333,
              "#9c179e"
             ],
             [
              0.4444444444444444,
              "#bd3786"
             ],
             [
              0.5555555555555556,
              "#d8576b"
             ],
             [
              0.6666666666666666,
              "#ed7953"
             ],
             [
              0.7777777777777778,
              "#fb9f3a"
             ],
             [
              0.8888888888888888,
              "#fdca26"
             ],
             [
              1,
              "#f0f921"
             ]
            ],
            "type": "contour"
           }
          ],
          "contourcarpet": [
           {
            "colorbar": {
             "outlinewidth": 0,
             "ticks": ""
            },
            "type": "contourcarpet"
           }
          ],
          "heatmap": [
           {
            "colorbar": {
             "outlinewidth": 0,
             "ticks": ""
            },
            "colorscale": [
             [
              0,
              "#0d0887"
             ],
             [
              0.1111111111111111,
              "#46039f"
             ],
             [
              0.2222222222222222,
              "#7201a8"
             ],
             [
              0.3333333333333333,
              "#9c179e"
             ],
             [
              0.4444444444444444,
              "#bd3786"
             ],
             [
              0.5555555555555556,
              "#d8576b"
             ],
             [
              0.6666666666666666,
              "#ed7953"
             ],
             [
              0.7777777777777778,
              "#fb9f3a"
             ],
             [
              0.8888888888888888,
              "#fdca26"
             ],
             [
              1,
              "#f0f921"
             ]
            ],
            "type": "heatmap"
           }
          ],
          "histogram": [
           {
            "marker": {
             "pattern": {
              "fillmode": "overlay",
              "size": 10,
              "solidity": 0.2
             }
            },
            "type": "histogram"
           }
          ],
          "histogram2d": [
           {
            "colorbar": {
             "outlinewidth": 0,
             "ticks": ""
            },
            "colorscale": [
             [
              0,
              "#0d0887"
             ],
             [
              0.1111111111111111,
              "#46039f"
             ],
             [
              0.2222222222222222,
              "#7201a8"
             ],
             [
              0.3333333333333333,
              "#9c179e"
             ],
             [
              0.4444444444444444,
              "#bd3786"
             ],
             [
              0.5555555555555556,
              "#d8576b"
             ],
             [
              0.6666666666666666,
              "#ed7953"
             ],
             [
              0.7777777777777778,
              "#fb9f3a"
             ],
             [
              0.8888888888888888,
              "#fdca26"
             ],
             [
              1,
              "#f0f921"
             ]
            ],
            "type": "histogram2d"
           }
          ],
          "histogram2dcontour": [
           {
            "colorbar": {
             "outlinewidth": 0,
             "ticks": ""
            },
            "colorscale": [
             [
              0,
              "#0d0887"
             ],
             [
              0.1111111111111111,
              "#46039f"
             ],
             [
              0.2222222222222222,
              "#7201a8"
             ],
             [
              0.3333333333333333,
              "#9c179e"
             ],
             [
              0.4444444444444444,
              "#bd3786"
             ],
             [
              0.5555555555555556,
              "#d8576b"
             ],
             [
              0.6666666666666666,
              "#ed7953"
             ],
             [
              0.7777777777777778,
              "#fb9f3a"
             ],
             [
              0.8888888888888888,
              "#fdca26"
             ],
             [
              1,
              "#f0f921"
             ]
            ],
            "type": "histogram2dcontour"
           }
          ],
          "mesh3d": [
           {
            "colorbar": {
             "outlinewidth": 0,
             "ticks": ""
            },
            "type": "mesh3d"
           }
          ],
          "parcoords": [
           {
            "line": {
             "colorbar": {
              "outlinewidth": 0,
              "ticks": ""
             }
            },
            "type": "parcoords"
           }
          ],
          "pie": [
           {
            "automargin": true,
            "type": "pie"
           }
          ],
          "scatter": [
           {
            "fillpattern": {
             "fillmode": "overlay",
             "size": 10,
             "solidity": 0.2
            },
            "type": "scatter"
           }
          ],
          "scatter3d": [
           {
            "line": {
             "colorbar": {
              "outlinewidth": 0,
              "ticks": ""
             }
            },
            "marker": {
             "colorbar": {
              "outlinewidth": 0,
              "ticks": ""
             }
            },
            "type": "scatter3d"
           }
          ],
          "scattercarpet": [
           {
            "marker": {
             "colorbar": {
              "outlinewidth": 0,
              "ticks": ""
             }
            },
            "type": "scattercarpet"
           }
          ],
          "scattergeo": [
           {
            "marker": {
             "colorbar": {
              "outlinewidth": 0,
              "ticks": ""
             }
            },
            "type": "scattergeo"
           }
          ],
          "scattergl": [
           {
            "marker": {
             "colorbar": {
              "outlinewidth": 0,
              "ticks": ""
             }
            },
            "type": "scattergl"
           }
          ],
          "scattermap": [
           {
            "marker": {
             "colorbar": {
              "outlinewidth": 0,
              "ticks": ""
             }
            },
            "type": "scattermap"
           }
          ],
          "scattermapbox": [
           {
            "marker": {
             "colorbar": {
              "outlinewidth": 0,
              "ticks": ""
             }
            },
            "type": "scattermapbox"
           }
          ],
          "scatterpolar": [
           {
            "marker": {
             "colorbar": {
              "outlinewidth": 0,
              "ticks": ""
             }
            },
            "type": "scatterpolar"
           }
          ],
          "scatterpolargl": [
           {
            "marker": {
             "colorbar": {
              "outlinewidth": 0,
              "ticks": ""
             }
            },
            "type": "scatterpolargl"
           }
          ],
          "scatterternary": [
           {
            "marker": {
             "colorbar": {
              "outlinewidth": 0,
              "ticks": ""
             }
            },
            "type": "scatterternary"
           }
          ],
          "surface": [
           {
            "colorbar": {
             "outlinewidth": 0,
             "ticks": ""
            },
            "colorscale": [
             [
              0,
              "#0d0887"
             ],
             [
              0.1111111111111111,
              "#46039f"
             ],
             [
              0.2222222222222222,
              "#7201a8"
             ],
             [
              0.3333333333333333,
              "#9c179e"
             ],
             [
              0.4444444444444444,
              "#bd3786"
             ],
             [
              0.5555555555555556,
              "#d8576b"
             ],
             [
              0.6666666666666666,
              "#ed7953"
             ],
             [
              0.7777777777777778,
              "#fb9f3a"
             ],
             [
              0.8888888888888888,
              "#fdca26"
             ],
             [
              1,
              "#f0f921"
             ]
            ],
            "type": "surface"
           }
          ],
          "table": [
           {
            "cells": {
             "fill": {
              "color": "#EBF0F8"
             },
             "line": {
              "color": "white"
             }
            },
            "header": {
             "fill": {
              "color": "#C8D4E3"
             },
             "line": {
              "color": "white"
             }
            },
            "type": "table"
           }
          ]
         },
         "layout": {
          "annotationdefaults": {
           "arrowcolor": "#2a3f5f",
           "arrowhead": 0,
           "arrowwidth": 1
          },
          "autotypenumbers": "strict",
          "coloraxis": {
           "colorbar": {
            "outlinewidth": 0,
            "ticks": ""
           }
          },
          "colorscale": {
           "diverging": [
            [
             0,
             "#8e0152"
            ],
            [
             0.1,
             "#c51b7d"
            ],
            [
             0.2,
             "#de77ae"
            ],
            [
             0.3,
             "#f1b6da"
            ],
            [
             0.4,
             "#fde0ef"
            ],
            [
             0.5,
             "#f7f7f7"
            ],
            [
             0.6,
             "#e6f5d0"
            ],
            [
             0.7,
             "#b8e186"
            ],
            [
             0.8,
             "#7fbc41"
            ],
            [
             0.9,
             "#4d9221"
            ],
            [
             1,
             "#276419"
            ]
           ],
           "sequential": [
            [
             0,
             "#0d0887"
            ],
            [
             0.1111111111111111,
             "#46039f"
            ],
            [
             0.2222222222222222,
             "#7201a8"
            ],
            [
             0.3333333333333333,
             "#9c179e"
            ],
            [
             0.4444444444444444,
             "#bd3786"
            ],
            [
             0.5555555555555556,
             "#d8576b"
            ],
            [
             0.6666666666666666,
             "#ed7953"
            ],
            [
             0.7777777777777778,
             "#fb9f3a"
            ],
            [
             0.8888888888888888,
             "#fdca26"
            ],
            [
             1,
             "#f0f921"
            ]
           ],
           "sequentialminus": [
            [
             0,
             "#0d0887"
            ],
            [
             0.1111111111111111,
             "#46039f"
            ],
            [
             0.2222222222222222,
             "#7201a8"
            ],
            [
             0.3333333333333333,
             "#9c179e"
            ],
            [
             0.4444444444444444,
             "#bd3786"
            ],
            [
             0.5555555555555556,
             "#d8576b"
            ],
            [
             0.6666666666666666,
             "#ed7953"
            ],
            [
             0.7777777777777778,
             "#fb9f3a"
            ],
            [
             0.8888888888888888,
             "#fdca26"
            ],
            [
             1,
             "#f0f921"
            ]
           ]
          },
          "colorway": [
           "#636efa",
           "#EF553B",
           "#00cc96",
           "#ab63fa",
           "#FFA15A",
           "#19d3f3",
           "#FF6692",
           "#B6E880",
           "#FF97FF",
           "#FECB52"
          ],
          "font": {
           "color": "#2a3f5f"
          },
          "geo": {
           "bgcolor": "white",
           "lakecolor": "white",
           "landcolor": "#E5ECF6",
           "showlakes": true,
           "showland": true,
           "subunitcolor": "white"
          },
          "hoverlabel": {
           "align": "left"
          },
          "hovermode": "closest",
          "mapbox": {
           "style": "light"
          },
          "paper_bgcolor": "white",
          "plot_bgcolor": "#E5ECF6",
          "polar": {
           "angularaxis": {
            "gridcolor": "white",
            "linecolor": "white",
            "ticks": ""
           },
           "bgcolor": "#E5ECF6",
           "radialaxis": {
            "gridcolor": "white",
            "linecolor": "white",
            "ticks": ""
           }
          },
          "scene": {
           "xaxis": {
            "backgroundcolor": "#E5ECF6",
            "gridcolor": "white",
            "gridwidth": 2,
            "linecolor": "white",
            "showbackground": true,
            "ticks": "",
            "zerolinecolor": "white"
           },
           "yaxis": {
            "backgroundcolor": "#E5ECF6",
            "gridcolor": "white",
            "gridwidth": 2,
            "linecolor": "white",
            "showbackground": true,
            "ticks": "",
            "zerolinecolor": "white"
           },
           "zaxis": {
            "backgroundcolor": "#E5ECF6",
            "gridcolor": "white",
            "gridwidth": 2,
            "linecolor": "white",
            "showbackground": true,
            "ticks": "",
            "zerolinecolor": "white"
           }
          },
          "shapedefaults": {
           "line": {
            "color": "#2a3f5f"
           }
          },
          "ternary": {
           "aaxis": {
            "gridcolor": "white",
            "linecolor": "white",
            "ticks": ""
           },
           "baxis": {
            "gridcolor": "white",
            "linecolor": "white",
            "ticks": ""
           },
           "bgcolor": "#E5ECF6",
           "caxis": {
            "gridcolor": "white",
            "linecolor": "white",
            "ticks": ""
           }
          },
          "title": {
           "x": 0.05
          },
          "xaxis": {
           "automargin": true,
           "gridcolor": "white",
           "linecolor": "white",
           "ticks": "",
           "title": {
            "standoff": 15
           },
           "zerolinecolor": "white",
           "zerolinewidth": 2
          },
          "yaxis": {
           "automargin": true,
           "gridcolor": "white",
           "linecolor": "white",
           "ticks": "",
           "title": {
            "standoff": 15
           },
           "zerolinecolor": "white",
           "zerolinewidth": 2
          }
         }
        },
        "title": {
         "text": "Distribution of Documents by Token Count"
        },
        "xaxis": {
         "anchor": "y",
         "domain": [
          0,
          1
         ],
         "title": {
          "text": "Token Count"
         }
        },
        "yaxis": {
         "anchor": "x",
         "domain": [
          0,
          1
         ],
         "title": {
          "text": "Number of Documents"
         }
        }
       }
      }
     },
     "metadata": {},
     "output_type": "display_data"
    },
    {
     "data": {
      "application/vnd.plotly.v1+json": {
       "config": {
        "plotlyServerURL": "https://plot.ly"
       },
       "data": [
        {
         "colorscale": [
          [
           0,
           "#00083e"
          ],
          [
           0.5,
           "#ededee"
          ],
          [
           1,
           "#ffffff"
          ]
         ],
         "hoverinfo": "none",
         "opacity": 0.75,
         "showscale": false,
         "type": "heatmap",
         "z": [
          [
           0,
           0
          ],
          [
           0.5,
           0.5
          ],
          [
           1,
           1
          ],
          [
           0.5,
           0.5
          ],
          [
           1,
           1
          ],
          [
           0.5,
           0.5
          ],
          [
           1,
           1
          ],
          [
           0.5,
           0.5
          ],
          [
           1,
           1
          ]
         ]
        }
       ],
       "layout": {
        "annotations": [
         {
          "align": "center",
          "font": {
           "color": "#ffffff"
          },
          "showarrow": false,
          "text": "<b>Metric</b>",
          "x": -0.45,
          "xanchor": "left",
          "xref": "x",
          "y": 0,
          "yref": "y"
         },
         {
          "align": "center",
          "font": {
           "color": "#ffffff"
          },
          "showarrow": false,
          "text": "<b>Value</b>",
          "x": 0.55,
          "xanchor": "left",
          "xref": "x",
          "y": 0,
          "yref": "y"
         },
         {
          "align": "center",
          "font": {
           "color": "#000000"
          },
          "showarrow": false,
          "text": "count",
          "x": -0.45,
          "xanchor": "left",
          "xref": "x",
          "y": 1,
          "yref": "y"
         },
         {
          "align": "center",
          "font": {
           "color": "#000000"
          },
          "showarrow": false,
          "text": "3.00",
          "x": 0.55,
          "xanchor": "left",
          "xref": "x",
          "y": 1,
          "yref": "y"
         },
         {
          "align": "center",
          "font": {
           "color": "#000000"
          },
          "showarrow": false,
          "text": "mean",
          "x": -0.45,
          "xanchor": "left",
          "xref": "x",
          "y": 2,
          "yref": "y"
         },
         {
          "align": "center",
          "font": {
           "color": "#000000"
          },
          "showarrow": false,
          "text": "2,579.67",
          "x": 0.55,
          "xanchor": "left",
          "xref": "x",
          "y": 2,
          "yref": "y"
         },
         {
          "align": "center",
          "font": {
           "color": "#000000"
          },
          "showarrow": false,
          "text": "std",
          "x": -0.45,
          "xanchor": "left",
          "xref": "x",
          "y": 3,
          "yref": "y"
         },
         {
          "align": "center",
          "font": {
           "color": "#000000"
          },
          "showarrow": false,
          "text": "300.70",
          "x": 0.55,
          "xanchor": "left",
          "xref": "x",
          "y": 3,
          "yref": "y"
         },
         {
          "align": "center",
          "font": {
           "color": "#000000"
          },
          "showarrow": false,
          "text": "min",
          "x": -0.45,
          "xanchor": "left",
          "xref": "x",
          "y": 4,
          "yref": "y"
         },
         {
          "align": "center",
          "font": {
           "color": "#000000"
          },
          "showarrow": false,
          "text": "2,385.00",
          "x": 0.55,
          "xanchor": "left",
          "xref": "x",
          "y": 4,
          "yref": "y"
         },
         {
          "align": "center",
          "font": {
           "color": "#000000"
          },
          "showarrow": false,
          "text": "25%",
          "x": -0.45,
          "xanchor": "left",
          "xref": "x",
          "y": 5,
          "yref": "y"
         },
         {
          "align": "center",
          "font": {
           "color": "#000000"
          },
          "showarrow": false,
          "text": "2,406.50",
          "x": 0.55,
          "xanchor": "left",
          "xref": "x",
          "y": 5,
          "yref": "y"
         },
         {
          "align": "center",
          "font": {
           "color": "#000000"
          },
          "showarrow": false,
          "text": "50%",
          "x": -0.45,
          "xanchor": "left",
          "xref": "x",
          "y": 6,
          "yref": "y"
         },
         {
          "align": "center",
          "font": {
           "color": "#000000"
          },
          "showarrow": false,
          "text": "2,428.00",
          "x": 0.55,
          "xanchor": "left",
          "xref": "x",
          "y": 6,
          "yref": "y"
         },
         {
          "align": "center",
          "font": {
           "color": "#000000"
          },
          "showarrow": false,
          "text": "75%",
          "x": -0.45,
          "xanchor": "left",
          "xref": "x",
          "y": 7,
          "yref": "y"
         },
         {
          "align": "center",
          "font": {
           "color": "#000000"
          },
          "showarrow": false,
          "text": "2,677.00",
          "x": 0.55,
          "xanchor": "left",
          "xref": "x",
          "y": 7,
          "yref": "y"
         },
         {
          "align": "center",
          "font": {
           "color": "#000000"
          },
          "showarrow": false,
          "text": "max",
          "x": -0.45,
          "xanchor": "left",
          "xref": "x",
          "y": 8,
          "yref": "y"
         },
         {
          "align": "center",
          "font": {
           "color": "#000000"
          },
          "showarrow": false,
          "text": "2,926.00",
          "x": 0.55,
          "xanchor": "left",
          "xref": "x",
          "y": 8,
          "yref": "y"
         }
        ],
        "height": 320,
        "margin": {
         "b": 0,
         "l": 0,
         "r": 0,
         "t": 0
        },
        "template": {
         "data": {
          "bar": [
           {
            "error_x": {
             "color": "#2a3f5f"
            },
            "error_y": {
             "color": "#2a3f5f"
            },
            "marker": {
             "line": {
              "color": "#E5ECF6",
              "width": 0.5
             },
             "pattern": {
              "fillmode": "overlay",
              "size": 10,
              "solidity": 0.2
             }
            },
            "type": "bar"
           }
          ],
          "barpolar": [
           {
            "marker": {
             "line": {
              "color": "#E5ECF6",
              "width": 0.5
             },
             "pattern": {
              "fillmode": "overlay",
              "size": 10,
              "solidity": 0.2
             }
            },
            "type": "barpolar"
           }
          ],
          "carpet": [
           {
            "aaxis": {
             "endlinecolor": "#2a3f5f",
             "gridcolor": "white",
             "linecolor": "white",
             "minorgridcolor": "white",
             "startlinecolor": "#2a3f5f"
            },
            "baxis": {
             "endlinecolor": "#2a3f5f",
             "gridcolor": "white",
             "linecolor": "white",
             "minorgridcolor": "white",
             "startlinecolor": "#2a3f5f"
            },
            "type": "carpet"
           }
          ],
          "choropleth": [
           {
            "colorbar": {
             "outlinewidth": 0,
             "ticks": ""
            },
            "type": "choropleth"
           }
          ],
          "contour": [
           {
            "colorbar": {
             "outlinewidth": 0,
             "ticks": ""
            },
            "colorscale": [
             [
              0,
              "#0d0887"
             ],
             [
              0.1111111111111111,
              "#46039f"
             ],
             [
              0.2222222222222222,
              "#7201a8"
             ],
             [
              0.3333333333333333,
              "#9c179e"
             ],
             [
              0.4444444444444444,
              "#bd3786"
             ],
             [
              0.5555555555555556,
              "#d8576b"
             ],
             [
              0.6666666666666666,
              "#ed7953"
             ],
             [
              0.7777777777777778,
              "#fb9f3a"
             ],
             [
              0.8888888888888888,
              "#fdca26"
             ],
             [
              1,
              "#f0f921"
             ]
            ],
            "type": "contour"
           }
          ],
          "contourcarpet": [
           {
            "colorbar": {
             "outlinewidth": 0,
             "ticks": ""
            },
            "type": "contourcarpet"
           }
          ],
          "heatmap": [
           {
            "colorbar": {
             "outlinewidth": 0,
             "ticks": ""
            },
            "colorscale": [
             [
              0,
              "#0d0887"
             ],
             [
              0.1111111111111111,
              "#46039f"
             ],
             [
              0.2222222222222222,
              "#7201a8"
             ],
             [
              0.3333333333333333,
              "#9c179e"
             ],
             [
              0.4444444444444444,
              "#bd3786"
             ],
             [
              0.5555555555555556,
              "#d8576b"
             ],
             [
              0.6666666666666666,
              "#ed7953"
             ],
             [
              0.7777777777777778,
              "#fb9f3a"
             ],
             [
              0.8888888888888888,
              "#fdca26"
             ],
             [
              1,
              "#f0f921"
             ]
            ],
            "type": "heatmap"
           }
          ],
          "histogram": [
           {
            "marker": {
             "pattern": {
              "fillmode": "overlay",
              "size": 10,
              "solidity": 0.2
             }
            },
            "type": "histogram"
           }
          ],
          "histogram2d": [
           {
            "colorbar": {
             "outlinewidth": 0,
             "ticks": ""
            },
            "colorscale": [
             [
              0,
              "#0d0887"
             ],
             [
              0.1111111111111111,
              "#46039f"
             ],
             [
              0.2222222222222222,
              "#7201a8"
             ],
             [
              0.3333333333333333,
              "#9c179e"
             ],
             [
              0.4444444444444444,
              "#bd3786"
             ],
             [
              0.5555555555555556,
              "#d8576b"
             ],
             [
              0.6666666666666666,
              "#ed7953"
             ],
             [
              0.7777777777777778,
              "#fb9f3a"
             ],
             [
              0.8888888888888888,
              "#fdca26"
             ],
             [
              1,
              "#f0f921"
             ]
            ],
            "type": "histogram2d"
           }
          ],
          "histogram2dcontour": [
           {
            "colorbar": {
             "outlinewidth": 0,
             "ticks": ""
            },
            "colorscale": [
             [
              0,
              "#0d0887"
             ],
             [
              0.1111111111111111,
              "#46039f"
             ],
             [
              0.2222222222222222,
              "#7201a8"
             ],
             [
              0.3333333333333333,
              "#9c179e"
             ],
             [
              0.4444444444444444,
              "#bd3786"
             ],
             [
              0.5555555555555556,
              "#d8576b"
             ],
             [
              0.6666666666666666,
              "#ed7953"
             ],
             [
              0.7777777777777778,
              "#fb9f3a"
             ],
             [
              0.8888888888888888,
              "#fdca26"
             ],
             [
              1,
              "#f0f921"
             ]
            ],
            "type": "histogram2dcontour"
           }
          ],
          "mesh3d": [
           {
            "colorbar": {
             "outlinewidth": 0,
             "ticks": ""
            },
            "type": "mesh3d"
           }
          ],
          "parcoords": [
           {
            "line": {
             "colorbar": {
              "outlinewidth": 0,
              "ticks": ""
             }
            },
            "type": "parcoords"
           }
          ],
          "pie": [
           {
            "automargin": true,
            "type": "pie"
           }
          ],
          "scatter": [
           {
            "fillpattern": {
             "fillmode": "overlay",
             "size": 10,
             "solidity": 0.2
            },
            "type": "scatter"
           }
          ],
          "scatter3d": [
           {
            "line": {
             "colorbar": {
              "outlinewidth": 0,
              "ticks": ""
             }
            },
            "marker": {
             "colorbar": {
              "outlinewidth": 0,
              "ticks": ""
             }
            },
            "type": "scatter3d"
           }
          ],
          "scattercarpet": [
           {
            "marker": {
             "colorbar": {
              "outlinewidth": 0,
              "ticks": ""
             }
            },
            "type": "scattercarpet"
           }
          ],
          "scattergeo": [
           {
            "marker": {
             "colorbar": {
              "outlinewidth": 0,
              "ticks": ""
             }
            },
            "type": "scattergeo"
           }
          ],
          "scattergl": [
           {
            "marker": {
             "colorbar": {
              "outlinewidth": 0,
              "ticks": ""
             }
            },
            "type": "scattergl"
           }
          ],
          "scattermap": [
           {
            "marker": {
             "colorbar": {
              "outlinewidth": 0,
              "ticks": ""
             }
            },
            "type": "scattermap"
           }
          ],
          "scattermapbox": [
           {
            "marker": {
             "colorbar": {
              "outlinewidth": 0,
              "ticks": ""
             }
            },
            "type": "scattermapbox"
           }
          ],
          "scatterpolar": [
           {
            "marker": {
             "colorbar": {
              "outlinewidth": 0,
              "ticks": ""
             }
            },
            "type": "scatterpolar"
           }
          ],
          "scatterpolargl": [
           {
            "marker": {
             "colorbar": {
              "outlinewidth": 0,
              "ticks": ""
             }
            },
            "type": "scatterpolargl"
           }
          ],
          "scatterternary": [
           {
            "marker": {
             "colorbar": {
              "outlinewidth": 0,
              "ticks": ""
             }
            },
            "type": "scatterternary"
           }
          ],
          "surface": [
           {
            "colorbar": {
             "outlinewidth": 0,
             "ticks": ""
            },
            "colorscale": [
             [
              0,
              "#0d0887"
             ],
             [
              0.1111111111111111,
              "#46039f"
             ],
             [
              0.2222222222222222,
              "#7201a8"
             ],
             [
              0.3333333333333333,
              "#9c179e"
             ],
             [
              0.4444444444444444,
              "#bd3786"
             ],
             [
              0.5555555555555556,
              "#d8576b"
             ],
             [
              0.6666666666666666,
              "#ed7953"
             ],
             [
              0.7777777777777778,
              "#fb9f3a"
             ],
             [
              0.8888888888888888,
              "#fdca26"
             ],
             [
              1,
              "#f0f921"
             ]
            ],
            "type": "surface"
           }
          ],
          "table": [
           {
            "cells": {
             "fill": {
              "color": "#EBF0F8"
             },
             "line": {
              "color": "white"
             }
            },
            "header": {
             "fill": {
              "color": "#C8D4E3"
             },
             "line": {
              "color": "white"
             }
            },
            "type": "table"
           }
          ]
         },
         "layout": {
          "annotationdefaults": {
           "arrowcolor": "#2a3f5f",
           "arrowhead": 0,
           "arrowwidth": 1
          },
          "autotypenumbers": "strict",
          "coloraxis": {
           "colorbar": {
            "outlinewidth": 0,
            "ticks": ""
           }
          },
          "colorscale": {
           "diverging": [
            [
             0,
             "#8e0152"
            ],
            [
             0.1,
             "#c51b7d"
            ],
            [
             0.2,
             "#de77ae"
            ],
            [
             0.3,
             "#f1b6da"
            ],
            [
             0.4,
             "#fde0ef"
            ],
            [
             0.5,
             "#f7f7f7"
            ],
            [
             0.6,
             "#e6f5d0"
            ],
            [
             0.7,
             "#b8e186"
            ],
            [
             0.8,
             "#7fbc41"
            ],
            [
             0.9,
             "#4d9221"
            ],
            [
             1,
             "#276419"
            ]
           ],
           "sequential": [
            [
             0,
             "#0d0887"
            ],
            [
             0.1111111111111111,
             "#46039f"
            ],
            [
             0.2222222222222222,
             "#7201a8"
            ],
            [
             0.3333333333333333,
             "#9c179e"
            ],
            [
             0.4444444444444444,
             "#bd3786"
            ],
            [
             0.5555555555555556,
             "#d8576b"
            ],
            [
             0.6666666666666666,
             "#ed7953"
            ],
            [
             0.7777777777777778,
             "#fb9f3a"
            ],
            [
             0.8888888888888888,
             "#fdca26"
            ],
            [
             1,
             "#f0f921"
            ]
           ],
           "sequentialminus": [
            [
             0,
             "#0d0887"
            ],
            [
             0.1111111111111111,
             "#46039f"
            ],
            [
             0.2222222222222222,
             "#7201a8"
            ],
            [
             0.3333333333333333,
             "#9c179e"
            ],
            [
             0.4444444444444444,
             "#bd3786"
            ],
            [
             0.5555555555555556,
             "#d8576b"
            ],
            [
             0.6666666666666666,
             "#ed7953"
            ],
            [
             0.7777777777777778,
             "#fb9f3a"
            ],
            [
             0.8888888888888888,
             "#fdca26"
            ],
            [
             1,
             "#f0f921"
            ]
           ]
          },
          "colorway": [
           "#636efa",
           "#EF553B",
           "#00cc96",
           "#ab63fa",
           "#FFA15A",
           "#19d3f3",
           "#FF6692",
           "#B6E880",
           "#FF97FF",
           "#FECB52"
          ],
          "font": {
           "color": "#2a3f5f"
          },
          "geo": {
           "bgcolor": "white",
           "lakecolor": "white",
           "landcolor": "#E5ECF6",
           "showlakes": true,
           "showland": true,
           "subunitcolor": "white"
          },
          "hoverlabel": {
           "align": "left"
          },
          "hovermode": "closest",
          "mapbox": {
           "style": "light"
          },
          "paper_bgcolor": "white",
          "plot_bgcolor": "#E5ECF6",
          "polar": {
           "angularaxis": {
            "gridcolor": "white",
            "linecolor": "white",
            "ticks": ""
           },
           "bgcolor": "#E5ECF6",
           "radialaxis": {
            "gridcolor": "white",
            "linecolor": "white",
            "ticks": ""
           }
          },
          "scene": {
           "xaxis": {
            "backgroundcolor": "#E5ECF6",
            "gridcolor": "white",
            "gridwidth": 2,
            "linecolor": "white",
            "showbackground": true,
            "ticks": "",
            "zerolinecolor": "white"
           },
           "yaxis": {
            "backgroundcolor": "#E5ECF6",
            "gridcolor": "white",
            "gridwidth": 2,
            "linecolor": "white",
            "showbackground": true,
            "ticks": "",
            "zerolinecolor": "white"
           },
           "zaxis": {
            "backgroundcolor": "#E5ECF6",
            "gridcolor": "white",
            "gridwidth": 2,
            "linecolor": "white",
            "showbackground": true,
            "ticks": "",
            "zerolinecolor": "white"
           }
          },
          "shapedefaults": {
           "line": {
            "color": "#2a3f5f"
           }
          },
          "ternary": {
           "aaxis": {
            "gridcolor": "white",
            "linecolor": "white",
            "ticks": ""
           },
           "baxis": {
            "gridcolor": "white",
            "linecolor": "white",
            "ticks": ""
           },
           "bgcolor": "#E5ECF6",
           "caxis": {
            "gridcolor": "white",
            "linecolor": "white",
            "ticks": ""
           }
          },
          "title": {
           "x": 0.05
          },
          "xaxis": {
           "automargin": true,
           "gridcolor": "white",
           "linecolor": "white",
           "ticks": "",
           "title": {
            "standoff": 15
           },
           "zerolinecolor": "white",
           "zerolinewidth": 2
          },
          "yaxis": {
           "automargin": true,
           "gridcolor": "white",
           "linecolor": "white",
           "ticks": "",
           "title": {
            "standoff": 15
           },
           "zerolinecolor": "white",
           "zerolinewidth": 2
          }
         }
        },
        "title": {
         "text": "Document Statistics"
        },
        "xaxis": {
         "dtick": 1,
         "gridwidth": 2,
         "showticklabels": false,
         "tick0": -0.5,
         "ticks": "",
         "zeroline": false
        },
        "yaxis": {
         "autorange": "reversed",
         "dtick": 1,
         "gridwidth": 2,
         "showticklabels": false,
         "tick0": 0.5,
         "ticks": "",
         "zeroline": false
        }
       }
      }
     },
     "metadata": {},
     "output_type": "display_data"
    },
    {
     "data": {
      "application/vnd.plotly.v1+json": {
       "config": {
        "plotlyServerURL": "https://plot.ly"
       },
       "data": [
        {
         "colorscale": [
          [
           0,
           "#00083e"
          ],
          [
           0.5,
           "#ededee"
          ],
          [
           1,
           "#ffffff"
          ]
         ],
         "hoverinfo": "none",
         "opacity": 0.75,
         "showscale": false,
         "type": "heatmap",
         "z": [
          [
           0,
           0
          ],
          [
           0.5,
           0.5
          ],
          [
           1,
           1
          ],
          [
           0.5,
           0.5
          ],
          [
           1,
           1
          ],
          [
           0.5,
           0.5
          ],
          [
           1,
           1
          ],
          [
           0.5,
           0.5
          ],
          [
           1,
           1
          ]
         ]
        }
       ],
       "layout": {
        "annotations": [
         {
          "align": "center",
          "font": {
           "color": "#ffffff"
          },
          "showarrow": false,
          "text": "<b>Metric</b>",
          "x": -0.45,
          "xanchor": "left",
          "xref": "x",
          "y": 0,
          "yref": "y"
         },
         {
          "align": "center",
          "font": {
           "color": "#ffffff"
          },
          "showarrow": false,
          "text": "<b>Value</b>",
          "x": 0.55,
          "xanchor": "left",
          "xref": "x",
          "y": 0,
          "yref": "y"
         },
         {
          "align": "center",
          "font": {
           "color": "#000000"
          },
          "showarrow": false,
          "text": "count",
          "x": -0.45,
          "xanchor": "left",
          "xref": "x",
          "y": 1,
          "yref": "y"
         },
         {
          "align": "center",
          "font": {
           "color": "#000000"
          },
          "showarrow": false,
          "text": "3.00",
          "x": 0.55,
          "xanchor": "left",
          "xref": "x",
          "y": 1,
          "yref": "y"
         },
         {
          "align": "center",
          "font": {
           "color": "#000000"
          },
          "showarrow": false,
          "text": "mean",
          "x": -0.45,
          "xanchor": "left",
          "xref": "x",
          "y": 2,
          "yref": "y"
         },
         {
          "align": "center",
          "font": {
           "color": "#000000"
          },
          "showarrow": false,
          "text": "3,034.67",
          "x": 0.55,
          "xanchor": "left",
          "xref": "x",
          "y": 2,
          "yref": "y"
         },
         {
          "align": "center",
          "font": {
           "color": "#000000"
          },
          "showarrow": false,
          "text": "std",
          "x": -0.45,
          "xanchor": "left",
          "xref": "x",
          "y": 3,
          "yref": "y"
         },
         {
          "align": "center",
          "font": {
           "color": "#000000"
          },
          "showarrow": false,
          "text": "341.81",
          "x": 0.55,
          "xanchor": "left",
          "xref": "x",
          "y": 3,
          "yref": "y"
         },
         {
          "align": "center",
          "font": {
           "color": "#000000"
          },
          "showarrow": false,
          "text": "min",
          "x": -0.45,
          "xanchor": "left",
          "xref": "x",
          "y": 4,
          "yref": "y"
         },
         {
          "align": "center",
          "font": {
           "color": "#000000"
          },
          "showarrow": false,
          "text": "2,823.00",
          "x": 0.55,
          "xanchor": "left",
          "xref": "x",
          "y": 4,
          "yref": "y"
         },
         {
          "align": "center",
          "font": {
           "color": "#000000"
          },
          "showarrow": false,
          "text": "25%",
          "x": -0.45,
          "xanchor": "left",
          "xref": "x",
          "y": 5,
          "yref": "y"
         },
         {
          "align": "center",
          "font": {
           "color": "#000000"
          },
          "showarrow": false,
          "text": "2,837.50",
          "x": 0.55,
          "xanchor": "left",
          "xref": "x",
          "y": 5,
          "yref": "y"
         },
         {
          "align": "center",
          "font": {
           "color": "#000000"
          },
          "showarrow": false,
          "text": "50%",
          "x": -0.45,
          "xanchor": "left",
          "xref": "x",
          "y": 6,
          "yref": "y"
         },
         {
          "align": "center",
          "font": {
           "color": "#000000"
          },
          "showarrow": false,
          "text": "2,852.00",
          "x": 0.55,
          "xanchor": "left",
          "xref": "x",
          "y": 6,
          "yref": "y"
         },
         {
          "align": "center",
          "font": {
           "color": "#000000"
          },
          "showarrow": false,
          "text": "75%",
          "x": -0.45,
          "xanchor": "left",
          "xref": "x",
          "y": 7,
          "yref": "y"
         },
         {
          "align": "center",
          "font": {
           "color": "#000000"
          },
          "showarrow": false,
          "text": "3,140.50",
          "x": 0.55,
          "xanchor": "left",
          "xref": "x",
          "y": 7,
          "yref": "y"
         },
         {
          "align": "center",
          "font": {
           "color": "#000000"
          },
          "showarrow": false,
          "text": "max",
          "x": -0.45,
          "xanchor": "left",
          "xref": "x",
          "y": 8,
          "yref": "y"
         },
         {
          "align": "center",
          "font": {
           "color": "#000000"
          },
          "showarrow": false,
          "text": "3,429.00",
          "x": 0.55,
          "xanchor": "left",
          "xref": "x",
          "y": 8,
          "yref": "y"
         }
        ],
        "height": 320,
        "margin": {
         "b": 0,
         "l": 0,
         "r": 0,
         "t": 0
        },
        "template": {
         "data": {
          "bar": [
           {
            "error_x": {
             "color": "#2a3f5f"
            },
            "error_y": {
             "color": "#2a3f5f"
            },
            "marker": {
             "line": {
              "color": "#E5ECF6",
              "width": 0.5
             },
             "pattern": {
              "fillmode": "overlay",
              "size": 10,
              "solidity": 0.2
             }
            },
            "type": "bar"
           }
          ],
          "barpolar": [
           {
            "marker": {
             "line": {
              "color": "#E5ECF6",
              "width": 0.5
             },
             "pattern": {
              "fillmode": "overlay",
              "size": 10,
              "solidity": 0.2
             }
            },
            "type": "barpolar"
           }
          ],
          "carpet": [
           {
            "aaxis": {
             "endlinecolor": "#2a3f5f",
             "gridcolor": "white",
             "linecolor": "white",
             "minorgridcolor": "white",
             "startlinecolor": "#2a3f5f"
            },
            "baxis": {
             "endlinecolor": "#2a3f5f",
             "gridcolor": "white",
             "linecolor": "white",
             "minorgridcolor": "white",
             "startlinecolor": "#2a3f5f"
            },
            "type": "carpet"
           }
          ],
          "choropleth": [
           {
            "colorbar": {
             "outlinewidth": 0,
             "ticks": ""
            },
            "type": "choropleth"
           }
          ],
          "contour": [
           {
            "colorbar": {
             "outlinewidth": 0,
             "ticks": ""
            },
            "colorscale": [
             [
              0,
              "#0d0887"
             ],
             [
              0.1111111111111111,
              "#46039f"
             ],
             [
              0.2222222222222222,
              "#7201a8"
             ],
             [
              0.3333333333333333,
              "#9c179e"
             ],
             [
              0.4444444444444444,
              "#bd3786"
             ],
             [
              0.5555555555555556,
              "#d8576b"
             ],
             [
              0.6666666666666666,
              "#ed7953"
             ],
             [
              0.7777777777777778,
              "#fb9f3a"
             ],
             [
              0.8888888888888888,
              "#fdca26"
             ],
             [
              1,
              "#f0f921"
             ]
            ],
            "type": "contour"
           }
          ],
          "contourcarpet": [
           {
            "colorbar": {
             "outlinewidth": 0,
             "ticks": ""
            },
            "type": "contourcarpet"
           }
          ],
          "heatmap": [
           {
            "colorbar": {
             "outlinewidth": 0,
             "ticks": ""
            },
            "colorscale": [
             [
              0,
              "#0d0887"
             ],
             [
              0.1111111111111111,
              "#46039f"
             ],
             [
              0.2222222222222222,
              "#7201a8"
             ],
             [
              0.3333333333333333,
              "#9c179e"
             ],
             [
              0.4444444444444444,
              "#bd3786"
             ],
             [
              0.5555555555555556,
              "#d8576b"
             ],
             [
              0.6666666666666666,
              "#ed7953"
             ],
             [
              0.7777777777777778,
              "#fb9f3a"
             ],
             [
              0.8888888888888888,
              "#fdca26"
             ],
             [
              1,
              "#f0f921"
             ]
            ],
            "type": "heatmap"
           }
          ],
          "histogram": [
           {
            "marker": {
             "pattern": {
              "fillmode": "overlay",
              "size": 10,
              "solidity": 0.2
             }
            },
            "type": "histogram"
           }
          ],
          "histogram2d": [
           {
            "colorbar": {
             "outlinewidth": 0,
             "ticks": ""
            },
            "colorscale": [
             [
              0,
              "#0d0887"
             ],
             [
              0.1111111111111111,
              "#46039f"
             ],
             [
              0.2222222222222222,
              "#7201a8"
             ],
             [
              0.3333333333333333,
              "#9c179e"
             ],
             [
              0.4444444444444444,
              "#bd3786"
             ],
             [
              0.5555555555555556,
              "#d8576b"
             ],
             [
              0.6666666666666666,
              "#ed7953"
             ],
             [
              0.7777777777777778,
              "#fb9f3a"
             ],
             [
              0.8888888888888888,
              "#fdca26"
             ],
             [
              1,
              "#f0f921"
             ]
            ],
            "type": "histogram2d"
           }
          ],
          "histogram2dcontour": [
           {
            "colorbar": {
             "outlinewidth": 0,
             "ticks": ""
            },
            "colorscale": [
             [
              0,
              "#0d0887"
             ],
             [
              0.1111111111111111,
              "#46039f"
             ],
             [
              0.2222222222222222,
              "#7201a8"
             ],
             [
              0.3333333333333333,
              "#9c179e"
             ],
             [
              0.4444444444444444,
              "#bd3786"
             ],
             [
              0.5555555555555556,
              "#d8576b"
             ],
             [
              0.6666666666666666,
              "#ed7953"
             ],
             [
              0.7777777777777778,
              "#fb9f3a"
             ],
             [
              0.8888888888888888,
              "#fdca26"
             ],
             [
              1,
              "#f0f921"
             ]
            ],
            "type": "histogram2dcontour"
           }
          ],
          "mesh3d": [
           {
            "colorbar": {
             "outlinewidth": 0,
             "ticks": ""
            },
            "type": "mesh3d"
           }
          ],
          "parcoords": [
           {
            "line": {
             "colorbar": {
              "outlinewidth": 0,
              "ticks": ""
             }
            },
            "type": "parcoords"
           }
          ],
          "pie": [
           {
            "automargin": true,
            "type": "pie"
           }
          ],
          "scatter": [
           {
            "fillpattern": {
             "fillmode": "overlay",
             "size": 10,
             "solidity": 0.2
            },
            "type": "scatter"
           }
          ],
          "scatter3d": [
           {
            "line": {
             "colorbar": {
              "outlinewidth": 0,
              "ticks": ""
             }
            },
            "marker": {
             "colorbar": {
              "outlinewidth": 0,
              "ticks": ""
             }
            },
            "type": "scatter3d"
           }
          ],
          "scattercarpet": [
           {
            "marker": {
             "colorbar": {
              "outlinewidth": 0,
              "ticks": ""
             }
            },
            "type": "scattercarpet"
           }
          ],
          "scattergeo": [
           {
            "marker": {
             "colorbar": {
              "outlinewidth": 0,
              "ticks": ""
             }
            },
            "type": "scattergeo"
           }
          ],
          "scattergl": [
           {
            "marker": {
             "colorbar": {
              "outlinewidth": 0,
              "ticks": ""
             }
            },
            "type": "scattergl"
           }
          ],
          "scattermap": [
           {
            "marker": {
             "colorbar": {
              "outlinewidth": 0,
              "ticks": ""
             }
            },
            "type": "scattermap"
           }
          ],
          "scattermapbox": [
           {
            "marker": {
             "colorbar": {
              "outlinewidth": 0,
              "ticks": ""
             }
            },
            "type": "scattermapbox"
           }
          ],
          "scatterpolar": [
           {
            "marker": {
             "colorbar": {
              "outlinewidth": 0,
              "ticks": ""
             }
            },
            "type": "scatterpolar"
           }
          ],
          "scatterpolargl": [
           {
            "marker": {
             "colorbar": {
              "outlinewidth": 0,
              "ticks": ""
             }
            },
            "type": "scatterpolargl"
           }
          ],
          "scatterternary": [
           {
            "marker": {
             "colorbar": {
              "outlinewidth": 0,
              "ticks": ""
             }
            },
            "type": "scatterternary"
           }
          ],
          "surface": [
           {
            "colorbar": {
             "outlinewidth": 0,
             "ticks": ""
            },
            "colorscale": [
             [
              0,
              "#0d0887"
             ],
             [
              0.1111111111111111,
              "#46039f"
             ],
             [
              0.2222222222222222,
              "#7201a8"
             ],
             [
              0.3333333333333333,
              "#9c179e"
             ],
             [
              0.4444444444444444,
              "#bd3786"
             ],
             [
              0.5555555555555556,
              "#d8576b"
             ],
             [
              0.6666666666666666,
              "#ed7953"
             ],
             [
              0.7777777777777778,
              "#fb9f3a"
             ],
             [
              0.8888888888888888,
              "#fdca26"
             ],
             [
              1,
              "#f0f921"
             ]
            ],
            "type": "surface"
           }
          ],
          "table": [
           {
            "cells": {
             "fill": {
              "color": "#EBF0F8"
             },
             "line": {
              "color": "white"
             }
            },
            "header": {
             "fill": {
              "color": "#C8D4E3"
             },
             "line": {
              "color": "white"
             }
            },
            "type": "table"
           }
          ]
         },
         "layout": {
          "annotationdefaults": {
           "arrowcolor": "#2a3f5f",
           "arrowhead": 0,
           "arrowwidth": 1
          },
          "autotypenumbers": "strict",
          "coloraxis": {
           "colorbar": {
            "outlinewidth": 0,
            "ticks": ""
           }
          },
          "colorscale": {
           "diverging": [
            [
             0,
             "#8e0152"
            ],
            [
             0.1,
             "#c51b7d"
            ],
            [
             0.2,
             "#de77ae"
            ],
            [
             0.3,
             "#f1b6da"
            ],
            [
             0.4,
             "#fde0ef"
            ],
            [
             0.5,
             "#f7f7f7"
            ],
            [
             0.6,
             "#e6f5d0"
            ],
            [
             0.7,
             "#b8e186"
            ],
            [
             0.8,
             "#7fbc41"
            ],
            [
             0.9,
             "#4d9221"
            ],
            [
             1,
             "#276419"
            ]
           ],
           "sequential": [
            [
             0,
             "#0d0887"
            ],
            [
             0.1111111111111111,
             "#46039f"
            ],
            [
             0.2222222222222222,
             "#7201a8"
            ],
            [
             0.3333333333333333,
             "#9c179e"
            ],
            [
             0.4444444444444444,
             "#bd3786"
            ],
            [
             0.5555555555555556,
             "#d8576b"
            ],
            [
             0.6666666666666666,
             "#ed7953"
            ],
            [
             0.7777777777777778,
             "#fb9f3a"
            ],
            [
             0.8888888888888888,
             "#fdca26"
            ],
            [
             1,
             "#f0f921"
            ]
           ],
           "sequentialminus": [
            [
             0,
             "#0d0887"
            ],
            [
             0.1111111111111111,
             "#46039f"
            ],
            [
             0.2222222222222222,
             "#7201a8"
            ],
            [
             0.3333333333333333,
             "#9c179e"
            ],
            [
             0.4444444444444444,
             "#bd3786"
            ],
            [
             0.5555555555555556,
             "#d8576b"
            ],
            [
             0.6666666666666666,
             "#ed7953"
            ],
            [
             0.7777777777777778,
             "#fb9f3a"
            ],
            [
             0.8888888888888888,
             "#fdca26"
            ],
            [
             1,
             "#f0f921"
            ]
           ]
          },
          "colorway": [
           "#636efa",
           "#EF553B",
           "#00cc96",
           "#ab63fa",
           "#FFA15A",
           "#19d3f3",
           "#FF6692",
           "#B6E880",
           "#FF97FF",
           "#FECB52"
          ],
          "font": {
           "color": "#2a3f5f"
          },
          "geo": {
           "bgcolor": "white",
           "lakecolor": "white",
           "landcolor": "#E5ECF6",
           "showlakes": true,
           "showland": true,
           "subunitcolor": "white"
          },
          "hoverlabel": {
           "align": "left"
          },
          "hovermode": "closest",
          "mapbox": {
           "style": "light"
          },
          "paper_bgcolor": "white",
          "plot_bgcolor": "#E5ECF6",
          "polar": {
           "angularaxis": {
            "gridcolor": "white",
            "linecolor": "white",
            "ticks": ""
           },
           "bgcolor": "#E5ECF6",
           "radialaxis": {
            "gridcolor": "white",
            "linecolor": "white",
            "ticks": ""
           }
          },
          "scene": {
           "xaxis": {
            "backgroundcolor": "#E5ECF6",
            "gridcolor": "white",
            "gridwidth": 2,
            "linecolor": "white",
            "showbackground": true,
            "ticks": "",
            "zerolinecolor": "white"
           },
           "yaxis": {
            "backgroundcolor": "#E5ECF6",
            "gridcolor": "white",
            "gridwidth": 2,
            "linecolor": "white",
            "showbackground": true,
            "ticks": "",
            "zerolinecolor": "white"
           },
           "zaxis": {
            "backgroundcolor": "#E5ECF6",
            "gridcolor": "white",
            "gridwidth": 2,
            "linecolor": "white",
            "showbackground": true,
            "ticks": "",
            "zerolinecolor": "white"
           }
          },
          "shapedefaults": {
           "line": {
            "color": "#2a3f5f"
           }
          },
          "ternary": {
           "aaxis": {
            "gridcolor": "white",
            "linecolor": "white",
            "ticks": ""
           },
           "baxis": {
            "gridcolor": "white",
            "linecolor": "white",
            "ticks": ""
           },
           "bgcolor": "#E5ECF6",
           "caxis": {
            "gridcolor": "white",
            "linecolor": "white",
            "ticks": ""
           }
          },
          "title": {
           "x": 0.05
          },
          "xaxis": {
           "automargin": true,
           "gridcolor": "white",
           "linecolor": "white",
           "ticks": "",
           "title": {
            "standoff": 15
           },
           "zerolinecolor": "white",
           "zerolinewidth": 2
          },
          "yaxis": {
           "automargin": true,
           "gridcolor": "white",
           "linecolor": "white",
           "ticks": "",
           "title": {
            "standoff": 15
           },
           "zerolinecolor": "white",
           "zerolinewidth": 2
          }
         }
        },
        "title": {
         "text": "Token-Based Document Statistics"
        },
        "xaxis": {
         "dtick": 1,
         "gridwidth": 2,
         "showticklabels": false,
         "tick0": -0.5,
         "ticks": "",
         "zeroline": false
        },
        "yaxis": {
         "autorange": "reversed",
         "dtick": 1,
         "gridwidth": 2,
         "showticklabels": false,
         "tick0": 0.5,
         "ticks": "",
         "zeroline": false
        }
       }
      }
     },
     "metadata": {},
     "output_type": "display_data"
    },
    {
     "data": {
      "application/vnd.plotly.v1+json": {
       "config": {
        "plotlyServerURL": "https://plot.ly"
       },
       "data": [
        {
         "hovertemplate": "Word=%{x}<br>Frequency=%{marker.color}<br>text=%{text}<extra></extra>",
         "legendgroup": "",
         "marker": {
          "color": {
           "bdata": "4AHuAL4ArwCpAIwAVwBSAFAATwBHAEIAPQA2ADQANAAzADAALgAtAA==",
           "dtype": "i2"
          },
          "coloraxis": "coloraxis",
          "pattern": {
           "shape": ""
          }
         },
         "name": "",
         "orientation": "v",
         "showlegend": false,
         "text": [
          "480 (7.49%)",
          "238 (3.71%)",
          "190 (2.97%)",
          "175 (2.73%)",
          "169 (2.64%)",
          "140 (2.19%)",
          "87 (1.36%)",
          "82 (1.28%)",
          "80 (1.25%)",
          "79 (1.23%)",
          "71 (1.11%)",
          "66 (1.03%)",
          "61 (0.95%)",
          "54 (0.84%)",
          "52 (0.81%)",
          "52 (0.81%)",
          "51 (0.80%)",
          "48 (0.75%)",
          "46 (0.72%)",
          "45 (0.70%)"
         ],
         "textposition": "outside",
         "type": "bar",
         "x": [
          "the",
          "of",
          "to",
          "and",
          "in",
          "for",
          "th",
          "is",
          "information",
          "a",
          "1",
          "st",
          "year",
          "are",
          "students",
          "student",
          "8",
          "installment",
          "systems",
          "who"
         ],
         "xaxis": "x",
         "y": {
          "bdata": "4AHuAL4ArwCpAIwAVwBSAFAATwBHAEIAPQA2ADQANAAzADAALgAtAA==",
          "dtype": "i2"
         },
         "yaxis": "y"
        }
       ],
       "layout": {
        "bargap": 0.2,
        "barmode": "relative",
        "coloraxis": {
         "colorbar": {
          "title": {
           "text": "Frequency"
          }
         },
         "colorscale": [
          [
           0,
           "rgb(247,251,255)"
          ],
          [
           0.125,
           "rgb(222,235,247)"
          ],
          [
           0.25,
           "rgb(198,219,239)"
          ],
          [
           0.375,
           "rgb(158,202,225)"
          ],
          [
           0.5,
           "rgb(107,174,214)"
          ],
          [
           0.625,
           "rgb(66,146,198)"
          ],
          [
           0.75,
           "rgb(33,113,181)"
          ],
          [
           0.875,
           "rgb(8,81,156)"
          ],
          [
           1,
           "rgb(8,48,107)"
          ]
         ],
         "showscale": false
        },
        "legend": {
         "tracegroupgap": 0
        },
        "template": {
         "data": {
          "bar": [
           {
            "error_x": {
             "color": "#2a3f5f"
            },
            "error_y": {
             "color": "#2a3f5f"
            },
            "marker": {
             "line": {
              "color": "#E5ECF6",
              "width": 0.5
             },
             "pattern": {
              "fillmode": "overlay",
              "size": 10,
              "solidity": 0.2
             }
            },
            "type": "bar"
           }
          ],
          "barpolar": [
           {
            "marker": {
             "line": {
              "color": "#E5ECF6",
              "width": 0.5
             },
             "pattern": {
              "fillmode": "overlay",
              "size": 10,
              "solidity": 0.2
             }
            },
            "type": "barpolar"
           }
          ],
          "carpet": [
           {
            "aaxis": {
             "endlinecolor": "#2a3f5f",
             "gridcolor": "white",
             "linecolor": "white",
             "minorgridcolor": "white",
             "startlinecolor": "#2a3f5f"
            },
            "baxis": {
             "endlinecolor": "#2a3f5f",
             "gridcolor": "white",
             "linecolor": "white",
             "minorgridcolor": "white",
             "startlinecolor": "#2a3f5f"
            },
            "type": "carpet"
           }
          ],
          "choropleth": [
           {
            "colorbar": {
             "outlinewidth": 0,
             "ticks": ""
            },
            "type": "choropleth"
           }
          ],
          "contour": [
           {
            "colorbar": {
             "outlinewidth": 0,
             "ticks": ""
            },
            "colorscale": [
             [
              0,
              "#0d0887"
             ],
             [
              0.1111111111111111,
              "#46039f"
             ],
             [
              0.2222222222222222,
              "#7201a8"
             ],
             [
              0.3333333333333333,
              "#9c179e"
             ],
             [
              0.4444444444444444,
              "#bd3786"
             ],
             [
              0.5555555555555556,
              "#d8576b"
             ],
             [
              0.6666666666666666,
              "#ed7953"
             ],
             [
              0.7777777777777778,
              "#fb9f3a"
             ],
             [
              0.8888888888888888,
              "#fdca26"
             ],
             [
              1,
              "#f0f921"
             ]
            ],
            "type": "contour"
           }
          ],
          "contourcarpet": [
           {
            "colorbar": {
             "outlinewidth": 0,
             "ticks": ""
            },
            "type": "contourcarpet"
           }
          ],
          "heatmap": [
           {
            "colorbar": {
             "outlinewidth": 0,
             "ticks": ""
            },
            "colorscale": [
             [
              0,
              "#0d0887"
             ],
             [
              0.1111111111111111,
              "#46039f"
             ],
             [
              0.2222222222222222,
              "#7201a8"
             ],
             [
              0.3333333333333333,
              "#9c179e"
             ],
             [
              0.4444444444444444,
              "#bd3786"
             ],
             [
              0.5555555555555556,
              "#d8576b"
             ],
             [
              0.6666666666666666,
              "#ed7953"
             ],
             [
              0.7777777777777778,
              "#fb9f3a"
             ],
             [
              0.8888888888888888,
              "#fdca26"
             ],
             [
              1,
              "#f0f921"
             ]
            ],
            "type": "heatmap"
           }
          ],
          "histogram": [
           {
            "marker": {
             "pattern": {
              "fillmode": "overlay",
              "size": 10,
              "solidity": 0.2
             }
            },
            "type": "histogram"
           }
          ],
          "histogram2d": [
           {
            "colorbar": {
             "outlinewidth": 0,
             "ticks": ""
            },
            "colorscale": [
             [
              0,
              "#0d0887"
             ],
             [
              0.1111111111111111,
              "#46039f"
             ],
             [
              0.2222222222222222,
              "#7201a8"
             ],
             [
              0.3333333333333333,
              "#9c179e"
             ],
             [
              0.4444444444444444,
              "#bd3786"
             ],
             [
              0.5555555555555556,
              "#d8576b"
             ],
             [
              0.6666666666666666,
              "#ed7953"
             ],
             [
              0.7777777777777778,
              "#fb9f3a"
             ],
             [
              0.8888888888888888,
              "#fdca26"
             ],
             [
              1,
              "#f0f921"
             ]
            ],
            "type": "histogram2d"
           }
          ],
          "histogram2dcontour": [
           {
            "colorbar": {
             "outlinewidth": 0,
             "ticks": ""
            },
            "colorscale": [
             [
              0,
              "#0d0887"
             ],
             [
              0.1111111111111111,
              "#46039f"
             ],
             [
              0.2222222222222222,
              "#7201a8"
             ],
             [
              0.3333333333333333,
              "#9c179e"
             ],
             [
              0.4444444444444444,
              "#bd3786"
             ],
             [
              0.5555555555555556,
              "#d8576b"
             ],
             [
              0.6666666666666666,
              "#ed7953"
             ],
             [
              0.7777777777777778,
              "#fb9f3a"
             ],
             [
              0.8888888888888888,
              "#fdca26"
             ],
             [
              1,
              "#f0f921"
             ]
            ],
            "type": "histogram2dcontour"
           }
          ],
          "mesh3d": [
           {
            "colorbar": {
             "outlinewidth": 0,
             "ticks": ""
            },
            "type": "mesh3d"
           }
          ],
          "parcoords": [
           {
            "line": {
             "colorbar": {
              "outlinewidth": 0,
              "ticks": ""
             }
            },
            "type": "parcoords"
           }
          ],
          "pie": [
           {
            "automargin": true,
            "type": "pie"
           }
          ],
          "scatter": [
           {
            "fillpattern": {
             "fillmode": "overlay",
             "size": 10,
             "solidity": 0.2
            },
            "type": "scatter"
           }
          ],
          "scatter3d": [
           {
            "line": {
             "colorbar": {
              "outlinewidth": 0,
              "ticks": ""
             }
            },
            "marker": {
             "colorbar": {
              "outlinewidth": 0,
              "ticks": ""
             }
            },
            "type": "scatter3d"
           }
          ],
          "scattercarpet": [
           {
            "marker": {
             "colorbar": {
              "outlinewidth": 0,
              "ticks": ""
             }
            },
            "type": "scattercarpet"
           }
          ],
          "scattergeo": [
           {
            "marker": {
             "colorbar": {
              "outlinewidth": 0,
              "ticks": ""
             }
            },
            "type": "scattergeo"
           }
          ],
          "scattergl": [
           {
            "marker": {
             "colorbar": {
              "outlinewidth": 0,
              "ticks": ""
             }
            },
            "type": "scattergl"
           }
          ],
          "scattermap": [
           {
            "marker": {
             "colorbar": {
              "outlinewidth": 0,
              "ticks": ""
             }
            },
            "type": "scattermap"
           }
          ],
          "scattermapbox": [
           {
            "marker": {
             "colorbar": {
              "outlinewidth": 0,
              "ticks": ""
             }
            },
            "type": "scattermapbox"
           }
          ],
          "scatterpolar": [
           {
            "marker": {
             "colorbar": {
              "outlinewidth": 0,
              "ticks": ""
             }
            },
            "type": "scatterpolar"
           }
          ],
          "scatterpolargl": [
           {
            "marker": {
             "colorbar": {
              "outlinewidth": 0,
              "ticks": ""
             }
            },
            "type": "scatterpolargl"
           }
          ],
          "scatterternary": [
           {
            "marker": {
             "colorbar": {
              "outlinewidth": 0,
              "ticks": ""
             }
            },
            "type": "scatterternary"
           }
          ],
          "surface": [
           {
            "colorbar": {
             "outlinewidth": 0,
             "ticks": ""
            },
            "colorscale": [
             [
              0,
              "#0d0887"
             ],
             [
              0.1111111111111111,
              "#46039f"
             ],
             [
              0.2222222222222222,
              "#7201a8"
             ],
             [
              0.3333333333333333,
              "#9c179e"
             ],
             [
              0.4444444444444444,
              "#bd3786"
             ],
             [
              0.5555555555555556,
              "#d8576b"
             ],
             [
              0.6666666666666666,
              "#ed7953"
             ],
             [
              0.7777777777777778,
              "#fb9f3a"
             ],
             [
              0.8888888888888888,
              "#fdca26"
             ],
             [
              1,
              "#f0f921"
             ]
            ],
            "type": "surface"
           }
          ],
          "table": [
           {
            "cells": {
             "fill": {
              "color": "#EBF0F8"
             },
             "line": {
              "color": "white"
             }
            },
            "header": {
             "fill": {
              "color": "#C8D4E3"
             },
             "line": {
              "color": "white"
             }
            },
            "type": "table"
           }
          ]
         },
         "layout": {
          "annotationdefaults": {
           "arrowcolor": "#2a3f5f",
           "arrowhead": 0,
           "arrowwidth": 1
          },
          "autotypenumbers": "strict",
          "coloraxis": {
           "colorbar": {
            "outlinewidth": 0,
            "ticks": ""
           }
          },
          "colorscale": {
           "diverging": [
            [
             0,
             "#8e0152"
            ],
            [
             0.1,
             "#c51b7d"
            ],
            [
             0.2,
             "#de77ae"
            ],
            [
             0.3,
             "#f1b6da"
            ],
            [
             0.4,
             "#fde0ef"
            ],
            [
             0.5,
             "#f7f7f7"
            ],
            [
             0.6,
             "#e6f5d0"
            ],
            [
             0.7,
             "#b8e186"
            ],
            [
             0.8,
             "#7fbc41"
            ],
            [
             0.9,
             "#4d9221"
            ],
            [
             1,
             "#276419"
            ]
           ],
           "sequential": [
            [
             0,
             "#0d0887"
            ],
            [
             0.1111111111111111,
             "#46039f"
            ],
            [
             0.2222222222222222,
             "#7201a8"
            ],
            [
             0.3333333333333333,
             "#9c179e"
            ],
            [
             0.4444444444444444,
             "#bd3786"
            ],
            [
             0.5555555555555556,
             "#d8576b"
            ],
            [
             0.6666666666666666,
             "#ed7953"
            ],
            [
             0.7777777777777778,
             "#fb9f3a"
            ],
            [
             0.8888888888888888,
             "#fdca26"
            ],
            [
             1,
             "#f0f921"
            ]
           ],
           "sequentialminus": [
            [
             0,
             "#0d0887"
            ],
            [
             0.1111111111111111,
             "#46039f"
            ],
            [
             0.2222222222222222,
             "#7201a8"
            ],
            [
             0.3333333333333333,
             "#9c179e"
            ],
            [
             0.4444444444444444,
             "#bd3786"
            ],
            [
             0.5555555555555556,
             "#d8576b"
            ],
            [
             0.6666666666666666,
             "#ed7953"
            ],
            [
             0.7777777777777778,
             "#fb9f3a"
            ],
            [
             0.8888888888888888,
             "#fdca26"
            ],
            [
             1,
             "#f0f921"
            ]
           ]
          },
          "colorway": [
           "#636efa",
           "#EF553B",
           "#00cc96",
           "#ab63fa",
           "#FFA15A",
           "#19d3f3",
           "#FF6692",
           "#B6E880",
           "#FF97FF",
           "#FECB52"
          ],
          "font": {
           "color": "#2a3f5f"
          },
          "geo": {
           "bgcolor": "white",
           "lakecolor": "white",
           "landcolor": "#E5ECF6",
           "showlakes": true,
           "showland": true,
           "subunitcolor": "white"
          },
          "hoverlabel": {
           "align": "left"
          },
          "hovermode": "closest",
          "mapbox": {
           "style": "light"
          },
          "paper_bgcolor": "white",
          "plot_bgcolor": "#E5ECF6",
          "polar": {
           "angularaxis": {
            "gridcolor": "white",
            "linecolor": "white",
            "ticks": ""
           },
           "bgcolor": "#E5ECF6",
           "radialaxis": {
            "gridcolor": "white",
            "linecolor": "white",
            "ticks": ""
           }
          },
          "scene": {
           "xaxis": {
            "backgroundcolor": "#E5ECF6",
            "gridcolor": "white",
            "gridwidth": 2,
            "linecolor": "white",
            "showbackground": true,
            "ticks": "",
            "zerolinecolor": "white"
           },
           "yaxis": {
            "backgroundcolor": "#E5ECF6",
            "gridcolor": "white",
            "gridwidth": 2,
            "linecolor": "white",
            "showbackground": true,
            "ticks": "",
            "zerolinecolor": "white"
           },
           "zaxis": {
            "backgroundcolor": "#E5ECF6",
            "gridcolor": "white",
            "gridwidth": 2,
            "linecolor": "white",
            "showbackground": true,
            "ticks": "",
            "zerolinecolor": "white"
           }
          },
          "shapedefaults": {
           "line": {
            "color": "#2a3f5f"
           }
          },
          "ternary": {
           "aaxis": {
            "gridcolor": "white",
            "linecolor": "white",
            "ticks": ""
           },
           "baxis": {
            "gridcolor": "white",
            "linecolor": "white",
            "ticks": ""
           },
           "bgcolor": "#E5ECF6",
           "caxis": {
            "gridcolor": "white",
            "linecolor": "white",
            "ticks": ""
           }
          },
          "title": {
           "x": 0.05
          },
          "xaxis": {
           "automargin": true,
           "gridcolor": "white",
           "linecolor": "white",
           "ticks": "",
           "title": {
            "standoff": 15
           },
           "zerolinecolor": "white",
           "zerolinewidth": 2
          },
          "yaxis": {
           "automargin": true,
           "gridcolor": "white",
           "linecolor": "white",
           "ticks": "",
           "title": {
            "standoff": 15
           },
           "zerolinecolor": "white",
           "zerolinewidth": 2
          }
         }
        },
        "title": {
         "text": "Top 20 Most Frequent Words"
        },
        "xaxis": {
         "anchor": "y",
         "domain": [
          0,
          1
         ],
         "title": {
          "text": "Words"
         }
        },
        "yaxis": {
         "anchor": "x",
         "domain": [
          0,
          1
         ],
         "title": {
          "text": "Frequency"
         }
        }
       }
      }
     },
     "metadata": {},
     "output_type": "display_data"
    },
    {
     "data": {
      "application/vnd.plotly.v1+json": {
       "config": {
        "plotlyServerURL": "https://plot.ly"
       },
       "data": [
        {
         "hovertemplate": "N-Gram=%{x}<br>Frequency=%{marker.color}<br>text=%{text}<extra></extra>",
         "legendgroup": "",
         "marker": {
          "color": {
           "bdata": "X0EzLyoqKiIhHBsbFhUVFRQUFBM=",
           "dtype": "i1"
          },
          "coloraxis": "coloraxis",
          "pattern": {
           "shape": ""
          }
         },
         "name": "",
         "orientation": "v",
         "showlegend": false,
         "text": [
          "95 (1.48%)",
          "65 (1.01%)",
          "51 (0.80%)",
          "47 (0.73%)",
          "42 (0.66%)",
          "42 (0.66%)",
          "42 (0.66%)",
          "34 (0.53%)",
          "33 (0.52%)",
          "28 (0.44%)",
          "27 (0.42%)",
          "27 (0.42%)",
          "22 (0.34%)",
          "21 (0.33%)",
          "21 (0.33%)",
          "21 (0.33%)",
          "20 (0.31%)",
          "20 (0.31%)",
          "20 (0.31%)",
          "19 (0.30%)"
         ],
         "textposition": "outside",
         "type": "bar",
         "x": [
          "of the",
          "1 st",
          "8 th",
          "in the",
          "for the",
          "st to",
          "to 8",
          "information systems",
          "th 2025",
          "nova ims",
          "the course",
          "th installment",
          "is the",
          "the international",
          "international student",
          "academic year",
          "at the",
          "or greater",
          "greater than",
          "what is"
         ],
         "xaxis": "x",
         "y": {
          "bdata": "X0EzLyoqKiIhHBsbFhUVFRQUFBM=",
          "dtype": "i1"
         },
         "yaxis": "y"
        }
       ],
       "layout": {
        "bargap": 0.2,
        "barmode": "relative",
        "coloraxis": {
         "colorbar": {
          "title": {
           "text": "Frequency"
          }
         },
         "colorscale": [
          [
           0,
           "rgb(247,251,255)"
          ],
          [
           0.125,
           "rgb(222,235,247)"
          ],
          [
           0.25,
           "rgb(198,219,239)"
          ],
          [
           0.375,
           "rgb(158,202,225)"
          ],
          [
           0.5,
           "rgb(107,174,214)"
          ],
          [
           0.625,
           "rgb(66,146,198)"
          ],
          [
           0.75,
           "rgb(33,113,181)"
          ],
          [
           0.875,
           "rgb(8,81,156)"
          ],
          [
           1,
           "rgb(8,48,107)"
          ]
         ],
         "showscale": false
        },
        "legend": {
         "tracegroupgap": 0
        },
        "template": {
         "data": {
          "bar": [
           {
            "error_x": {
             "color": "#2a3f5f"
            },
            "error_y": {
             "color": "#2a3f5f"
            },
            "marker": {
             "line": {
              "color": "#E5ECF6",
              "width": 0.5
             },
             "pattern": {
              "fillmode": "overlay",
              "size": 10,
              "solidity": 0.2
             }
            },
            "type": "bar"
           }
          ],
          "barpolar": [
           {
            "marker": {
             "line": {
              "color": "#E5ECF6",
              "width": 0.5
             },
             "pattern": {
              "fillmode": "overlay",
              "size": 10,
              "solidity": 0.2
             }
            },
            "type": "barpolar"
           }
          ],
          "carpet": [
           {
            "aaxis": {
             "endlinecolor": "#2a3f5f",
             "gridcolor": "white",
             "linecolor": "white",
             "minorgridcolor": "white",
             "startlinecolor": "#2a3f5f"
            },
            "baxis": {
             "endlinecolor": "#2a3f5f",
             "gridcolor": "white",
             "linecolor": "white",
             "minorgridcolor": "white",
             "startlinecolor": "#2a3f5f"
            },
            "type": "carpet"
           }
          ],
          "choropleth": [
           {
            "colorbar": {
             "outlinewidth": 0,
             "ticks": ""
            },
            "type": "choropleth"
           }
          ],
          "contour": [
           {
            "colorbar": {
             "outlinewidth": 0,
             "ticks": ""
            },
            "colorscale": [
             [
              0,
              "#0d0887"
             ],
             [
              0.1111111111111111,
              "#46039f"
             ],
             [
              0.2222222222222222,
              "#7201a8"
             ],
             [
              0.3333333333333333,
              "#9c179e"
             ],
             [
              0.4444444444444444,
              "#bd3786"
             ],
             [
              0.5555555555555556,
              "#d8576b"
             ],
             [
              0.6666666666666666,
              "#ed7953"
             ],
             [
              0.7777777777777778,
              "#fb9f3a"
             ],
             [
              0.8888888888888888,
              "#fdca26"
             ],
             [
              1,
              "#f0f921"
             ]
            ],
            "type": "contour"
           }
          ],
          "contourcarpet": [
           {
            "colorbar": {
             "outlinewidth": 0,
             "ticks": ""
            },
            "type": "contourcarpet"
           }
          ],
          "heatmap": [
           {
            "colorbar": {
             "outlinewidth": 0,
             "ticks": ""
            },
            "colorscale": [
             [
              0,
              "#0d0887"
             ],
             [
              0.1111111111111111,
              "#46039f"
             ],
             [
              0.2222222222222222,
              "#7201a8"
             ],
             [
              0.3333333333333333,
              "#9c179e"
             ],
             [
              0.4444444444444444,
              "#bd3786"
             ],
             [
              0.5555555555555556,
              "#d8576b"
             ],
             [
              0.6666666666666666,
              "#ed7953"
             ],
             [
              0.7777777777777778,
              "#fb9f3a"
             ],
             [
              0.8888888888888888,
              "#fdca26"
             ],
             [
              1,
              "#f0f921"
             ]
            ],
            "type": "heatmap"
           }
          ],
          "histogram": [
           {
            "marker": {
             "pattern": {
              "fillmode": "overlay",
              "size": 10,
              "solidity": 0.2
             }
            },
            "type": "histogram"
           }
          ],
          "histogram2d": [
           {
            "colorbar": {
             "outlinewidth": 0,
             "ticks": ""
            },
            "colorscale": [
             [
              0,
              "#0d0887"
             ],
             [
              0.1111111111111111,
              "#46039f"
             ],
             [
              0.2222222222222222,
              "#7201a8"
             ],
             [
              0.3333333333333333,
              "#9c179e"
             ],
             [
              0.4444444444444444,
              "#bd3786"
             ],
             [
              0.5555555555555556,
              "#d8576b"
             ],
             [
              0.6666666666666666,
              "#ed7953"
             ],
             [
              0.7777777777777778,
              "#fb9f3a"
             ],
             [
              0.8888888888888888,
              "#fdca26"
             ],
             [
              1,
              "#f0f921"
             ]
            ],
            "type": "histogram2d"
           }
          ],
          "histogram2dcontour": [
           {
            "colorbar": {
             "outlinewidth": 0,
             "ticks": ""
            },
            "colorscale": [
             [
              0,
              "#0d0887"
             ],
             [
              0.1111111111111111,
              "#46039f"
             ],
             [
              0.2222222222222222,
              "#7201a8"
             ],
             [
              0.3333333333333333,
              "#9c179e"
             ],
             [
              0.4444444444444444,
              "#bd3786"
             ],
             [
              0.5555555555555556,
              "#d8576b"
             ],
             [
              0.6666666666666666,
              "#ed7953"
             ],
             [
              0.7777777777777778,
              "#fb9f3a"
             ],
             [
              0.8888888888888888,
              "#fdca26"
             ],
             [
              1,
              "#f0f921"
             ]
            ],
            "type": "histogram2dcontour"
           }
          ],
          "mesh3d": [
           {
            "colorbar": {
             "outlinewidth": 0,
             "ticks": ""
            },
            "type": "mesh3d"
           }
          ],
          "parcoords": [
           {
            "line": {
             "colorbar": {
              "outlinewidth": 0,
              "ticks": ""
             }
            },
            "type": "parcoords"
           }
          ],
          "pie": [
           {
            "automargin": true,
            "type": "pie"
           }
          ],
          "scatter": [
           {
            "fillpattern": {
             "fillmode": "overlay",
             "size": 10,
             "solidity": 0.2
            },
            "type": "scatter"
           }
          ],
          "scatter3d": [
           {
            "line": {
             "colorbar": {
              "outlinewidth": 0,
              "ticks": ""
             }
            },
            "marker": {
             "colorbar": {
              "outlinewidth": 0,
              "ticks": ""
             }
            },
            "type": "scatter3d"
           }
          ],
          "scattercarpet": [
           {
            "marker": {
             "colorbar": {
              "outlinewidth": 0,
              "ticks": ""
             }
            },
            "type": "scattercarpet"
           }
          ],
          "scattergeo": [
           {
            "marker": {
             "colorbar": {
              "outlinewidth": 0,
              "ticks": ""
             }
            },
            "type": "scattergeo"
           }
          ],
          "scattergl": [
           {
            "marker": {
             "colorbar": {
              "outlinewidth": 0,
              "ticks": ""
             }
            },
            "type": "scattergl"
           }
          ],
          "scattermap": [
           {
            "marker": {
             "colorbar": {
              "outlinewidth": 0,
              "ticks": ""
             }
            },
            "type": "scattermap"
           }
          ],
          "scattermapbox": [
           {
            "marker": {
             "colorbar": {
              "outlinewidth": 0,
              "ticks": ""
             }
            },
            "type": "scattermapbox"
           }
          ],
          "scatterpolar": [
           {
            "marker": {
             "colorbar": {
              "outlinewidth": 0,
              "ticks": ""
             }
            },
            "type": "scatterpolar"
           }
          ],
          "scatterpolargl": [
           {
            "marker": {
             "colorbar": {
              "outlinewidth": 0,
              "ticks": ""
             }
            },
            "type": "scatterpolargl"
           }
          ],
          "scatterternary": [
           {
            "marker": {
             "colorbar": {
              "outlinewidth": 0,
              "ticks": ""
             }
            },
            "type": "scatterternary"
           }
          ],
          "surface": [
           {
            "colorbar": {
             "outlinewidth": 0,
             "ticks": ""
            },
            "colorscale": [
             [
              0,
              "#0d0887"
             ],
             [
              0.1111111111111111,
              "#46039f"
             ],
             [
              0.2222222222222222,
              "#7201a8"
             ],
             [
              0.3333333333333333,
              "#9c179e"
             ],
             [
              0.4444444444444444,
              "#bd3786"
             ],
             [
              0.5555555555555556,
              "#d8576b"
             ],
             [
              0.6666666666666666,
              "#ed7953"
             ],
             [
              0.7777777777777778,
              "#fb9f3a"
             ],
             [
              0.8888888888888888,
              "#fdca26"
             ],
             [
              1,
              "#f0f921"
             ]
            ],
            "type": "surface"
           }
          ],
          "table": [
           {
            "cells": {
             "fill": {
              "color": "#EBF0F8"
             },
             "line": {
              "color": "white"
             }
            },
            "header": {
             "fill": {
              "color": "#C8D4E3"
             },
             "line": {
              "color": "white"
             }
            },
            "type": "table"
           }
          ]
         },
         "layout": {
          "annotationdefaults": {
           "arrowcolor": "#2a3f5f",
           "arrowhead": 0,
           "arrowwidth": 1
          },
          "autotypenumbers": "strict",
          "coloraxis": {
           "colorbar": {
            "outlinewidth": 0,
            "ticks": ""
           }
          },
          "colorscale": {
           "diverging": [
            [
             0,
             "#8e0152"
            ],
            [
             0.1,
             "#c51b7d"
            ],
            [
             0.2,
             "#de77ae"
            ],
            [
             0.3,
             "#f1b6da"
            ],
            [
             0.4,
             "#fde0ef"
            ],
            [
             0.5,
             "#f7f7f7"
            ],
            [
             0.6,
             "#e6f5d0"
            ],
            [
             0.7,
             "#b8e186"
            ],
            [
             0.8,
             "#7fbc41"
            ],
            [
             0.9,
             "#4d9221"
            ],
            [
             1,
             "#276419"
            ]
           ],
           "sequential": [
            [
             0,
             "#0d0887"
            ],
            [
             0.1111111111111111,
             "#46039f"
            ],
            [
             0.2222222222222222,
             "#7201a8"
            ],
            [
             0.3333333333333333,
             "#9c179e"
            ],
            [
             0.4444444444444444,
             "#bd3786"
            ],
            [
             0.5555555555555556,
             "#d8576b"
            ],
            [
             0.6666666666666666,
             "#ed7953"
            ],
            [
             0.7777777777777778,
             "#fb9f3a"
            ],
            [
             0.8888888888888888,
             "#fdca26"
            ],
            [
             1,
             "#f0f921"
            ]
           ],
           "sequentialminus": [
            [
             0,
             "#0d0887"
            ],
            [
             0.1111111111111111,
             "#46039f"
            ],
            [
             0.2222222222222222,
             "#7201a8"
            ],
            [
             0.3333333333333333,
             "#9c179e"
            ],
            [
             0.4444444444444444,
             "#bd3786"
            ],
            [
             0.5555555555555556,
             "#d8576b"
            ],
            [
             0.6666666666666666,
             "#ed7953"
            ],
            [
             0.7777777777777778,
             "#fb9f3a"
            ],
            [
             0.8888888888888888,
             "#fdca26"
            ],
            [
             1,
             "#f0f921"
            ]
           ]
          },
          "colorway": [
           "#636efa",
           "#EF553B",
           "#00cc96",
           "#ab63fa",
           "#FFA15A",
           "#19d3f3",
           "#FF6692",
           "#B6E880",
           "#FF97FF",
           "#FECB52"
          ],
          "font": {
           "color": "#2a3f5f"
          },
          "geo": {
           "bgcolor": "white",
           "lakecolor": "white",
           "landcolor": "#E5ECF6",
           "showlakes": true,
           "showland": true,
           "subunitcolor": "white"
          },
          "hoverlabel": {
           "align": "left"
          },
          "hovermode": "closest",
          "mapbox": {
           "style": "light"
          },
          "paper_bgcolor": "white",
          "plot_bgcolor": "#E5ECF6",
          "polar": {
           "angularaxis": {
            "gridcolor": "white",
            "linecolor": "white",
            "ticks": ""
           },
           "bgcolor": "#E5ECF6",
           "radialaxis": {
            "gridcolor": "white",
            "linecolor": "white",
            "ticks": ""
           }
          },
          "scene": {
           "xaxis": {
            "backgroundcolor": "#E5ECF6",
            "gridcolor": "white",
            "gridwidth": 2,
            "linecolor": "white",
            "showbackground": true,
            "ticks": "",
            "zerolinecolor": "white"
           },
           "yaxis": {
            "backgroundcolor": "#E5ECF6",
            "gridcolor": "white",
            "gridwidth": 2,
            "linecolor": "white",
            "showbackground": true,
            "ticks": "",
            "zerolinecolor": "white"
           },
           "zaxis": {
            "backgroundcolor": "#E5ECF6",
            "gridcolor": "white",
            "gridwidth": 2,
            "linecolor": "white",
            "showbackground": true,
            "ticks": "",
            "zerolinecolor": "white"
           }
          },
          "shapedefaults": {
           "line": {
            "color": "#2a3f5f"
           }
          },
          "ternary": {
           "aaxis": {
            "gridcolor": "white",
            "linecolor": "white",
            "ticks": ""
           },
           "baxis": {
            "gridcolor": "white",
            "linecolor": "white",
            "ticks": ""
           },
           "bgcolor": "#E5ECF6",
           "caxis": {
            "gridcolor": "white",
            "linecolor": "white",
            "ticks": ""
           }
          },
          "title": {
           "x": 0.05
          },
          "xaxis": {
           "automargin": true,
           "gridcolor": "white",
           "linecolor": "white",
           "ticks": "",
           "title": {
            "standoff": 15
           },
           "zerolinecolor": "white",
           "zerolinewidth": 2
          },
          "yaxis": {
           "automargin": true,
           "gridcolor": "white",
           "linecolor": "white",
           "ticks": "",
           "title": {
            "standoff": 15
           },
           "zerolinecolor": "white",
           "zerolinewidth": 2
          }
         }
        },
        "title": {
         "text": "Top 20 Most Frequent 2-Grams"
        },
        "xaxis": {
         "anchor": "y",
         "domain": [
          0,
          1
         ],
         "title": {
          "text": "2-Grams"
         }
        },
        "yaxis": {
         "anchor": "x",
         "domain": [
          0,
          1
         ],
         "title": {
          "text": "Frequency"
         }
        }
       }
      }
     },
     "metadata": {},
     "output_type": "display_data"
    }
   ],
   "source": [
    "du.histogram_word_count_multiple_docs(cleaned_maininfo)\n",
    "du.histogram_token_count_multiple_docs(cleaned_maininfo)\n",
    "du.generate_document_statistics_by_word_count(cleaned_maininfo)\n",
    "du.generate_document_statistics_by_tokens(cleaned_maininfo)\n",
    "du.bar_plot_word_frequency(cleaned_maininfo, top_n=20)\n",
    "du.bar_plot_ngram_frequency(cleaned_maininfo, n=2, top_n=20) "
   ]
  },
  {
   "cell_type": "markdown",
   "metadata": {},
   "source": [
    "# Analysing the results"
   ]
  },
  {
   "cell_type": "code",
   "execution_count": 10,
   "metadata": {},
   "outputs": [
    {
     "name": "stdout",
     "output_type": "stream",
     "text": [
      "\n",
      "--- information-management_main_course_extracted_text.txt ---\n",
      "\n",
      "Text from https://www.novaims.unl.pt/en///bachelor-s-degrees/information-management/: Information Management Degree in Information Management en Bachelor's Degrees Information Management The Bachelor’s degree in Information Management combines management with data science .\n",
      "It prepares students to be managers of the new generation, capable of understanding business and the current challenges of modern management, transforming data into information.\n",
      "In today's society, business is increasingly complex and companies deal daily with a huge volume of data, generated by numerous sources.\n",
      "This reality causes a high demand for professionals with skills in the area of information management, who are able to use the most modern techniques and analytical tools to support decision making.\n",
      "The 3 rd phase of applications under the International Student Statute for the 2025/26 academic year are open from February 26 th to March 27 th , 2025.\n",
      "Duration 3 years (6 semesters) Timetable Daytime Start September 2025 Career Opportunities The Bachelor´s Degree in Information Management allows a quick integration in the most varied sectors of activity, namely: Information Technology Companies, Banking, Insurance, Health, Telecommunications, Logistics/Distribution, Marketing and Market Research, Retail, Consulting and Public Administration.\n",
      "The main professional opportunities are: Business Process Analyst; Business Analyst; Data Analyst; Information Manager; Specialist in Analytical Marketing; Specialist in Data Science applied to Management; Specialist in Decision Support Systems.\n",
      "Technical and Managerial Positions in Public Administration.\n",
      "What does an Information Manager?\n",
      "Frederico Cruz Jesus | Coordinator of the Bachelor Degree Sorry, your browser doesn't support embedded videos.\n",
      "Play video Who is it for?\n",
      "Who is it for?\n",
      "Program Goals Program Structure Admissions and Fees Achievement Awards Teaching Staff Tuition Fee Scholarships Calendar, Timetable and Exams FAQ Regulations and Accreditations Who is it for?\n",
      "This degree is aimed at all 12 th grade finalist's students that are seeking proper into the current Knowledge Society to enable them to manage the analytical processes of organizations and decision support systems.\n",
      "A degree in Information Management aims at training professionals able to collect, organize and analyze information from organizations and translate it into actions conducive to the achievement of their goals.\n",
      "The course aims at training professionals with fundamental knowledge about a wide range of tools and techniques, analytical and computational, which transform information into a strategic asset of organizations.\n",
      "For information about the International Student Access, please click here .\n",
      "Program Goals In this degree, it is intended that students acquire skills to perform new functions in the information society and knowledge.\n",
      "In this context, the graduated in Information Management should: Master a set of techniques and methodologies for data collection; Master the tools and processes used for the storage, organization and access to information in a business context; Understand the paradigms and technologies currently used in the management and dissemination of information; Master the methodologies as well as statistical and computational tools for exploring and analyzing information in order to reduce the levels of uncertainty associated with decision making; Develop models for the establishment of information flow to improve the processes of decision support and business management; Be able to identify problems related to the management of information in organizations; Know how to transform data into useful and relevant information, using language accessible to various decision centers; Be able to develop autonomously, solutions to new problems based on the knowledge gained from the answer to previous problems.\n",
      "Program Structure The course lasts 3 years (6 semesters) and classes start in September 2025.\n",
      "The study plan corresponds to 180 ECTS, of which 150 ECTS correspond to mandatory curricular units (the first 5 semesters) and 30 ECTS correspond to optional curricular units (last semester of the course), which will be chosen by each Student, from among a wide range of curricular units available.\n",
      "See the study plan Admissions and Fees Establishment Code: 0906 - Universidade Nova de Lisboa - Instituto Superior de Estatística e Gestão de Informação Course Code: 9155 Entry Exam Subjects (one of the following): 19 - Mathematics A and 04 - Economics 19 - Mathematics A and 02 - Biology and Geology 19 - Mathematics A and 07 - Physics and Chemistry 16 - Mathematics and 18 - Portuguese 16 - Mathematics and 09 - Geography 16 - Mathematics and 13 - English Course Unit NOTICE: The exams presented are valid for admissions in the 2025/26 academic year, through the National Competition for Access to Higher .\n",
      "Minimum Grades Applicants Grade: 100 Entry Exam Grade: 95 Formula of Applicants Grade Secondary School Grade: 50% Entry Exam Subjects: 50% Prerequesites None Vacancies 64 General Quota Last Entry Grade 2024-2025 1 st Phase - 17.36 2 nd Phase - 17.90 2025/26 Academic Year Consult the entrance exams applicable to 2025/26 in the Frequently Asked Questions.\n",
      "Achievement Awards (*) Prize corresponding to the 1 st year tuition fee.\n",
      "The undergraduate students who achieve a high level of academic performance each year will have access to the following awards (1) : Approved ECTS Average (Values) Award At the end of the 1 st year of Enrollment equal or greater than 60 equal or greater than 16,5 700€ At the end of the 2 nd year of Enrollment equal or greater than 120 equal or greater than 16,5 700€ At the end of the 3 rd year of Enrollment equal or greater than 180 equal or greater than 16,5 €3.000 off (2) (1) Prize applied to students admitted in 2024/2025.\n",
      "(2) The value of the tuition for a master's degree to be attended at the NOVA IMS, if admission and enrollment occur in the year immediately following the completion of the bachelor's degree.\n",
      "Not cumulative with Alumni discount.\n",
      "Cumulative with financial discount.\n",
      "Excellence awards given by the Members of AD NOVA IMS and other supportive entities (3) All students that stand out, during their academic path, for their academic excellence in the different course units and are also awarded.\n",
      "(3) Prizes in force in the school year 2023/24.\n",
      "AD NOVA IMS Member Best Finalist Student €1.500 Best Student of the Course Units €1.500 Curricular Unit Program Annual Prize Value Supportive Entities Best student of the Course Unit €1.000 Best Student of Undergraduate and Master Degree Scholarship with Value to be Defined Best Application Grade €1.000 Curricular Unit Program Annual Prize Value Tuition Fee The annual fee set for the academic year 2024/25, for the students of the National Contest for Access to Higher , is €697.\n",
      "This payment can be paid in full or in 10 instalments.\n",
      "For the students of the International Student Contest, the annual fee for the academic year 2024/25, is €7.500.\n",
      "This payment can also be paid in full or in 5 instalments.\n",
      "The Student (national or international), when registering for a school year, has to take into account that the full payment of the tuition fee fixed for that school year (the monthly fees/benefits are a payment facility), even if they cancel the registration/withdraw of the course.\n",
      "For more information, please consult the Frequently Asked Questions at the bottom of the page.\n",
      "FAQ What is the language of instruction of the course?\n",
      "The course is taught in English.\n",
      "Nowadays, being comfortable with the English language is a competitive advantage, which makes a difference in the global job market.\n",
      "NOVA IMS students have all the support to quickly adapt to the language and can always speak in Portuguese when they are unable to express themselves.\n",
      "Where is NOVA IMS located?\n",
      "NOVA IMS is located on the Campolide Campus, in Lisbon.\n",
      "Watch the campus tour made by NOVA IMS Students here .\n",
      "What is the schedule?\n",
      "The Bachelor´s Degree will work on daytime , 5 days a week.\n",
      "Where can I see an overview of undergraduate ?\n",
      "You can watch it here and for more information click here .\n",
      "What is the cost of the tuition and enrollment fee for the students of the National Contest?\n",
      "The value of the Annual Fee for 2024/2025 is €697 .\n",
      "The student, enrolling in a school year, has to consider that full payment of the fee fixed for that year (tuition / benefits are ease of payment) is due, although they may unsubscribe / fold the course.\n",
      "The payment of tuition fees can be made as follows: At once (€697), until October 8 th , 2024 or in 10 installments: 1 st Installment: September 27 th to October 8 th , 2024: €69,70 (to be received upon registration); 2 nd Installment: November 1 st to 8 th , 2024: €69,70; 3 rd Installment: December 1 st to 8 th , 2024: €69,70; 4 th Installment: January 1 st to 8 th , 2025: €69,70; 5 th Installment: February 1 st to 8 th , 2025: €69,70; 6 th Installment: March 1 st to 8 th , 2025: €69,70; 7 th Installment: April 1 st to 8 th , 2025: €69,70; 8 th Installment: May 1 st to 8 th , 2025: €69,70; 9 th Installment: June 1 st to 8 th , 2025: €69,70; 10 th Installment: July 1 st to 8 th , 2025: €69,70.\n",
      "For students who have applied for the Merit (SAS / UNL) scholarship, the payment of tuition fees should only be made after the delivery of the final decision about the case, and if the scholarship is granted, the payment must be done afterwards.\n",
      "The student has, in these cases, a period of 15 days to rectify the situation.\n",
      "To apply for the scholarship the student must register on-time and deliver the declaration of honor (paper provided by the Academic Services) on how he/she is applying for this benefit.\n",
      "For further enquiries please contact Admissions office at NOVA rectory.\n",
      "Upon registration, the students should make the following payments: €69,70 - for 1 st installment of tuition fee; €35 - for annual enrollment fee; €1,40 - for annual school insurance.\n",
      "The enrolment fees are updated annually in the Universidade NOVA de Lisboa table of emoluments, published in the Official Portuguese Government Gazette (Diário da República) .\n",
      "What is the cost of the tuition and enrollment fee for the students of the International Student Contest?\n",
      "The annual fee set for the academic year 2024/25, for the students of the International Student Contest, is €7500.\n",
      "This payment can be as following: Full payment (€7.500), unit October 1 st , 2024, or in 5 installments: 1 st installment: September 1 st to 8 th , 2024: €1500; 2 nd installment: November 1 st to 8 th , 2024: €1500; 3 rd installment: January 1 st to 8 th , 2025: €1500; 4 th installment: March 1 st to 8 th , 2025: €1500; 5 th installment: May 1 st to 8 th , 2025: €1500.\n",
      "Are there special access quotas?\n",
      "There are several special quotas, beyond to the general quota, to which certain percentages of vacancies are allocated, intended for candidates who meet the conditions of each quota.\n",
      "These are: Candidates from the Autonomous Region of the Açores; Candidates from the Autonomous Region of Madeira; Portuguese Emigrant Candidates and family members who live with them; Military Candidates Under Contract; Candidates with Disabilities.\n",
      "I completed secondary abroad or at a foreign school.\n",
      "Can I apply for the national contest?\n",
      "Yes, however there are some conditions that are important to know.\n",
      "For more information, you should contact Direcção-Geral do Ensino Superior .\n",
      "What is the application process for the international student?\n",
      "Candidates who do not have the nationality of a Member State of the European Union and who have not lived in Portugal for more than two consecutive years can apply for a Bachelor's degree at NOVA IMS under the International Student status.\n",
      "The application process is different from the National Contest for Access to Higher .\n",
      "For more information, click here .\n",
      "What is ObipNOVA?\n",
      "ObipNOVA is the Observatory of Graduates’ Transitions into Work at NOVA.\n",
      "The ObipNOVA analyses the graduates of all the study cycles: bachelors, masters and doctorates.\n",
      "Every year, a series of phone surveys are conducted to evaluate the professional activity of those who graduated in the previous year.\n",
      "The more recent data is related to 2019 graduated students.\n",
      "Regulations and Accreditations Regulations Regulation nº 848/2021, September 10 th (in Portuguese); Study plan for the study cycle leading to the degree of Bachelor in Information Management, operating at the Campus of Universidade NOVA de Lisboa in Cairo (ID-3048) (Regulation No.\n",
      "387/2024, published in the Official Gazette, 2nd series, No.11, January 16th, 2024) (in Portuguese).\n",
      "Partial Time Student Regulation (in Portuguese).\n",
      "Accreditations Study Program Self-Evaluation Report (in Portuguese); External Review Team Final Report (CAE) (in Portuguese); Decision of the A3ES Board of Directors (in Portuguese); A3ES Deliberation.\n"
     ]
    }
   ],
   "source": [
    "target_filename = 'information-management_main_course_extracted_text.txt'\n",
    "\n",
    "if target_filename in cleaned_maininfo:\n",
    "    print(f\"\\n--- {target_filename} ---\\n\")\n",
    "    formatted_content = cleaned_maininfo[target_filename].replace('. ', '.\\n').replace('? ', '?\\n').replace('! ', '!\\n')\n",
    "    print(formatted_content)\n",
    "else:\n",
    "    print(f\"Document with key '{target_filename}' not found.\")"
   ]
  },
  {
   "cell_type": "code",
   "execution_count": 11,
   "metadata": {},
   "outputs": [
    {
     "name": "stdout",
     "output_type": "stream",
     "text": [
      "\n",
      "--- information-systems_main_course_extracted_text.txt ---\n",
      "\n",
      "Text from https://www.novaims.unl.pt/en///bachelor-s-degrees/information-systems/: Information Systems Degree in Information Systems en Bachelor's Degrees Information Systems Nowadays, Information Technologies are present in the most diverse areas of knowledge and people's everyday lives, even when they do not realize it.\n",
      "We permanently use intelligent systems, connectivity services, network equipment and data integration, which correspond to the computing platforms we know as: computers, tablets, smartphones, among many other equipment that share information and perform tasks.\n",
      "In the Bachelor´s Degree in Information Systems, students learn to analyze, design and implement information systems, fundamental in modern organizations, which include artificial intelligence, new programming languages, development of apps and web systems, mobile computing, among others.\n",
      "They also acquire a set of tools that support the companies' business processes.\n",
      "The 3 rd phase of applications under the International Student Statute for the 2025/26 academic year are open from February 26 th to March 27 th , 2025.\n",
      "Duration 3 years (6 semesters) Timetable Daytime Start September 2025 Career Opportunities The Bachelor´s Degree in Information Systems allows fast integration in the most varied sectors of activity, namely: Information Technology Companies, Banking, Insurance, Health, Telecommunications, Logistics/Distribution, E-Business, Consulting and Public Administration.\n",
      "The main professional opportunities are: Consultant in Information Systems and Technologies; Database Administrator and Programmer; Information Systems Project Manager; Specialist in the development of Artificial Intelligence Systems; Specialist in the implementation of Information Systems; Software Developer; Systems Analyst.\n",
      "Technical and Managerial Positions in Public Administration.\n",
      "At NOVA IMS we encourage continuous individual development through excellence.\n",
      "- For this reason, we believe that we must reward all those who stand out at the entrance of the Bachelor´s Degree courses and who, during their academic career, work to exceed their and our expectations.\n",
      "At NOVA IMS we encourage continuous individual development through excellence.\n",
      "- For this reason, we believe that we must reward all those who stand out at the entrance of the Bachelor´s Degree courses and who, during their academic career, work to exceed their and our expectations.\n",
      "Award for Academic Excellence Incentive Application prize awarded to all students whose average entry grade to the National Competition is equal to or greater than 18 values What does a graduate with Degree in Information Systems?\n",
      "Manuela Aparício | Coordinator of the Bachelor Degree Sorry, your browser doesn't support embedded videos.\n",
      "Play video Who is it for?\n",
      "Who is it for?\n",
      "Program Goals Program Structure Admissions and Fees Achievement Awards Teaching Staff Tuition Fee Scholarships Calendar, Timetable and Exams FAQ Regulations and Accreditations Who is it for?\n",
      "This degree is addressed to all high school finalist students, who are seeking a college that enables them to master the Information Technologies in the operational management of the organizations, creating new products, services and business processes.\n",
      "A degree in Information Systems aims at training professionals who are characterized by the ability to make the connection between the different business areas and the area of information systems.\n",
      "Being experts in analysis, design and implementation of information systems whose main task to improve the quality of decision making in organizations.\n",
      "For information about the International Student Access, please click here .\n",
      "Program Goals In this degree, it is intended that students acquire skills to analyze, design and implement systems and information technologies, providing a link between the different business areas and the area of information systems.\n",
      "In this context, by the end of the program, the Graduated in Information Systems shall: Know the fundamentals of information systems as tools for effective increase productivity; Master the concepts and theory that explains and motivates the methods and practices of the development and use of information systems in organizations as ways to increase organizational performance; Understand the technical aspects of computer architecture, operating systems and connecting information resources via computer networks; Be able to identify different approaches to physical design information systems using Systems Managers Database and development environments; Be able to manage projects of information systems.\n",
      "Program al Objectives The Program al objectives of the Information Systems are to produce graduates who, following a few years after graduation, are able to: Become productive, responsible information systems professionals capable of conducting research and/or designing, developing, or maintaining projects in the various areas of Information Systems; Demonstrate independent thinking, self-management, and functioning effectively in team-oriented and open-ended activities in a business or an industrial environment; Develop leadership skills and perform ethically and professionally in business, industry, and society; Excel in a career in an Information Systems related field.\n",
      "Student Outcomes The program objectives are to train experts and managers to be able to analyze, design and implement information systems, establishing the link between the different business areas and the area of information systems.\n",
      "Thus, the program aims to train graduates capable of using the information systems for improving the decision making process of organizations, with an advanced level of knowledge, comprehension and skills.\n",
      "In this context, students that obtain a degree in Information Systems by NOVA IMS should be able to: Analyze a complex computing problem and to apply principles of computing and other relevant disciplines to identify solutions; Design, implement, and evaluate a computing-based solution to meet a given set of computing requirements in the context of Information Systems; Communicate effectively in a variety of professional contexts; Recognize professional responsibilities and make informed judgments in computing practice based on legal and ethical principles; Function effectively as a member or leader of a team engaged in activities appropriate to Information Systems; Support the delivery, use, and management of information systems within an information systems environment.\n",
      "Information Systems Environment The main information systems environment area is Business, including Organizational Management, Finance and Marketing.\n",
      "The Curriculum includes various courses that provide background in this environment.\n",
      "The courses are as follows: Organizational Behavior; Business Management; Web Marketing and E-Commerce; Information Systems Project Management; Information Technologies, Governance and Service Management; Entrepreneurship and Project Analysis; Risk Management.\n",
      "Degree Statistics The total number of enrolled students in the three years of the program was 177 in 2020/2021, 165 in 2021/2022, and 182 in 2022/2023.\n",
      "The number of graduates over the three years of the program was 40 in 2020/2021, 34 in 2021/2022, and 33 in 2022/2023.\n",
      "Program Structure The course lasts 3 years (6 semesters) and classes start in September 2025.\n",
      "The study plan corresponds to 180 ECTS, of which 150 ECTS correspond to mandatory curricular units (the first 5 semesters) and 30 ECTS correspond to optional curricular units (last semester of the course), which will be chosen by each Student, from among a wide range of curricular units available.\n",
      "See study plan Admissions and Fees Establishment Code: 0906 - Universidade Nova de Lisboa - Instituto Superior de Estatística e Gestão de Informação Course Code: 8259 Entry Exam Subjects (One of the following): 19 - Mathematics A and 04 - Economy 19 - Mathematics A and 02 - Biology and Geology 19 - Mathematics A and 07 - Physics and Chemistry 16 - Mathematics and 18 - Portuguese 16 - Mathematics and 09 - Geography 16 - Mathematics and 13 - English Course Unit NOTICE: The exams presented are valid for admissions in the 2025/26 academic year, through the National Competition for Access to Higher .\n",
      "Minimum Grades Applicants Grade: 100 Entry Exam Grade: 95 Formula of Applicants Grade Secondary School Grade: 50% Entry Exam Subjects: 50% Prerequesites None Vacancies 43 General Quota Last Entry Grade 2024-2025 1 st Phase - 16.88 2 nd Phase - 17.11 2025/26 Academic Year Consult the entrance exams applicable to 2025/26 in the Frequently Asked Questions.\n",
      "Achievement Awards (*) Prize corresponding to the 1 st year tuition fee.\n",
      "The undergraduate students who achieve a high level of academic performance each year will have access to the following awards (1) : Approved ECTS Average (Values) Award At the end of the 1 st year of Enrollment equal or greater than 60 equal or greater than 16,5 700€ At the end of the 2 nd year of Enrollment equal or greater than 120 equal or greater than 16,5 700€ At the end of the 3 rd year of Enrollment equal or greater than 180 equal or greater than 16,5 €3.000 off (2) (1) Prize applied to students admitted in 2024/2025.\n",
      "(2) The value of the tuition for a master's degree to be attended at the NOVA IMS, if admission and enrollment occur in the year immediately following the completion of the bachelor's degree.\n",
      "Not cumulative with Alumni discount.\n",
      "Cumulative with financial discount.\n",
      "Excellence awards given by the Members of AD NOVA IMS and other supportive entities (3) All students that stand out, during their academic path, for their academic excellence in the different course units and are also awarded.\n",
      "(3) Prizes in force in the school year 2023/24.\n",
      "AD NOVA IMS Member Best Finalist Student €1.500 Best Student of the Course Units €1.500 Best Student of the Course Unit Curricular Unit Program Annual Prize Value Supportive Entities Best student of the Course Unit €1.000 Best Student of Undergraduate and Master Degree Scholarship with Value to be Defined Best Application Grade €1.000 Curricular Unit Program Annual Prize Value Tuition Fee The annual fee set for the academic year 2024/25, for the students of the National Contest for Access to Higher , is €697.\n",
      "This payment can be paid in full or in 10 instalments.\n",
      "For the students of the International Student Contest, the annual fee for the academic year 2024/25, is €7500.\n",
      "This payment can also be paid in full or in 5 instalments.\n",
      "The Student (national or international), when registering for a school year, has to take into account that the full payment of the tuition fee fixed for that school year (the monthly fees/benefits are a payment facility), even if they cancel the registration/withdraw of the course.\n",
      "For more information, please consult the Frequently Asked Questions at the bottom of the page.\n",
      "FAQ What is the language of instruction of the course?\n",
      "The course is taught in English.\n",
      "Nowadays, being comfortable with the English language is a competitive advantage, which makes a difference in the global job market.\n",
      "NOVA IMS students have all the support to quickly adapt to the language and can always speak in Portuguese when they are unable to express themselves.\n",
      "Where is NOVA IMS located?\n",
      "NOVA IMS is located on the Campolide Campus, in Lisbon.\n",
      "Watch the campus tour made by NOVA IMS Students here .\n",
      "What is the schedule?\n",
      "The Bachelor´s Degree will work on daytime , 5 days a week.\n",
      "Where can I see an overview of undergraduate ?\n",
      "You can watch it here and for more information click here .\n",
      "What is the cost of the tuition and enrollment fee for the students of the National Contest?\n",
      "The value of the Annual Fee for 2024/2025 is €697 .\n",
      "The student, enrolling in a school year, has to consider that full payment of the fee fixed for that year (tuition / benefits are ease of payment) is due, although they may unsubscribe / fold the course.\n",
      "The payment of tuition fees can be made as follows: At once (€697), until October 8 th , 2024 or in 10 installments: 1 st Installment: September 27 th to October 8 th , 2024: €69,70 (to be received upon registration); 2 nd Installment: November 1 st to 8 th , 2024: €69,70; 3 rd Installment: December 1 st to 8 th , 2024: €69,70; 4 th Installment: January 1 st to 8 th , 2025: €69,70; 5 th Installment: February 1 st to 8 th , 2025: €69,70; 6 th Installment: March 1 st to 8 th , 2025: €69,70; 7 th Installment: April 1 st to 8 th , 2025: €69,70; 8 th Installment: May 1 st to 8 th , 2025: €69,70; 9 th Installment: June 1 st to 8 th , 2025: €69,70; 10 th Installment: July 1 st to 8 th , 2025: €69,70.\n",
      "For students who have applied for the Merit (SAS / UNL) scholarship, the payment of tuition fees should only be made after the delivery of the final decision about the case, and if the scholarship is granted, the payment must be done afterwards.\n",
      "The student has, in these cases, a period of 15 days to rectify the situation.\n",
      "To apply for the scholarship the student must register on-time and deliver the declaration of honor (paper provided by the Academic Services) on how he/she is applying for this benefit.\n",
      "For further enquiries please contact Admissions office at NOVA rectory.\n",
      "Upon registration, the students should make the following payments: €69,70 - for 1 st installment of tuition fee; €35 - for annual enrollment fee; €1,40 - for annual school insurance.\n",
      "The enrolment fees are updated annually in the Universidade NOVA de Lisboa table of emoluments, published in the Official Portuguese Government Gazette (Diário da República) .\n",
      "What is the cost of the tuition and enrollment fee for the students of the International Student Contest?\n",
      "The annual fee set for the academic year 2024/25 , for the students of the International Student Contest, is €7500.\n",
      "This payment can be as following: Full payment (€7500), unit October 1 st , 2024, or in 5 installments: 1 st installment: September 1 st to 8 th , 2024: €1500; 2 nd installment: November 1 st to 8 th , 2024: €1500; 3 rd installment: January 1 st to 8 th , 2025: €1500; 4 th installment: March 1 st to 8 th , 2025: €1500; 5 th installment: May 1 st to 8 th , 2025: €1500.\n",
      "What is the timetable and exams calendar?\n",
      "Academic Calendar See here the 1 st Year for academic year 2022-2023; See here the 2 nd & 3 rd Years for academic year 2022-2023.\n",
      "Exams Calendar See the Spring Semester for academic year 2021-2022.\n",
      "Are there special access quotas?\n",
      "There are several special quotas, beyond to the general quota, to which certain percentages of vacancies are allocated, intended for candidates who meet the conditions of each quota.\n",
      "These are: Candidates from the Autonomous Region of the Açores; Candidates from the Autonomous Region of Madeira; Portuguese Emigrant Candidates and family members who live with them; Military Candidates Under Contract; Candidates with Disabilities.\n",
      "I completed secondary abroad or at a foreign school.\n",
      "Can I apply for the national contest?\n",
      "Yes, however there are some conditions that are important to know.\n",
      "For more information, you should contact Direcção-Geral do Ensino Superior .\n",
      "What is the application process for the international student?\n",
      "Candidates who do not have the nationality of a Member State of the European Union and who have not lived in Portugal for more than two consecutive years can apply for a Bachelor's degree at NOVA IMS under the International Student status.\n",
      "The application process is different from the National Contest for Access to Higher .\n",
      "For more information, click here .\n",
      "What is ObipNOVA?\n",
      "ObipNOVA is the Observatory of Graduates’ Transitions into Work at NOVA.\n",
      "The ObipNOVA analyses the graduates of all the study cycles: bachelors, masters and doctorates.\n",
      "Every year, a series of phone surveys are conducted to evaluate the professional activity of those who graduated in the previous year.\n",
      "The more recent data is related to 2019 graduated students.\n",
      "Regulations and Accreditations Regulations Regulation n.º 300/2022, on 25 th March (in Portuguese); Partial Time Student Regulation (in Portuguese).\n",
      "Accreditations Study Program Self-Evaluation Report (in Portuguese); External Review Team Final Report (CAE) (in Portuguese); Decision of the A3ES Board of Directors (in Portuguese); A3ES Deliberation.\n"
     ]
    }
   ],
   "source": [
    "target_filename = 'information-systems_main_course_extracted_text.txt'\n",
    "\n",
    "if target_filename in cleaned_maininfo:\n",
    "    print(f\"\\n--- {target_filename} ---\\n\")\n",
    "    formatted_content = cleaned_maininfo[target_filename].replace('. ', '.\\n').replace('? ', '?\\n').replace('! ', '!\\n')\n",
    "    print(formatted_content)\n",
    "else:\n",
    "    print(f\"Document with key '{target_filename}' not found.\")"
   ]
  },
  {
   "cell_type": "markdown",
   "metadata": {},
   "source": [
    "# Saving the cleaned files in dictionaries"
   ]
  },
  {
   "cell_type": "code",
   "execution_count": 9,
   "metadata": {},
   "outputs": [
    {
     "data": {
      "text/plain": [
       "{'data-science_main_course_extracted_text.txt': \"Text from https://www.novaims.unl.pt/en///bachelor-s-degrees/data-science/: Data Science Degree in Data Science en Bachelor's Degrees Data Science In the Bachelor´s Degree in Data Science, students learn the most modern techniques of artificial intelligence and machine learning to analyze large volumes of data (Big Data). They will become true data scientists - considered the sexiest profession of the 21 st century by the Harvard Business Review. The main objective of this course is to train future professionals capable of understanding, developing and using models, algorithms and the most advanced techniques in data science, to analyze and extract knowledge from Big Data. The 3 rd phase of applications under the International Student Statute for the 2025/26 academic year are open from February 26 th to March 27 th , 2025. Duration 3 years (6 semesters) Timetable Daytime Start September 2025 Career Opportunities The Bachelor´s Degree in Data Science allows a quick integration in the most varied sectors of activity, namely: Information Technology Companies, Communication Companies, Banking, Insurance, Retail, Telecommunications, Utilities Companies, Biomedical Companies, Pharmaceuticals, Public Administration and Companies industrial. The main professional opportunities are: Big Data Analyst; Data Scientist; Data Engineer; Specialist in Artificial Intelligence Systems; Specialist in Machine Learning; Specialist in the development of Automatic Learning Algorithms. Technical and Managerial Positions in Public Administration. At NOVA IMS we encourage continuous individual development through excellence. - For this reason, we believe that we must reward all those who stand out at the entrance of the Bachelor´s Degree courses and who, during their academic career, work to exceed their and our expectations. At NOVA IMS we encourage continuous individual development through excellence. - For this reason, we believe that we must reward all those who stand out at the entrance of the Bachelor´s Degree courses and who, during their academic career, work to exceed their and our expectations. Award for Academic Excellence Incentive Application prize awarded to all students whose average entry grade to the National Competition is equal to or greater than 18 values Who is it for? Who is it for? Program Goals Program Structure Admissions and Fees Achievement Awards Teaching Staff Tuition Fee Scholarships Calendar, Timetable and Exams FAQ Regulations and Accreditations Who is it for? This degree is intended for all final-year students who aspire to become data scientists. Thus, the study cycle is suitable for all students who wish to obtain in-depth training in the most recent techniques of data science and artificial intelligence, based on automatic logical reasoning, data management methods and techniques, as well as machine learning applications. The course aims to train highly specialized professionals who will enable organizations to take advantage of the huge volume of data they currently have at their disposal. For information about the International Student Access, please click here . Program Goals The bachelor's degree in Data Science aims to strengthen the intermediate step between data collection and decision making based on them, i.e. to develop advanced methods of data science and artificial intelligence. To this end, the course of study adopts a primarily technical perspective. The goal is to provide in-depth knowledge of the fundamental methodologies and concepts, in order to provide the student with the ability to update more specific technical knowledge and to keep up with the rapid evolution of this sector. In this context, the graduate in Data Science should: Understand the theoretical foundations of statistics, Machine Learning and Artificial Intelligence methods; Identify and understand the most efficient algorithm for each specific problem; Design and develop state-of-the-art data science algorithms; Work closely with IT specialists to integrate Data Science algorithms into existing systems; Identify underlying patterns and extract useful information from the large volume of heterogeneous data that exists in organizations; Be proficient in commonly used statistical procedures, frameworks, machine learning techniques and systems; Stimulate interest in keeping up with scientific advances in the field of Data Science and Artificial Intelligence. Program Structure The course lasts 3 years (6 semesters) and classes start in September 2025. The study plan corresponds to 180 ECTS, of which 150 ECTS correspond to mandatory curricular units (the first 5 semesters) and 30 ECTS correspond to optional curricular units (last semester of the course), which will be chosen by each Student, from among a wide range of curricular units available. See study plan Admissions and Fees Establishment Code: 0906 - Universidade Nova de Lisboa - Instituto Superior de Estatística e Gestão de Informação Course Code: L188 Entry Exam Subjects (One of the following): 19 - Mathematics A and 02 - Biology and Geology 19 - Mathematics A and 04 - Economy 19 - Mathematics A and 07 - Physics and Chemistry 19 - Mathematics A and 09 - Geography 19 - Mathematics A and 10 - Descriptive Geometry 19 - Mathematics A and 18 - Portuguese Course Unit NOTICE: The exams presented are valid for admissions in the 2025/26 academic year, through the National Competition for Access to Higher . Minimum Grades Applicants Grade: 100 Entry Exam Grade: 95 Formula of Applicants Grade Secondary School Grade: 50% Entry Exam Subjects: 50% Prerequesites None Vacancies 45 General Quota Last Entry Grade 2024-2025 1 st Phase - 17.78 2025/26 Academic Year Consult the entrance exams applicable to 2025/26 in the Frequently Asked Questions. Achievement Awards (*) Prize corresponding to the 1 st year tuition fee. The undergraduate students who achieve a high level of academic performance each year will have access to the following awards (1) : Approved ECTS Average (Values) Award At the end of the 1 st year of Enrollment equal or greater than 60 equal or greater than 16,5 700€ At the end of the 2 nd year of Enrollment equal or greater than 120 equal or greater than 16,5 700€ At the end of the 3 rd year of Enrollment equal or greater than 180 equal or greater than 16,5 €3.000 off (2) (1) Prize applied to students admitted in 2024/2025. (2) The value of the tuition for a master's degree to be attended at the NOVA IMS, if admission and enrollment occur in the year immediately following the completion of the bachelor's degree. Not cumulative with Alumni discount. Cumulative with financial discount. Excellence awards given by the Members of AD NOVA IMS and other supportive entities (3) All students that stand out, during their academic path, for their academic excellence in the different course units and are also awarded. (3) Prizes in force in the school year 2023/24. Supportive Entities Best student of the Course Unit €1.000 Best Student of Undergraduate and Master Degree Scholarship with Value to be Defined Best Application Grade €1.000 Curricular Unit Program Annual Prize Value Tuition Fee The annual fee set for the academic year 2024/25, for the students of the National Contest for Access to Higher , is €697. This payment can be paid in full or in 10 instalments. For the students of the International Student Contest, the annual fee for the academic year 2024/25, is €7.500. This payment can also be paid in full or in 5 instalments. The Student (national or international), when registering for a school year, has to take into account that the full payment of the tuition fee fixed for that school year (the monthly fees/benefits are a payment facility), even if they cancel the registration/withdraw of the course. For more information, please consult the Frequently Asked Questions at the bottom of the page. FAQ What is the language of instruction of the course? The course is taught in English. Nowadays, being comfortable with the English language is a competitive advantage, which makes a difference in the global job market. NOVA IMS students have all the support to quickly adapt to the language and can always speak in Portuguese when they are unable to express themselves. Where is NOVA IMS located? NOVA IMS is located on the Campolide Campus, in Lisbon. Watch the campus tour made by NOVA IMS Students here . What is the schedule? The Bachelor´s Degree will work on daytime , 5 days a week. Where can I see an overview of undergraduate ? You can watch it here and for more information click here . What is the cost of the tuition and enrollment fee for the students of the National Contest? The value of the Annual Fee for 2024/2025 is €697 . The student, enrolling in a school year, has to consider that full payment of the fee fixed for that year (tuition / benefits are ease of payment) is due, although they may unsubscribe / fold the course. The payment of tuition fees can be made as follows: At once (€697), until October 8 th , 2024 or in 10 installments: 1 st Installment: September 27 th to October 8 th , 2024: €69,70 (to be received upon registration); 2 nd Installment: November 1 st to 8 th , 2024: €69,70; 3 rd Installment: December 1 st to 8 th , 2024: €69,70; 4 th Installment: January 1 st to 8 th , 2025: €69,70; 5 th Installment: February 1 st to 8 th , 2025: €69,70; 6 th Installment: March 1 st to 8 th , 2025: €69,70; 7 th Installment: April 1 st to 8 th , 2025: €69,70; 8 th Installment: May 1 st to 8 th , 2025: €69,70; 9 th Installment: June 1 st to 8 th , 2025: €69,70; 10 th Installment: July 1 st to 8 th , 2025: €69,70. For students who have applied for the Merit (SAS / UNL) scholarship, the payment of tuition fees should only be made after the delivery of the final decision about the case, and if the scholarship is granted, the payment must be done afterwards. The student has, in these cases, a period of 15 days to rectify the situation. To apply for the scholarship the student must register on-time and deliver the declaration of honor (paper provided by the Academic Services) on how he/she is applying for this benefit. For further enquiries please contact Admissions office at NOVA rectory. Upon registration, the students should make the following payments: €69,70 - for 1 st installment of tuition fee; €35 - for annual enrollment fee; €1,40 - for annual school insurance. The enrolment fees are updated annually in the Universidade NOVA de Lisboa table of emoluments, published in the Official Portuguese Government Gazette (Diário da República) . What is the cost of the tuition and enrollment fee for the students of the International Student Contest? The annual fee set for the academic year 2024/25, for the students of the International Student Contest, is €7500. This payment can be as following: Full payment (€7500), unit October 1 st , 2024, or in 5 installments: 1 st installment: September 1 st to 8 th , 2024: €1500; 2 nd installment: November 1 st to 8 th , 2024: €1500; 3 rd installment: January 1 st to 8 th , 2025: €1500; 4 th installment: March 1 st to 8 th , 2025: €1500; 5 th installment: May 1 st to 8 th , 2025: €1500. Are there special access quotas? There are several special quotas, beyond to the general quota, to which certain percentages of vacancies are allocated, intended for candidates who meet the conditions of each quota. These are: Candidates from the Autonomous Region of the Açores; Candidates from the Autonomous Region of Madeira; Portuguese Emigrant Candidates and family members who live with them; Military Candidates Under Contract; Candidates with Disabilities. I completed secondary abroad or at a foreign school. Can I apply for the national contest? Yes, however there are some conditions that are important to know. For more information, you should contact Direcção-Geral do Ensino Superior . What is the application process for the international student? Candidates who do not have the nationality of a Member State of the European Union and who have not lived in Portugal for more than two consecutive years can apply for a Bachelor's degree at NOVA IMS under the International Student status. The application process is different from the National Contest for Access to Higher . For more information, click here . What is ObipNOVA? ObipNOVA is the Observatory of Graduates’ Transitions into Work at NOVA. The ObipNOVA analyses the graduates of all the study cycles: bachelors, masters and doctorates. Every year, a series of phone surveys are conducted to evaluate the professional activity of those who graduated in the previous year. The more recent data is related to 2019 graduated students. Regulations and Accreditations Regulations Regulation n.º 820/2021, on September 1 st (in Portuguese); Partial Time Student Regulation (in Portuguese). Accreditations Submission of the application - New study cycle (in Portuguese); External Review Team Final Report (CAE) (in Portuguese); Decision of the A3ES Board of Directors (in Portuguese); A3ES Deliberation . Support and Funding https://recuperarportugal.gov.pt/ Curricular Unit Program Annual Prize Value\",\n",
       " 'information-management_main_course_extracted_text.txt': \"Text from https://www.novaims.unl.pt/en///bachelor-s-degrees/information-management/: Information Management Degree in Information Management en Bachelor's Degrees Information Management The Bachelor’s degree in Information Management combines management with data science . It prepares students to be managers of the new generation, capable of understanding business and the current challenges of modern management, transforming data into information. In today's society, business is increasingly complex and companies deal daily with a huge volume of data, generated by numerous sources. This reality causes a high demand for professionals with skills in the area of information management, who are able to use the most modern techniques and analytical tools to support decision making. The 3 rd phase of applications under the International Student Statute for the 2025/26 academic year are open from February 26 th to March 27 th , 2025. Duration 3 years (6 semesters) Timetable Daytime Start September 2025 Career Opportunities The Bachelor´s Degree in Information Management allows a quick integration in the most varied sectors of activity, namely: Information Technology Companies, Banking, Insurance, Health, Telecommunications, Logistics/Distribution, Marketing and Market Research, Retail, Consulting and Public Administration. The main professional opportunities are: Business Process Analyst; Business Analyst; Data Analyst; Information Manager; Specialist in Analytical Marketing; Specialist in Data Science applied to Management; Specialist in Decision Support Systems. Technical and Managerial Positions in Public Administration. What does an Information Manager? Frederico Cruz Jesus | Coordinator of the Bachelor Degree Sorry, your browser doesn't support embedded videos. Play video Who is it for? Who is it for? Program Goals Program Structure Admissions and Fees Achievement Awards Teaching Staff Tuition Fee Scholarships Calendar, Timetable and Exams FAQ Regulations and Accreditations Who is it for? This degree is aimed at all 12 th grade finalist's students that are seeking proper into the current Knowledge Society to enable them to manage the analytical processes of organizations and decision support systems. A degree in Information Management aims at training professionals able to collect, organize and analyze information from organizations and translate it into actions conducive to the achievement of their goals. The course aims at training professionals with fundamental knowledge about a wide range of tools and techniques, analytical and computational, which transform information into a strategic asset of organizations. For information about the International Student Access, please click here . Program Goals In this degree, it is intended that students acquire skills to perform new functions in the information society and knowledge. In this context, the graduated in Information Management should: Master a set of techniques and methodologies for data collection; Master the tools and processes used for the storage, organization and access to information in a business context; Understand the paradigms and technologies currently used in the management and dissemination of information; Master the methodologies as well as statistical and computational tools for exploring and analyzing information in order to reduce the levels of uncertainty associated with decision making; Develop models for the establishment of information flow to improve the processes of decision support and business management; Be able to identify problems related to the management of information in organizations; Know how to transform data into useful and relevant information, using language accessible to various decision centers; Be able to develop autonomously, solutions to new problems based on the knowledge gained from the answer to previous problems. Program Structure The course lasts 3 years (6 semesters) and classes start in September 2025. The study plan corresponds to 180 ECTS, of which 150 ECTS correspond to mandatory curricular units (the first 5 semesters) and 30 ECTS correspond to optional curricular units (last semester of the course), which will be chosen by each Student, from among a wide range of curricular units available. See the study plan Admissions and Fees Establishment Code: 0906 - Universidade Nova de Lisboa - Instituto Superior de Estatística e Gestão de Informação Course Code: 9155 Entry Exam Subjects (one of the following): 19 - Mathematics A and 04 - Economics 19 - Mathematics A and 02 - Biology and Geology 19 - Mathematics A and 07 - Physics and Chemistry 16 - Mathematics and 18 - Portuguese 16 - Mathematics and 09 - Geography 16 - Mathematics and 13 - English Course Unit NOTICE: The exams presented are valid for admissions in the 2025/26 academic year, through the National Competition for Access to Higher . Minimum Grades Applicants Grade: 100 Entry Exam Grade: 95 Formula of Applicants Grade Secondary School Grade: 50% Entry Exam Subjects: 50% Prerequesites None Vacancies 64 General Quota Last Entry Grade 2024-2025 1 st Phase - 17.36 2 nd Phase - 17.90 2025/26 Academic Year Consult the entrance exams applicable to 2025/26 in the Frequently Asked Questions. Achievement Awards (*) Prize corresponding to the 1 st year tuition fee. The undergraduate students who achieve a high level of academic performance each year will have access to the following awards (1) : Approved ECTS Average (Values) Award At the end of the 1 st year of Enrollment equal or greater than 60 equal or greater than 16,5 700€ At the end of the 2 nd year of Enrollment equal or greater than 120 equal or greater than 16,5 700€ At the end of the 3 rd year of Enrollment equal or greater than 180 equal or greater than 16,5 €3.000 off (2) (1) Prize applied to students admitted in 2024/2025. (2) The value of the tuition for a master's degree to be attended at the NOVA IMS, if admission and enrollment occur in the year immediately following the completion of the bachelor's degree. Not cumulative with Alumni discount. Cumulative with financial discount. Excellence awards given by the Members of AD NOVA IMS and other supportive entities (3) All students that stand out, during their academic path, for their academic excellence in the different course units and are also awarded. (3) Prizes in force in the school year 2023/24. AD NOVA IMS Member Best Finalist Student €1.500 Best Student of the Course Units €1.500 Curricular Unit Program Annual Prize Value Supportive Entities Best student of the Course Unit €1.000 Best Student of Undergraduate and Master Degree Scholarship with Value to be Defined Best Application Grade €1.000 Curricular Unit Program Annual Prize Value Tuition Fee The annual fee set for the academic year 2024/25, for the students of the National Contest for Access to Higher , is €697. This payment can be paid in full or in 10 instalments. For the students of the International Student Contest, the annual fee for the academic year 2024/25, is €7.500. This payment can also be paid in full or in 5 instalments. The Student (national or international), when registering for a school year, has to take into account that the full payment of the tuition fee fixed for that school year (the monthly fees/benefits are a payment facility), even if they cancel the registration/withdraw of the course. For more information, please consult the Frequently Asked Questions at the bottom of the page. FAQ What is the language of instruction of the course? The course is taught in English. Nowadays, being comfortable with the English language is a competitive advantage, which makes a difference in the global job market. NOVA IMS students have all the support to quickly adapt to the language and can always speak in Portuguese when they are unable to express themselves. Where is NOVA IMS located? NOVA IMS is located on the Campolide Campus, in Lisbon. Watch the campus tour made by NOVA IMS Students here . What is the schedule? The Bachelor´s Degree will work on daytime , 5 days a week. Where can I see an overview of undergraduate ? You can watch it here and for more information click here . What is the cost of the tuition and enrollment fee for the students of the National Contest? The value of the Annual Fee for 2024/2025 is €697 . The student, enrolling in a school year, has to consider that full payment of the fee fixed for that year (tuition / benefits are ease of payment) is due, although they may unsubscribe / fold the course. The payment of tuition fees can be made as follows: At once (€697), until October 8 th , 2024 or in 10 installments: 1 st Installment: September 27 th to October 8 th , 2024: €69,70 (to be received upon registration); 2 nd Installment: November 1 st to 8 th , 2024: €69,70; 3 rd Installment: December 1 st to 8 th , 2024: €69,70; 4 th Installment: January 1 st to 8 th , 2025: €69,70; 5 th Installment: February 1 st to 8 th , 2025: €69,70; 6 th Installment: March 1 st to 8 th , 2025: €69,70; 7 th Installment: April 1 st to 8 th , 2025: €69,70; 8 th Installment: May 1 st to 8 th , 2025: €69,70; 9 th Installment: June 1 st to 8 th , 2025: €69,70; 10 th Installment: July 1 st to 8 th , 2025: €69,70. For students who have applied for the Merit (SAS / UNL) scholarship, the payment of tuition fees should only be made after the delivery of the final decision about the case, and if the scholarship is granted, the payment must be done afterwards. The student has, in these cases, a period of 15 days to rectify the situation. To apply for the scholarship the student must register on-time and deliver the declaration of honor (paper provided by the Academic Services) on how he/she is applying for this benefit. For further enquiries please contact Admissions office at NOVA rectory. Upon registration, the students should make the following payments: €69,70 - for 1 st installment of tuition fee; €35 - for annual enrollment fee; €1,40 - for annual school insurance. The enrolment fees are updated annually in the Universidade NOVA de Lisboa table of emoluments, published in the Official Portuguese Government Gazette (Diário da República) . What is the cost of the tuition and enrollment fee for the students of the International Student Contest? The annual fee set for the academic year 2024/25, for the students of the International Student Contest, is €7500. This payment can be as following: Full payment (€7.500), unit October 1 st , 2024, or in 5 installments: 1 st installment: September 1 st to 8 th , 2024: €1500; 2 nd installment: November 1 st to 8 th , 2024: €1500; 3 rd installment: January 1 st to 8 th , 2025: €1500; 4 th installment: March 1 st to 8 th , 2025: €1500; 5 th installment: May 1 st to 8 th , 2025: €1500. Are there special access quotas? There are several special quotas, beyond to the general quota, to which certain percentages of vacancies are allocated, intended for candidates who meet the conditions of each quota. These are: Candidates from the Autonomous Region of the Açores; Candidates from the Autonomous Region of Madeira; Portuguese Emigrant Candidates and family members who live with them; Military Candidates Under Contract; Candidates with Disabilities. I completed secondary abroad or at a foreign school. Can I apply for the national contest? Yes, however there are some conditions that are important to know. For more information, you should contact Direcção-Geral do Ensino Superior . What is the application process for the international student? Candidates who do not have the nationality of a Member State of the European Union and who have not lived in Portugal for more than two consecutive years can apply for a Bachelor's degree at NOVA IMS under the International Student status. The application process is different from the National Contest for Access to Higher . For more information, click here . What is ObipNOVA? ObipNOVA is the Observatory of Graduates’ Transitions into Work at NOVA. The ObipNOVA analyses the graduates of all the study cycles: bachelors, masters and doctorates. Every year, a series of phone surveys are conducted to evaluate the professional activity of those who graduated in the previous year. The more recent data is related to 2019 graduated students. Regulations and Accreditations Regulations Regulation nº 848/2021, September 10 th (in Portuguese); Study plan for the study cycle leading to the degree of Bachelor in Information Management, operating at the Campus of Universidade NOVA de Lisboa in Cairo (ID-3048) (Regulation No. 387/2024, published in the Official Gazette, 2nd series, No.11, January 16th, 2024) (in Portuguese). Partial Time Student Regulation (in Portuguese). Accreditations Study Program Self-Evaluation Report (in Portuguese); External Review Team Final Report (CAE) (in Portuguese); Decision of the A3ES Board of Directors (in Portuguese); A3ES Deliberation.\",\n",
       " 'information-systems_main_course_extracted_text.txt': \"Text from https://www.novaims.unl.pt/en///bachelor-s-degrees/information-systems/: Information Systems Degree in Information Systems en Bachelor's Degrees Information Systems Nowadays, Information Technologies are present in the most diverse areas of knowledge and people's everyday lives, even when they do not realize it. We permanently use intelligent systems, connectivity services, network equipment and data integration, which correspond to the computing platforms we know as: computers, tablets, smartphones, among many other equipment that share information and perform tasks. In the Bachelor´s Degree in Information Systems, students learn to analyze, design and implement information systems, fundamental in modern organizations, which include artificial intelligence, new programming languages, development of apps and web systems, mobile computing, among others. They also acquire a set of tools that support the companies' business processes. The 3 rd phase of applications under the International Student Statute for the 2025/26 academic year are open from February 26 th to March 27 th , 2025. Duration 3 years (6 semesters) Timetable Daytime Start September 2025 Career Opportunities The Bachelor´s Degree in Information Systems allows fast integration in the most varied sectors of activity, namely: Information Technology Companies, Banking, Insurance, Health, Telecommunications, Logistics/Distribution, E-Business, Consulting and Public Administration. The main professional opportunities are: Consultant in Information Systems and Technologies; Database Administrator and Programmer; Information Systems Project Manager; Specialist in the development of Artificial Intelligence Systems; Specialist in the implementation of Information Systems; Software Developer; Systems Analyst. Technical and Managerial Positions in Public Administration. At NOVA IMS we encourage continuous individual development through excellence. - For this reason, we believe that we must reward all those who stand out at the entrance of the Bachelor´s Degree courses and who, during their academic career, work to exceed their and our expectations. At NOVA IMS we encourage continuous individual development through excellence. - For this reason, we believe that we must reward all those who stand out at the entrance of the Bachelor´s Degree courses and who, during their academic career, work to exceed their and our expectations. Award for Academic Excellence Incentive Application prize awarded to all students whose average entry grade to the National Competition is equal to or greater than 18 values What does a graduate with Degree in Information Systems? Manuela Aparício | Coordinator of the Bachelor Degree Sorry, your browser doesn't support embedded videos. Play video Who is it for? Who is it for? Program Goals Program Structure Admissions and Fees Achievement Awards Teaching Staff Tuition Fee Scholarships Calendar, Timetable and Exams FAQ Regulations and Accreditations Who is it for? This degree is addressed to all high school finalist students, who are seeking a college that enables them to master the Information Technologies in the operational management of the organizations, creating new products, services and business processes. A degree in Information Systems aims at training professionals who are characterized by the ability to make the connection between the different business areas and the area of information systems. Being experts in analysis, design and implementation of information systems whose main task to improve the quality of decision making in organizations. For information about the International Student Access, please click here . Program Goals In this degree, it is intended that students acquire skills to analyze, design and implement systems and information technologies, providing a link between the different business areas and the area of information systems. In this context, by the end of the program, the Graduated in Information Systems shall: Know the fundamentals of information systems as tools for effective increase productivity; Master the concepts and theory that explains and motivates the methods and practices of the development and use of information systems in organizations as ways to increase organizational performance; Understand the technical aspects of computer architecture, operating systems and connecting information resources via computer networks; Be able to identify different approaches to physical design information systems using Systems Managers Database and development environments; Be able to manage projects of information systems. Program al Objectives The Program al objectives of the Information Systems are to produce graduates who, following a few years after graduation, are able to: Become productive, responsible information systems professionals capable of conducting research and/or designing, developing, or maintaining projects in the various areas of Information Systems; Demonstrate independent thinking, self-management, and functioning effectively in team-oriented and open-ended activities in a business or an industrial environment; Develop leadership skills and perform ethically and professionally in business, industry, and society; Excel in a career in an Information Systems related field. Student Outcomes The program objectives are to train experts and managers to be able to analyze, design and implement information systems, establishing the link between the different business areas and the area of information systems. Thus, the program aims to train graduates capable of using the information systems for improving the decision making process of organizations, with an advanced level of knowledge, comprehension and skills. In this context, students that obtain a degree in Information Systems by NOVA IMS should be able to: Analyze a complex computing problem and to apply principles of computing and other relevant disciplines to identify solutions; Design, implement, and evaluate a computing-based solution to meet a given set of computing requirements in the context of Information Systems; Communicate effectively in a variety of professional contexts; Recognize professional responsibilities and make informed judgments in computing practice based on legal and ethical principles; Function effectively as a member or leader of a team engaged in activities appropriate to Information Systems; Support the delivery, use, and management of information systems within an information systems environment. Information Systems Environment The main information systems environment area is Business, including Organizational Management, Finance and Marketing. The Curriculum includes various courses that provide background in this environment. The courses are as follows: Organizational Behavior; Business Management; Web Marketing and E-Commerce; Information Systems Project Management; Information Technologies, Governance and Service Management; Entrepreneurship and Project Analysis; Risk Management. Degree Statistics The total number of enrolled students in the three years of the program was 177 in 2020/2021, 165 in 2021/2022, and 182 in 2022/2023. The number of graduates over the three years of the program was 40 in 2020/2021, 34 in 2021/2022, and 33 in 2022/2023. Program Structure The course lasts 3 years (6 semesters) and classes start in September 2025. The study plan corresponds to 180 ECTS, of which 150 ECTS correspond to mandatory curricular units (the first 5 semesters) and 30 ECTS correspond to optional curricular units (last semester of the course), which will be chosen by each Student, from among a wide range of curricular units available. See study plan Admissions and Fees Establishment Code: 0906 - Universidade Nova de Lisboa - Instituto Superior de Estatística e Gestão de Informação Course Code: 8259 Entry Exam Subjects (One of the following): 19 - Mathematics A and 04 - Economy 19 - Mathematics A and 02 - Biology and Geology 19 - Mathematics A and 07 - Physics and Chemistry 16 - Mathematics and 18 - Portuguese 16 - Mathematics and 09 - Geography 16 - Mathematics and 13 - English Course Unit NOTICE: The exams presented are valid for admissions in the 2025/26 academic year, through the National Competition for Access to Higher . Minimum Grades Applicants Grade: 100 Entry Exam Grade: 95 Formula of Applicants Grade Secondary School Grade: 50% Entry Exam Subjects: 50% Prerequesites None Vacancies 43 General Quota Last Entry Grade 2024-2025 1 st Phase - 16.88 2 nd Phase - 17.11 2025/26 Academic Year Consult the entrance exams applicable to 2025/26 in the Frequently Asked Questions. Achievement Awards (*) Prize corresponding to the 1 st year tuition fee. The undergraduate students who achieve a high level of academic performance each year will have access to the following awards (1) : Approved ECTS Average (Values) Award At the end of the 1 st year of Enrollment equal or greater than 60 equal or greater than 16,5 700€ At the end of the 2 nd year of Enrollment equal or greater than 120 equal or greater than 16,5 700€ At the end of the 3 rd year of Enrollment equal or greater than 180 equal or greater than 16,5 €3.000 off (2) (1) Prize applied to students admitted in 2024/2025. (2) The value of the tuition for a master's degree to be attended at the NOVA IMS, if admission and enrollment occur in the year immediately following the completion of the bachelor's degree. Not cumulative with Alumni discount. Cumulative with financial discount. Excellence awards given by the Members of AD NOVA IMS and other supportive entities (3) All students that stand out, during their academic path, for their academic excellence in the different course units and are also awarded. (3) Prizes in force in the school year 2023/24. AD NOVA IMS Member Best Finalist Student €1.500 Best Student of the Course Units €1.500 Best Student of the Course Unit Curricular Unit Program Annual Prize Value Supportive Entities Best student of the Course Unit €1.000 Best Student of Undergraduate and Master Degree Scholarship with Value to be Defined Best Application Grade €1.000 Curricular Unit Program Annual Prize Value Tuition Fee The annual fee set for the academic year 2024/25, for the students of the National Contest for Access to Higher , is €697. This payment can be paid in full or in 10 instalments. For the students of the International Student Contest, the annual fee for the academic year 2024/25, is €7500. This payment can also be paid in full or in 5 instalments. The Student (national or international), when registering for a school year, has to take into account that the full payment of the tuition fee fixed for that school year (the monthly fees/benefits are a payment facility), even if they cancel the registration/withdraw of the course. For more information, please consult the Frequently Asked Questions at the bottom of the page. FAQ What is the language of instruction of the course? The course is taught in English. Nowadays, being comfortable with the English language is a competitive advantage, which makes a difference in the global job market. NOVA IMS students have all the support to quickly adapt to the language and can always speak in Portuguese when they are unable to express themselves. Where is NOVA IMS located? NOVA IMS is located on the Campolide Campus, in Lisbon. Watch the campus tour made by NOVA IMS Students here . What is the schedule? The Bachelor´s Degree will work on daytime , 5 days a week. Where can I see an overview of undergraduate ? You can watch it here and for more information click here . What is the cost of the tuition and enrollment fee for the students of the National Contest? The value of the Annual Fee for 2024/2025 is €697 . The student, enrolling in a school year, has to consider that full payment of the fee fixed for that year (tuition / benefits are ease of payment) is due, although they may unsubscribe / fold the course. The payment of tuition fees can be made as follows: At once (€697), until October 8 th , 2024 or in 10 installments: 1 st Installment: September 27 th to October 8 th , 2024: €69,70 (to be received upon registration); 2 nd Installment: November 1 st to 8 th , 2024: €69,70; 3 rd Installment: December 1 st to 8 th , 2024: €69,70; 4 th Installment: January 1 st to 8 th , 2025: €69,70; 5 th Installment: February 1 st to 8 th , 2025: €69,70; 6 th Installment: March 1 st to 8 th , 2025: €69,70; 7 th Installment: April 1 st to 8 th , 2025: €69,70; 8 th Installment: May 1 st to 8 th , 2025: €69,70; 9 th Installment: June 1 st to 8 th , 2025: €69,70; 10 th Installment: July 1 st to 8 th , 2025: €69,70. For students who have applied for the Merit (SAS / UNL) scholarship, the payment of tuition fees should only be made after the delivery of the final decision about the case, and if the scholarship is granted, the payment must be done afterwards. The student has, in these cases, a period of 15 days to rectify the situation. To apply for the scholarship the student must register on-time and deliver the declaration of honor (paper provided by the Academic Services) on how he/she is applying for this benefit. For further enquiries please contact Admissions office at NOVA rectory. Upon registration, the students should make the following payments: €69,70 - for 1 st installment of tuition fee; €35 - for annual enrollment fee; €1,40 - for annual school insurance. The enrolment fees are updated annually in the Universidade NOVA de Lisboa table of emoluments, published in the Official Portuguese Government Gazette (Diário da República) . What is the cost of the tuition and enrollment fee for the students of the International Student Contest? The annual fee set for the academic year 2024/25 , for the students of the International Student Contest, is €7500. This payment can be as following: Full payment (€7500), unit October 1 st , 2024, or in 5 installments: 1 st installment: September 1 st to 8 th , 2024: €1500; 2 nd installment: November 1 st to 8 th , 2024: €1500; 3 rd installment: January 1 st to 8 th , 2025: €1500; 4 th installment: March 1 st to 8 th , 2025: €1500; 5 th installment: May 1 st to 8 th , 2025: €1500. What is the timetable and exams calendar? Academic Calendar See here the 1 st Year for academic year 2022-2023; See here the 2 nd & 3 rd Years for academic year 2022-2023. Exams Calendar See the Spring Semester for academic year 2021-2022. Are there special access quotas? There are several special quotas, beyond to the general quota, to which certain percentages of vacancies are allocated, intended for candidates who meet the conditions of each quota. These are: Candidates from the Autonomous Region of the Açores; Candidates from the Autonomous Region of Madeira; Portuguese Emigrant Candidates and family members who live with them; Military Candidates Under Contract; Candidates with Disabilities. I completed secondary abroad or at a foreign school. Can I apply for the national contest? Yes, however there are some conditions that are important to know. For more information, you should contact Direcção-Geral do Ensino Superior . What is the application process for the international student? Candidates who do not have the nationality of a Member State of the European Union and who have not lived in Portugal for more than two consecutive years can apply for a Bachelor's degree at NOVA IMS under the International Student status. The application process is different from the National Contest for Access to Higher . For more information, click here . What is ObipNOVA? ObipNOVA is the Observatory of Graduates’ Transitions into Work at NOVA. The ObipNOVA analyses the graduates of all the study cycles: bachelors, masters and doctorates. Every year, a series of phone surveys are conducted to evaluate the professional activity of those who graduated in the previous year. The more recent data is related to 2019 graduated students. Regulations and Accreditations Regulations Regulation n.º 300/2022, on 25 th March (in Portuguese); Partial Time Student Regulation (in Portuguese). Accreditations Study Program Self-Evaluation Report (in Portuguese); External Review Team Final Report (CAE) (in Portuguese); Decision of the A3ES Board of Directors (in Portuguese); A3ES Deliberation.\"}"
      ]
     },
     "execution_count": 9,
     "metadata": {},
     "output_type": "execute_result"
    }
   ],
   "source": [
    "cleaned_maininfo"
   ]
  },
  {
   "cell_type": "code",
   "execution_count": 12,
   "metadata": {},
   "outputs": [
    {
     "name": "stdout",
     "output_type": "stream",
     "text": [
      "Pickle files saved successfully!\n"
     ]
    }
   ],
   "source": [
    "import pickle \n",
    "# Define output folder\n",
    "output_folder = \"../../data/Preprocessing_text/bachelors_data\"\n",
    "\n",
    "os.makedirs(output_folder, exist_ok=True)  # Ensure output folder exists\n",
    "\n",
    "# Save each dictionary as a separate Pickle file\n",
    "with open(os.path.join(output_folder, \"dict_maininfo_cleaned.pkl\"), \"wb\") as f:\n",
    "    pickle.dump(cleaned_maininfo, f)\n",
    "\n",
    "print(\"Pickle files saved successfully!\")"
   ]
  }
 ],
 "metadata": {
  "kernelspec": {
   "display_name": "my_env",
   "language": "python",
   "name": "python3"
  },
  "language_info": {
   "codemirror_mode": {
    "name": "ipython",
    "version": 3
   },
   "file_extension": ".py",
   "mimetype": "text/x-python",
   "name": "python",
   "nbconvert_exporter": "python",
   "pygments_lexer": "ipython3",
   "version": "3.13.2"
  }
 },
 "nbformat": 4,
 "nbformat_minor": 2
}

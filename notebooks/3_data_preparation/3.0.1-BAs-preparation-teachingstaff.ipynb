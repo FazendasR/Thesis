{
 "cells": [
  {
   "cell_type": "code",
   "execution_count": 1,
   "metadata": {},
   "outputs": [
    {
     "name": "stdout",
     "output_type": "stream",
     "text": [
      "Current Directory: c:\\Users\\1176153\\Downloads\\github\\Thesis\\model\\src\n"
     ]
    }
   ],
   "source": [
    "import os\n",
    "# Move to Thesis directory (two levels up)\n",
    "os.chdir(os.path.abspath(os.path.join(\"..\", \"..\")))\n",
    "\n",
    "# Move to model/src if it exists\n",
    "model_dir = os.path.join(os.getcwd(), \"model\", \"src\")\n",
    "if os.path.exists(model_dir):\n",
    "    os.chdir(model_dir)\n",
    "\n",
    "print(\"Current Directory:\", os.getcwd())"
   ]
  },
  {
   "cell_type": "code",
   "execution_count": 2,
   "metadata": {},
   "outputs": [
    {
     "name": "stderr",
     "output_type": "stream",
     "text": [
      "[nltk_data] Downloading package punkt to\n",
      "[nltk_data]     C:\\Users\\1176153\\AppData\\Roaming\\nltk_data...\n",
      "[nltk_data]   Package punkt is already up-to-date!\n"
     ]
    }
   ],
   "source": [
    "import pandas as pd\n",
    "import re\n",
    "import libs.data_understanding as du\n",
    "import libs.data_preparation as dp\n",
    "from libs.settings import data_catalog as dc\n",
    "from libs import data_handeling as dh"
   ]
  },
  {
   "cell_type": "code",
   "execution_count": 3,
   "metadata": {},
   "outputs": [
    {
     "data": {
      "text/plain": [
       "{'bachelor_data-science_main_course_text.txt': {'text': \"Text from https://www.novaims.unl.pt/en/education/programs/bachelor-s-degrees/data-science/:\\nData Science\\nDegree in\\nData Science\\nen\\nEducation\\nPrograms\\nBachelor's Degrees\\nData Science\\nIn the Bachelor´s Degree in Data Science, students learn the most modern techniques of artificial intelligence and machine learning to analyze large volumes of data (Big Data).\\nThey will become true data scientists - considered the sexiest profession of the 21\\nst\\ncentury by the Harvard Business Review.\\nThe main objective of this course is to train future professionals capable of understanding, developing and using models, algorithms and the most advanced techniques in data science, to analyze and extract knowledge from Big Data.\\nThe 3\\nrd\\nphase of applications under the International Student Statute for the 2025/26 academic year are open from February 26\\nth\\nto March 27\\nth\\n, 2025.\\nDuration\\n3 years (6 semesters)\\nTimetable\\nDaytime\\nStart\\nSeptember 2025\\nCareer Opportunities\\nThe Bachelor´s Degree in Data Science allows a quick integration in the most varied sectors of activity, namely: Information Technology Companies, Communication Companies, Banking, Insurance, Retail, Telecommunications, Utilities Companies, Biomedical Companies, Pharmaceuticals, Public Administration and Companies industrial. The main professional opportunities are:\\nBig Data Analyst;\\nData Scientist;\\nData Engineer;\\nSpecialist in Artificial Intelligence Systems;\\nSpecialist in Machine Learning;\\nSpecialist in the development of Automatic Learning Algorithms.\\nTechnical and Managerial Positions in Public Administration.\\nAt NOVA IMS we encourage continuous individual development through excellence.\\n- For this reason, we believe that we must reward all those who stand out at the entrance of the Bachelor´s Degree courses and who, during their academic career, work to exceed their and our expectations.\\nAt NOVA IMS we encourage continuous individual development through excellence.\\n- For this reason, we believe that we must reward all those who stand out at the entrance of the Bachelor´s Degree courses and who, during their academic career, work to exceed their and our expectations.\\nAward for\\nAcademic Excellence Incentive\\nApplication prize awarded to all students whose average entry grade to the National Competition is equal to or greater than 18 values\\nKnow more\\nWho is it for?\\nWho is it for?\\nProgram Goals\\nProgram Structure\\nAdmissions and Fees\\nAchievement Awards\\nTeaching Staff\\nTuition Fee\\nScholarships\\nCalendar, Timetable and Exams\\nFAQ\\nRegulations and Accreditations\\nApply here\\nWho is it for?\\nThis degree is intended for all final-year students who aspire to become data scientists. Thus, the study cycle is suitable for all students who wish to obtain in-depth training in the most recent techniques of data science and artificial intelligence, based on automatic logical reasoning, data management methods and techniques, as well as machine learning applications.\\nThe course aims to train highly specialized professionals who will enable organizations to take advantage of the huge volume of data they currently have at their disposal.\\nFor information about the International Student Access, please click\\nhere\\n.\\nProgram Goals\\nThe bachelor's degree in Data Science aims to strengthen the intermediate step between data collection and decision making based on them, i.e. to develop advanced methods of data science and artificial intelligence. To this end, the course of study adopts a primarily technical perspective. The goal is to provide in-depth knowledge of the fundamental methodologies and concepts, in order to provide the student with the ability to update more specific technical knowledge and to keep up with the rapid evolution of this sector.\\nIn this context, the graduate in Data Science should:\\nUnderstand the theoretical foundations of statistics, Machine Learning and Artificial Intelligence methods;\\nIdentify and understand the most efficient algorithm for each specific problem;\\nDesign and develop state-of-the-art data science algorithms;\\nWork closely with IT specialists to integrate Data Science algorithms into existing systems;\\nIdentify underlying patterns and extract useful information from the large volume of heterogeneous data that exists in organizations;\\nBe proficient in commonly used statistical procedures, frameworks, machine learning techniques and systems;\\nStimulate interest in keeping up with scientific advances in the field of Data Science and Artificial Intelligence.\\nProgram Structure\\nThe course lasts 3 years (6 semesters) and classes start in September 2025.\\nThe study plan corresponds to 180 ECTS, of which 150 ECTS correspond to mandatory curricular units (the first 5 semesters) and 30 ECTS correspond to optional curricular units (last semester of the course), which will be chosen by each Student, from among a wide range of curricular units available.\\nSee study plan\\nAdmissions and Fees\\nEstablishment Code:\\n0906 - Universidade Nova de Lisboa - Instituto Superior de Estatística e Gestão de Informação\\nCourse Code:\\nL188\\nEntry Exam Subjects (One of the following):\\n19 - Mathematics A and 02 - Biology and Geology\\n19 - Mathematics A and 04 - Economy\\n19 - Mathematics A and 07 - Physics and Chemistry\\n19 - Mathematics A and 09 - Geography\\n19 - Mathematics A and 10 - Descriptive Geometry\\n19 - Mathematics A and 18 - Portuguese\\nCourse Unit\\nLoading...\\nmodal item\\ncard item\\nNOTICE:\\nThe exams presented are valid for admissions in the 2025/26 academic year, through the National Competition for Access to Higher Education.\\nMinimum Grades\\nApplicants Grade: 100\\nEntry Exam Grade: 95\\nFormula of Applicants Grade\\nSecondary School Grade: 50%\\nEntry Exam Subjects: 50%\\nPrerequesites\\nNone\\nVacancies\\n45\\nGeneral Quota Last Entry Grade 2024-2025\\n1\\nst\\nPhase - 17.78\\n2025/26 Academic Year\\nConsult the entrance exams applicable to 2025/26 in the Frequently Asked Questions.\\nAchievement Awards\\n(*)\\nPrize corresponding to the 1\\nst\\nyear tuition fee.\\nThe undergraduate students who achieve a high level of academic performance each year will have access to the following awards\\n(1)\\n:\\nApproved ECTS\\nAverage (Values)\\nAward\\nAt the end of the 1\\nst\\nyear of Enrollment\\nequal or greater than 60\\nequal or greater than 16,5\\n700€\\nAt the end of the 2\\nnd\\nyear of Enrollment\\nequal or greater than 120\\nequal or greater than 16,5\\n700€\\nAt the end of the 3\\nrd\\nyear of Enrollment\\nequal or greater than 180\\nequal or greater than 16,5\\n€3.000 off (2)\\n(1)\\nPrize applied to students admitted in 2024/2025.\\n(2)\\nThe value of the tuition for a master's degree to be attended at the NOVA IMS, if admission and enrollment occur in the year immediately following the completion of the bachelor's degree. Not cumulative with Alumni discount. Cumulative with financial discount.\\nExcellence awards given by the Members of AD NOVA IMS and other supportive entities (3)\\nAll students that stand out, during their academic path, for their academic excellence in the different course units and programs are also awarded.\\n(3)\\nPrizes in force in the school year 2023/24.\\nSupportive Entities\\nBest student of the Course Unit\\n€1.000\\nBest Student of Undergraduate and Master Degree Programs\\nScholarship with Value to be Defined\\nBest Application Grade\\n€1.000\\nLoading...\\nresumo do conteudo da tabela\\nCurricular\\nUnit\\nProgram\\nAnnual Prize\\nValue\\ncaption text\\nTuition Fee\\nThe annual fee set for the academic year\\n2024/25,\\nfor the students of the National Contest for Access to Higher Education,\\nis €697.\\nThis payment can be paid in full or in 10 instalments.\\nFor the students of the International Student Contest, the annual fee for the academic year\\n2024/25, is €7.500.\\nThis payment can also be paid in full or in 5 instalments.\\nThe Student (national or international), when registering for a school year, has to take into account that the full payment of the tuition fee fixed for that school year (the monthly fees/benefits are a payment facility), even if they cancel the registration/withdraw of the course.\\nFor more information, please consult the Frequently Asked Questions at the bottom of the page.\\nFAQ\\nWhat is the language of instruction of the course?\\nThe course is taught in English. Nowadays, being comfortable with the English language is a competitive advantage, which makes a difference in the global job market.\\nNOVA IMS students have all the support to quickly adapt to the language and can always speak in Portuguese when they are unable to express themselves.\\nWhere is NOVA IMS located?\\nNOVA IMS is located on the Campolide Campus, in Lisbon. Watch the campus tour made by NOVA IMS Students\\nhere\\n.\\nWhat is the schedule?\\nThe Bachelor´s Degree will work on daytime , 5 days a week.\\nWhere can I see an overview of undergraduate programs?\\nYou can watch it\\nhere\\nand for more information click\\nhere\\n.\\nWhat is the cost of the tuition and enrollment fee for the students of the National Contest?\\nThe value of the Annual Fee for\\n2024/2025 is €697\\n. The student, enrolling in a school year, has to consider that full payment of the fee fixed for that year (tuition / benefits are ease of payment) is due, although they may unsubscribe / fold the course.\\nThe payment of tuition fees can be made as follows:\\nAt once (€697), until October 8\\nth\\n, 2024 or in 10 installments:\\n1\\nst\\nInstallment: September 27\\nth\\nto October 8\\nth\\n, 2024: €69,70 (to be received upon registration);\\n2\\nnd\\nInstallment: November 1\\nst\\nto 8\\nth\\n, 2024: €69,70;\\n3\\nrd\\nInstallment: December 1\\nst\\nto 8\\nth\\n, 2024: €69,70;\\n4\\nth\\nInstallment: January 1\\nst\\nto 8\\nth\\n, 2025: €69,70;\\n5\\nth\\nInstallment: February 1\\nst\\nto 8\\nth\\n, 2025: €69,70;\\n6\\nth\\nInstallment: March 1\\nst\\nto 8\\nth\\n, 2025: €69,70;\\n7\\nth\\nInstallment: April 1\\nst\\nto 8\\nth\\n, 2025: €69,70;\\n8\\nth\\nInstallment: May 1\\nst\\nto 8\\nth\\n, 2025: €69,70;\\n9\\nth\\nInstallment: June 1\\nst\\nto 8\\nth\\n, 2025: €69,70;\\n10\\nth\\nInstallment: July 1\\nst\\nto 8\\nth\\n, 2025: €69,70.\\nFor students who have applied for the Merit (SAS / UNL) scholarship, the payment of tuition fees should only be made after the delivery of the final decision about the case, and if the scholarship is granted, the payment must be done afterwards. The student has, in these cases, a period of 15 days to rectify the situation.\\nTo apply for the scholarship the student must register on-time and deliver the declaration of honor (paper provided by the Academic Services) on how he/she is applying for this benefit.\\nFor further enquiries please contact Admissions office at NOVA rectory.\\nUpon registration, the students should make the following payments:\\n€69,70 - for 1\\nst\\ninstallment of tuition fee;\\n€35 - for annual enrollment fee;\\n€1,40 - for annual school insurance.\\nThe enrolment fees are updated annually in the Universidade NOVA de Lisboa table of emoluments, published in the Official\\xa0 Portuguese Government Gazette\\n(Diário da República)\\n.\\nWhat is the cost of the tuition and enrollment fee for the students of the International Student Contest?\\nThe annual fee set for the academic year\\n2024/25,\\nfor the\\nstudents of the International Student Contest,\\nis €7500.\\nThis payment can be as following:\\nFull payment (€7500), unit October 1\\nst\\n, 2024, or in 5 installments:\\n1\\nst\\ninstallment: September 1\\nst\\nto 8\\nth\\n, 2024: €1500;\\n2\\nnd\\ninstallment: November 1\\nst\\nto 8\\nth\\n, 2024: €1500;\\n3\\nrd\\ninstallment: January 1\\nst\\nto 8\\nth\\n, 2025: €1500;\\n4\\nth\\ninstallment: March 1\\nst\\nto 8\\nth\\n, 2025: €1500;\\n5\\nth\\ninstallment: May 1\\nst\\nto 8\\nth\\n, 2025: €1500.\\nAre there special access quotas?\\nThere are several special quotas, beyond to the general quota, to which certain percentages of vacancies are allocated, intended for candidates who meet the conditions of each quota. These are:\\nCandidates from the Autonomous Region of the Açores;\\nCandidates from the Autonomous Region of Madeira;\\nPortuguese Emigrant Candidates and family members who live with them;\\nMilitary Candidates Under Contract;\\nCandidates with Disabilities.\\nI completed secondary education abroad or at a foreign school. Can I apply for the national contest?\\nYes, however there are some conditions that are important to know. For more information, you should contact\\nDirecção-Geral do Ensino Superior\\n.\\nWhat is the application process for the international student?\\nCandidates who do not have the nationality of a Member State of the European Union and who have not lived in Portugal for more than two consecutive years can apply for a Bachelor's degree at NOVA IMS under the International Student status. The application process is different from the National Contest for Access to Higher Education. For more information, click\\nhere\\n.\\nWhat is ObipNOVA?\\nObipNOVA\\nis the Observatory of Graduates’ Transitions into Work at NOVA. The ObipNOVA analyses the graduates of all the study cycles: bachelors, masters and doctorates.\\xa0Every year, a series of phone surveys are conducted to evaluate the professional activity of those who graduated in the previous year. The more recent data is related to 2019 graduated students.\\nRegulations and Accreditations\\nRegulations\\nRegulation n.º 820/2021, on September 1\\nst\\n(in Portuguese);\\nPartial Time Student Regulation\\n(in Portuguese).\\nAccreditations\\nSubmission of the application - New study cycle\\n(in Portuguese);\\nExternal Review Team Final Report (CAE)\\n(in Portuguese);\\nDecision of the A3ES Board of Directors\\n(in Portuguese);\\nA3ES Deliberation\\n.\\nSupport and Funding\\nhttps://recuperarportugal.gov.pt/\\nLoading...\\nresumo do conteudo da tabela\\nCurricular\\nUnit\\nProgram\\nAnnual Prize\\nValue\\ncaption text\",\n",
       "  'metadata': {'degree': 'bachelor',\n",
       "   'doc_type': 'main_info',\n",
       "   'course_name': 'Data Science'}},\n",
       " 'bachelor_data-science_studyplan_text.txt': {'text': \"Text from https://www.novaims.unl.pt/en/education/programs/bachelor-s-degrees/data-science/program/#:\\nProgram\\nStudy Plan\\nen\\nEducation\\nPrograms\\nBachelor's Degrees\\nData Science\\nProgram\\n1\\nst\\nyear - Fall Semester\\nresumo do conteudo da tabela\\nCourse Units\\nDuration\\nType\\nContact Hours\\nTotal Workload\\nECTS\\nComputers' Architecture\\nSemester\\nMandatory\\nTP - 45 | OT - 5\\n112\\n4\\nFoundational aspects of data science\\nSemester\\nMandatory\\nTP - 45 | OT - 5\\n112\\n4\\nInformation Systems\\nSemester\\nMandatory\\nTP - 64,5 | S - 3 | OT - 7,5\\n168\\n6\\nIntroduction to Programming\\nSemester\\nMandatory\\nTP - 67,5 | OT - 7,5\\n196\\n7\\nLinear Algebra\\nSemester\\nMandatory\\nT - 22,5 | PL - 22,5 | OT - 7,5\\n112\\n4\\nShow subtitles\\nT – Theoretical Teaching;\\nTP – Theoretical/ Practical Teaching;\\nTC – Field Work;\\nPL – Theoretical/ Practical Teaching;\\nS – Seminar;\\nOT – Tutor Group;\\n** – Course Unit available in both semesters;\\n1\\nst\\nyear - Spring Semester\\nresumo do conteudo da tabela\\nCourse Units\\nDuration\\nType\\nContact Hours\\nTotal Workload\\nECTS\\nAlgorithms and Data Structures\\nSemester\\nMandatory\\nTP - 67,5 | OT - 7,5\\n168\\n6\\nIntroduction to Artificial Intelligence\\nSemester\\nMandatory\\nTP - 67,5 | OT - 15\\n140\\n5\\nIntroduction to Computational Thinking and Data Science\\nSemester\\nMandatory\\nTP - 45 | OT - 5\\n112\\n4\\nMathematical Analysis I **\\nSemester\\nMandatory\\nT - 22,5 | PL - 45 | OT - 7,5\\n140\\n5\\nMathematical Analysis II **\\nSemester\\nMandatory\\nT - 22,5 | PL - 45 | OT - 7,5\\n196\\n7\\nPersonal Development I\\nSemester\\nMandatory\\nTP - 22,5 | OT - 7,5\\n56\\n2\\nStatistics and Probability Distributions\\nSemester\\nMandatory\\nTP - 67,5 | OT - 7,5\\n168\\n6\\nShow subtitles\\nT – Theoretical Teaching;\\nTP – Theoretical/ Practical Teaching;\\nTC – Field Work;\\nPL – Theoretical/ Practical Teaching;\\nS – Seminar;\\nOT – Tutor Group;\\n** – Course Unit available in both semesters;\\nSemestre 1 - 2;\\n2\\nnd\\nyear - Fall Semester\\nresumo do conteudo da tabela\\nCourse Units\\nDuration\\nType\\nContact Hours\\nTotal Workload\\nECTS\\nData preprocessing and visualization\\nSemester\\nMandatory\\nTP - 67,5 | OT - 7,5\\n168\\n6\\nDatabases\\nSemester\\nMandatory\\nTP - 64,5 | S - 3 | OT - 7,5\\n168\\n6\\nMachine Learning I\\nSemester\\nMandatory\\nTP - 67,5 | OT - 7,5\\n168\\n6\\nProgramming for Data Science\\nSemester\\nMandatory\\nTP - 67,5 | OT - 7,5\\n168\\n6\\nStatistical Inference\\nSemester\\nMandatory\\nTP - 67,5 | OT - 7,5\\n168\\n6\\nShow subtitles\\nT – Theoretical Teaching;\\nTP – Theoretical/ Practical Teaching;\\nTC – Field Work;\\nPL – Theoretical/ Practical Teaching;\\nS – Seminar;\\nOT – Tutor Group;\\n** – Course Unit available in both semesters;\\nSemestre 2 - 1;\\n2\\nnd\\nyear - Spring Semester\\nresumo do conteudo da tabela\\nCourse Units\\nDuration\\nType\\nContact Hours\\nTotal Workload\\nECTS\\nBig Data Storage\\nSemester\\nMandatory\\nTP - 67,5 | OT - 7,5\\n168\\n6\\nForecasting Methods\\nSemester\\nMandatory\\nTP - 67,5 | OT - 15\\n168\\n6\\nMachine Learning II\\nSemester\\nMandatory\\nTP - 67,5 | OT - 7,5\\n168\\n6\\nOptimization Algorithms\\nSemester\\nMandatory\\nTP - 67,5 | OT - 7,5\\n168\\n6\\nRegression Analysis\\nSemester\\nMandatory\\nTP - 67,5 | OT - 7,5\\n168\\n6\\nShow subtitles\\nT – Theoretical Teaching;\\nTP – Theoretical/ Practical Teaching;\\nTC – Field Work;\\nPL – Theoretical/ Practical Teaching;\\nS – Seminar;\\nOT – Tutor Group;\\n** – Course Unit available in both semesters;\\n3\\nrd\\nyear - Fall Semester\\nresumo do conteudo da tabela\\nCourse Units\\nDuration\\nType\\nContact Hours\\nTotal Workload\\nECTS\\nBig Data Analysis\\nSemester\\nMandatory\\nTP - 67,5 | OT - 15\\n168\\n6\\nCapstone Project\\nSemester\\nMandatory\\nTP - 22,5 | OT - 45\\n224\\n8\\nDeep Learning\\nSemester\\nMandatory\\nTP - 67,5 | OT - 15\\n168\\n6\\nEthical, Social and Legal Aspects of Artificial Intelligence\\nSemester\\nMandatory\\nTP - 22,5 | OT - 7,5\\n56\\n2\\nPersonal Development II\\nSemester\\nMandatory\\nTP - 22,5 | OT - 7,5\\n56\\n2\\nText Mining\\nSemester\\nMandatory\\nTP - 45 | OT - 12,5\\n168\\n6\\nShow subtitles\\nT – Theoretical Teaching;\\nTP – Theoretical/ Practical Teaching;\\nTC – Field Work;\\nPL – Theoretical/ Practical Teaching;\\nS – Seminar;\\nOT – Tutor Group;\\n** – Course Unit available in both semesters;\\n3\\nrd\\nyear - Spring Semester\\nresumo do conteudo da tabela\\nCourse Units\\nDuration\\nType\\nContact Hours\\nTotal Workload\\nECTS\\nApplied Economics\\nSemester\\nElective\\nTP - 45 | OT - 5\\n112\\n4\\nDigital Innovation Projects\\nSemester\\nElective\\nTP - 45 | OT - 10\\n112\\n4\\nEntrepreneurship and Project Analysis\\nSemester\\nElective\\nTP - 45 | OT - 7,5\\n112\\n4\\nFinancial Calculus and Project Analysis\\nSemester\\nElective\\nTP - 45\\n112\\n4\\nGeospatial Analytics\\nSemester\\nElective\\nTP - 45 | OT - 7,5\\n112\\n4\\nInformatics and Information Law\\nSemester\\nElective\\nTP - 45 | OT - 10\\n112\\n4\\nInformation Systems Seminar\\nSemester\\nElective\\nT - 9 | S - 45 | OT - 7,5 | TC - 13,5\\n168\\n6\\nInformation Tecnologies, Governance and Service Management\\nSemester\\nElective\\nTP - 77,5 | OT - 10\\n168\\n6\\nNetwork Analysis\\nSemester\\nElective\\nTP - 67,5 | OT - 10\\n168\\n6\\nPeople Management and Leadership\\nSemester\\nElective\\nTP - 45\\n112\\n4\\nProcess Intelligence\\nSemester\\nElective\\nTP - 45 | OT - 7,5\\n112\\n4\\nRisk Management\\nSemester\\nElective\\nTP - 67,5 | OT - 10\\n168\\n6\\nWeb Analytics\\nSemester\\nElective\\nTP - 45 | OT - 7,5\\n112\\n4\\nWeb Marketing and E-business\\nSemester\\nElective\\nTP - 45 | OT - 10\\n112\\n4\\nShow subtitles\\nT – Theoretical Teaching;\\nTP – Theoretical/ Practical Teaching;\\nTC – Field Work;\\nPL – Theoretical/ Practical Teaching;\\nS – Seminar;\\nOT – Tutor Group;\\n** – Course Unit available in both semesters;\\nCourse Unit\\nLoading...\\nmodal item\\ncard item\",\n",
       "  'metadata': {'degree': 'bachelor',\n",
       "   'doc_type': 'study_plan',\n",
       "   'course_name': 'Data Science'}},\n",
       " 'bachelor_data-science_teaching-staff_text.txt': {'text': \"Text from https://www.novaims.unl.pt/en/education/programs/bachelor-s-degrees/data-science/teaching-staff/#:\\nTeaching Staff\\nTeaching Staff\\nen\\nEducation\\nPrograms\\nBachelor's Degrees\\nData Science\\nTeaching Staff\\nTeaching Staff\\nTeaching Staff\\nApply here\\nTeaching Staff\\nAmérico Rio\\nInvited Assistant Professor\\namerico.rio@novaims.unl.pt\\nKnow more\\nAna Cristina Costa\\nAssociate Professor\\ncristina@novaims.unl.pt\\nKnow more\\nArtur Varanda\\nAdjunct Lecturer\\navaranda@novaims.unl.pt\\nKnow more\\nAugusto Santos\\nAssistant Professor\\najrsantos@novaims.unl.pt\\nKnow more\\nBruno Damásio\\nAssistant Professor\\nbdamasio@novaims.unl.pt\\nKnow more\\nCarina Albuquerque\\nAssistant Professor\\ncalbuquerque@novaims.unl.pt\\nKnow more\\nCarolina Maria Shaul\\nAdjunct Lecturer\\ncshaul@novaims.unl.pt\\nKnow more\\nCarolina Santos Maximiano\\nAdjunct Lecturer\\ncmaximiano@novaims.unl.pt\\nKnow more\\nCarolina Vasconcelos\\nInvited Teaching Assistant\\ncvasconcelos@novaims.unl.pt\\nKnow more\\nCatarina Neves\\nAssistant Professor\\ncneves@novaims.unl.pt\\nKnow more\\nCatarina Palha\\nInvited Teaching Assistant\\ncpalha@novaims.unl.pt\\nKnow more\\nDhruv Akshay Pandit\\nInvited Teaching Assistant\\ndpandit@novaims.unl.pt\\nKnow more\\nDiogo Rasteiro\\nResearch Assistant\\ndrasteiro@novaims.unl.pt\\nKnow more\\nFernando Bação\\nFull Professor\\nbacao@novaims.unl.pt\\nKnow more\\nFilipe Marques\\nProfessor of the Practice\\nfjmarques@novaims.unl.pt\\nKnow more\\nGonçalo Baptista\\nProfessor of the Practice\\ngbaptista@novaims.unl.pt\\nKnow more\\nHelena Guerra\\nInvited Assistant Professor\\nhelena@novaims.unl.pt\\nKnow more\\nIan Scott\\nAssistant Professor\\niscott@novaims.unl.pt\\nKnow more\\nIvo Bernardo\\nAdjunct Lecturer\\nibernardo@novaims.unl.pt\\nKnow more\\nJoana Neves\\nAssistant Professor\\njneves@novaims.unl.pt\\nKnow more\\nJorge Neves\\nInvited Assistant Professor\\njnneves@novaims.unl.pt\\nKnow more\\nJosé Carvalho\\nInvited Teaching Assistant\\njcarvalho@novaims.unl.pt\\nKnow more\\nLeon Debatin\\nAdjunct Lecturer\\n20230549@novaims.unl.pt\\nKnow more\\nLeonardo Vanneschi\\nFull Professor\\nlvanneschi@novaims.unl.pt\\nKnow more\\nLiah Rosenfeld\\nInvited Teaching Assistant\\nlrosenfeld@novaims.unl.pt\\nKnow more\\nManuel Rodrigues\\nAdjunct Lecturer\\nmerodrigues@novaims.unl.pt\\nKnow more\\nManuela Aparício\\nAssistant Professor\\nmanuela.aparicio@novaims.unl.pt\\nKnow more\\nMaria Fernandes\\nInvited Assistant Professor\\nmfernandes@novaims.unl.pt\\nKnow more\\nMariana Dias\\nInvited Teaching Assistant\\nmidias@novaims.unl.pt\\nKnow more\\nMarisa Fernandes\\nAdjunct Lecturer\\nmmfernandes@novaims.unl.pt\\nKnow more\\nMarisa Nunes\\nAdjunct Lecturer\\nmnunes@novaims.unl.pt\\nKnow more\\nMauro Castelli\\nFull Professor\\nmcastelli@novaims.unl.pt\\nKnow more\\nMijail Naranjo-Zolotov\\nAssistant Professor\\nmijail.naranjo@novaims.unl.pt\\nKnow more\\nNiclas Frederic Sturm\\nResearch Assistant\\nnsturm@novaims.unl.pt\\nKnow more\\nPaulo Lapa\\nAdjunct Lecturer\\nplapa@novaims.unl.pt\\nKnow more\\nPedro Fernandes\\nAdjunct Lecturer\\npmfernandes@novaims.unl.pt\\nKnow more\\nPedro Mota\\nProfessor of the Practice\\npmota@novaims.unl.pt\\nKnow more\\nRafael dos Santos Pereira\\nAdjunct Lecturer\\nrpereira@novaims.unl.pt\\nKnow more\\nRoberto Henriques\\nAssociate Professor\\nroberto@novaims.unl.pt\\nKnow more\\nRute Silva\\nAdjunct Lecturer\\nrpsilva@novaims.unl.pt\\nKnow more\\nSamuel Santos\\nAdjunct Lecturer\\nsamuel.santos@novaims.unl.pt\\nKnow more\\nSandra Cristina Roque Candeias\\nAdjunct Lecturer\\nscandeias@novaims.unl.pt\\nKnow more\\nSara dos Santos Fernandes\\nInvited Teaching Assistant\\nsfernandes@novaims.unl.pt\\nKnow more\\nSofia Carreira da Conceição Alves Pereira\\nAdjunct Lecturer\\nspereira@novaims.unl.pt\\nKnow more\\nTiago Santos\\nAdjunct Lecturer\\ntmsantos@novaims.unl.pt\\nKnow more\\nVictor Lobo\\nInvited Full Professor\\nvlobo@novaims.unl.pt\\nKnow more\\nVítor Santos\\nAssistant Professor\\nvsantos@novaims.unl.pt\\nKnow more\\nYuriy Perezhohin\\nResearch Assistant\\nyperezhohin@novaims.unl.pt\\nKnow more\",\n",
       "  'metadata': {'degree': 'bachelor',\n",
       "   'doc_type': 'teaching_staff',\n",
       "   'course_name': 'Data Science'}},\n",
       " 'bachelor_information-management_main_course_text.txt': {'text': \"Text from https://www.novaims.unl.pt/en/education/programs/bachelor-s-degrees/information-management/:\\nInformation Management\\nDegree in\\nInformation Management\\nen\\nEducation\\nPrograms\\nBachelor's Degrees\\nInformation Management\\nThe\\nBachelor’s degree in Information Management combines management with data science\\n. It prepares students to be managers of the new generation, capable of understanding business and the current challenges of modern management, transforming data into information.\\nIn today's society, business is increasingly complex and companies deal daily with a huge volume of data, generated by numerous sources. This reality causes a high demand for professionals with skills in the area of information management, who are able to use the most modern techniques and analytical tools to support decision making.\\nThe 3\\nrd\\nphase of applications under the International Student Statute for the 2025/26 academic year are open from February 26\\nth\\nto March 27\\nth\\n, 2025.\\nDuration\\n3 years (6 semesters)\\nTimetable\\nDaytime\\nStart\\nSeptember 2025\\nCareer Opportunities\\nThe Bachelor´s Degree in Information Management allows a quick integration in the most varied sectors of activity, namely: Information Technology Companies, Banking, Insurance, Health, Telecommunications, Logistics/Distribution, Marketing and Market Research, Retail, Consulting and Public Administration. The main professional opportunities are:\\nBusiness Process Analyst;\\nBusiness Analyst;\\nData Analyst;\\nInformation Manager;\\nSpecialist in Analytical Marketing;\\nSpecialist in Data Science applied to Management;\\nSpecialist in Decision Support Systems.\\nTechnical and Managerial Positions in Public Administration.\\nWhat does an Information Manager?\\nFrederico Cruz Jesus | Coordinator of the Bachelor Degree\\nSorry, your browser doesn't support embedded videos.\\nPlay video\\nWho is it for?\\nWho is it for?\\nProgram Goals\\nProgram Structure\\nAdmissions and Fees\\nAchievement Awards\\nTeaching Staff\\nTuition Fee\\nScholarships\\nCalendar, Timetable and Exams\\nFAQ\\nRegulations and Accreditations\\nApply here\\nWho is it for?\\nThis degree is aimed at all 12\\nth\\ngrade finalist's students that are seeking proper education into the current Knowledge Society to enable them to manage the analytical processes of organizations and decision support systems.\\nA degree in Information Management aims at training professionals able to collect, organize and analyze information from organizations and translate it into actions conducive to the achievement of their goals. The course aims at training professionals with fundamental knowledge about a wide range of tools and techniques, analytical and computational, which transform information into a strategic asset of organizations.\\nFor information about the International Student Access, please click\\nhere\\n.\\nProgram Goals\\nIn this degree, it is intended that students acquire skills to perform new functions in the information society and knowledge. In this context, the graduated in Information Management should:\\nMaster a set of techniques and methodologies for data collection;\\nMaster the tools and processes used for the storage, organization and access to information in a business context;\\nUnderstand the paradigms and technologies currently used in the management and dissemination of information;\\nMaster the methodologies as well as statistical and computational tools for exploring and analyzing information in order to reduce the levels of uncertainty associated with decision making;\\nDevelop models for the establishment of information flow to improve the processes of decision support and business management;\\nBe able to identify problems related to the management of information in organizations;\\nKnow how to transform data into useful and relevant information, using language accessible to various decision centers;\\nBe able to develop autonomously, solutions to new problems based on the knowledge gained from the answer to previous problems.\\nProgram Structure\\nThe course lasts 3 years (6 semesters) and classes start in September 2025.\\nThe study plan corresponds to 180 ECTS, of which 150 ECTS correspond to mandatory curricular units (the first 5 semesters) and 30 ECTS correspond to optional curricular units (last semester of the course), which will be chosen by each Student, from among a wide range of curricular units available.\\nSee the study plan\\nAdmissions and Fees\\nEstablishment Code:\\n0906 - Universidade Nova de Lisboa - Instituto Superior de Estatística e Gestão de Informação\\nCourse Code:\\n9155\\nEntry Exam Subjects (one of the following):\\n19 - Mathematics A and 04 - Economics\\n19 - Mathematics A and 02 - Biology and Geology\\n19 - Mathematics A and 07 - Physics and Chemistry\\n16 - Mathematics and 18 - Portuguese\\n16 - Mathematics and 09 - Geography\\n16 - Mathematics and 13 - English\\nCourse Unit\\nLoading...\\nmodal item\\ncard item\\nNOTICE:\\nThe exams presented are valid for admissions in the 2025/26 academic year, through the National Competition for Access to Higher Education.\\nMinimum Grades\\nApplicants Grade: 100\\nEntry Exam Grade: 95\\nFormula of Applicants Grade\\nSecondary School Grade: 50%\\nEntry Exam Subjects: 50%\\nPrerequesites\\nNone\\nVacancies\\n64\\nGeneral Quota Last Entry Grade 2024-2025\\n1\\nst\\nPhase - 17.36\\n2\\nnd\\nPhase - 17.90\\n2025/26 Academic Year\\nConsult the entrance exams applicable to 2025/26 in the Frequently Asked Questions.\\nAchievement Awards\\n(*)\\nPrize corresponding to the 1\\nst\\nyear tuition fee.\\nThe undergraduate students who achieve a high level of academic performance each year will have access to the following awards\\n(1)\\n:\\nApproved ECTS\\nAverage (Values)\\nAward\\nAt the end of the 1\\nst\\nyear of Enrollment\\nequal or greater than 60\\nequal or greater than 16,5\\n700€\\nAt the end of the 2\\nnd\\nyear of Enrollment\\nequal or greater than 120\\nequal or greater than 16,5\\n700€\\nAt the end of the 3\\nrd\\nyear of Enrollment\\nequal or greater than 180\\nequal or greater than 16,5\\n€3.000 off (2)\\n(1)\\nPrize applied to students admitted in 2024/2025.\\n(2)\\nThe value of the tuition for a master's degree to be attended at the NOVA IMS, if admission and enrollment occur in the year immediately following the completion of the bachelor's degree. Not cumulative with Alumni discount. Cumulative with financial discount.\\nExcellence awards given by the Members of AD NOVA IMS and other supportive entities (3)\\nAll students that stand out, during their academic path, for their academic excellence in the different course units and programs are also awarded.\\n(3)\\nPrizes in force in the school year 2023/24.\\nAD NOVA IMS Member\\nBest Finalist Student\\n€1.500\\nBest Student of the Course Units\\n€1.500\\nLoading...\\nresumo do conteudo da tabela\\nCurricular\\nUnit\\nProgram\\nAnnual Prize\\nValue\\ncaption text\\nSupportive Entities\\nBest student of the Course Unit\\n€1.000\\nBest Student of Undergraduate and Master Degree Programs\\nScholarship with Value to be Defined\\nBest Application Grade\\n€1.000\\nLoading...\\nresumo do conteudo da tabela\\nCurricular\\nUnit\\nProgram\\nAnnual Prize\\nValue\\ncaption text\\nTuition Fee\\nThe annual fee set for the academic year\\n2024/25,\\nfor the students of the National Contest for Access to Higher Education,\\nis €697.\\nThis payment can be paid in full or in 10 instalments.\\nFor the students of the International Student Contest, the annual fee for the academic year\\n2024/25, is €7.500.\\nThis payment can also be paid in full or in 5 instalments.\\nThe Student (national or international), when registering for a school year, has to take into account that the full payment of the tuition fee fixed for that school year (the monthly fees/benefits are a payment facility), even if they cancel the registration/withdraw of the course.\\nFor more information, please consult the Frequently Asked Questions at the bottom of the page.\\nFAQ\\nWhat is the language of instruction of the course?\\nThe course is taught in English. Nowadays, being comfortable with the English language is a competitive advantage, which makes a difference in the global job market.\\nNOVA IMS students have all the support to quickly adapt to the language and can always speak in Portuguese when they are unable to express themselves.\\nWhere is NOVA IMS located?\\nNOVA IMS is located on the Campolide Campus, in Lisbon. Watch the campus tour made by NOVA IMS Students\\nhere\\n.\\nWhat is the schedule?\\nThe Bachelor´s Degree will work on daytime , 5 days a week.\\nWhere can I see an overview of undergraduate programs?\\nYou can watch it\\nhere\\nand for more information click\\nhere\\n.\\nWhat is the cost of the tuition and enrollment fee for the students of the National Contest?\\nThe value of the Annual Fee for\\n2024/2025 is €697\\n. The student, enrolling in a school year, has to consider that full payment of the fee fixed for that year (tuition / benefits are ease of payment) is due, although they may unsubscribe / fold the course.\\nThe payment of tuition fees can be made as follows:\\nAt once (€697), until October 8\\nth\\n, 2024 or in 10 installments:\\n1\\nst\\nInstallment: September 27\\nth\\nto October 8\\nth\\n, 2024: €69,70 (to be received upon registration);\\n2\\nnd\\nInstallment: November 1\\nst\\nto 8\\nth\\n, 2024: €69,70;\\n3\\nrd\\nInstallment: December 1\\nst\\nto 8\\nth\\n, 2024: €69,70;\\n4\\nth\\nInstallment: January 1\\nst\\nto 8\\nth\\n, 2025: €69,70;\\n5\\nth\\nInstallment: February 1\\nst\\nto 8\\nth\\n, 2025: €69,70;\\n6\\nth\\nInstallment: March 1\\nst\\nto 8\\nth\\n, 2025: €69,70;\\n7\\nth\\nInstallment: April 1\\nst\\nto 8\\nth\\n, 2025: €69,70;\\n8\\nth\\nInstallment: May 1\\nst\\nto 8\\nth\\n, 2025: €69,70;\\n9\\nth\\nInstallment: June 1\\nst\\nto 8\\nth\\n, 2025: €69,70;\\n10\\nth\\nInstallment: July 1\\nst\\nto 8\\nth\\n, 2025: €69,70.\\nFor students who have applied for the Merit (SAS / UNL) scholarship, the payment of tuition fees should only be made after the delivery of the final decision about the case, and if the scholarship is granted, the payment must be done afterwards. The student has, in these cases, a period of 15 days to rectify the situation.\\nTo apply for the scholarship the student must register on-time and deliver the declaration of honor (paper provided by the Academic Services) on how he/she is applying for this benefit.\\nFor further enquiries please contact Admissions office at NOVA rectory.\\nUpon registration, the students should make the following payments:\\n€69,70 - for 1\\nst\\ninstallment of tuition fee;\\n€35 - for annual enrollment fee;\\n€1,40 - for annual school insurance.\\nThe enrolment fees are updated annually in the Universidade NOVA de Lisboa table of emoluments, published in the Official\\xa0 Portuguese Government Gazette\\n(Diário da República)\\n.\\nWhat is the cost of the tuition and enrollment fee for the students of the International Student Contest?\\nThe annual fee set for the academic year\\n2024/25,\\nfor the\\nstudents of the International Student Contest,\\nis €7500.\\nThis payment can be as following:\\nFull payment (€7.500), unit October 1\\nst\\n, 2024, or in 5 installments:\\n1\\nst\\ninstallment: September 1\\nst\\nto 8\\nth\\n, 2024: €1500;\\n2\\nnd\\ninstallment: November 1\\nst\\nto 8\\nth\\n, 2024: €1500;\\n3\\nrd\\ninstallment: January 1\\nst\\nto 8\\nth\\n, 2025: €1500;\\n4\\nth\\ninstallment: March 1\\nst\\nto 8\\nth\\n, 2025: €1500;\\n5\\nth\\ninstallment: May 1\\nst\\nto 8\\nth\\n, 2025: €1500.\\nAre there special access quotas?\\nThere are several special quotas, beyond to the general quota, to which certain percentages of vacancies are allocated, intended for candidates who meet the conditions of each quota. These are:\\nCandidates from the Autonomous Region of the Açores;\\nCandidates from the Autonomous Region of Madeira;\\nPortuguese Emigrant Candidates and family members who live with them;\\nMilitary Candidates Under Contract;\\nCandidates with Disabilities.\\nI completed secondary education abroad or at a foreign school. Can I apply for the national contest?\\nYes, however there are some conditions that are important to know. For more information, you should contact\\nDirecção-Geral do Ensino Superior\\n.\\nWhat is the application process for the international student?\\nCandidates who do not have the nationality of a Member State of the European Union and who have not lived in Portugal for more than two consecutive years can apply for a Bachelor's degree at NOVA IMS under the International Student status. The application process is different from the National Contest for Access to Higher Education. For more information, click\\nhere\\n.\\nWhat is ObipNOVA?\\nObipNOVA\\nis the Observatory of Graduates’ Transitions into Work at NOVA. The ObipNOVA analyses the graduates of all the study cycles: bachelors, masters and doctorates.\\xa0Every year, a series of phone surveys are conducted to evaluate the professional activity of those who graduated in the previous year. The more recent data is related to 2019 graduated students.\\nRegulations and Accreditations\\nRegulations\\nRegulation nº 848/2021, September 10\\nth\\n(in Portuguese);\\nStudy plan for the study cycle leading to the degree of Bachelor in Information Management, operating at the Campus of Universidade NOVA de Lisboa in Cairo (ID-3048)\\n(Regulation No. 387/2024, published in the Official Gazette, 2nd series, No.11, January 16th, 2024) (in Portuguese).\\nPartial Time Student Regulation\\n(in Portuguese).\\nAccreditations\\nStudy Program Self-Evaluation Report\\n(in Portuguese);\\nExternal Review Team Final Report (CAE)\\n(in Portuguese);\\nDecision of the A3ES Board of Directors\\n(in Portuguese);\\nA3ES Deliberation.\",\n",
       "  'metadata': {'degree': 'bachelor',\n",
       "   'doc_type': 'main_info',\n",
       "   'course_name': 'Information Management'}},\n",
       " 'bachelor_information-management_studyplan_text.txt': {'text': \"Text from https://www.novaims.unl.pt/en/education/programs/bachelor-s-degrees/information-management/program/#:\\nProgram\\nStudy Plan\\nen\\nEducation\\nPrograms\\nBachelor's Degrees\\nInformation Management\\nProgram\\n1\\nst\\nyear - Fall Semester\\nresumo do conteudo da tabela\\nCourse Units\\nDuration\\nType\\nContact Hours\\nTotal Workload\\nECTS\\nBusiness Management\\nSemester\\nMandatory\\nTP - 45 | OT - 5\\n112\\n4\\nComputation  I\\nSemester\\nMandatory\\nTP - 67,5 | OT - 7,5\\n196\\n7\\nEconomic Analysis\\nSemester\\nMandatory\\nTP - 45 | OT - 5\\n112\\n4\\nInformation Systems\\nSemester\\nMandatory\\nTP - 64,5 | S - 3 | OT - 7,5\\n168\\n6\\nLinear Algebra\\nSemester\\nMandatory\\nT - 22,5 | PL - 22,5 | OT - 7,5\\n112\\n4\\nMathematical Analysis I **\\nSemester\\nMandatory\\nT - 22,5 | PL - 45 | OT - 7,5\\n140\\n5\\nShow subtitles\\nT – Theoretical Teaching;\\nTP – Theoretical/ Practical Teaching;\\nTC – Field Work;\\nPL – Theoretical/ Practical Teaching;\\nS – Seminar;\\nOT – Tutor Group;\\n** – Course Unit available in both semesters;\\n1\\nst\\nyear - Spring Semester\\nresumo do conteudo da tabela\\nCourse Units\\nDuration\\nType\\nContact Hours\\nTotal Workload\\nECTS\\nFoundational Aspects of Information\\nSemester\\nMandatory\\nTP - 67,5 | OT - 7,5\\n140\\n5\\nMarketing\\nSemester\\nMandatory\\nTP - 45 | OT - 5\\n112\\n4\\nMathematical Analysis II **\\nSemester\\nMandatory\\nT - 22,5 | PL - 45 | OT - 7,5\\n196\\n7\\nPersonal Development I\\nSemester\\nMandatory\\nTP - 22,5 | OT - 7,5\\n56\\n2\\nProgramming for Business\\nSemester\\nMandatory\\nT - 22,5 | PL - 45 | OT - 7,5\\n168\\n6\\nStatistics and Probability Distributions\\nSemester\\nMandatory\\nTP - 67,5 | OT - 7,5\\n168\\n6\\nShow subtitles\\nT – Theoretical Teaching;\\nTP – Theoretical/ Practical Teaching;\\nTC – Field Work;\\nPL – Theoretical/ Practical Teaching;\\nS – Seminar;\\nOT – Tutor Group;\\n** – Course Unit available in both semesters;\\n2\\nnd\\nyear - Fall Semester\\nresumo do conteudo da tabela\\nCourse Units\\nDuration\\nType\\nContact Hours\\nTotal Workload\\nECTS\\nData Analysis\\nSemester\\nMandatory\\nTP - 67,5 | OT - 7,5\\n168\\n6\\nData Preprocessing\\nSemester\\nMandatory\\nTP - 45 | OT - 5\\n112\\n4\\nDatabases I\\nSemester\\nMandatory\\nTP - 64,5 | S - 3 | OT - 7,5\\n168\\n6\\nFinancial Analysis and Management Control\\nSemester\\nMandatory\\nTP - 45 | OT - 5\\n112\\n4\\nGeospatial Intelligence\\nSemester\\nMandatory\\nTP - 45 | OT - 5\\n112\\n4\\nStatistical Inference\\nSemester\\nMandatory\\nTP - 67,5 | OT - 7,5\\n168\\n6\\nShow subtitles\\nT – Theoretical Teaching;\\nTP – Theoretical/ Practical Teaching;\\nTC – Field Work;\\nPL – Theoretical/ Practical Teaching;\\nS – Seminar;\\nOT – Tutor Group;\\n** – Course Unit available in both semesters;\\n2\\nnd\\nyear - Spring Semester\\nresumo do conteudo da tabela\\nCourse Units\\nDuration\\nType\\nContact Hours\\nTotal Workload\\nECTS\\nBusiness Intelligence\\nSemester\\nMandatory\\nTP - 67,5 | OT - 7,5\\n168\\n6\\nComputational Methods for Optimization\\nSemester\\nMandatory\\nTP - 45 | OT - 5\\n112\\n4\\nEconometrics I\\nSemester\\nMandatory\\nTP - 67,5 | OT - 7,5\\n168\\n6\\nMachine Learning\\nSemester\\nMandatory\\nTP - 67,5 | OT - 7,5\\n168\\n6\\nNonparametric and Computational Statistics\\nSemester\\nMandatory\\nTP - 45 | OT - 5\\n112\\n4\\nSurvey Methodology\\nSemester\\nMandatory\\nTP - 45 | OT - 5\\n112\\n4\\nShow subtitles\\nT – Theoretical Teaching;\\nTP – Theoretical/ Practical Teaching;\\nTC – Field Work;\\nPL – Theoretical/ Practical Teaching;\\nS – Seminar;\\nOT – Tutor Group;\\n** – Course Unit available in both semesters;\\n3\\nrd\\nyear - Fall Semester\\nresumo do conteudo da tabela\\nCourse Units\\nDuration\\nType\\nContact Hours\\nTotal Workload\\nECTS\\nBusiness Process Management\\nSemester\\nMandatory\\nTP - 67,5 | OT - 7,5\\n168\\n6\\nBusiness Strategy and Digital Transformation\\nSemester\\nMandatory\\nTP - 67,5 | OT - 7,5\\n168\\n6\\nEconometrics II\\nSemester\\nMandatory\\nTP - 67,5 | OT - 7,5\\n168\\n6\\nEnterprise Information Systems\\nSemester\\nMandatory\\nTP - 67,5 | OT - 7,5\\n168\\n6\\nMarket Research\\nSemester\\nMandatory\\nTP - 45 | OT - 5\\n112\\n4\\nPersonal Development II\\nSemester\\nMandatory\\nTP - 22,5 | OT - 5\\n56\\n2\\nGeospatial Intelligence\\nSemester\\nElective\\nTP - 52,5\\n112\\n4\\nShow subtitles\\nT – Theoretical Teaching;\\nTP – Theoretical/ Practical Teaching;\\nTC – Field Work;\\nPL – Theoretical/ Practical Teaching;\\nS – Seminar;\\nOT – Tutor Group;\\n** – Course Unit available in both semesters;\\n3\\nrd\\nyear - Spring Semester\\nresumo do conteudo da tabela\\nCourse Units\\nDuration\\nType\\nContact Hours\\nTotal Workload\\nECTS\\nApplied Cybersecurity\\nSemester\\nElective\\nTP - 45\\n112\\n4\\nApplied Economics\\nSemester\\nElective\\nTP - 45 | OT - 5\\n112\\n4\\nBusiness Law\\nSemester\\nElective\\nTP - 45 | OT - 7,5\\n112\\n4\\nDigital Innovation Projects\\nSemester\\nElective\\nTP - 45 | OT - 10\\n112\\n4\\nEntrepreneurship and Project Analysis\\nSemester\\nElective\\nTP - 45 | OT - 7,5\\n112\\n4\\nFinancial Calculus and Project Analysis\\nSemester\\nElective\\nTP - 45 | OT - 7,5\\n112\\n4\\nForecasting Methods\\nSemester\\nElective\\nTP - 67,5 | OT - 15\\n168\\n6\\nGeospatial Analytics\\nSemester\\nElective\\nTP - 45 | OT - 7,5\\n112\\n4\\nInformatics and Information Law\\nSemester\\nElective\\nTP - 45 | OT - 10\\n112\\n4\\nInformation Systems Seminar\\nSemester\\nElective\\nT - 9 | S - 45 | OT - 7,5 | TC - 13,5\\n168\\n6\\nInformation Tecnologies, Governance and Service Management\\nSemester\\nElective\\nT - 22,5 | PL - 45 | OT - 10\\n168\\n6\\nMobile Apps Development\\nSemester\\nElective\\nT - 22,5 | PL - 42\\n140\\n5\\nNetwork Analysis\\nSemester\\nElective\\nT - 67,5\\n168\\n6\\nPeople Management and Leadership\\nSemester\\nElective\\nTP - 45 | OT - 7,5\\n112\\n4\\nProcess Intelligence\\nSemester\\nElective\\nTP - 45\\n112\\n4\\nProject Management\\nSemester\\nElective\\nTP - 45 | OT - 7,5\\n112\\n4\\nRemote Sensing\\nSemester\\nElective\\nTP - 67,5 | OT - 10\\n168\\n6\\nRisk Management\\nSemester\\nElective\\nTP - 67,5 | OT - 10\\n168\\n6\\nSmart and Sustainable Cities\\nSemester\\nElective\\nTP - 45 | OT - 7,5\\n112\\n4\\nStartup Venture Studio\\nSemester\\nElective\\nTP - 64,5 | OT - 7,5\\n168\\n6\\nTechnologies and Web Apps\\nSemester\\nElective\\nTP - 22,5 | PL - 42\\n140\\n5\\nWeb Analytics\\nSemester\\nElective\\nTP - 45 | OT - 7,5\\n112\\n4\\nWeb Marketing and E-business\\nSemester\\nElective\\nTP - 45 | OT - 10\\n112\\n4\\nShow subtitles\\nT – Theoretical Teaching;\\nTP – Theoretical/ Practical Teaching;\\nTC – Field Work;\\nPL – Theoretical/ Practical Teaching;\\nS – Seminar;\\nOT – Tutor Group;\\n** – Course Unit available in both semesters;\\nCourse Unit\\nLoading...\\nmodal item\\ncard item\",\n",
       "  'metadata': {'degree': 'bachelor',\n",
       "   'doc_type': 'study_plan',\n",
       "   'course_name': 'Information Management'}},\n",
       " 'bachelor_information-management_teaching-staff_text.txt': {'text': \"Text from https://www.novaims.unl.pt/en/education/programs/bachelor-s-degrees/information-management/teaching-staff/#:\\nTeaching Staff\\nTeaching Staff\\nen\\nEducation\\nPrograms\\nBachelor's Degrees\\nInformation Management\\nTeaching Staff\\nTeaching Staff\\nTeaching Staff\\nApply here\\nTeaching Staff\\nAna Beatriz Domingues Farinha\\nAdjunct Lecturer\\nafarinha@novaims.unl.pt\\nKnow more\\nAna Cristina Costa\\nAssociate Professor\\ncristina@novaims.unl.pt\\nKnow more\\nAndré Barriguinha\\nProfessor of the Practice\\nabarriguinha@novaims.unl.pt\\nKnow more\\nAugusto Santos\\nAssistant Professor\\najrsantos@novaims.unl.pt\\nKnow more\\nBruno Damásio\\nAssistant Professor\\nbdamasio@novaims.unl.pt\\nKnow more\\nBruno Rodrigues\\nAdjunct Lecturer\\nbrodrigues@novaims.unl.pt\\nKnow more\\nCarlos Tam\\nProfessor of the Practice\\ncarlosvai@novaims.unl.pt\\nKnow more\\nCarolina Maria Shaul\\nAdjunct Lecturer\\ncshaul@novaims.unl.pt\\nKnow more\\nCarolina Vasconcelos\\nInvited Teaching Assistant\\ncvasconcelos@novaims.unl.pt\\nKnow more\\nCatarina Neves\\nAssistant Professor\\ncneves@novaims.unl.pt\\nKnow more\\nCatarina Oliveira Ferraz\\nInvited Teaching Assistant\\ncferraz@novaims.unl.pt\\nKnow more\\nConstança Filipa Ferreira Rodrigues\\nAdjunct Lecturer\\ncfrodrigues@novaims.unl.pt\\nKnow more\\nDaniel Caridade\\nAdjunct Lecturer\\ndcaridade@novaims.unl.pt\\nKnow more\\nDiogo Rasteiro\\nResearch Assistant\\ndrasteiro@novaims.unl.pt\\nKnow more\\nFernando Bação\\nFull Professor\\nbacao@novaims.unl.pt\\nKnow more\\nFilipe Marques\\nProfessor of the Practice\\nfjmarques@novaims.unl.pt\\nKnow more\\nFrederico Cruz Jesus\\nAssociate Professor\\nfjesus@novaims.unl.pt\\nKnow more\\nGonçalo Baptista\\nProfessor of the Practice\\ngbaptista@novaims.unl.pt\\nKnow more\\nHelena Guerra\\nInvited Assistant Professor\\nhelena@novaims.unl.pt\\nKnow more\\nHenrique Carreiro\\nInvited Assistant Professor\\nhcarreiro@novaims.unl.pt\\nKnow more\\nJoana Neves\\nAssistant Professor\\njneves@novaims.unl.pt\\nKnow more\\nJoão Martins\\nProfessor of the Practice\\njmartins@novaims.unl.pt\\nKnow more\\nJorge Carrola Rodrigues\\nInvited Assistant Professor\\njcarrola@novaims.unl.pt\\nKnow more\\nJorge Neves\\nInvited Assistant Professor\\njnneves@novaims.unl.pt\\nKnow more\\nJosé Carvalho\\nInvited Teaching Assistant\\njcarvalho@novaims.unl.pt\\nKnow more\\nLeonardo Vanneschi\\nFull Professor\\nlvanneschi@novaims.unl.pt\\nKnow more\\nLiah Rosenfeld\\nInvited Teaching Assistant\\nlrosenfeld@novaims.unl.pt\\nKnow more\\nManuel Cabugueira\\nProfessor of the Practice\\nmcabugueira@novaims.unl.pt\\nKnow more\\nManuel Rodrigues\\nAdjunct Lecturer\\nmerodrigues@novaims.unl.pt\\nKnow more\\nManuela Aparício\\nAssistant Professor\\nmanuela.aparicio@novaims.unl.pt\\nKnow more\\nMárcia Lourenço Baptista\\nAssistant Professor\\nm.baptista@novaims.unl.pt\\nKnow more\\nMarco Galão\\nAdjunct Lecturer\\nmgalao@novaims.unl.pt\\nKnow more\\nMaria Fernandes\\nInvited Assistant Professor\\nmfernandes@novaims.unl.pt\\nKnow more\\nMaria Ferreira\\nAdjunct Lecturer\\nmferreira@novaims.unl.pt\\nKnow more\\nMariana Dias\\nInvited Teaching Assistant\\nmidias@novaims.unl.pt\\nKnow more\\nMário Centeno\\nInvited Full Professor\\nmcenteno@novaims.unl.pt\\nKnow more\\nMarisa Fernandes\\nAdjunct Lecturer\\nmmfernandes@novaims.unl.pt\\nKnow more\\nMarisa Nunes\\nAdjunct Lecturer\\nmnunes@novaims.unl.pt\\nKnow more\\nPaulo Lapa\\nAdjunct Lecturer\\nplapa@novaims.unl.pt\\nKnow more\\nPedro Malta\\nInvited Assistant Professor\\npmalta@novaims.unl.pt\\nKnow more\\nPedro Mota\\nProfessor of the Practice\\npmota@novaims.unl.pt\\nKnow more\\nPedro Oliveira\\nAdjunct Lecturer\\npoliveira@novaims.unl.pt\\nKnow more\\nRafael dos Santos Pereira\\nAdjunct Lecturer\\nrpereira@novaims.unl.pt\\nKnow more\\nRicardo Santos\\nInvited Teaching Assistant\\nrcsantos@novaims.unl.pt\\nKnow more\\nRita Lourenço\\nAdjunct Lecturer\\nrlourenco@novaims.unl.pt\\nKnow more\\nRoberto Henriques\\nAssociate Professor\\nroberto@novaims.unl.pt\\nKnow more\\nRute Silva\\nAdjunct Lecturer\\nrpsilva@novaims.unl.pt\\nKnow more\\nSalvador Rosado\\nInvited Teaching Assistant\\nsrosado@novaims.unl.pt\\nKnow more\\nSamuel Santos\\nAdjunct Lecturer\\nsamuel.santos@novaims.unl.pt\\nKnow more\\nSandra Cristina Roque Candeias\\nAdjunct Lecturer\\nscandeias@novaims.unl.pt\\nKnow more\\nSara dos Santos Fernandes\\nInvited Teaching Assistant\\nsfernandes@novaims.unl.pt\\nKnow more\\nSofia Carreira da Conceição Alves Pereira\\nAdjunct Lecturer\\nspereira@novaims.unl.pt\\nKnow more\\nSofia Lourenço\\nAdjunct Lecturer\\nslourenco@novaims.unl.pt\\nKnow more\\nSusana Esteves\\nInvited Assistant Professor\\nsusana@novaims.unl.pt\\nKnow more\\nTiago Humberto Oliveira\\nAdjunct Lecturer\\ntiago.oliveira@novaims.unl.pt\\nKnow more\\nVicente Tang\\nInvited Teaching Assistant\\nvtang@novaims.unl.pt\\nKnow more\\nVítor Santos\\nAssistant Professor\\nvsantos@novaims.unl.pt\\nKnow more\",\n",
       "  'metadata': {'degree': 'bachelor',\n",
       "   'doc_type': 'teaching_staff',\n",
       "   'course_name': 'Information Management'}},\n",
       " 'bachelor_information-systems_main_course_text.txt': {'text': \"Text from https://www.novaims.unl.pt/en/education/programs/bachelor-s-degrees/information-systems/:\\nInformation Systems\\nDegree in\\nInformation\\xa0Systems\\nen\\nEducation\\nPrograms\\nBachelor's Degrees\\nInformation Systems\\nNowadays, Information Technologies are present in the most diverse areas of knowledge and people's everyday lives, even when they do not realize it.\\nWe permanently use intelligent systems, connectivity services, network equipment and data integration, which correspond to the computing platforms we know as: computers, tablets, smartphones, among many other equipment that share information and perform tasks.\\nIn the Bachelor´s Degree in Information Systems, students learn to analyze, design and implement information systems, fundamental in modern organizations, which include artificial intelligence, new programming languages, development of apps and web systems, mobile computing, among others. They also acquire a set of tools that support the companies' business processes.\\nThe 3\\nrd\\nphase of applications under the International Student Statute for the 2025/26 academic year are open from February 26\\nth\\nto March 27\\nth\\n, 2025.\\nDuration\\n3 years (6 semesters)\\nTimetable\\nDaytime\\nStart\\nSeptember 2025\\nCareer Opportunities\\nThe Bachelor´s Degree in Information Systems allows fast integration in the most varied sectors of activity, namely: Information Technology Companies, Banking, Insurance, Health, Telecommunications, Logistics/Distribution, E-Business, Consulting and Public Administration. The main professional opportunities are:\\nConsultant in Information Systems and Technologies;\\nDatabase Administrator and Programmer;\\nInformation Systems Project Manager;\\nSpecialist in the development of Artificial Intelligence Systems;\\nSpecialist in the implementation of Information Systems;\\nSoftware Developer;\\nSystems Analyst.\\nTechnical and Managerial Positions in Public Administration.\\nAt NOVA IMS we encourage continuous individual development through excellence.\\n- For this reason, we believe that we must reward all those who stand out at the entrance of the Bachelor´s Degree courses and who, during their academic career, work to exceed their and our expectations.\\nAt NOVA IMS we encourage continuous individual development through excellence.\\n- For this reason, we believe that we must reward all those who stand out at the entrance of the Bachelor´s Degree courses and who, during their academic career, work to exceed their and our expectations.\\nAward for\\nAcademic Excellence Incentive\\nApplication prize awarded to all students whose average entry grade to the National Competition is equal to or greater than 18 values\\nKnow more\\nWhat does a graduate with Degree in Information Systems?\\nManuela Aparício | Coordinator of the Bachelor Degree\\nSorry, your browser doesn't support embedded videos.\\nPlay video\\nWho is it for?\\nWho is it for?\\nProgram Goals\\nProgram Structure\\nAdmissions and Fees\\nAchievement Awards\\nTeaching Staff\\nTuition Fee\\nScholarships\\nCalendar, Timetable and Exams\\nFAQ\\nRegulations and Accreditations\\nApply here\\nWho is it for?\\nThis degree is addressed to all high school finalist students, who are seeking a college education that enables them to master the Information Technologies in the operational management of the organizations, creating new products, services and business processes.\\nA degree in Information Systems aims at training professionals who are characterized by the ability to make the connection between the different business areas and the area of information systems. Being experts in analysis, design and implementation of information systems whose main task to improve the quality of decision making in organizations.\\nFor information about the International Student Access, please click\\nhere\\n.\\nProgram Goals\\nIn this degree, it is intended that students acquire skills to analyze, design and implement systems and information technologies, providing a link between the different business areas and the area of information systems. In this context, by the end of the program, the Graduated in Information Systems shall:\\nKnow the fundamentals of information systems as tools for effective increase productivity;\\nMaster the concepts and theory that explains and motivates the methods and practices of the development and use of information systems in organizations as ways to increase organizational performance;\\nUnderstand the technical aspects of computer architecture, operating systems and connecting information resources via computer networks;\\nBe able to identify different approaches to physical design information systems using Systems Managers Database and development environments;\\nBe able to manage projects of information systems.\\nProgram Educational Objectives\\nThe Program educational objectives of the Information Systems are to produce graduates who, following a few years after graduation, are able to:\\nBecome productive, responsible information systems professionals capable of conducting research and/or designing, developing, or maintaining projects in the various areas of Information Systems;\\nDemonstrate independent thinking, self-management, and functioning effectively in team-oriented and open-ended activities in a business or an industrial environment;\\nDevelop leadership skills and perform ethically and professionally in business, industry, and society;\\nExcel in a career in an Information Systems related field.\\nStudent Outcomes\\nThe program objectives are to train experts and managers to be able to analyze, design and implement information systems, establishing the link between the different business areas and the area of information systems. Thus, the program aims to train graduates capable of using the information systems for improving the decision making process of organizations, with an advanced level of knowledge, comprehension and skills.\\nIn this context, students that obtain a degree in Information Systems by NOVA IMS should be able to:\\nAnalyze a complex computing problem and to apply principles of computing and other relevant disciplines to identify solutions;\\nDesign, implement, and evaluate a computing-based solution to meet a given set of computing requirements in the context of Information Systems;\\nCommunicate effectively in a variety of professional contexts;\\nRecognize professional responsibilities and make informed judgments in computing practice based on legal and ethical principles;\\nFunction effectively as a member or leader of a team engaged in activities appropriate to Information Systems;\\nSupport the delivery, use, and management of information systems within an information systems environment.\\nInformation Systems Environment\\nThe main information systems environment area is Business, including Organizational Management, Finance and Marketing. The Curriculum includes various courses that provide background in this environment. The courses are as follows:\\nOrganizational Behavior;\\nBusiness Management;\\nWeb Marketing and E-Commerce;\\nInformation Systems Project Management;\\nInformation Technologies, Governance and Service Management;\\nEntrepreneurship and Project Analysis;\\nRisk Management.\\nDegree Statistics\\nThe total number of enrolled students in the three years of the program was 177 in 2020/2021, 165 in 2021/2022, and 182 in 2022/2023. The number of graduates over the three years of the program was 40 in 2020/2021, 34 in 2021/2022, and 33 in 2022/2023.\\nProgram Structure\\nThe course lasts 3 years (6 semesters) and classes start in September 2025.\\nThe study plan corresponds to 180 ECTS, of which 150 ECTS correspond to mandatory curricular units (the first 5 semesters) and 30 ECTS correspond to optional curricular units (last semester of the course), which will be chosen by each Student, from among a wide range of curricular units available.\\nSee study plan\\nAdmissions and Fees\\nEstablishment Code:\\n0906 - Universidade Nova de Lisboa - Instituto Superior de Estatística e Gestão de Informação\\nCourse Code:\\n8259\\nEntry Exam Subjects (One of the following):\\n19 - Mathematics A and 04 - Economy\\n19 - Mathematics A and 02 - Biology and Geology\\n19 - Mathematics A and 07 - Physics and Chemistry\\n16 - Mathematics and 18 - Portuguese\\n16 - Mathematics and 09 - Geography\\n16 - Mathematics and 13 - English\\nCourse Unit\\nLoading...\\nmodal item\\ncard item\\nNOTICE:\\nThe exams presented are valid for admissions in the 2025/26 academic year, through the National Competition for Access to Higher Education.\\nMinimum Grades\\nApplicants Grade: 100\\nEntry Exam Grade: 95\\nFormula of Applicants Grade\\nSecondary School Grade: 50%\\nEntry Exam Subjects: 50%\\nPrerequesites\\nNone\\nVacancies\\n43\\nGeneral Quota Last Entry Grade 2024-2025\\n1\\nst\\nPhase - 16.88\\n2\\nnd\\nPhase - 17.11\\n2025/26 Academic Year\\nConsult the entrance exams applicable to 2025/26 in the Frequently Asked Questions.\\nAchievement Awards\\n(*)\\nPrize corresponding to the 1\\nst\\nyear tuition fee.\\nThe undergraduate students who achieve a high level of academic performance each year will have access to the following awards\\n(1)\\n:\\nApproved ECTS\\nAverage (Values)\\nAward\\nAt the end of the 1\\nst\\nyear of Enrollment\\nequal or greater than 60\\nequal or greater than 16,5\\n700€\\nAt the end of the 2\\nnd\\nyear of Enrollment\\nequal or greater than 120\\nequal or greater than 16,5\\n700€\\nAt the end of the 3\\nrd\\nyear of Enrollment\\nequal or greater than 180\\nequal or greater than 16,5\\n€3.000 off (2)\\n(1)\\nPrize applied to students admitted in 2024/2025.\\n(2)\\nThe value of the tuition for a master's degree to be attended at the NOVA IMS, if admission and enrollment occur in the year immediately following the completion of the bachelor's degree. Not cumulative with Alumni discount. Cumulative with financial discount.\\nExcellence awards given by the Members of AD NOVA IMS and other supportive entities (3)\\nAll students that stand out, during their academic path, for their academic excellence in the different course units and programs are also awarded.\\n(3)\\nPrizes in force in the school year 2023/24.\\nAD NOVA IMS Member\\nBest Finalist Student\\n€1.500\\nBest Student of the Course Units\\n€1.500\\nBest Student\\nof the Course Unit\\nLoading...\\nresumo do conteudo da tabela\\nCurricular\\nUnit\\nProgram\\nAnnual Prize\\nValue\\ncaption text\\nSupportive Entities\\nBest student of the Course Unit\\n€1.000\\nBest Student of Undergraduate and Master Degree Programs\\nScholarship with Value to be Defined\\nBest Application Grade\\n€1.000\\nLoading...\\nresumo do conteudo da tabela\\nCurricular\\nUnit\\nProgram\\nAnnual Prize\\nValue\\ncaption text\\nTuition Fee\\nThe annual fee set for the academic year\\n2024/25,\\nfor the students of the National Contest for Access to Higher Education,\\nis €697.\\nThis payment can be paid in full or in 10 instalments.\\nFor the students of the International Student Contest, the annual fee for the academic year\\n2024/25, is €7500.\\nThis payment can also be paid in full or in 5 instalments.\\nThe Student (national or international), when registering for a school year, has to take into account that the full payment of the tuition fee fixed for that school year (the monthly fees/benefits are a payment facility), even if they cancel the registration/withdraw of the course.\\nFor more information, please consult the Frequently Asked Questions at the bottom of the page.\\nFAQ\\nWhat is the language of instruction of the course?\\nThe course is taught in English. Nowadays, being comfortable with the English language is a competitive advantage, which makes a difference in the global job market.\\nNOVA IMS students have all the support to quickly adapt to the language and can always speak in Portuguese when they are unable to express themselves.\\nWhere is NOVA IMS located?\\nNOVA IMS is located on the Campolide Campus, in Lisbon. Watch the campus tour made by NOVA IMS Students\\nhere\\n.\\nWhat is the schedule?\\nThe Bachelor´s Degree will work on daytime , 5 days a week.\\nWhere can I see an overview of undergraduate programs?\\nYou can watch it\\nhere\\nand for more information click\\nhere\\n.\\nWhat is the cost of the tuition and enrollment fee for the students of the National Contest?\\nThe value of the Annual Fee for\\n2024/2025 is €697\\n. The student, enrolling in a school year, has to consider that full payment of the fee fixed for that year (tuition / benefits are ease of payment) is due, although they may unsubscribe / fold the course.\\nThe payment of tuition fees can be made as follows:\\nAt once (€697), until October 8\\nth\\n, 2024 or in 10 installments:\\n1\\nst\\nInstallment: September 27\\nth\\nto October 8\\nth\\n, 2024: €69,70 (to be received upon registration);\\n2\\nnd\\nInstallment: November 1\\nst\\nto 8\\nth\\n, 2024: €69,70;\\n3\\nrd\\nInstallment: December 1\\nst\\nto 8\\nth\\n, 2024: €69,70;\\n4\\nth\\nInstallment: January 1\\nst\\nto 8\\nth\\n, 2025: €69,70;\\n5\\nth\\nInstallment: February 1\\nst\\nto 8\\nth\\n, 2025: €69,70;\\n6\\nth\\nInstallment: March 1\\nst\\nto 8\\nth\\n, 2025: €69,70;\\n7\\nth\\nInstallment: April 1\\nst\\nto 8\\nth\\n, 2025: €69,70;\\n8\\nth\\nInstallment: May 1\\nst\\nto 8\\nth\\n, 2025: €69,70;\\n9\\nth\\nInstallment: June 1\\nst\\nto 8\\nth\\n, 2025: €69,70;\\n10\\nth\\nInstallment: July 1\\nst\\nto 8\\nth\\n, 2025: €69,70.\\nFor students who have applied for the Merit (SAS / UNL) scholarship, the payment of tuition fees should only be made after the delivery of the final decision about the case, and if the scholarship is granted, the payment must be done afterwards. The student has, in these cases, a period of 15 days to rectify the situation.\\nTo apply for the scholarship the student must register on-time and deliver the declaration of honor (paper provided by the Academic Services) on how he/she is applying for this benefit.\\nFor further enquiries please contact Admissions office at NOVA rectory.\\nUpon registration, the students should make the following payments:\\n€69,70 - for 1\\nst\\ninstallment of tuition fee;\\n€35 - for annual enrollment fee;\\n€1,40 - for annual school insurance.\\nThe enrolment fees are updated annually in the Universidade NOVA de Lisboa table of emoluments, published in the Official\\xa0 Portuguese Government Gazette\\n(Diário da República)\\n.\\nWhat is the cost of the tuition and enrollment fee for the students of the International Student Contest?\\nThe annual fee set for the academic year\\n2024/25\\n, for the\\nstudents of the International Student Contest,\\nis €7500.\\nThis payment can be as following:\\nFull payment (€7500), unit October 1\\nst\\n, 2024, or in 5 installments:\\n1\\nst\\ninstallment: September 1\\nst\\nto 8\\nth\\n, 2024: €1500;\\n2\\nnd\\ninstallment: November 1\\nst\\nto 8\\nth\\n, 2024: €1500;\\n3\\nrd\\ninstallment: January 1\\nst\\nto 8\\nth\\n, 2025: €1500;\\n4\\nth\\ninstallment: March 1\\nst\\nto 8\\nth\\n, 2025: €1500;\\n5\\nth\\ninstallment: May 1\\nst\\nto 8\\nth\\n, 2025: €1500.\\nWhat is the timetable and exams calendar?\\nAcademic Calendar\\nSee here the 1\\nst\\nYear for academic year 2022-2023;\\nSee here the 2\\nnd\\n& 3\\nrd\\nYears for academic year 2022-2023.\\nExams Calendar\\nSee the Spring Semester for academic year 2021-2022.\\nAre there special access quotas?\\nThere are several special quotas, beyond to the general quota, to which certain percentages of vacancies are allocated, intended for candidates who meet the conditions of each quota. These are:\\nCandidates from the Autonomous Region of the Açores;\\nCandidates from the Autonomous Region of Madeira;\\nPortuguese Emigrant Candidates and family members who live with them;\\nMilitary Candidates Under Contract;\\nCandidates with Disabilities.\\nI completed secondary education abroad or at a foreign school. Can I apply for the national contest?\\nYes, however there are some conditions that are important to know. For more information, you should contact\\nDirecção-Geral do Ensino Superior\\n.\\nWhat is the application process for the international student?\\nCandidates who do not have the nationality of a Member State of the European Union and who have not lived in Portugal for more than two consecutive years can apply for a Bachelor's degree at NOVA IMS under the International Student status. The application process is different from the National Contest for Access to Higher Education. For more information, click\\nhere\\n.\\nWhat is ObipNOVA?\\nObipNOVA\\nis the Observatory of Graduates’ Transitions into Work at NOVA. The ObipNOVA analyses the graduates of all the study cycles: bachelors, masters and doctorates.\\xa0Every year, a series of phone surveys are conducted to evaluate the professional activity of those who graduated in the previous year. The more recent data is related to 2019 graduated students.\\nRegulations and Accreditations\\nRegulations\\nRegulation n.º 300/2022, on 25\\nth\\nMarch\\n(in Portuguese);\\nPartial Time Student Regulation\\n(in Portuguese).\\nAccreditations\\nStudy Program Self-Evaluation Report\\n(in Portuguese);\\nExternal Review Team Final Report (CAE)\\n(in Portuguese);\\nDecision of the A3ES Board of Directors\\n(in Portuguese);\\nA3ES Deliberation.\",\n",
       "  'metadata': {'degree': 'bachelor',\n",
       "   'doc_type': 'main_info',\n",
       "   'course_name': 'Information Systems'}},\n",
       " 'bachelor_information-systems_studyplan_text.txt': {'text': \"Text from https://www.novaims.unl.pt/en/education/programs/bachelor-s-degrees/information-systems/program/#:\\nProgram\\nStudy Plan\\nen\\nEducation\\nPrograms\\nBachelor's Degrees\\nInformation Systems\\nProgram\\n1\\nst\\nyear - Fall Semester\\nresumo do conteudo da tabela\\nCourse Units\\nDuration\\nType\\nContact Hours\\nTotal Workload\\nECTS\\nBusiness Management\\nSemester\\nMandatory\\nTP - 45 | OT - 5\\n112\\n4\\nComputation  I\\nSemester\\nMandatory\\nTP - 67,5 | OT - 7,5\\n196\\n7\\nInformation Systems\\nSemester\\nMandatory\\nTP - 64,5 | S - 3 | OT - 7,5\\n168\\n6\\nLinear Algebra\\nSemester\\nMandatory\\nT - 22,5 | PL - 22,5 | OT - 7,5\\n112\\n4\\nMathematical Analysis I **\\nSemester\\nMandatory\\nT - 22,5 | PL - 45 | OT - 7,5\\n140\\n5\\nOrganizations Behavior\\nSemester\\nMandatory\\nTP - 45 | OT - 5\\n112\\n4\\nShow subtitles\\nT – Theoretical Teaching;\\nTP – Theoretical/ Practical Teaching;\\nTC – Field Work;\\nPL – Theoretical/ Practical Teaching;\\nS – Seminar;\\nOT – Tutor Group;\\n** – Course Unit available in both semesters;\\n1\\nst\\nyear - Spring Semester\\nresumo do conteudo da tabela\\nCourse Units\\nDuration\\nType\\nContact Hours\\nTotal Workload\\nECTS\\nComputation  II\\nSemester\\nMandatory\\nTP - 67,5 | OT - 7,5\\n168\\n6\\nMathematical Analysis II **\\nSemester\\nMandatory\\nT - 22,5 | PL - 45 | OT - 7,5\\n196\\n7\\nPersonal Development I\\nSemester\\nMandatory\\nTP - 22,5 | OT - 7,5\\n56\\n2\\nStatistics and Probability Distributions\\nSemester\\nMandatory\\nTP - 67,5 | OT - 7,5\\n168\\n6\\nTechnologies and Web Apps\\nSemester\\nMandatory\\nTP - 22,5 | PL - 42\\n140\\n5\\nTheory and Practice of Information Systems\\nSemester\\nMandatory\\nTP - 45 | OT - 5\\n112\\n4\\nShow subtitles\\nT – Theoretical Teaching;\\nTP – Theoretical/ Practical Teaching;\\nTC – Field Work;\\nPL – Theoretical/ Practical Teaching;\\nS – Seminar;\\nOT – Tutor Group;\\n** – Course Unit available in both semesters;\\n2\\nnd\\nyear - Fall Semester\\nresumo do conteudo da tabela\\nCourse Units\\nDuration\\nType\\nContact Hours\\nTotal Workload\\nECTS\\nComputation  III\\nSemester\\nMandatory\\nTP - 67,5 | OT - 10\\n168\\n6\\nDatabases I\\nSemester\\nMandatory\\nTP - 64,5 | S - 3 | OT - 7,5\\n168\\n6\\nInformation Technologies Hardware and Software\\nSemester\\nMandatory\\nTP - 67,5 | OT - 10\\n168\\n6\\nStatistical Inference\\nSemester\\nMandatory\\nTP - 67,5 | OT - 7,5\\n168\\n6\\nSystems Analysis\\nSemester\\nMandatory\\nTP - 64,5 | S - 3 | OT - 7,5\\n168\\n6\\nShow subtitles\\nT – Theoretical Teaching;\\nTP – Theoretical/ Practical Teaching;\\nTC – Field Work;\\nPL – Theoretical/ Practical Teaching;\\nS – Seminar;\\nOT – Tutor Group;\\n** – Course Unit available in both semesters;\\n2\\nnd\\nyear - Spring Semester\\nresumo do conteudo da tabela\\nCourse Units\\nDuration\\nType\\nContact Hours\\nTotal Workload\\nECTS\\nComputer Networks & Cloud Computing\\nSemester\\nMandatory\\nT - 22,5 | PL - 45 | OT - 7,5\\n140\\n5\\nDatabases II\\nSemester\\nMandatory\\nT - 22,5 | PL - 45 | OT - 7,5\\n168\\n6\\nHuman - Computer Interaction\\nSemester\\nMandatory\\nTP - 67,5 | OT - 10\\n140\\n5\\nInformation Systems Project Management (A)\\nSemester\\nMandatory\\nT - 22,5 | PL - 42 | S - 3 | OT - 7,5\\n140\\n5\\nMobile Apps Development\\nSemester\\nMandatory\\nT - 22,5 | PL - 42\\n140\\n5\\nWeb Marketing and E-business\\nSemester\\nMandatory\\nTP - 45 | OT - 5\\n112\\n4\\nShow subtitles\\nT – Theoretical Teaching;\\nTP – Theoretical/ Practical Teaching;\\nTC – Field Work;\\nPL – Theoretical/ Practical Teaching;\\nS – Seminar;\\nOT – Tutor Group;\\n** – Course Unit available in both semesters;\\n(A) - Possible IPMA Certificat;\\n3\\nrd\\nyear - Fall Semester\\nresumo do conteudo da tabela\\nCourse Units\\nDuration\\nType\\nContact Hours\\nTotal Workload\\nECTS\\nArtificial Intelligence\\nSemester\\nMandatory\\nT - 22,5 | PL - 45 | OT - 15\\n168\\n6\\nBusiness Process Management\\nSemester\\nMandatory\\nTP - 67,5 | OT - 7,5\\n168\\n6\\nCybersecurity\\nSemester\\nMandatory\\nTP - 67,5 | OT - 10\\n112\\n4\\nGeospatial Intelligence\\nSemester\\nMandatory\\nTP - 45 | OT - 7,5\\n112\\n4\\nPersonal Development II\\nSemester\\nMandatory\\nTP - 22,5 | OT - 5\\n56\\n2\\nProject of Information Systems Powered by Webasto\\nSemester\\nMandatory\\nTP - 22,5 | PL - 45 | OT - 10\\n224\\n8\\nShow subtitles\\nT – Theoretical Teaching;\\nTP – Theoretical/ Practical Teaching;\\nTC – Field Work;\\nPL – Theoretical/ Practical Teaching;\\nS – Seminar;\\nOT – Tutor Group;\\n** – Course Unit available in both semesters;\\n3\\nrd\\nyear - Spring Semester\\nresumo do conteudo da tabela\\nCourse Units\\nDuration\\nType\\nContact Hours\\nTotal Workload\\nECTS\\nApplied Cybersecurity\\nSemester\\nElective\\nTP - 45 | OT - 7,5\\n112\\n4\\nApplied Economics\\nSemester\\nElective\\nT - 45 | OT - 5\\n112\\n4\\nBusiness Law\\nSemester\\nElective\\nTP - 45 | OT - 7,5\\n112\\n4\\nDigital Innovation Projects\\nSemester\\nElective\\nT - 45 | OT - 10\\n112\\n4\\nEntrepreneurship and Project Analysis\\nSemester\\nElective\\nTP - 45 | OT - 7,5\\n112\\n4\\nFinancial Calculus and Project Analysis\\nSemester\\nElective\\nTP - 45 | OT - 7,5\\n112\\n4\\nForecasting Methods\\nSemester\\nElective\\nT - 67,5 | OT - 15\\n168\\n6\\nGeospatial Analytics\\nSemester\\nElective\\nTP - 45 | OT - 7,5\\n112\\n4\\nInformatics and Information Law\\nSemester\\nElective\\nTP - 45 | OT - 10\\n112\\n4\\nInformation Systems Seminar\\nSemester\\nElective\\nT - 9 | S - 45 | TC - 13,5\\n168\\n6\\nInformation Tecnologies, Governance and Service Management\\nSemester\\nElective\\nT - 22,5 | PL - 45 | OT - 10\\n168\\n6\\nMachine Learning\\nSemester\\nElective\\nTP - 67,5 | OT - 15\\n168\\n6\\nNetwork Analysis\\nSemester\\nElective\\nT - 67,5\\n168\\n6\\nNonparametric and Computational Statistics\\nSemester\\nElective\\nTP - 45 | OT - 5\\n112\\n4\\nPeople Management and Leadership\\nSemester\\nElective\\nTP - 45 | OT - 7,5\\n112\\n4\\nProcess Intelligence\\nSemester\\nElective\\nTP - 45\\n112\\n4\\nRemote Sensing\\nSemester\\nElective\\nTP - 67,5 | OT - 10\\n168\\n6\\nRisk Management\\nSemester\\nElective\\nTP - 67,5 | OT - 10\\n168\\n6\\nSmart and Sustainable Cities\\nSemester\\nElective\\nT - 45 | OT - 7,5\\n112\\n4\\nStartup Venture Studio\\nSemester\\nElective\\nTP - 64,5 | OT - 7,5\\n168\\n6\\nSurvey Methodology\\nSemester\\nElective\\nTP - 45 | OT - 5\\n112\\n4\\nWeb Analytics\\nSemester\\nElective\\nTP - 45 | OT - 7,5\\n112\\n4\\nShow subtitles\\nT – Theoretical Teaching;\\nTP – Theoretical/ Practical Teaching;\\nTC – Field Work;\\nPL – Theoretical/ Practical Teaching;\\nS – Seminar;\\nOT – Tutor Group;\\n** – Course Unit available in both semesters;\\nCourse Unit\\nLoading...\\nmodal item\\ncard item\",\n",
       "  'metadata': {'degree': 'bachelor',\n",
       "   'doc_type': 'study_plan',\n",
       "   'course_name': 'Information Systems'}},\n",
       " 'bachelor_information-systems_teaching-staff_text.txt': {'text': \"Text from https://www.novaims.unl.pt/en/education/programs/bachelor-s-degrees/information-systems/teaching-staff/#:\\nTeaching Staff\\nTeaching Staff\\nen\\nEducation\\nPrograms\\nBachelor's Degrees\\nInformation Systems\\nTeaching Staff\\nTeaching Staff\\nTeaching Staff\\nApply here\\nTeaching Staff\\nAmérico Rio\\nInvited Assistant Professor\\namerico.rio@novaims.unl.pt\\nKnow more\\nAna Cristina Costa\\nAssociate Professor\\ncristina@novaims.unl.pt\\nKnow more\\nAndré Barriguinha\\nProfessor of the Practice\\nabarriguinha@novaims.unl.pt\\nKnow more\\nAntónio Monteiro\\nInvited Teaching Assistant\\namonteiro@novaims.unl.pt\\nKnow more\\nAugusto Santos\\nAssistant Professor\\najrsantos@novaims.unl.pt\\nKnow more\\nBruno Rodrigues\\nAdjunct Lecturer\\nbrodrigues@novaims.unl.pt\\nKnow more\\nCarlos Tam\\nProfessor of the Practice\\ncarlosvai@novaims.unl.pt\\nKnow more\\nCarolina Beatriz Lopes Silvestre\\nAdjunct Lecturer\\ncsilvestre@novaims.unl.pt\\nKnow more\\nConstança Filipa Ferreira Rodrigues\\nAdjunct Lecturer\\ncfrodrigues@novaims.unl.pt\\nKnow more\\nDiogo Rasteiro\\nResearch Assistant\\ndrasteiro@novaims.unl.pt\\nKnow more\\nFilipe Marques\\nProfessor of the Practice\\nfjmarques@novaims.unl.pt\\nKnow more\\nFilipe Montargil\\nInvited Associate Professor\\nfmontargil@novaims.unl.pt\\nKnow more\\nFrederico Cruz Jesus\\nAssociate Professor\\nfjesus@novaims.unl.pt\\nKnow more\\nGonçalo Baptista\\nProfessor of the Practice\\ngbaptista@novaims.unl.pt\\nKnow more\\nGonçalo Rijo\\nAdjunct Lecturer\\ngrijo@novaims.unl.pt\\nKnow more\\nHelena Guerra\\nInvited Assistant Professor\\nhelena@novaims.unl.pt\\nKnow more\\nHenrique Carreiro\\nInvited Assistant Professor\\nhcarreiro@novaims.unl.pt\\nKnow more\\nJoana Neves\\nAssistant Professor\\njneves@novaims.unl.pt\\nKnow more\\nJorge Neves\\nInvited Assistant Professor\\njnneves@novaims.unl.pt\\nKnow more\\nJosé Carvalho\\nInvited Teaching Assistant\\njcarvalho@novaims.unl.pt\\nKnow more\\nJosé Mamede\\nProfessor of the Practice\\njmamede@novaims.unl.pt\\nKnow more\\nLeonardo Vanneschi\\nFull Professor\\nlvanneschi@novaims.unl.pt\\nKnow more\\nLiah Rosenfeld\\nInvited Teaching Assistant\\nlrosenfeld@novaims.unl.pt\\nKnow more\\nManuel Rodrigues\\nAdjunct Lecturer\\nmerodrigues@novaims.unl.pt\\nKnow more\\nManuela Aparício\\nAssistant Professor\\nmanuela.aparicio@novaims.unl.pt\\nKnow more\\nMárcia Lourenço Baptista\\nAssistant Professor\\nm.baptista@novaims.unl.pt\\nKnow more\\nMarco Silva\\nAdjunct Lecturer\\nmasilva@novaims.unl.pt\\nKnow more\\nMaria Fernandes\\nInvited Assistant Professor\\nmfernandes@novaims.unl.pt\\nKnow more\\nMariana Dias\\nInvited Teaching Assistant\\nmidias@novaims.unl.pt\\nKnow more\\nMarisa Fernandes\\nAdjunct Lecturer\\nmmfernandes@novaims.unl.pt\\nKnow more\\nMarisa Nunes\\nAdjunct Lecturer\\nmnunes@novaims.unl.pt\\nKnow more\\nMijail Naranjo-Zolotov\\nAssistant Professor\\nmijail.naranjo@novaims.unl.pt\\nKnow more\\nPatrícia Mestre\\nAdjunct Lecturer\\npmestre@novaims.unl.pt\\nKnow more\\nPaulo Lapa\\nAdjunct Lecturer\\nplapa@novaims.unl.pt\\nKnow more\\nPedro Antunes\\nAdjunct Lecturer\\npantunes@novaims.unl.pt\\nKnow more\\nPedro Fernandes\\nAdjunct Lecturer\\npmfernandes@novaims.unl.pt\\nKnow more\\nPedro Malta\\nInvited Assistant Professor\\npmalta@novaims.unl.pt\\nKnow more\\nPedro Mota\\nProfessor of the Practice\\npmota@novaims.unl.pt\\nKnow more\\nRafael dos Santos Pereira\\nAdjunct Lecturer\\nrpereira@novaims.unl.pt\\nKnow more\\nRicardo Martins\\nProfessor of the Practice\\nrmartins@novaims.unl.pt\\nKnow more\\nRita Lourenço\\nAdjunct Lecturer\\nrlourenco@novaims.unl.pt\\nKnow more\\nRui Soares\\nAdjunct Lecturer\\nrsoares@novaims.unl.pt\\nKnow more\\nRute Silva\\nAdjunct Lecturer\\nrpsilva@novaims.unl.pt\\nKnow more\\nSamuel Santos\\nAdjunct Lecturer\\nsamuel.santos@novaims.unl.pt\\nKnow more\\nSandra Cristina Roque Candeias\\nAdjunct Lecturer\\nscandeias@novaims.unl.pt\\nKnow more\\nSara dos Santos Fernandes\\nInvited Teaching Assistant\\nsfernandes@novaims.unl.pt\\nKnow more\\nSofia Lourenço\\nAdjunct Lecturer\\nslourenco@novaims.unl.pt\\nKnow more\\nTiago Humberto Oliveira\\nAdjunct Lecturer\\ntiago.oliveira@novaims.unl.pt\\nKnow more\\nTiago Oliveira\\nFull Professor\\ntoliveira@novaims.unl.pt\\nKnow more\\nVicente Tang\\nInvited Teaching Assistant\\nvtang@novaims.unl.pt\\nKnow more\\nVictor Lobo\\nInvited Full Professor\\nvlobo@novaims.unl.pt\\nKnow more\\nVítor Santos\\nAssistant Professor\\nvsantos@novaims.unl.pt\\nKnow more\",\n",
       "  'metadata': {'degree': 'bachelor',\n",
       "   'doc_type': 'teaching_staff',\n",
       "   'course_name': 'Information Systems'}}}"
      ]
     },
     "execution_count": 3,
     "metadata": {},
     "output_type": "execute_result"
    }
   ],
   "source": [
    "bachelor_data_raw = dh.load_pickle_to_dict(dc.BACHELORS_DATA_RAW)\n",
    "bachelor_data_raw"
   ]
  },
  {
   "cell_type": "markdown",
   "metadata": {},
   "source": [
    "# Cleaning Teaching Staff files"
   ]
  },
  {
   "cell_type": "markdown",
   "metadata": {},
   "source": [
    "## Deleting words"
   ]
  },
  {
   "cell_type": "code",
   "execution_count": 4,
   "metadata": {},
   "outputs": [
    {
     "name": "stdout",
     "output_type": "stream",
     "text": [
      "\n",
      "--- Document: bachelor_data-science_teaching-staff_text.txt ---\n",
      "Course Name: Data Science\n",
      "Document Type: teaching_staff\n",
      "\n",
      "Text Content:\n",
      "Text from https://www.novaims.unl.pt/en/education/programs/bachelor-s-degrees/data-science/teaching-staff/#:\n",
      "Teaching Staff\n",
      "Teaching Staff\n",
      "en\n",
      "Education\n",
      "Programs\n",
      "Bachelor's Degrees\n",
      "Data Science\n",
      "Teaching Staff\n",
      "Teaching Staff\n",
      "Teaching Staff\n",
      "Apply here\n",
      "Teaching Staff\n",
      "Américo Rio\n",
      "Invited Assistant Professor\n",
      "americo.rio@novaims.unl.pt\n",
      "Know more\n",
      "Ana Cristina Costa\n",
      "Associate Professor\n",
      "cristina@novaims.unl.pt\n",
      "Know more\n",
      "Artur Varanda\n",
      "Adjunct Lecturer\n",
      "avaranda@novaims.unl.pt\n",
      "Know more\n",
      "Augusto Santos\n",
      "Assistant Professor\n",
      "ajrsantos@novaims.unl.pt\n",
      "Know more\n",
      "Bruno Damásio\n",
      "Assistant Professor\n",
      "bdamasio@novaims.unl.pt\n",
      "Know more\n",
      "Carina Albuquerque\n",
      "Assistant Professor\n",
      "calbuquerque@novaims.unl.pt\n",
      "Know more\n",
      "Carolina Maria Shaul\n",
      "Adjunct Lecturer\n",
      "cshaul@novaims.unl.pt\n",
      "Know more\n",
      "Carolina Santos Maximiano\n",
      "Adjunct Lecturer\n",
      "cmaximiano@novaims.unl.pt\n",
      "Know more\n",
      "Carolina Vasconcelos\n",
      "Invited Teaching Assistant\n",
      "cvasconcelos@novaims.unl.pt\n",
      "Know more\n",
      "Catarina Neves\n",
      "Assistant Professor\n",
      "cneves@novaims.unl.pt\n",
      "Know more\n",
      "Catarina Palha\n",
      "Invited Teaching Assistant\n",
      "cpalha@novaims.unl.pt\n",
      "Know more\n",
      "Dhruv Akshay Pandit\n",
      "Invited Teaching Assistant\n",
      "dpandit@novaims.unl.pt\n",
      "Know more\n",
      "Diogo Rasteiro\n",
      "Research Assistant\n",
      "drasteiro@novaims.unl.pt\n",
      "Know more\n",
      "Fernando Bação\n",
      "Full Professor\n",
      "bacao@novaims.unl.pt\n",
      "Know more\n",
      "Filipe Marques\n",
      "Professor of the Practice\n",
      "fjmarques@novaims.unl.pt\n",
      "Know more\n",
      "Gonçalo Baptista\n",
      "Professor of the Practice\n",
      "gbaptista@novaims.unl.pt\n",
      "Know more\n",
      "Helena Guerra\n",
      "Invited Assistant Professor\n",
      "helena@novaims.unl.pt\n",
      "Know more\n",
      "Ian Scott\n",
      "Assistant Professor\n",
      "iscott@novaims.unl.pt\n",
      "Know more\n",
      "Ivo Bernardo\n",
      "Adjunct Lecturer\n",
      "ibernardo@novaims.unl.pt\n",
      "Know more\n",
      "Joana Neves\n",
      "Assistant Professor\n",
      "jneves@novaims.unl.pt\n",
      "Know more\n",
      "Jorge Neves\n",
      "Invited Assistant Professor\n",
      "jnneves@novaims.unl.pt\n",
      "Know more\n",
      "José Carvalho\n",
      "Invited Teaching Assistant\n",
      "jcarvalho@novaims.unl.pt\n",
      "Know more\n",
      "Leon Debatin\n",
      "Adjunct Lecturer\n",
      "20230549@novaims.unl.pt\n",
      "Know more\n",
      "Leonardo Vanneschi\n",
      "Full Professor\n",
      "lvanneschi@novaims.unl.pt\n",
      "Know more\n",
      "Liah Rosenfeld\n",
      "Invited Teaching Assistant\n",
      "lrosenfeld@novaims.unl.pt\n",
      "Know more\n",
      "Manuel Rodrigues\n",
      "Adjunct Lecturer\n",
      "merodrigues@novaims.unl.pt\n",
      "Know more\n",
      "Manuela Aparício\n",
      "Assistant Professor\n",
      "manuela.aparicio@novaims.unl.pt\n",
      "Know more\n",
      "Maria Fernandes\n",
      "Invited Assistant Professor\n",
      "mfernandes@novaims.unl.pt\n",
      "Know more\n",
      "Mariana Dias\n",
      "Invited Teaching Assistant\n",
      "midias@novaims.unl.pt\n",
      "Know more\n",
      "Marisa Fernandes\n",
      "Adjunct Lecturer\n",
      "mmfernandes@novaims.unl.pt\n",
      "Know more\n",
      "Marisa Nunes\n",
      "Adjunct Lecturer\n",
      "mnunes@novaims.unl.pt\n",
      "Know more\n",
      "Mauro Castelli\n",
      "Full Professor\n",
      "mcastelli@novaims.unl.pt\n",
      "Know more\n",
      "Mijail Naranjo-Zolotov\n",
      "Assistant Professor\n",
      "mijail.naranjo@novaims.unl.pt\n",
      "Know more\n",
      "Niclas Frederic Sturm\n",
      "Research Assistant\n",
      "nsturm@novaims.unl.pt\n",
      "Know more\n",
      "Paulo Lapa\n",
      "Adjunct Lecturer\n",
      "plapa@novaims.unl.pt\n",
      "Know more\n",
      "Pedro Fernandes\n",
      "Adjunct Lecturer\n",
      "pmfernandes@novaims.unl.pt\n",
      "Know more\n",
      "Pedro Mota\n",
      "Professor of the Practice\n",
      "pmota@novaims.unl.pt\n",
      "Know more\n",
      "Rafael dos Santos Pereira\n",
      "Adjunct Lecturer\n",
      "rpereira@novaims.unl.pt\n",
      "Know more\n",
      "Roberto Henriques\n",
      "Associate Professor\n",
      "roberto@novaims.unl.pt\n",
      "Know more\n",
      "Rute Silva\n",
      "Adjunct Lecturer\n",
      "rpsilva@novaims.unl.pt\n",
      "Know more\n",
      "Samuel Santos\n",
      "Adjunct Lecturer\n",
      "samuel.santos@novaims.unl.pt\n",
      "Know more\n",
      "Sandra Cristina Roque Candeias\n",
      "Adjunct Lecturer\n",
      "scandeias@novaims.unl.pt\n",
      "Know more\n",
      "Sara dos Santos Fernandes\n",
      "Invited Teaching Assistant\n",
      "sfernandes@novaims.unl.pt\n",
      "Know more\n",
      "Sofia Carreira da Conceição Alves Pereira\n",
      "Adjunct Lecturer\n",
      "spereira@novaims.unl.pt\n",
      "Know more\n",
      "Tiago Santos\n",
      "Adjunct Lecturer\n",
      "tmsantos@novaims.unl.pt\n",
      "Know more\n",
      "Victor Lobo\n",
      "Invited Full Professor\n",
      "vlobo@novaims.unl.pt\n",
      "Know more\n",
      "Vítor Santos\n",
      "Assistant Professor\n",
      "vsantos@novaims.unl.pt\n",
      "Know more\n",
      "Yuriy Perezhohin\n",
      "Research Assistant\n",
      "yperezhohin@novaims.unl.pt\n",
      "Know more\n",
      "\n",
      "--------------------------------------------------\n",
      "\n",
      "--- Document: bachelor_information-management_teaching-staff_text.txt ---\n",
      "Course Name: Information Management\n",
      "Document Type: teaching_staff\n",
      "\n",
      "Text Content:\n",
      "Text from https://www.novaims.unl.pt/en/education/programs/bachelor-s-degrees/information-management/teaching-staff/#:\n",
      "Teaching Staff\n",
      "Teaching Staff\n",
      "en\n",
      "Education\n",
      "Programs\n",
      "Bachelor's Degrees\n",
      "Information Management\n",
      "Teaching Staff\n",
      "Teaching Staff\n",
      "Teaching Staff\n",
      "Apply here\n",
      "Teaching Staff\n",
      "Ana Beatriz Domingues Farinha\n",
      "Adjunct Lecturer\n",
      "afarinha@novaims.unl.pt\n",
      "Know more\n",
      "Ana Cristina Costa\n",
      "Associate Professor\n",
      "cristina@novaims.unl.pt\n",
      "Know more\n",
      "André Barriguinha\n",
      "Professor of the Practice\n",
      "abarriguinha@novaims.unl.pt\n",
      "Know more\n",
      "Augusto Santos\n",
      "Assistant Professor\n",
      "ajrsantos@novaims.unl.pt\n",
      "Know more\n",
      "Bruno Damásio\n",
      "Assistant Professor\n",
      "bdamasio@novaims.unl.pt\n",
      "Know more\n",
      "Bruno Rodrigues\n",
      "Adjunct Lecturer\n",
      "brodrigues@novaims.unl.pt\n",
      "Know more\n",
      "Carlos Tam\n",
      "Professor of the Practice\n",
      "carlosvai@novaims.unl.pt\n",
      "Know more\n",
      "Carolina Maria Shaul\n",
      "Adjunct Lecturer\n",
      "cshaul@novaims.unl.pt\n",
      "Know more\n",
      "Carolina Vasconcelos\n",
      "Invited Teaching Assistant\n",
      "cvasconcelos@novaims.unl.pt\n",
      "Know more\n",
      "Catarina Neves\n",
      "Assistant Professor\n",
      "cneves@novaims.unl.pt\n",
      "Know more\n",
      "Catarina Oliveira Ferraz\n",
      "Invited Teaching Assistant\n",
      "cferraz@novaims.unl.pt\n",
      "Know more\n",
      "Constança Filipa Ferreira Rodrigues\n",
      "Adjunct Lecturer\n",
      "cfrodrigues@novaims.unl.pt\n",
      "Know more\n",
      "Daniel Caridade\n",
      "Adjunct Lecturer\n",
      "dcaridade@novaims.unl.pt\n",
      "Know more\n",
      "Diogo Rasteiro\n",
      "Research Assistant\n",
      "drasteiro@novaims.unl.pt\n",
      "Know more\n",
      "Fernando Bação\n",
      "Full Professor\n",
      "bacao@novaims.unl.pt\n",
      "Know more\n",
      "Filipe Marques\n",
      "Professor of the Practice\n",
      "fjmarques@novaims.unl.pt\n",
      "Know more\n",
      "Frederico Cruz Jesus\n",
      "Associate Professor\n",
      "fjesus@novaims.unl.pt\n",
      "Know more\n",
      "Gonçalo Baptista\n",
      "Professor of the Practice\n",
      "gbaptista@novaims.unl.pt\n",
      "Know more\n",
      "Helena Guerra\n",
      "Invited Assistant Professor\n",
      "helena@novaims.unl.pt\n",
      "Know more\n",
      "Henrique Carreiro\n",
      "Invited Assistant Professor\n",
      "hcarreiro@novaims.unl.pt\n",
      "Know more\n",
      "Joana Neves\n",
      "Assistant Professor\n",
      "jneves@novaims.unl.pt\n",
      "Know more\n",
      "João Martins\n",
      "Professor of the Practice\n",
      "jmartins@novaims.unl.pt\n",
      "Know more\n",
      "Jorge Carrola Rodrigues\n",
      "Invited Assistant Professor\n",
      "jcarrola@novaims.unl.pt\n",
      "Know more\n",
      "Jorge Neves\n",
      "Invited Assistant Professor\n",
      "jnneves@novaims.unl.pt\n",
      "Know more\n",
      "José Carvalho\n",
      "Invited Teaching Assistant\n",
      "jcarvalho@novaims.unl.pt\n",
      "Know more\n",
      "Leonardo Vanneschi\n",
      "Full Professor\n",
      "lvanneschi@novaims.unl.pt\n",
      "Know more\n",
      "Liah Rosenfeld\n",
      "Invited Teaching Assistant\n",
      "lrosenfeld@novaims.unl.pt\n",
      "Know more\n",
      "Manuel Cabugueira\n",
      "Professor of the Practice\n",
      "mcabugueira@novaims.unl.pt\n",
      "Know more\n",
      "Manuel Rodrigues\n",
      "Adjunct Lecturer\n",
      "merodrigues@novaims.unl.pt\n",
      "Know more\n",
      "Manuela Aparício\n",
      "Assistant Professor\n",
      "manuela.aparicio@novaims.unl.pt\n",
      "Know more\n",
      "Márcia Lourenço Baptista\n",
      "Assistant Professor\n",
      "m.baptista@novaims.unl.pt\n",
      "Know more\n",
      "Marco Galão\n",
      "Adjunct Lecturer\n",
      "mgalao@novaims.unl.pt\n",
      "Know more\n",
      "Maria Fernandes\n",
      "Invited Assistant Professor\n",
      "mfernandes@novaims.unl.pt\n",
      "Know more\n",
      "Maria Ferreira\n",
      "Adjunct Lecturer\n",
      "mferreira@novaims.unl.pt\n",
      "Know more\n",
      "Mariana Dias\n",
      "Invited Teaching Assistant\n",
      "midias@novaims.unl.pt\n",
      "Know more\n",
      "Mário Centeno\n",
      "Invited Full Professor\n",
      "mcenteno@novaims.unl.pt\n",
      "Know more\n",
      "Marisa Fernandes\n",
      "Adjunct Lecturer\n",
      "mmfernandes@novaims.unl.pt\n",
      "Know more\n",
      "Marisa Nunes\n",
      "Adjunct Lecturer\n",
      "mnunes@novaims.unl.pt\n",
      "Know more\n",
      "Paulo Lapa\n",
      "Adjunct Lecturer\n",
      "plapa@novaims.unl.pt\n",
      "Know more\n",
      "Pedro Malta\n",
      "Invited Assistant Professor\n",
      "pmalta@novaims.unl.pt\n",
      "Know more\n",
      "Pedro Mota\n",
      "Professor of the Practice\n",
      "pmota@novaims.unl.pt\n",
      "Know more\n",
      "Pedro Oliveira\n",
      "Adjunct Lecturer\n",
      "poliveira@novaims.unl.pt\n",
      "Know more\n",
      "Rafael dos Santos Pereira\n",
      "Adjunct Lecturer\n",
      "rpereira@novaims.unl.pt\n",
      "Know more\n",
      "Ricardo Santos\n",
      "Invited Teaching Assistant\n",
      "rcsantos@novaims.unl.pt\n",
      "Know more\n",
      "Rita Lourenço\n",
      "Adjunct Lecturer\n",
      "rlourenco@novaims.unl.pt\n",
      "Know more\n",
      "Roberto Henriques\n",
      "Associate Professor\n",
      "roberto@novaims.unl.pt\n",
      "Know more\n",
      "Rute Silva\n",
      "Adjunct Lecturer\n",
      "rpsilva@novaims.unl.pt\n",
      "Know more\n",
      "Salvador Rosado\n",
      "Invited Teaching Assistant\n",
      "srosado@novaims.unl.pt\n",
      "Know more\n",
      "Samuel Santos\n",
      "Adjunct Lecturer\n",
      "samuel.santos@novaims.unl.pt\n",
      "Know more\n",
      "Sandra Cristina Roque Candeias\n",
      "Adjunct Lecturer\n",
      "scandeias@novaims.unl.pt\n",
      "Know more\n",
      "Sara dos Santos Fernandes\n",
      "Invited Teaching Assistant\n",
      "sfernandes@novaims.unl.pt\n",
      "Know more\n",
      "Sofia Carreira da Conceição Alves Pereira\n",
      "Adjunct Lecturer\n",
      "spereira@novaims.unl.pt\n",
      "Know more\n",
      "Sofia Lourenço\n",
      "Adjunct Lecturer\n",
      "slourenco@novaims.unl.pt\n",
      "Know more\n",
      "Susana Esteves\n",
      "Invited Assistant Professor\n",
      "susana@novaims.unl.pt\n",
      "Know more\n",
      "Tiago Humberto Oliveira\n",
      "Adjunct Lecturer\n",
      "tiago.oliveira@novaims.unl.pt\n",
      "Know more\n",
      "Vicente Tang\n",
      "Invited Teaching Assistant\n",
      "vtang@novaims.unl.pt\n",
      "Know more\n",
      "Vítor Santos\n",
      "Assistant Professor\n",
      "vsantos@novaims.unl.pt\n",
      "Know more\n",
      "\n",
      "--------------------------------------------------\n",
      "\n",
      "--- Document: bachelor_information-systems_teaching-staff_text.txt ---\n",
      "Course Name: Information Systems\n",
      "Document Type: teaching_staff\n",
      "\n",
      "Text Content:\n",
      "Text from https://www.novaims.unl.pt/en/education/programs/bachelor-s-degrees/information-systems/teaching-staff/#:\n",
      "Teaching Staff\n",
      "Teaching Staff\n",
      "en\n",
      "Education\n",
      "Programs\n",
      "Bachelor's Degrees\n",
      "Information Systems\n",
      "Teaching Staff\n",
      "Teaching Staff\n",
      "Teaching Staff\n",
      "Apply here\n",
      "Teaching Staff\n",
      "Américo Rio\n",
      "Invited Assistant Professor\n",
      "americo.rio@novaims.unl.pt\n",
      "Know more\n",
      "Ana Cristina Costa\n",
      "Associate Professor\n",
      "cristina@novaims.unl.pt\n",
      "Know more\n",
      "André Barriguinha\n",
      "Professor of the Practice\n",
      "abarriguinha@novaims.unl.pt\n",
      "Know more\n",
      "António Monteiro\n",
      "Invited Teaching Assistant\n",
      "amonteiro@novaims.unl.pt\n",
      "Know more\n",
      "Augusto Santos\n",
      "Assistant Professor\n",
      "ajrsantos@novaims.unl.pt\n",
      "Know more\n",
      "Bruno Rodrigues\n",
      "Adjunct Lecturer\n",
      "brodrigues@novaims.unl.pt\n",
      "Know more\n",
      "Carlos Tam\n",
      "Professor of the Practice\n",
      "carlosvai@novaims.unl.pt\n",
      "Know more\n",
      "Carolina Beatriz Lopes Silvestre\n",
      "Adjunct Lecturer\n",
      "csilvestre@novaims.unl.pt\n",
      "Know more\n",
      "Constança Filipa Ferreira Rodrigues\n",
      "Adjunct Lecturer\n",
      "cfrodrigues@novaims.unl.pt\n",
      "Know more\n",
      "Diogo Rasteiro\n",
      "Research Assistant\n",
      "drasteiro@novaims.unl.pt\n",
      "Know more\n",
      "Filipe Marques\n",
      "Professor of the Practice\n",
      "fjmarques@novaims.unl.pt\n",
      "Know more\n",
      "Filipe Montargil\n",
      "Invited Associate Professor\n",
      "fmontargil@novaims.unl.pt\n",
      "Know more\n",
      "Frederico Cruz Jesus\n",
      "Associate Professor\n",
      "fjesus@novaims.unl.pt\n",
      "Know more\n",
      "Gonçalo Baptista\n",
      "Professor of the Practice\n",
      "gbaptista@novaims.unl.pt\n",
      "Know more\n",
      "Gonçalo Rijo\n",
      "Adjunct Lecturer\n",
      "grijo@novaims.unl.pt\n",
      "Know more\n",
      "Helena Guerra\n",
      "Invited Assistant Professor\n",
      "helena@novaims.unl.pt\n",
      "Know more\n",
      "Henrique Carreiro\n",
      "Invited Assistant Professor\n",
      "hcarreiro@novaims.unl.pt\n",
      "Know more\n",
      "Joana Neves\n",
      "Assistant Professor\n",
      "jneves@novaims.unl.pt\n",
      "Know more\n",
      "Jorge Neves\n",
      "Invited Assistant Professor\n",
      "jnneves@novaims.unl.pt\n",
      "Know more\n",
      "José Carvalho\n",
      "Invited Teaching Assistant\n",
      "jcarvalho@novaims.unl.pt\n",
      "Know more\n",
      "José Mamede\n",
      "Professor of the Practice\n",
      "jmamede@novaims.unl.pt\n",
      "Know more\n",
      "Leonardo Vanneschi\n",
      "Full Professor\n",
      "lvanneschi@novaims.unl.pt\n",
      "Know more\n",
      "Liah Rosenfeld\n",
      "Invited Teaching Assistant\n",
      "lrosenfeld@novaims.unl.pt\n",
      "Know more\n",
      "Manuel Rodrigues\n",
      "Adjunct Lecturer\n",
      "merodrigues@novaims.unl.pt\n",
      "Know more\n",
      "Manuela Aparício\n",
      "Assistant Professor\n",
      "manuela.aparicio@novaims.unl.pt\n",
      "Know more\n",
      "Márcia Lourenço Baptista\n",
      "Assistant Professor\n",
      "m.baptista@novaims.unl.pt\n",
      "Know more\n",
      "Marco Silva\n",
      "Adjunct Lecturer\n",
      "masilva@novaims.unl.pt\n",
      "Know more\n",
      "Maria Fernandes\n",
      "Invited Assistant Professor\n",
      "mfernandes@novaims.unl.pt\n",
      "Know more\n",
      "Mariana Dias\n",
      "Invited Teaching Assistant\n",
      "midias@novaims.unl.pt\n",
      "Know more\n",
      "Marisa Fernandes\n",
      "Adjunct Lecturer\n",
      "mmfernandes@novaims.unl.pt\n",
      "Know more\n",
      "Marisa Nunes\n",
      "Adjunct Lecturer\n",
      "mnunes@novaims.unl.pt\n",
      "Know more\n",
      "Mijail Naranjo-Zolotov\n",
      "Assistant Professor\n",
      "mijail.naranjo@novaims.unl.pt\n",
      "Know more\n",
      "Patrícia Mestre\n",
      "Adjunct Lecturer\n",
      "pmestre@novaims.unl.pt\n",
      "Know more\n",
      "Paulo Lapa\n",
      "Adjunct Lecturer\n",
      "plapa@novaims.unl.pt\n",
      "Know more\n",
      "Pedro Antunes\n",
      "Adjunct Lecturer\n",
      "pantunes@novaims.unl.pt\n",
      "Know more\n",
      "Pedro Fernandes\n",
      "Adjunct Lecturer\n",
      "pmfernandes@novaims.unl.pt\n",
      "Know more\n",
      "Pedro Malta\n",
      "Invited Assistant Professor\n",
      "pmalta@novaims.unl.pt\n",
      "Know more\n",
      "Pedro Mota\n",
      "Professor of the Practice\n",
      "pmota@novaims.unl.pt\n",
      "Know more\n",
      "Rafael dos Santos Pereira\n",
      "Adjunct Lecturer\n",
      "rpereira@novaims.unl.pt\n",
      "Know more\n",
      "Ricardo Martins\n",
      "Professor of the Practice\n",
      "rmartins@novaims.unl.pt\n",
      "Know more\n",
      "Rita Lourenço\n",
      "Adjunct Lecturer\n",
      "rlourenco@novaims.unl.pt\n",
      "Know more\n",
      "Rui Soares\n",
      "Adjunct Lecturer\n",
      "rsoares@novaims.unl.pt\n",
      "Know more\n",
      "Rute Silva\n",
      "Adjunct Lecturer\n",
      "rpsilva@novaims.unl.pt\n",
      "Know more\n",
      "Samuel Santos\n",
      "Adjunct Lecturer\n",
      "samuel.santos@novaims.unl.pt\n",
      "Know more\n",
      "Sandra Cristina Roque Candeias\n",
      "Adjunct Lecturer\n",
      "scandeias@novaims.unl.pt\n",
      "Know more\n",
      "Sara dos Santos Fernandes\n",
      "Invited Teaching Assistant\n",
      "sfernandes@novaims.unl.pt\n",
      "Know more\n",
      "Sofia Lourenço\n",
      "Adjunct Lecturer\n",
      "slourenco@novaims.unl.pt\n",
      "Know more\n",
      "Tiago Humberto Oliveira\n",
      "Adjunct Lecturer\n",
      "tiago.oliveira@novaims.unl.pt\n",
      "Know more\n",
      "Tiago Oliveira\n",
      "Full Professor\n",
      "toliveira@novaims.unl.pt\n",
      "Know more\n",
      "Vicente Tang\n",
      "Invited Teaching Assistant\n",
      "vtang@novaims.unl.pt\n",
      "Know more\n",
      "Victor Lobo\n",
      "Invited Full Professor\n",
      "vlobo@novaims.unl.pt\n",
      "Know more\n",
      "Vítor Santos\n",
      "Assistant Professor\n",
      "vsantos@novaims.unl.pt\n",
      "Know more\n",
      "\n",
      "--------------------------------------------------\n"
     ]
    }
   ],
   "source": [
    "dh.print_text_context_from_program_dicts(\n",
    "    data=bachelor_data_raw,\n",
    "    doc_types_to_include=[\"teaching_staff\"]\n",
    ")"
   ]
  },
  {
   "cell_type": "code",
   "execution_count": 5,
   "metadata": {},
   "outputs": [],
   "source": [
    "cleaned_bs_teachingstaff = dp.clean_text_documents(\n",
    "    data=bachelor_data_raw,\n",
    "    doc_types_to_include=[\"teaching_staff\"],\n",
    "    words_to_remove=[\"know\", \"more\", \"apply\", \"here\", \"Education\"], \n",
    "    words_to_deduplicate=[\"Teaching Staff\"]\n",
    ")"
   ]
  },
  {
   "cell_type": "code",
   "execution_count": 16,
   "metadata": {},
   "outputs": [
    {
     "data": {
      "text/plain": [
       "{'bachelor_data-science_teaching-staff_text.txt': {'text': \"Text from https://www.novaims.unl.pt/en//programs/bachelor-s-degrees/data-science/teaching-staff/#: Teaching Staff en Programs Bachelor's Degrees Data Science Teaching Staff Américo Rio Invited Assistant Professor americo.rio@novaims.unl.pt Ana Cristina Costa Associate Professor cristina@novaims.unl.pt Artur Varanda Adjunct Lecturer avaranda@novaims.unl.pt Augusto Santos Assistant Professor ajrsantos@novaims.unl.pt Bruno Damásio Assistant Professor bdamasio@novaims.unl.pt Carina Albuquerque Assistant Professor calbuquerque@novaims.unl.pt Carolina Maria Shaul Adjunct Lecturer cshaul@novaims.unl.pt Carolina Santos Maximiano Adjunct Lecturer cmaximiano@novaims.unl.pt Carolina Vasconcelos Invited Teaching Assistant cvasconcelos@novaims.unl.pt Catarina Neves Assistant Professor cneves@novaims.unl.pt Catarina Palha Invited Teaching Assistant cpalha@novaims.unl.pt Dhruv Akshay Pandit Invited Teaching Assistant dpandit@novaims.unl.pt Diogo Rasteiro Research Assistant drasteiro@novaims.unl.pt Fernando Bação Full Professor bacao@novaims.unl.pt Filipe Marques Professor of the Practice fjmarques@novaims.unl.pt Gonçalo Baptista Professor of the Practice gbaptista@novaims.unl.pt Helena Guerra Invited Assistant Professor helena@novaims.unl.pt Ian Scott Assistant Professor iscott@novaims.unl.pt Ivo Bernardo Adjunct Lecturer ibernardo@novaims.unl.pt Joana Neves Assistant Professor jneves@novaims.unl.pt Jorge Neves Invited Assistant Professor jnneves@novaims.unl.pt José Carvalho Invited Teaching Assistant jcarvalho@novaims.unl.pt Leon Debatin Adjunct Lecturer 20230549@novaims.unl.pt Leonardo Vanneschi Full Professor lvanneschi@novaims.unl.pt Liah Rosenfeld Invited Teaching Assistant lrosenfeld@novaims.unl.pt Manuel Rodrigues Adjunct Lecturer merodrigues@novaims.unl.pt Manuela Aparício Assistant Professor manuela.aparicio@novaims.unl.pt Maria Fernandes Invited Assistant Professor mfernandes@novaims.unl.pt Mariana Dias Invited Teaching Assistant midias@novaims.unl.pt Marisa Fernandes Adjunct Lecturer mmfernandes@novaims.unl.pt Marisa Nunes Adjunct Lecturer mnunes@novaims.unl.pt Mauro Castelli Full Professor mcastelli@novaims.unl.pt Mijail Naranjo-Zolotov Assistant Professor mijail.naranjo@novaims.unl.pt Niclas Frederic Sturm Research Assistant nsturm@novaims.unl.pt Paulo Lapa Adjunct Lecturer plapa@novaims.unl.pt Pedro Fernandes Adjunct Lecturer pmfernandes@novaims.unl.pt Pedro Mota Professor of the Practice pmota@novaims.unl.pt Rafael dos Santos Pereira Adjunct Lecturer rpereira@novaims.unl.pt Roberto Henriques Associate Professor roberto@novaims.unl.pt Rute Silva Adjunct Lecturer rpsilva@novaims.unl.pt Samuel Santos Adjunct Lecturer samuel.santos@novaims.unl.pt Sandra Cristina Roque Candeias Adjunct Lecturer scandeias@novaims.unl.pt Sara dos Santos Fernandes Invited Teaching Assistant sfernandes@novaims.unl.pt Sofia Carreira da Conceição Alves Pereira Adjunct Lecturer spereira@novaims.unl.pt Tiago Santos Adjunct Lecturer tmsantos@novaims.unl.pt Victor Lobo Invited Full Professor vlobo@novaims.unl.pt Vítor Santos Assistant Professor vsantos@novaims.unl.pt Yuriy Perezhohin Research Assistant yperezhohin@novaims.unl.pt\",\n",
       "  'metadata': {'degree': 'bachelor',\n",
       "   'doc_type': 'teaching_staff',\n",
       "   'course_name': 'Data Science'}},\n",
       " 'bachelor_information-management_teaching-staff_text.txt': {'text': \"Text from https://www.novaims.unl.pt/en//programs/bachelor-s-degrees/information-management/teaching-staff/#: Teaching Staff en Programs Bachelor's Degrees Information Management Teaching Staff Ana Beatriz Domingues Farinha Adjunct Lecturer afarinha@novaims.unl.pt Ana Cristina Costa Associate Professor cristina@novaims.unl.pt André Barriguinha Professor of the Practice abarriguinha@novaims.unl.pt Augusto Santos Assistant Professor ajrsantos@novaims.unl.pt Bruno Damásio Assistant Professor bdamasio@novaims.unl.pt Bruno Rodrigues Adjunct Lecturer brodrigues@novaims.unl.pt Carlos Tam Professor of the Practice carlosvai@novaims.unl.pt Carolina Maria Shaul Adjunct Lecturer cshaul@novaims.unl.pt Carolina Vasconcelos Invited Teaching Assistant cvasconcelos@novaims.unl.pt Catarina Neves Assistant Professor cneves@novaims.unl.pt Catarina Oliveira Ferraz Invited Teaching Assistant cferraz@novaims.unl.pt Constança Filipa Ferreira Rodrigues Adjunct Lecturer cfrodrigues@novaims.unl.pt Daniel Caridade Adjunct Lecturer dcaridade@novaims.unl.pt Diogo Rasteiro Research Assistant drasteiro@novaims.unl.pt Fernando Bação Full Professor bacao@novaims.unl.pt Filipe Marques Professor of the Practice fjmarques@novaims.unl.pt Frederico Cruz Jesus Associate Professor fjesus@novaims.unl.pt Gonçalo Baptista Professor of the Practice gbaptista@novaims.unl.pt Helena Guerra Invited Assistant Professor helena@novaims.unl.pt Henrique Carreiro Invited Assistant Professor hcarreiro@novaims.unl.pt Joana Neves Assistant Professor jneves@novaims.unl.pt João Martins Professor of the Practice jmartins@novaims.unl.pt Jorge Carrola Rodrigues Invited Assistant Professor jcarrola@novaims.unl.pt Jorge Neves Invited Assistant Professor jnneves@novaims.unl.pt José Carvalho Invited Teaching Assistant jcarvalho@novaims.unl.pt Leonardo Vanneschi Full Professor lvanneschi@novaims.unl.pt Liah Rosenfeld Invited Teaching Assistant lrosenfeld@novaims.unl.pt Manuel Cabugueira Professor of the Practice mcabugueira@novaims.unl.pt Manuel Rodrigues Adjunct Lecturer merodrigues@novaims.unl.pt Manuela Aparício Assistant Professor manuela.aparicio@novaims.unl.pt Márcia Lourenço Baptista Assistant Professor m.baptista@novaims.unl.pt Marco Galão Adjunct Lecturer mgalao@novaims.unl.pt Maria Fernandes Invited Assistant Professor mfernandes@novaims.unl.pt Maria Ferreira Adjunct Lecturer mferreira@novaims.unl.pt Mariana Dias Invited Teaching Assistant midias@novaims.unl.pt Mário Centeno Invited Full Professor mcenteno@novaims.unl.pt Marisa Fernandes Adjunct Lecturer mmfernandes@novaims.unl.pt Marisa Nunes Adjunct Lecturer mnunes@novaims.unl.pt Paulo Lapa Adjunct Lecturer plapa@novaims.unl.pt Pedro Malta Invited Assistant Professor pmalta@novaims.unl.pt Pedro Mota Professor of the Practice pmota@novaims.unl.pt Pedro Oliveira Adjunct Lecturer poliveira@novaims.unl.pt Rafael dos Santos Pereira Adjunct Lecturer rpereira@novaims.unl.pt Ricardo Santos Invited Teaching Assistant rcsantos@novaims.unl.pt Rita Lourenço Adjunct Lecturer rlourenco@novaims.unl.pt Roberto Henriques Associate Professor roberto@novaims.unl.pt Rute Silva Adjunct Lecturer rpsilva@novaims.unl.pt Salvador Rosado Invited Teaching Assistant srosado@novaims.unl.pt Samuel Santos Adjunct Lecturer samuel.santos@novaims.unl.pt Sandra Cristina Roque Candeias Adjunct Lecturer scandeias@novaims.unl.pt Sara dos Santos Fernandes Invited Teaching Assistant sfernandes@novaims.unl.pt Sofia Carreira da Conceição Alves Pereira Adjunct Lecturer spereira@novaims.unl.pt Sofia Lourenço Adjunct Lecturer slourenco@novaims.unl.pt Susana Esteves Invited Assistant Professor susana@novaims.unl.pt Tiago Humberto Oliveira Adjunct Lecturer tiago.oliveira@novaims.unl.pt Vicente Tang Invited Teaching Assistant vtang@novaims.unl.pt Vítor Santos Assistant Professor vsantos@novaims.unl.pt\",\n",
       "  'metadata': {'degree': 'bachelor',\n",
       "   'doc_type': 'teaching_staff',\n",
       "   'course_name': 'Information Management'}},\n",
       " 'bachelor_information-systems_teaching-staff_text.txt': {'text': \"Text from https://www.novaims.unl.pt/en//programs/bachelor-s-degrees/information-systems/teaching-staff/#: Teaching Staff en Programs Bachelor's Degrees Information Systems Teaching Staff Américo Rio Invited Assistant Professor americo.rio@novaims.unl.pt Ana Cristina Costa Associate Professor cristina@novaims.unl.pt André Barriguinha Professor of the Practice abarriguinha@novaims.unl.pt António Monteiro Invited Teaching Assistant amonteiro@novaims.unl.pt Augusto Santos Assistant Professor ajrsantos@novaims.unl.pt Bruno Rodrigues Adjunct Lecturer brodrigues@novaims.unl.pt Carlos Tam Professor of the Practice carlosvai@novaims.unl.pt Carolina Beatriz Lopes Silvestre Adjunct Lecturer csilvestre@novaims.unl.pt Constança Filipa Ferreira Rodrigues Adjunct Lecturer cfrodrigues@novaims.unl.pt Diogo Rasteiro Research Assistant drasteiro@novaims.unl.pt Filipe Marques Professor of the Practice fjmarques@novaims.unl.pt Filipe Montargil Invited Associate Professor fmontargil@novaims.unl.pt Frederico Cruz Jesus Associate Professor fjesus@novaims.unl.pt Gonçalo Baptista Professor of the Practice gbaptista@novaims.unl.pt Gonçalo Rijo Adjunct Lecturer grijo@novaims.unl.pt Helena Guerra Invited Assistant Professor helena@novaims.unl.pt Henrique Carreiro Invited Assistant Professor hcarreiro@novaims.unl.pt Joana Neves Assistant Professor jneves@novaims.unl.pt Jorge Neves Invited Assistant Professor jnneves@novaims.unl.pt José Carvalho Invited Teaching Assistant jcarvalho@novaims.unl.pt José Mamede Professor of the Practice jmamede@novaims.unl.pt Leonardo Vanneschi Full Professor lvanneschi@novaims.unl.pt Liah Rosenfeld Invited Teaching Assistant lrosenfeld@novaims.unl.pt Manuel Rodrigues Adjunct Lecturer merodrigues@novaims.unl.pt Manuela Aparício Assistant Professor manuela.aparicio@novaims.unl.pt Márcia Lourenço Baptista Assistant Professor m.baptista@novaims.unl.pt Marco Silva Adjunct Lecturer masilva@novaims.unl.pt Maria Fernandes Invited Assistant Professor mfernandes@novaims.unl.pt Mariana Dias Invited Teaching Assistant midias@novaims.unl.pt Marisa Fernandes Adjunct Lecturer mmfernandes@novaims.unl.pt Marisa Nunes Adjunct Lecturer mnunes@novaims.unl.pt Mijail Naranjo-Zolotov Assistant Professor mijail.naranjo@novaims.unl.pt Patrícia Mestre Adjunct Lecturer pmestre@novaims.unl.pt Paulo Lapa Adjunct Lecturer plapa@novaims.unl.pt Pedro Antunes Adjunct Lecturer pantunes@novaims.unl.pt Pedro Fernandes Adjunct Lecturer pmfernandes@novaims.unl.pt Pedro Malta Invited Assistant Professor pmalta@novaims.unl.pt Pedro Mota Professor of the Practice pmota@novaims.unl.pt Rafael dos Santos Pereira Adjunct Lecturer rpereira@novaims.unl.pt Ricardo Martins Professor of the Practice rmartins@novaims.unl.pt Rita Lourenço Adjunct Lecturer rlourenco@novaims.unl.pt Rui Soares Adjunct Lecturer rsoares@novaims.unl.pt Rute Silva Adjunct Lecturer rpsilva@novaims.unl.pt Samuel Santos Adjunct Lecturer samuel.santos@novaims.unl.pt Sandra Cristina Roque Candeias Adjunct Lecturer scandeias@novaims.unl.pt Sara dos Santos Fernandes Invited Teaching Assistant sfernandes@novaims.unl.pt Sofia Lourenço Adjunct Lecturer slourenco@novaims.unl.pt Tiago Humberto Oliveira Adjunct Lecturer tiago.oliveira@novaims.unl.pt Tiago Oliveira Full Professor toliveira@novaims.unl.pt Vicente Tang Invited Teaching Assistant vtang@novaims.unl.pt Victor Lobo Invited Full Professor vlobo@novaims.unl.pt Vítor Santos Assistant Professor vsantos@novaims.unl.pt\",\n",
       "  'metadata': {'degree': 'bachelor',\n",
       "   'doc_type': 'teaching_staff',\n",
       "   'course_name': 'Information Systems'}}}"
      ]
     },
     "execution_count": 16,
     "metadata": {},
     "output_type": "execute_result"
    }
   ],
   "source": [
    "cleaned_bs_teachingstaff"
   ]
  },
  {
   "cell_type": "code",
   "execution_count": 6,
   "metadata": {},
   "outputs": [
    {
     "name": "stdout",
     "output_type": "stream",
     "text": [
      "\n",
      "--- Document: bachelor_data-science_teaching-staff_text.txt ---\n",
      "Course Name: Data Science\n",
      "Document Type: teaching_staff\n",
      "\n",
      "Text Content:\n",
      "Text from https://www.novaims.unl.pt/en//programs/bachelor-s-degrees/data-science/teaching-staff/#: Teaching Staff en Programs Bachelor's Degrees Data Science Teaching Staff Américo Rio Invited Assistant Professor americo.rio@novaims.unl.pt Ana Cristina Costa Associate Professor cristina@novaims.unl.pt Artur Varanda Adjunct Lecturer avaranda@novaims.unl.pt Augusto Santos Assistant Professor ajrsantos@novaims.unl.pt Bruno Damásio Assistant Professor bdamasio@novaims.unl.pt Carina Albuquerque Assistant Professor calbuquerque@novaims.unl.pt Carolina Maria Shaul Adjunct Lecturer cshaul@novaims.unl.pt Carolina Santos Maximiano Adjunct Lecturer cmaximiano@novaims.unl.pt Carolina Vasconcelos Invited Teaching Assistant cvasconcelos@novaims.unl.pt Catarina Neves Assistant Professor cneves@novaims.unl.pt Catarina Palha Invited Teaching Assistant cpalha@novaims.unl.pt Dhruv Akshay Pandit Invited Teaching Assistant dpandit@novaims.unl.pt Diogo Rasteiro Research Assistant drasteiro@novaims.unl.pt Fernando Bação Full Professor bacao@novaims.unl.pt Filipe Marques Professor of the Practice fjmarques@novaims.unl.pt Gonçalo Baptista Professor of the Practice gbaptista@novaims.unl.pt Helena Guerra Invited Assistant Professor helena@novaims.unl.pt Ian Scott Assistant Professor iscott@novaims.unl.pt Ivo Bernardo Adjunct Lecturer ibernardo@novaims.unl.pt Joana Neves Assistant Professor jneves@novaims.unl.pt Jorge Neves Invited Assistant Professor jnneves@novaims.unl.pt José Carvalho Invited Teaching Assistant jcarvalho@novaims.unl.pt Leon Debatin Adjunct Lecturer 20230549@novaims.unl.pt Leonardo Vanneschi Full Professor lvanneschi@novaims.unl.pt Liah Rosenfeld Invited Teaching Assistant lrosenfeld@novaims.unl.pt Manuel Rodrigues Adjunct Lecturer merodrigues@novaims.unl.pt Manuela Aparício Assistant Professor manuela.aparicio@novaims.unl.pt Maria Fernandes Invited Assistant Professor mfernandes@novaims.unl.pt Mariana Dias Invited Teaching Assistant midias@novaims.unl.pt Marisa Fernandes Adjunct Lecturer mmfernandes@novaims.unl.pt Marisa Nunes Adjunct Lecturer mnunes@novaims.unl.pt Mauro Castelli Full Professor mcastelli@novaims.unl.pt Mijail Naranjo-Zolotov Assistant Professor mijail.naranjo@novaims.unl.pt Niclas Frederic Sturm Research Assistant nsturm@novaims.unl.pt Paulo Lapa Adjunct Lecturer plapa@novaims.unl.pt Pedro Fernandes Adjunct Lecturer pmfernandes@novaims.unl.pt Pedro Mota Professor of the Practice pmota@novaims.unl.pt Rafael dos Santos Pereira Adjunct Lecturer rpereira@novaims.unl.pt Roberto Henriques Associate Professor roberto@novaims.unl.pt Rute Silva Adjunct Lecturer rpsilva@novaims.unl.pt Samuel Santos Adjunct Lecturer samuel.santos@novaims.unl.pt Sandra Cristina Roque Candeias Adjunct Lecturer scandeias@novaims.unl.pt Sara dos Santos Fernandes Invited Teaching Assistant sfernandes@novaims.unl.pt Sofia Carreira da Conceição Alves Pereira Adjunct Lecturer spereira@novaims.unl.pt Tiago Santos Adjunct Lecturer tmsantos@novaims.unl.pt Victor Lobo Invited Full Professor vlobo@novaims.unl.pt Vítor Santos Assistant Professor vsantos@novaims.unl.pt Yuriy Perezhohin Research Assistant yperezhohin@novaims.unl.pt\n",
      "\n",
      "--------------------------------------------------\n"
     ]
    }
   ],
   "source": [
    "dh.print_text_context_from_program_dicts(\n",
    "    data=cleaned_bs_teachingstaff,\n",
    "    course_names_to_include=[\"Data Science\"],\n",
    "    doc_types_to_include=[\"teaching_staff\"]\n",
    ")"
   ]
  },
  {
   "cell_type": "markdown",
   "metadata": {},
   "source": [
    "## Teaching staff stats after cleaning"
   ]
  },
  {
   "cell_type": "code",
   "execution_count": 7,
   "metadata": {},
   "outputs": [
    {
     "data": {
      "application/vnd.plotly.v1+json": {
       "config": {
        "plotlyServerURL": "https://plot.ly"
       },
       "data": [
        {
         "bingroup": "x",
         "hovertemplate": "Token Count=%{x}<br>count=%{y}<extra></extra>",
         "legendgroup": "",
         "marker": {
          "color": "#636efa",
          "pattern": {
           "shape": ""
          }
         },
         "name": "",
         "nbinsx": 15,
         "orientation": "v",
         "showlegend": false,
         "type": "histogram",
         "x": {
          "bdata": "SwPuA54D",
          "dtype": "i2"
         },
         "xaxis": "x",
         "yaxis": "y"
        }
       ],
       "layout": {
        "bargap": 0.1,
        "barmode": "relative",
        "legend": {
         "tracegroupgap": 0
        },
        "template": {
         "data": {
          "bar": [
           {
            "error_x": {
             "color": "#2a3f5f"
            },
            "error_y": {
             "color": "#2a3f5f"
            },
            "marker": {
             "line": {
              "color": "#E5ECF6",
              "width": 0.5
             },
             "pattern": {
              "fillmode": "overlay",
              "size": 10,
              "solidity": 0.2
             }
            },
            "type": "bar"
           }
          ],
          "barpolar": [
           {
            "marker": {
             "line": {
              "color": "#E5ECF6",
              "width": 0.5
             },
             "pattern": {
              "fillmode": "overlay",
              "size": 10,
              "solidity": 0.2
             }
            },
            "type": "barpolar"
           }
          ],
          "carpet": [
           {
            "aaxis": {
             "endlinecolor": "#2a3f5f",
             "gridcolor": "white",
             "linecolor": "white",
             "minorgridcolor": "white",
             "startlinecolor": "#2a3f5f"
            },
            "baxis": {
             "endlinecolor": "#2a3f5f",
             "gridcolor": "white",
             "linecolor": "white",
             "minorgridcolor": "white",
             "startlinecolor": "#2a3f5f"
            },
            "type": "carpet"
           }
          ],
          "choropleth": [
           {
            "colorbar": {
             "outlinewidth": 0,
             "ticks": ""
            },
            "type": "choropleth"
           }
          ],
          "contour": [
           {
            "colorbar": {
             "outlinewidth": 0,
             "ticks": ""
            },
            "colorscale": [
             [
              0,
              "#0d0887"
             ],
             [
              0.1111111111111111,
              "#46039f"
             ],
             [
              0.2222222222222222,
              "#7201a8"
             ],
             [
              0.3333333333333333,
              "#9c179e"
             ],
             [
              0.4444444444444444,
              "#bd3786"
             ],
             [
              0.5555555555555556,
              "#d8576b"
             ],
             [
              0.6666666666666666,
              "#ed7953"
             ],
             [
              0.7777777777777778,
              "#fb9f3a"
             ],
             [
              0.8888888888888888,
              "#fdca26"
             ],
             [
              1,
              "#f0f921"
             ]
            ],
            "type": "contour"
           }
          ],
          "contourcarpet": [
           {
            "colorbar": {
             "outlinewidth": 0,
             "ticks": ""
            },
            "type": "contourcarpet"
           }
          ],
          "heatmap": [
           {
            "colorbar": {
             "outlinewidth": 0,
             "ticks": ""
            },
            "colorscale": [
             [
              0,
              "#0d0887"
             ],
             [
              0.1111111111111111,
              "#46039f"
             ],
             [
              0.2222222222222222,
              "#7201a8"
             ],
             [
              0.3333333333333333,
              "#9c179e"
             ],
             [
              0.4444444444444444,
              "#bd3786"
             ],
             [
              0.5555555555555556,
              "#d8576b"
             ],
             [
              0.6666666666666666,
              "#ed7953"
             ],
             [
              0.7777777777777778,
              "#fb9f3a"
             ],
             [
              0.8888888888888888,
              "#fdca26"
             ],
             [
              1,
              "#f0f921"
             ]
            ],
            "type": "heatmap"
           }
          ],
          "histogram": [
           {
            "marker": {
             "pattern": {
              "fillmode": "overlay",
              "size": 10,
              "solidity": 0.2
             }
            },
            "type": "histogram"
           }
          ],
          "histogram2d": [
           {
            "colorbar": {
             "outlinewidth": 0,
             "ticks": ""
            },
            "colorscale": [
             [
              0,
              "#0d0887"
             ],
             [
              0.1111111111111111,
              "#46039f"
             ],
             [
              0.2222222222222222,
              "#7201a8"
             ],
             [
              0.3333333333333333,
              "#9c179e"
             ],
             [
              0.4444444444444444,
              "#bd3786"
             ],
             [
              0.5555555555555556,
              "#d8576b"
             ],
             [
              0.6666666666666666,
              "#ed7953"
             ],
             [
              0.7777777777777778,
              "#fb9f3a"
             ],
             [
              0.8888888888888888,
              "#fdca26"
             ],
             [
              1,
              "#f0f921"
             ]
            ],
            "type": "histogram2d"
           }
          ],
          "histogram2dcontour": [
           {
            "colorbar": {
             "outlinewidth": 0,
             "ticks": ""
            },
            "colorscale": [
             [
              0,
              "#0d0887"
             ],
             [
              0.1111111111111111,
              "#46039f"
             ],
             [
              0.2222222222222222,
              "#7201a8"
             ],
             [
              0.3333333333333333,
              "#9c179e"
             ],
             [
              0.4444444444444444,
              "#bd3786"
             ],
             [
              0.5555555555555556,
              "#d8576b"
             ],
             [
              0.6666666666666666,
              "#ed7953"
             ],
             [
              0.7777777777777778,
              "#fb9f3a"
             ],
             [
              0.8888888888888888,
              "#fdca26"
             ],
             [
              1,
              "#f0f921"
             ]
            ],
            "type": "histogram2dcontour"
           }
          ],
          "mesh3d": [
           {
            "colorbar": {
             "outlinewidth": 0,
             "ticks": ""
            },
            "type": "mesh3d"
           }
          ],
          "parcoords": [
           {
            "line": {
             "colorbar": {
              "outlinewidth": 0,
              "ticks": ""
             }
            },
            "type": "parcoords"
           }
          ],
          "pie": [
           {
            "automargin": true,
            "type": "pie"
           }
          ],
          "scatter": [
           {
            "fillpattern": {
             "fillmode": "overlay",
             "size": 10,
             "solidity": 0.2
            },
            "type": "scatter"
           }
          ],
          "scatter3d": [
           {
            "line": {
             "colorbar": {
              "outlinewidth": 0,
              "ticks": ""
             }
            },
            "marker": {
             "colorbar": {
              "outlinewidth": 0,
              "ticks": ""
             }
            },
            "type": "scatter3d"
           }
          ],
          "scattercarpet": [
           {
            "marker": {
             "colorbar": {
              "outlinewidth": 0,
              "ticks": ""
             }
            },
            "type": "scattercarpet"
           }
          ],
          "scattergeo": [
           {
            "marker": {
             "colorbar": {
              "outlinewidth": 0,
              "ticks": ""
             }
            },
            "type": "scattergeo"
           }
          ],
          "scattergl": [
           {
            "marker": {
             "colorbar": {
              "outlinewidth": 0,
              "ticks": ""
             }
            },
            "type": "scattergl"
           }
          ],
          "scattermap": [
           {
            "marker": {
             "colorbar": {
              "outlinewidth": 0,
              "ticks": ""
             }
            },
            "type": "scattermap"
           }
          ],
          "scattermapbox": [
           {
            "marker": {
             "colorbar": {
              "outlinewidth": 0,
              "ticks": ""
             }
            },
            "type": "scattermapbox"
           }
          ],
          "scatterpolar": [
           {
            "marker": {
             "colorbar": {
              "outlinewidth": 0,
              "ticks": ""
             }
            },
            "type": "scatterpolar"
           }
          ],
          "scatterpolargl": [
           {
            "marker": {
             "colorbar": {
              "outlinewidth": 0,
              "ticks": ""
             }
            },
            "type": "scatterpolargl"
           }
          ],
          "scatterternary": [
           {
            "marker": {
             "colorbar": {
              "outlinewidth": 0,
              "ticks": ""
             }
            },
            "type": "scatterternary"
           }
          ],
          "surface": [
           {
            "colorbar": {
             "outlinewidth": 0,
             "ticks": ""
            },
            "colorscale": [
             [
              0,
              "#0d0887"
             ],
             [
              0.1111111111111111,
              "#46039f"
             ],
             [
              0.2222222222222222,
              "#7201a8"
             ],
             [
              0.3333333333333333,
              "#9c179e"
             ],
             [
              0.4444444444444444,
              "#bd3786"
             ],
             [
              0.5555555555555556,
              "#d8576b"
             ],
             [
              0.6666666666666666,
              "#ed7953"
             ],
             [
              0.7777777777777778,
              "#fb9f3a"
             ],
             [
              0.8888888888888888,
              "#fdca26"
             ],
             [
              1,
              "#f0f921"
             ]
            ],
            "type": "surface"
           }
          ],
          "table": [
           {
            "cells": {
             "fill": {
              "color": "#EBF0F8"
             },
             "line": {
              "color": "white"
             }
            },
            "header": {
             "fill": {
              "color": "#C8D4E3"
             },
             "line": {
              "color": "white"
             }
            },
            "type": "table"
           }
          ]
         },
         "layout": {
          "annotationdefaults": {
           "arrowcolor": "#2a3f5f",
           "arrowhead": 0,
           "arrowwidth": 1
          },
          "autotypenumbers": "strict",
          "coloraxis": {
           "colorbar": {
            "outlinewidth": 0,
            "ticks": ""
           }
          },
          "colorscale": {
           "diverging": [
            [
             0,
             "#8e0152"
            ],
            [
             0.1,
             "#c51b7d"
            ],
            [
             0.2,
             "#de77ae"
            ],
            [
             0.3,
             "#f1b6da"
            ],
            [
             0.4,
             "#fde0ef"
            ],
            [
             0.5,
             "#f7f7f7"
            ],
            [
             0.6,
             "#e6f5d0"
            ],
            [
             0.7,
             "#b8e186"
            ],
            [
             0.8,
             "#7fbc41"
            ],
            [
             0.9,
             "#4d9221"
            ],
            [
             1,
             "#276419"
            ]
           ],
           "sequential": [
            [
             0,
             "#0d0887"
            ],
            [
             0.1111111111111111,
             "#46039f"
            ],
            [
             0.2222222222222222,
             "#7201a8"
            ],
            [
             0.3333333333333333,
             "#9c179e"
            ],
            [
             0.4444444444444444,
             "#bd3786"
            ],
            [
             0.5555555555555556,
             "#d8576b"
            ],
            [
             0.6666666666666666,
             "#ed7953"
            ],
            [
             0.7777777777777778,
             "#fb9f3a"
            ],
            [
             0.8888888888888888,
             "#fdca26"
            ],
            [
             1,
             "#f0f921"
            ]
           ],
           "sequentialminus": [
            [
             0,
             "#0d0887"
            ],
            [
             0.1111111111111111,
             "#46039f"
            ],
            [
             0.2222222222222222,
             "#7201a8"
            ],
            [
             0.3333333333333333,
             "#9c179e"
            ],
            [
             0.4444444444444444,
             "#bd3786"
            ],
            [
             0.5555555555555556,
             "#d8576b"
            ],
            [
             0.6666666666666666,
             "#ed7953"
            ],
            [
             0.7777777777777778,
             "#fb9f3a"
            ],
            [
             0.8888888888888888,
             "#fdca26"
            ],
            [
             1,
             "#f0f921"
            ]
           ]
          },
          "colorway": [
           "#636efa",
           "#EF553B",
           "#00cc96",
           "#ab63fa",
           "#FFA15A",
           "#19d3f3",
           "#FF6692",
           "#B6E880",
           "#FF97FF",
           "#FECB52"
          ],
          "font": {
           "color": "#2a3f5f"
          },
          "geo": {
           "bgcolor": "white",
           "lakecolor": "white",
           "landcolor": "#E5ECF6",
           "showlakes": true,
           "showland": true,
           "subunitcolor": "white"
          },
          "hoverlabel": {
           "align": "left"
          },
          "hovermode": "closest",
          "mapbox": {
           "style": "light"
          },
          "paper_bgcolor": "white",
          "plot_bgcolor": "#E5ECF6",
          "polar": {
           "angularaxis": {
            "gridcolor": "white",
            "linecolor": "white",
            "ticks": ""
           },
           "bgcolor": "#E5ECF6",
           "radialaxis": {
            "gridcolor": "white",
            "linecolor": "white",
            "ticks": ""
           }
          },
          "scene": {
           "xaxis": {
            "backgroundcolor": "#E5ECF6",
            "gridcolor": "white",
            "gridwidth": 2,
            "linecolor": "white",
            "showbackground": true,
            "ticks": "",
            "zerolinecolor": "white"
           },
           "yaxis": {
            "backgroundcolor": "#E5ECF6",
            "gridcolor": "white",
            "gridwidth": 2,
            "linecolor": "white",
            "showbackground": true,
            "ticks": "",
            "zerolinecolor": "white"
           },
           "zaxis": {
            "backgroundcolor": "#E5ECF6",
            "gridcolor": "white",
            "gridwidth": 2,
            "linecolor": "white",
            "showbackground": true,
            "ticks": "",
            "zerolinecolor": "white"
           }
          },
          "shapedefaults": {
           "line": {
            "color": "#2a3f5f"
           }
          },
          "ternary": {
           "aaxis": {
            "gridcolor": "white",
            "linecolor": "white",
            "ticks": ""
           },
           "baxis": {
            "gridcolor": "white",
            "linecolor": "white",
            "ticks": ""
           },
           "bgcolor": "#E5ECF6",
           "caxis": {
            "gridcolor": "white",
            "linecolor": "white",
            "ticks": ""
           }
          },
          "title": {
           "x": 0.05
          },
          "xaxis": {
           "automargin": true,
           "gridcolor": "white",
           "linecolor": "white",
           "ticks": "",
           "title": {
            "standoff": 15
           },
           "zerolinecolor": "white",
           "zerolinewidth": 2
          },
          "yaxis": {
           "automargin": true,
           "gridcolor": "white",
           "linecolor": "white",
           "ticks": "",
           "title": {
            "standoff": 15
           },
           "zerolinecolor": "white",
           "zerolinewidth": 2
          }
         }
        },
        "title": {
         "text": "Distribution of Documents by Token Count"
        },
        "xaxis": {
         "anchor": "y",
         "domain": [
          0,
          1
         ],
         "title": {
          "text": "Token Count"
         }
        },
        "yaxis": {
         "anchor": "x",
         "domain": [
          0,
          1
         ],
         "title": {
          "text": "Number of Documents"
         }
        }
       }
      }
     },
     "metadata": {},
     "output_type": "display_data"
    }
   ],
   "source": [
    "du.histogram_token_count_multiple_docs(\n",
    "    cleaned_bs_teachingstaff,\n",
    "    doc_types_to_include=[\"teaching_staff\"]\n",
    ")"
   ]
  },
  {
   "cell_type": "code",
   "execution_count": 8,
   "metadata": {},
   "outputs": [
    {
     "data": {
      "application/vnd.plotly.v1+json": {
       "config": {
        "plotlyServerURL": "https://plot.ly"
       },
       "data": [
        {
         "colorscale": [
          [
           0,
           "#00083e"
          ],
          [
           0.5,
           "#ededee"
          ],
          [
           1,
           "#ffffff"
          ]
         ],
         "hoverinfo": "none",
         "opacity": 0.75,
         "showscale": false,
         "type": "heatmap",
         "z": [
          [
           0,
           0
          ],
          [
           0.5,
           0.5
          ],
          [
           1,
           1
          ],
          [
           0.5,
           0.5
          ],
          [
           1,
           1
          ],
          [
           0.5,
           0.5
          ],
          [
           1,
           1
          ],
          [
           0.5,
           0.5
          ],
          [
           1,
           1
          ]
         ]
        }
       ],
       "layout": {
        "annotations": [
         {
          "align": "center",
          "font": {
           "color": "#ffffff"
          },
          "showarrow": false,
          "text": "<b>Metric</b>",
          "x": -0.45,
          "xanchor": "left",
          "xref": "x",
          "y": 0,
          "yref": "y"
         },
         {
          "align": "center",
          "font": {
           "color": "#ffffff"
          },
          "showarrow": false,
          "text": "<b>Value</b>",
          "x": 0.55,
          "xanchor": "left",
          "xref": "x",
          "y": 0,
          "yref": "y"
         },
         {
          "align": "center",
          "font": {
           "color": "#000000"
          },
          "showarrow": false,
          "text": "count",
          "x": -0.45,
          "xanchor": "left",
          "xref": "x",
          "y": 1,
          "yref": "y"
         },
         {
          "align": "center",
          "font": {
           "color": "#000000"
          },
          "showarrow": false,
          "text": "3.00",
          "x": 0.55,
          "xanchor": "left",
          "xref": "x",
          "y": 1,
          "yref": "y"
         },
         {
          "align": "center",
          "font": {
           "color": "#000000"
          },
          "showarrow": false,
          "text": "mean",
          "x": -0.45,
          "xanchor": "left",
          "xref": "x",
          "y": 2,
          "yref": "y"
         },
         {
          "align": "center",
          "font": {
           "color": "#000000"
          },
          "showarrow": false,
          "text": "426.67",
          "x": 0.55,
          "xanchor": "left",
          "xref": "x",
          "y": 2,
          "yref": "y"
         },
         {
          "align": "center",
          "font": {
           "color": "#000000"
          },
          "showarrow": false,
          "text": "std",
          "x": -0.45,
          "xanchor": "left",
          "xref": "x",
          "y": 3,
          "yref": "y"
         },
         {
          "align": "center",
          "font": {
           "color": "#000000"
          },
          "showarrow": false,
          "text": "41.06",
          "x": 0.55,
          "xanchor": "left",
          "xref": "x",
          "y": 3,
          "yref": "y"
         },
         {
          "align": "center",
          "font": {
           "color": "#000000"
          },
          "showarrow": false,
          "text": "min",
          "x": -0.45,
          "xanchor": "left",
          "xref": "x",
          "y": 4,
          "yref": "y"
         },
         {
          "align": "center",
          "font": {
           "color": "#000000"
          },
          "showarrow": false,
          "text": "387.00",
          "x": 0.55,
          "xanchor": "left",
          "xref": "x",
          "y": 4,
          "yref": "y"
         },
         {
          "align": "center",
          "font": {
           "color": "#000000"
          },
          "showarrow": false,
          "text": "25%",
          "x": -0.45,
          "xanchor": "left",
          "xref": "x",
          "y": 5,
          "yref": "y"
         },
         {
          "align": "center",
          "font": {
           "color": "#000000"
          },
          "showarrow": false,
          "text": "405.50",
          "x": 0.55,
          "xanchor": "left",
          "xref": "x",
          "y": 5,
          "yref": "y"
         },
         {
          "align": "center",
          "font": {
           "color": "#000000"
          },
          "showarrow": false,
          "text": "50%",
          "x": -0.45,
          "xanchor": "left",
          "xref": "x",
          "y": 6,
          "yref": "y"
         },
         {
          "align": "center",
          "font": {
           "color": "#000000"
          },
          "showarrow": false,
          "text": "424.00",
          "x": 0.55,
          "xanchor": "left",
          "xref": "x",
          "y": 6,
          "yref": "y"
         },
         {
          "align": "center",
          "font": {
           "color": "#000000"
          },
          "showarrow": false,
          "text": "75%",
          "x": -0.45,
          "xanchor": "left",
          "xref": "x",
          "y": 7,
          "yref": "y"
         },
         {
          "align": "center",
          "font": {
           "color": "#000000"
          },
          "showarrow": false,
          "text": "446.50",
          "x": 0.55,
          "xanchor": "left",
          "xref": "x",
          "y": 7,
          "yref": "y"
         },
         {
          "align": "center",
          "font": {
           "color": "#000000"
          },
          "showarrow": false,
          "text": "max",
          "x": -0.45,
          "xanchor": "left",
          "xref": "x",
          "y": 8,
          "yref": "y"
         },
         {
          "align": "center",
          "font": {
           "color": "#000000"
          },
          "showarrow": false,
          "text": "469.00",
          "x": 0.55,
          "xanchor": "left",
          "xref": "x",
          "y": 8,
          "yref": "y"
         }
        ],
        "height": 320,
        "margin": {
         "b": 0,
         "l": 0,
         "r": 0,
         "t": 0
        },
        "template": {
         "data": {
          "bar": [
           {
            "error_x": {
             "color": "#2a3f5f"
            },
            "error_y": {
             "color": "#2a3f5f"
            },
            "marker": {
             "line": {
              "color": "#E5ECF6",
              "width": 0.5
             },
             "pattern": {
              "fillmode": "overlay",
              "size": 10,
              "solidity": 0.2
             }
            },
            "type": "bar"
           }
          ],
          "barpolar": [
           {
            "marker": {
             "line": {
              "color": "#E5ECF6",
              "width": 0.5
             },
             "pattern": {
              "fillmode": "overlay",
              "size": 10,
              "solidity": 0.2
             }
            },
            "type": "barpolar"
           }
          ],
          "carpet": [
           {
            "aaxis": {
             "endlinecolor": "#2a3f5f",
             "gridcolor": "white",
             "linecolor": "white",
             "minorgridcolor": "white",
             "startlinecolor": "#2a3f5f"
            },
            "baxis": {
             "endlinecolor": "#2a3f5f",
             "gridcolor": "white",
             "linecolor": "white",
             "minorgridcolor": "white",
             "startlinecolor": "#2a3f5f"
            },
            "type": "carpet"
           }
          ],
          "choropleth": [
           {
            "colorbar": {
             "outlinewidth": 0,
             "ticks": ""
            },
            "type": "choropleth"
           }
          ],
          "contour": [
           {
            "colorbar": {
             "outlinewidth": 0,
             "ticks": ""
            },
            "colorscale": [
             [
              0,
              "#0d0887"
             ],
             [
              0.1111111111111111,
              "#46039f"
             ],
             [
              0.2222222222222222,
              "#7201a8"
             ],
             [
              0.3333333333333333,
              "#9c179e"
             ],
             [
              0.4444444444444444,
              "#bd3786"
             ],
             [
              0.5555555555555556,
              "#d8576b"
             ],
             [
              0.6666666666666666,
              "#ed7953"
             ],
             [
              0.7777777777777778,
              "#fb9f3a"
             ],
             [
              0.8888888888888888,
              "#fdca26"
             ],
             [
              1,
              "#f0f921"
             ]
            ],
            "type": "contour"
           }
          ],
          "contourcarpet": [
           {
            "colorbar": {
             "outlinewidth": 0,
             "ticks": ""
            },
            "type": "contourcarpet"
           }
          ],
          "heatmap": [
           {
            "colorbar": {
             "outlinewidth": 0,
             "ticks": ""
            },
            "colorscale": [
             [
              0,
              "#0d0887"
             ],
             [
              0.1111111111111111,
              "#46039f"
             ],
             [
              0.2222222222222222,
              "#7201a8"
             ],
             [
              0.3333333333333333,
              "#9c179e"
             ],
             [
              0.4444444444444444,
              "#bd3786"
             ],
             [
              0.5555555555555556,
              "#d8576b"
             ],
             [
              0.6666666666666666,
              "#ed7953"
             ],
             [
              0.7777777777777778,
              "#fb9f3a"
             ],
             [
              0.8888888888888888,
              "#fdca26"
             ],
             [
              1,
              "#f0f921"
             ]
            ],
            "type": "heatmap"
           }
          ],
          "histogram": [
           {
            "marker": {
             "pattern": {
              "fillmode": "overlay",
              "size": 10,
              "solidity": 0.2
             }
            },
            "type": "histogram"
           }
          ],
          "histogram2d": [
           {
            "colorbar": {
             "outlinewidth": 0,
             "ticks": ""
            },
            "colorscale": [
             [
              0,
              "#0d0887"
             ],
             [
              0.1111111111111111,
              "#46039f"
             ],
             [
              0.2222222222222222,
              "#7201a8"
             ],
             [
              0.3333333333333333,
              "#9c179e"
             ],
             [
              0.4444444444444444,
              "#bd3786"
             ],
             [
              0.5555555555555556,
              "#d8576b"
             ],
             [
              0.6666666666666666,
              "#ed7953"
             ],
             [
              0.7777777777777778,
              "#fb9f3a"
             ],
             [
              0.8888888888888888,
              "#fdca26"
             ],
             [
              1,
              "#f0f921"
             ]
            ],
            "type": "histogram2d"
           }
          ],
          "histogram2dcontour": [
           {
            "colorbar": {
             "outlinewidth": 0,
             "ticks": ""
            },
            "colorscale": [
             [
              0,
              "#0d0887"
             ],
             [
              0.1111111111111111,
              "#46039f"
             ],
             [
              0.2222222222222222,
              "#7201a8"
             ],
             [
              0.3333333333333333,
              "#9c179e"
             ],
             [
              0.4444444444444444,
              "#bd3786"
             ],
             [
              0.5555555555555556,
              "#d8576b"
             ],
             [
              0.6666666666666666,
              "#ed7953"
             ],
             [
              0.7777777777777778,
              "#fb9f3a"
             ],
             [
              0.8888888888888888,
              "#fdca26"
             ],
             [
              1,
              "#f0f921"
             ]
            ],
            "type": "histogram2dcontour"
           }
          ],
          "mesh3d": [
           {
            "colorbar": {
             "outlinewidth": 0,
             "ticks": ""
            },
            "type": "mesh3d"
           }
          ],
          "parcoords": [
           {
            "line": {
             "colorbar": {
              "outlinewidth": 0,
              "ticks": ""
             }
            },
            "type": "parcoords"
           }
          ],
          "pie": [
           {
            "automargin": true,
            "type": "pie"
           }
          ],
          "scatter": [
           {
            "fillpattern": {
             "fillmode": "overlay",
             "size": 10,
             "solidity": 0.2
            },
            "type": "scatter"
           }
          ],
          "scatter3d": [
           {
            "line": {
             "colorbar": {
              "outlinewidth": 0,
              "ticks": ""
             }
            },
            "marker": {
             "colorbar": {
              "outlinewidth": 0,
              "ticks": ""
             }
            },
            "type": "scatter3d"
           }
          ],
          "scattercarpet": [
           {
            "marker": {
             "colorbar": {
              "outlinewidth": 0,
              "ticks": ""
             }
            },
            "type": "scattercarpet"
           }
          ],
          "scattergeo": [
           {
            "marker": {
             "colorbar": {
              "outlinewidth": 0,
              "ticks": ""
             }
            },
            "type": "scattergeo"
           }
          ],
          "scattergl": [
           {
            "marker": {
             "colorbar": {
              "outlinewidth": 0,
              "ticks": ""
             }
            },
            "type": "scattergl"
           }
          ],
          "scattermap": [
           {
            "marker": {
             "colorbar": {
              "outlinewidth": 0,
              "ticks": ""
             }
            },
            "type": "scattermap"
           }
          ],
          "scattermapbox": [
           {
            "marker": {
             "colorbar": {
              "outlinewidth": 0,
              "ticks": ""
             }
            },
            "type": "scattermapbox"
           }
          ],
          "scatterpolar": [
           {
            "marker": {
             "colorbar": {
              "outlinewidth": 0,
              "ticks": ""
             }
            },
            "type": "scatterpolar"
           }
          ],
          "scatterpolargl": [
           {
            "marker": {
             "colorbar": {
              "outlinewidth": 0,
              "ticks": ""
             }
            },
            "type": "scatterpolargl"
           }
          ],
          "scatterternary": [
           {
            "marker": {
             "colorbar": {
              "outlinewidth": 0,
              "ticks": ""
             }
            },
            "type": "scatterternary"
           }
          ],
          "surface": [
           {
            "colorbar": {
             "outlinewidth": 0,
             "ticks": ""
            },
            "colorscale": [
             [
              0,
              "#0d0887"
             ],
             [
              0.1111111111111111,
              "#46039f"
             ],
             [
              0.2222222222222222,
              "#7201a8"
             ],
             [
              0.3333333333333333,
              "#9c179e"
             ],
             [
              0.4444444444444444,
              "#bd3786"
             ],
             [
              0.5555555555555556,
              "#d8576b"
             ],
             [
              0.6666666666666666,
              "#ed7953"
             ],
             [
              0.7777777777777778,
              "#fb9f3a"
             ],
             [
              0.8888888888888888,
              "#fdca26"
             ],
             [
              1,
              "#f0f921"
             ]
            ],
            "type": "surface"
           }
          ],
          "table": [
           {
            "cells": {
             "fill": {
              "color": "#EBF0F8"
             },
             "line": {
              "color": "white"
             }
            },
            "header": {
             "fill": {
              "color": "#C8D4E3"
             },
             "line": {
              "color": "white"
             }
            },
            "type": "table"
           }
          ]
         },
         "layout": {
          "annotationdefaults": {
           "arrowcolor": "#2a3f5f",
           "arrowhead": 0,
           "arrowwidth": 1
          },
          "autotypenumbers": "strict",
          "coloraxis": {
           "colorbar": {
            "outlinewidth": 0,
            "ticks": ""
           }
          },
          "colorscale": {
           "diverging": [
            [
             0,
             "#8e0152"
            ],
            [
             0.1,
             "#c51b7d"
            ],
            [
             0.2,
             "#de77ae"
            ],
            [
             0.3,
             "#f1b6da"
            ],
            [
             0.4,
             "#fde0ef"
            ],
            [
             0.5,
             "#f7f7f7"
            ],
            [
             0.6,
             "#e6f5d0"
            ],
            [
             0.7,
             "#b8e186"
            ],
            [
             0.8,
             "#7fbc41"
            ],
            [
             0.9,
             "#4d9221"
            ],
            [
             1,
             "#276419"
            ]
           ],
           "sequential": [
            [
             0,
             "#0d0887"
            ],
            [
             0.1111111111111111,
             "#46039f"
            ],
            [
             0.2222222222222222,
             "#7201a8"
            ],
            [
             0.3333333333333333,
             "#9c179e"
            ],
            [
             0.4444444444444444,
             "#bd3786"
            ],
            [
             0.5555555555555556,
             "#d8576b"
            ],
            [
             0.6666666666666666,
             "#ed7953"
            ],
            [
             0.7777777777777778,
             "#fb9f3a"
            ],
            [
             0.8888888888888888,
             "#fdca26"
            ],
            [
             1,
             "#f0f921"
            ]
           ],
           "sequentialminus": [
            [
             0,
             "#0d0887"
            ],
            [
             0.1111111111111111,
             "#46039f"
            ],
            [
             0.2222222222222222,
             "#7201a8"
            ],
            [
             0.3333333333333333,
             "#9c179e"
            ],
            [
             0.4444444444444444,
             "#bd3786"
            ],
            [
             0.5555555555555556,
             "#d8576b"
            ],
            [
             0.6666666666666666,
             "#ed7953"
            ],
            [
             0.7777777777777778,
             "#fb9f3a"
            ],
            [
             0.8888888888888888,
             "#fdca26"
            ],
            [
             1,
             "#f0f921"
            ]
           ]
          },
          "colorway": [
           "#636efa",
           "#EF553B",
           "#00cc96",
           "#ab63fa",
           "#FFA15A",
           "#19d3f3",
           "#FF6692",
           "#B6E880",
           "#FF97FF",
           "#FECB52"
          ],
          "font": {
           "color": "#2a3f5f"
          },
          "geo": {
           "bgcolor": "white",
           "lakecolor": "white",
           "landcolor": "#E5ECF6",
           "showlakes": true,
           "showland": true,
           "subunitcolor": "white"
          },
          "hoverlabel": {
           "align": "left"
          },
          "hovermode": "closest",
          "mapbox": {
           "style": "light"
          },
          "paper_bgcolor": "white",
          "plot_bgcolor": "#E5ECF6",
          "polar": {
           "angularaxis": {
            "gridcolor": "white",
            "linecolor": "white",
            "ticks": ""
           },
           "bgcolor": "#E5ECF6",
           "radialaxis": {
            "gridcolor": "white",
            "linecolor": "white",
            "ticks": ""
           }
          },
          "scene": {
           "xaxis": {
            "backgroundcolor": "#E5ECF6",
            "gridcolor": "white",
            "gridwidth": 2,
            "linecolor": "white",
            "showbackground": true,
            "ticks": "",
            "zerolinecolor": "white"
           },
           "yaxis": {
            "backgroundcolor": "#E5ECF6",
            "gridcolor": "white",
            "gridwidth": 2,
            "linecolor": "white",
            "showbackground": true,
            "ticks": "",
            "zerolinecolor": "white"
           },
           "zaxis": {
            "backgroundcolor": "#E5ECF6",
            "gridcolor": "white",
            "gridwidth": 2,
            "linecolor": "white",
            "showbackground": true,
            "ticks": "",
            "zerolinecolor": "white"
           }
          },
          "shapedefaults": {
           "line": {
            "color": "#2a3f5f"
           }
          },
          "ternary": {
           "aaxis": {
            "gridcolor": "white",
            "linecolor": "white",
            "ticks": ""
           },
           "baxis": {
            "gridcolor": "white",
            "linecolor": "white",
            "ticks": ""
           },
           "bgcolor": "#E5ECF6",
           "caxis": {
            "gridcolor": "white",
            "linecolor": "white",
            "ticks": ""
           }
          },
          "title": {
           "x": 0.05
          },
          "xaxis": {
           "automargin": true,
           "gridcolor": "white",
           "linecolor": "white",
           "ticks": "",
           "title": {
            "standoff": 15
           },
           "zerolinecolor": "white",
           "zerolinewidth": 2
          },
          "yaxis": {
           "automargin": true,
           "gridcolor": "white",
           "linecolor": "white",
           "ticks": "",
           "title": {
            "standoff": 15
           },
           "zerolinecolor": "white",
           "zerolinewidth": 2
          }
         }
        },
        "title": {
         "text": "Document Statistics by Word Count"
        },
        "xaxis": {
         "dtick": 1,
         "gridwidth": 2,
         "showticklabels": false,
         "tick0": -0.5,
         "ticks": "",
         "zeroline": false
        },
        "yaxis": {
         "autorange": "reversed",
         "dtick": 1,
         "gridwidth": 2,
         "showticklabels": false,
         "tick0": 0.5,
         "ticks": "",
         "zeroline": false
        }
       }
      }
     },
     "metadata": {},
     "output_type": "display_data"
    }
   ],
   "source": [
    "du.generate_document_statistics_by_word_count(\n",
    "    cleaned_bs_teachingstaff,\n",
    "    doc_types_to_include=[\"teaching_staff\"]\n",
    ")"
   ]
  },
  {
   "cell_type": "code",
   "execution_count": 9,
   "metadata": {},
   "outputs": [
    {
     "data": {
      "application/vnd.plotly.v1+json": {
       "config": {
        "plotlyServerURL": "https://plot.ly"
       },
       "data": [
        {
         "colorscale": [
          [
           0,
           "#00083e"
          ],
          [
           0.5,
           "#ededee"
          ],
          [
           1,
           "#ffffff"
          ]
         ],
         "hoverinfo": "none",
         "opacity": 0.75,
         "showscale": false,
         "type": "heatmap",
         "z": [
          [
           0,
           0
          ],
          [
           0.5,
           0.5
          ],
          [
           1,
           1
          ],
          [
           0.5,
           0.5
          ],
          [
           1,
           1
          ],
          [
           0.5,
           0.5
          ],
          [
           1,
           1
          ],
          [
           0.5,
           0.5
          ],
          [
           1,
           1
          ]
         ]
        }
       ],
       "layout": {
        "annotations": [
         {
          "align": "center",
          "font": {
           "color": "#ffffff"
          },
          "showarrow": false,
          "text": "<b>Metric</b>",
          "x": -0.45,
          "xanchor": "left",
          "xref": "x",
          "y": 0,
          "yref": "y"
         },
         {
          "align": "center",
          "font": {
           "color": "#ffffff"
          },
          "showarrow": false,
          "text": "<b>Value</b>",
          "x": 0.55,
          "xanchor": "left",
          "xref": "x",
          "y": 0,
          "yref": "y"
         },
         {
          "align": "center",
          "font": {
           "color": "#000000"
          },
          "showarrow": false,
          "text": "count",
          "x": -0.45,
          "xanchor": "left",
          "xref": "x",
          "y": 1,
          "yref": "y"
         },
         {
          "align": "center",
          "font": {
           "color": "#000000"
          },
          "showarrow": false,
          "text": "3.00",
          "x": 0.55,
          "xanchor": "left",
          "xref": "x",
          "y": 1,
          "yref": "y"
         },
         {
          "align": "center",
          "font": {
           "color": "#000000"
          },
          "showarrow": false,
          "text": "mean",
          "x": -0.45,
          "xanchor": "left",
          "xref": "x",
          "y": 2,
          "yref": "y"
         },
         {
          "align": "center",
          "font": {
           "color": "#000000"
          },
          "showarrow": false,
          "text": "925.00",
          "x": 0.55,
          "xanchor": "left",
          "xref": "x",
          "y": 2,
          "yref": "y"
         },
         {
          "align": "center",
          "font": {
           "color": "#000000"
          },
          "showarrow": false,
          "text": "std",
          "x": -0.45,
          "xanchor": "left",
          "xref": "x",
          "y": 3,
          "yref": "y"
         },
         {
          "align": "center",
          "font": {
           "color": "#000000"
          },
          "showarrow": false,
          "text": "81.50",
          "x": 0.55,
          "xanchor": "left",
          "xref": "x",
          "y": 3,
          "yref": "y"
         },
         {
          "align": "center",
          "font": {
           "color": "#000000"
          },
          "showarrow": false,
          "text": "min",
          "x": -0.45,
          "xanchor": "left",
          "xref": "x",
          "y": 4,
          "yref": "y"
         },
         {
          "align": "center",
          "font": {
           "color": "#000000"
          },
          "showarrow": false,
          "text": "843.00",
          "x": 0.55,
          "xanchor": "left",
          "xref": "x",
          "y": 4,
          "yref": "y"
         },
         {
          "align": "center",
          "font": {
           "color": "#000000"
          },
          "showarrow": false,
          "text": "25%",
          "x": -0.45,
          "xanchor": "left",
          "xref": "x",
          "y": 5,
          "yref": "y"
         },
         {
          "align": "center",
          "font": {
           "color": "#000000"
          },
          "showarrow": false,
          "text": "884.50",
          "x": 0.55,
          "xanchor": "left",
          "xref": "x",
          "y": 5,
          "yref": "y"
         },
         {
          "align": "center",
          "font": {
           "color": "#000000"
          },
          "showarrow": false,
          "text": "50%",
          "x": -0.45,
          "xanchor": "left",
          "xref": "x",
          "y": 6,
          "yref": "y"
         },
         {
          "align": "center",
          "font": {
           "color": "#000000"
          },
          "showarrow": false,
          "text": "926.00",
          "x": 0.55,
          "xanchor": "left",
          "xref": "x",
          "y": 6,
          "yref": "y"
         },
         {
          "align": "center",
          "font": {
           "color": "#000000"
          },
          "showarrow": false,
          "text": "75%",
          "x": -0.45,
          "xanchor": "left",
          "xref": "x",
          "y": 7,
          "yref": "y"
         },
         {
          "align": "center",
          "font": {
           "color": "#000000"
          },
          "showarrow": false,
          "text": "966.00",
          "x": 0.55,
          "xanchor": "left",
          "xref": "x",
          "y": 7,
          "yref": "y"
         },
         {
          "align": "center",
          "font": {
           "color": "#000000"
          },
          "showarrow": false,
          "text": "max",
          "x": -0.45,
          "xanchor": "left",
          "xref": "x",
          "y": 8,
          "yref": "y"
         },
         {
          "align": "center",
          "font": {
           "color": "#000000"
          },
          "showarrow": false,
          "text": "1,006.00",
          "x": 0.55,
          "xanchor": "left",
          "xref": "x",
          "y": 8,
          "yref": "y"
         }
        ],
        "height": 320,
        "margin": {
         "b": 0,
         "l": 0,
         "r": 0,
         "t": 0
        },
        "template": {
         "data": {
          "bar": [
           {
            "error_x": {
             "color": "#2a3f5f"
            },
            "error_y": {
             "color": "#2a3f5f"
            },
            "marker": {
             "line": {
              "color": "#E5ECF6",
              "width": 0.5
             },
             "pattern": {
              "fillmode": "overlay",
              "size": 10,
              "solidity": 0.2
             }
            },
            "type": "bar"
           }
          ],
          "barpolar": [
           {
            "marker": {
             "line": {
              "color": "#E5ECF6",
              "width": 0.5
             },
             "pattern": {
              "fillmode": "overlay",
              "size": 10,
              "solidity": 0.2
             }
            },
            "type": "barpolar"
           }
          ],
          "carpet": [
           {
            "aaxis": {
             "endlinecolor": "#2a3f5f",
             "gridcolor": "white",
             "linecolor": "white",
             "minorgridcolor": "white",
             "startlinecolor": "#2a3f5f"
            },
            "baxis": {
             "endlinecolor": "#2a3f5f",
             "gridcolor": "white",
             "linecolor": "white",
             "minorgridcolor": "white",
             "startlinecolor": "#2a3f5f"
            },
            "type": "carpet"
           }
          ],
          "choropleth": [
           {
            "colorbar": {
             "outlinewidth": 0,
             "ticks": ""
            },
            "type": "choropleth"
           }
          ],
          "contour": [
           {
            "colorbar": {
             "outlinewidth": 0,
             "ticks": ""
            },
            "colorscale": [
             [
              0,
              "#0d0887"
             ],
             [
              0.1111111111111111,
              "#46039f"
             ],
             [
              0.2222222222222222,
              "#7201a8"
             ],
             [
              0.3333333333333333,
              "#9c179e"
             ],
             [
              0.4444444444444444,
              "#bd3786"
             ],
             [
              0.5555555555555556,
              "#d8576b"
             ],
             [
              0.6666666666666666,
              "#ed7953"
             ],
             [
              0.7777777777777778,
              "#fb9f3a"
             ],
             [
              0.8888888888888888,
              "#fdca26"
             ],
             [
              1,
              "#f0f921"
             ]
            ],
            "type": "contour"
           }
          ],
          "contourcarpet": [
           {
            "colorbar": {
             "outlinewidth": 0,
             "ticks": ""
            },
            "type": "contourcarpet"
           }
          ],
          "heatmap": [
           {
            "colorbar": {
             "outlinewidth": 0,
             "ticks": ""
            },
            "colorscale": [
             [
              0,
              "#0d0887"
             ],
             [
              0.1111111111111111,
              "#46039f"
             ],
             [
              0.2222222222222222,
              "#7201a8"
             ],
             [
              0.3333333333333333,
              "#9c179e"
             ],
             [
              0.4444444444444444,
              "#bd3786"
             ],
             [
              0.5555555555555556,
              "#d8576b"
             ],
             [
              0.6666666666666666,
              "#ed7953"
             ],
             [
              0.7777777777777778,
              "#fb9f3a"
             ],
             [
              0.8888888888888888,
              "#fdca26"
             ],
             [
              1,
              "#f0f921"
             ]
            ],
            "type": "heatmap"
           }
          ],
          "histogram": [
           {
            "marker": {
             "pattern": {
              "fillmode": "overlay",
              "size": 10,
              "solidity": 0.2
             }
            },
            "type": "histogram"
           }
          ],
          "histogram2d": [
           {
            "colorbar": {
             "outlinewidth": 0,
             "ticks": ""
            },
            "colorscale": [
             [
              0,
              "#0d0887"
             ],
             [
              0.1111111111111111,
              "#46039f"
             ],
             [
              0.2222222222222222,
              "#7201a8"
             ],
             [
              0.3333333333333333,
              "#9c179e"
             ],
             [
              0.4444444444444444,
              "#bd3786"
             ],
             [
              0.5555555555555556,
              "#d8576b"
             ],
             [
              0.6666666666666666,
              "#ed7953"
             ],
             [
              0.7777777777777778,
              "#fb9f3a"
             ],
             [
              0.8888888888888888,
              "#fdca26"
             ],
             [
              1,
              "#f0f921"
             ]
            ],
            "type": "histogram2d"
           }
          ],
          "histogram2dcontour": [
           {
            "colorbar": {
             "outlinewidth": 0,
             "ticks": ""
            },
            "colorscale": [
             [
              0,
              "#0d0887"
             ],
             [
              0.1111111111111111,
              "#46039f"
             ],
             [
              0.2222222222222222,
              "#7201a8"
             ],
             [
              0.3333333333333333,
              "#9c179e"
             ],
             [
              0.4444444444444444,
              "#bd3786"
             ],
             [
              0.5555555555555556,
              "#d8576b"
             ],
             [
              0.6666666666666666,
              "#ed7953"
             ],
             [
              0.7777777777777778,
              "#fb9f3a"
             ],
             [
              0.8888888888888888,
              "#fdca26"
             ],
             [
              1,
              "#f0f921"
             ]
            ],
            "type": "histogram2dcontour"
           }
          ],
          "mesh3d": [
           {
            "colorbar": {
             "outlinewidth": 0,
             "ticks": ""
            },
            "type": "mesh3d"
           }
          ],
          "parcoords": [
           {
            "line": {
             "colorbar": {
              "outlinewidth": 0,
              "ticks": ""
             }
            },
            "type": "parcoords"
           }
          ],
          "pie": [
           {
            "automargin": true,
            "type": "pie"
           }
          ],
          "scatter": [
           {
            "fillpattern": {
             "fillmode": "overlay",
             "size": 10,
             "solidity": 0.2
            },
            "type": "scatter"
           }
          ],
          "scatter3d": [
           {
            "line": {
             "colorbar": {
              "outlinewidth": 0,
              "ticks": ""
             }
            },
            "marker": {
             "colorbar": {
              "outlinewidth": 0,
              "ticks": ""
             }
            },
            "type": "scatter3d"
           }
          ],
          "scattercarpet": [
           {
            "marker": {
             "colorbar": {
              "outlinewidth": 0,
              "ticks": ""
             }
            },
            "type": "scattercarpet"
           }
          ],
          "scattergeo": [
           {
            "marker": {
             "colorbar": {
              "outlinewidth": 0,
              "ticks": ""
             }
            },
            "type": "scattergeo"
           }
          ],
          "scattergl": [
           {
            "marker": {
             "colorbar": {
              "outlinewidth": 0,
              "ticks": ""
             }
            },
            "type": "scattergl"
           }
          ],
          "scattermap": [
           {
            "marker": {
             "colorbar": {
              "outlinewidth": 0,
              "ticks": ""
             }
            },
            "type": "scattermap"
           }
          ],
          "scattermapbox": [
           {
            "marker": {
             "colorbar": {
              "outlinewidth": 0,
              "ticks": ""
             }
            },
            "type": "scattermapbox"
           }
          ],
          "scatterpolar": [
           {
            "marker": {
             "colorbar": {
              "outlinewidth": 0,
              "ticks": ""
             }
            },
            "type": "scatterpolar"
           }
          ],
          "scatterpolargl": [
           {
            "marker": {
             "colorbar": {
              "outlinewidth": 0,
              "ticks": ""
             }
            },
            "type": "scatterpolargl"
           }
          ],
          "scatterternary": [
           {
            "marker": {
             "colorbar": {
              "outlinewidth": 0,
              "ticks": ""
             }
            },
            "type": "scatterternary"
           }
          ],
          "surface": [
           {
            "colorbar": {
             "outlinewidth": 0,
             "ticks": ""
            },
            "colorscale": [
             [
              0,
              "#0d0887"
             ],
             [
              0.1111111111111111,
              "#46039f"
             ],
             [
              0.2222222222222222,
              "#7201a8"
             ],
             [
              0.3333333333333333,
              "#9c179e"
             ],
             [
              0.4444444444444444,
              "#bd3786"
             ],
             [
              0.5555555555555556,
              "#d8576b"
             ],
             [
              0.6666666666666666,
              "#ed7953"
             ],
             [
              0.7777777777777778,
              "#fb9f3a"
             ],
             [
              0.8888888888888888,
              "#fdca26"
             ],
             [
              1,
              "#f0f921"
             ]
            ],
            "type": "surface"
           }
          ],
          "table": [
           {
            "cells": {
             "fill": {
              "color": "#EBF0F8"
             },
             "line": {
              "color": "white"
             }
            },
            "header": {
             "fill": {
              "color": "#C8D4E3"
             },
             "line": {
              "color": "white"
             }
            },
            "type": "table"
           }
          ]
         },
         "layout": {
          "annotationdefaults": {
           "arrowcolor": "#2a3f5f",
           "arrowhead": 0,
           "arrowwidth": 1
          },
          "autotypenumbers": "strict",
          "coloraxis": {
           "colorbar": {
            "outlinewidth": 0,
            "ticks": ""
           }
          },
          "colorscale": {
           "diverging": [
            [
             0,
             "#8e0152"
            ],
            [
             0.1,
             "#c51b7d"
            ],
            [
             0.2,
             "#de77ae"
            ],
            [
             0.3,
             "#f1b6da"
            ],
            [
             0.4,
             "#fde0ef"
            ],
            [
             0.5,
             "#f7f7f7"
            ],
            [
             0.6,
             "#e6f5d0"
            ],
            [
             0.7,
             "#b8e186"
            ],
            [
             0.8,
             "#7fbc41"
            ],
            [
             0.9,
             "#4d9221"
            ],
            [
             1,
             "#276419"
            ]
           ],
           "sequential": [
            [
             0,
             "#0d0887"
            ],
            [
             0.1111111111111111,
             "#46039f"
            ],
            [
             0.2222222222222222,
             "#7201a8"
            ],
            [
             0.3333333333333333,
             "#9c179e"
            ],
            [
             0.4444444444444444,
             "#bd3786"
            ],
            [
             0.5555555555555556,
             "#d8576b"
            ],
            [
             0.6666666666666666,
             "#ed7953"
            ],
            [
             0.7777777777777778,
             "#fb9f3a"
            ],
            [
             0.8888888888888888,
             "#fdca26"
            ],
            [
             1,
             "#f0f921"
            ]
           ],
           "sequentialminus": [
            [
             0,
             "#0d0887"
            ],
            [
             0.1111111111111111,
             "#46039f"
            ],
            [
             0.2222222222222222,
             "#7201a8"
            ],
            [
             0.3333333333333333,
             "#9c179e"
            ],
            [
             0.4444444444444444,
             "#bd3786"
            ],
            [
             0.5555555555555556,
             "#d8576b"
            ],
            [
             0.6666666666666666,
             "#ed7953"
            ],
            [
             0.7777777777777778,
             "#fb9f3a"
            ],
            [
             0.8888888888888888,
             "#fdca26"
            ],
            [
             1,
             "#f0f921"
            ]
           ]
          },
          "colorway": [
           "#636efa",
           "#EF553B",
           "#00cc96",
           "#ab63fa",
           "#FFA15A",
           "#19d3f3",
           "#FF6692",
           "#B6E880",
           "#FF97FF",
           "#FECB52"
          ],
          "font": {
           "color": "#2a3f5f"
          },
          "geo": {
           "bgcolor": "white",
           "lakecolor": "white",
           "landcolor": "#E5ECF6",
           "showlakes": true,
           "showland": true,
           "subunitcolor": "white"
          },
          "hoverlabel": {
           "align": "left"
          },
          "hovermode": "closest",
          "mapbox": {
           "style": "light"
          },
          "paper_bgcolor": "white",
          "plot_bgcolor": "#E5ECF6",
          "polar": {
           "angularaxis": {
            "gridcolor": "white",
            "linecolor": "white",
            "ticks": ""
           },
           "bgcolor": "#E5ECF6",
           "radialaxis": {
            "gridcolor": "white",
            "linecolor": "white",
            "ticks": ""
           }
          },
          "scene": {
           "xaxis": {
            "backgroundcolor": "#E5ECF6",
            "gridcolor": "white",
            "gridwidth": 2,
            "linecolor": "white",
            "showbackground": true,
            "ticks": "",
            "zerolinecolor": "white"
           },
           "yaxis": {
            "backgroundcolor": "#E5ECF6",
            "gridcolor": "white",
            "gridwidth": 2,
            "linecolor": "white",
            "showbackground": true,
            "ticks": "",
            "zerolinecolor": "white"
           },
           "zaxis": {
            "backgroundcolor": "#E5ECF6",
            "gridcolor": "white",
            "gridwidth": 2,
            "linecolor": "white",
            "showbackground": true,
            "ticks": "",
            "zerolinecolor": "white"
           }
          },
          "shapedefaults": {
           "line": {
            "color": "#2a3f5f"
           }
          },
          "ternary": {
           "aaxis": {
            "gridcolor": "white",
            "linecolor": "white",
            "ticks": ""
           },
           "baxis": {
            "gridcolor": "white",
            "linecolor": "white",
            "ticks": ""
           },
           "bgcolor": "#E5ECF6",
           "caxis": {
            "gridcolor": "white",
            "linecolor": "white",
            "ticks": ""
           }
          },
          "title": {
           "x": 0.05
          },
          "xaxis": {
           "automargin": true,
           "gridcolor": "white",
           "linecolor": "white",
           "ticks": "",
           "title": {
            "standoff": 15
           },
           "zerolinecolor": "white",
           "zerolinewidth": 2
          },
          "yaxis": {
           "automargin": true,
           "gridcolor": "white",
           "linecolor": "white",
           "ticks": "",
           "title": {
            "standoff": 15
           },
           "zerolinecolor": "white",
           "zerolinewidth": 2
          }
         }
        },
        "title": {
         "text": "Token-Based Document Statistics"
        },
        "xaxis": {
         "dtick": 1,
         "gridwidth": 2,
         "showticklabels": false,
         "tick0": -0.5,
         "ticks": "",
         "zeroline": false
        },
        "yaxis": {
         "autorange": "reversed",
         "dtick": 1,
         "gridwidth": 2,
         "showticklabels": false,
         "tick0": 0.5,
         "ticks": "",
         "zeroline": false
        }
       }
      }
     },
     "metadata": {},
     "output_type": "display_data"
    }
   ],
   "source": [
    "du.generate_document_statistics_by_tokens(\n",
    "    cleaned_bs_teachingstaff,\n",
    "    doc_types_to_include=[\"teaching_staff\"]\n",
    ")"
   ]
  },
  {
   "cell_type": "code",
   "execution_count": 10,
   "metadata": {},
   "outputs": [
    {
     "data": {
      "application/vnd.plotly.v1+json": {
       "config": {
        "plotlyServerURL": "https://plot.ly"
       },
       "data": [
        {
         "hovertemplate": "Word=%{x}<br>Frequency=%{marker.color}<br>text=%{text}<extra></extra>",
         "legendgroup": "",
         "marker": {
          "color": {
           "bdata": "SkI4OCscEhEREQsKCQkICAgGBgY=",
           "dtype": "i1"
          },
          "coloraxis": "coloraxis",
          "pattern": {
           "shape": ""
          }
         },
         "name": "",
         "orientation": "v",
         "showlegend": false,
         "text": [
          "74 (7.91%)",
          "66 (7.06%)",
          "56 (5.99%)",
          "56 (5.99%)",
          "43 (4.60%)",
          "28 (2.99%)",
          "18 (1.93%)",
          "17 (1.82%)",
          "17 (1.82%)",
          "17 (1.82%)",
          "11 (1.18%)",
          "10 (1.07%)",
          "9 (0.96%)",
          "9 (0.96%)",
          "8 (0.86%)",
          "8 (0.86%)",
          "8 (0.86%)",
          "6 (0.64%)",
          "6 (0.64%)",
          "6 (0.64%)"
         ],
         "textposition": "outside",
         "type": "bar",
         "x": [
          "professor",
          "assistant",
          "adjunct",
          "lecturer",
          "invited",
          "teaching",
          "santos",
          "of",
          "the",
          "practice",
          "fernandes",
          "full",
          "cristina",
          "pedro",
          "associate",
          "neves",
          "rodrigues",
          "staff",
          "carolina",
          "maria"
         ],
         "xaxis": "x",
         "y": {
          "bdata": "SkI4OCscEhEREQsKCQkICAgGBgY=",
          "dtype": "i1"
         },
         "yaxis": "y"
        }
       ],
       "layout": {
        "bargap": 0.2,
        "barmode": "relative",
        "coloraxis": {
         "colorbar": {
          "title": {
           "text": "Frequency"
          }
         },
         "colorscale": [
          [
           0,
           "rgb(247,251,255)"
          ],
          [
           0.125,
           "rgb(222,235,247)"
          ],
          [
           0.25,
           "rgb(198,219,239)"
          ],
          [
           0.375,
           "rgb(158,202,225)"
          ],
          [
           0.5,
           "rgb(107,174,214)"
          ],
          [
           0.625,
           "rgb(66,146,198)"
          ],
          [
           0.75,
           "rgb(33,113,181)"
          ],
          [
           0.875,
           "rgb(8,81,156)"
          ],
          [
           1,
           "rgb(8,48,107)"
          ]
         ],
         "showscale": false
        },
        "legend": {
         "tracegroupgap": 0
        },
        "template": {
         "data": {
          "bar": [
           {
            "error_x": {
             "color": "#2a3f5f"
            },
            "error_y": {
             "color": "#2a3f5f"
            },
            "marker": {
             "line": {
              "color": "#E5ECF6",
              "width": 0.5
             },
             "pattern": {
              "fillmode": "overlay",
              "size": 10,
              "solidity": 0.2
             }
            },
            "type": "bar"
           }
          ],
          "barpolar": [
           {
            "marker": {
             "line": {
              "color": "#E5ECF6",
              "width": 0.5
             },
             "pattern": {
              "fillmode": "overlay",
              "size": 10,
              "solidity": 0.2
             }
            },
            "type": "barpolar"
           }
          ],
          "carpet": [
           {
            "aaxis": {
             "endlinecolor": "#2a3f5f",
             "gridcolor": "white",
             "linecolor": "white",
             "minorgridcolor": "white",
             "startlinecolor": "#2a3f5f"
            },
            "baxis": {
             "endlinecolor": "#2a3f5f",
             "gridcolor": "white",
             "linecolor": "white",
             "minorgridcolor": "white",
             "startlinecolor": "#2a3f5f"
            },
            "type": "carpet"
           }
          ],
          "choropleth": [
           {
            "colorbar": {
             "outlinewidth": 0,
             "ticks": ""
            },
            "type": "choropleth"
           }
          ],
          "contour": [
           {
            "colorbar": {
             "outlinewidth": 0,
             "ticks": ""
            },
            "colorscale": [
             [
              0,
              "#0d0887"
             ],
             [
              0.1111111111111111,
              "#46039f"
             ],
             [
              0.2222222222222222,
              "#7201a8"
             ],
             [
              0.3333333333333333,
              "#9c179e"
             ],
             [
              0.4444444444444444,
              "#bd3786"
             ],
             [
              0.5555555555555556,
              "#d8576b"
             ],
             [
              0.6666666666666666,
              "#ed7953"
             ],
             [
              0.7777777777777778,
              "#fb9f3a"
             ],
             [
              0.8888888888888888,
              "#fdca26"
             ],
             [
              1,
              "#f0f921"
             ]
            ],
            "type": "contour"
           }
          ],
          "contourcarpet": [
           {
            "colorbar": {
             "outlinewidth": 0,
             "ticks": ""
            },
            "type": "contourcarpet"
           }
          ],
          "heatmap": [
           {
            "colorbar": {
             "outlinewidth": 0,
             "ticks": ""
            },
            "colorscale": [
             [
              0,
              "#0d0887"
             ],
             [
              0.1111111111111111,
              "#46039f"
             ],
             [
              0.2222222222222222,
              "#7201a8"
             ],
             [
              0.3333333333333333,
              "#9c179e"
             ],
             [
              0.4444444444444444,
              "#bd3786"
             ],
             [
              0.5555555555555556,
              "#d8576b"
             ],
             [
              0.6666666666666666,
              "#ed7953"
             ],
             [
              0.7777777777777778,
              "#fb9f3a"
             ],
             [
              0.8888888888888888,
              "#fdca26"
             ],
             [
              1,
              "#f0f921"
             ]
            ],
            "type": "heatmap"
           }
          ],
          "histogram": [
           {
            "marker": {
             "pattern": {
              "fillmode": "overlay",
              "size": 10,
              "solidity": 0.2
             }
            },
            "type": "histogram"
           }
          ],
          "histogram2d": [
           {
            "colorbar": {
             "outlinewidth": 0,
             "ticks": ""
            },
            "colorscale": [
             [
              0,
              "#0d0887"
             ],
             [
              0.1111111111111111,
              "#46039f"
             ],
             [
              0.2222222222222222,
              "#7201a8"
             ],
             [
              0.3333333333333333,
              "#9c179e"
             ],
             [
              0.4444444444444444,
              "#bd3786"
             ],
             [
              0.5555555555555556,
              "#d8576b"
             ],
             [
              0.6666666666666666,
              "#ed7953"
             ],
             [
              0.7777777777777778,
              "#fb9f3a"
             ],
             [
              0.8888888888888888,
              "#fdca26"
             ],
             [
              1,
              "#f0f921"
             ]
            ],
            "type": "histogram2d"
           }
          ],
          "histogram2dcontour": [
           {
            "colorbar": {
             "outlinewidth": 0,
             "ticks": ""
            },
            "colorscale": [
             [
              0,
              "#0d0887"
             ],
             [
              0.1111111111111111,
              "#46039f"
             ],
             [
              0.2222222222222222,
              "#7201a8"
             ],
             [
              0.3333333333333333,
              "#9c179e"
             ],
             [
              0.4444444444444444,
              "#bd3786"
             ],
             [
              0.5555555555555556,
              "#d8576b"
             ],
             [
              0.6666666666666666,
              "#ed7953"
             ],
             [
              0.7777777777777778,
              "#fb9f3a"
             ],
             [
              0.8888888888888888,
              "#fdca26"
             ],
             [
              1,
              "#f0f921"
             ]
            ],
            "type": "histogram2dcontour"
           }
          ],
          "mesh3d": [
           {
            "colorbar": {
             "outlinewidth": 0,
             "ticks": ""
            },
            "type": "mesh3d"
           }
          ],
          "parcoords": [
           {
            "line": {
             "colorbar": {
              "outlinewidth": 0,
              "ticks": ""
             }
            },
            "type": "parcoords"
           }
          ],
          "pie": [
           {
            "automargin": true,
            "type": "pie"
           }
          ],
          "scatter": [
           {
            "fillpattern": {
             "fillmode": "overlay",
             "size": 10,
             "solidity": 0.2
            },
            "type": "scatter"
           }
          ],
          "scatter3d": [
           {
            "line": {
             "colorbar": {
              "outlinewidth": 0,
              "ticks": ""
             }
            },
            "marker": {
             "colorbar": {
              "outlinewidth": 0,
              "ticks": ""
             }
            },
            "type": "scatter3d"
           }
          ],
          "scattercarpet": [
           {
            "marker": {
             "colorbar": {
              "outlinewidth": 0,
              "ticks": ""
             }
            },
            "type": "scattercarpet"
           }
          ],
          "scattergeo": [
           {
            "marker": {
             "colorbar": {
              "outlinewidth": 0,
              "ticks": ""
             }
            },
            "type": "scattergeo"
           }
          ],
          "scattergl": [
           {
            "marker": {
             "colorbar": {
              "outlinewidth": 0,
              "ticks": ""
             }
            },
            "type": "scattergl"
           }
          ],
          "scattermap": [
           {
            "marker": {
             "colorbar": {
              "outlinewidth": 0,
              "ticks": ""
             }
            },
            "type": "scattermap"
           }
          ],
          "scattermapbox": [
           {
            "marker": {
             "colorbar": {
              "outlinewidth": 0,
              "ticks": ""
             }
            },
            "type": "scattermapbox"
           }
          ],
          "scatterpolar": [
           {
            "marker": {
             "colorbar": {
              "outlinewidth": 0,
              "ticks": ""
             }
            },
            "type": "scatterpolar"
           }
          ],
          "scatterpolargl": [
           {
            "marker": {
             "colorbar": {
              "outlinewidth": 0,
              "ticks": ""
             }
            },
            "type": "scatterpolargl"
           }
          ],
          "scatterternary": [
           {
            "marker": {
             "colorbar": {
              "outlinewidth": 0,
              "ticks": ""
             }
            },
            "type": "scatterternary"
           }
          ],
          "surface": [
           {
            "colorbar": {
             "outlinewidth": 0,
             "ticks": ""
            },
            "colorscale": [
             [
              0,
              "#0d0887"
             ],
             [
              0.1111111111111111,
              "#46039f"
             ],
             [
              0.2222222222222222,
              "#7201a8"
             ],
             [
              0.3333333333333333,
              "#9c179e"
             ],
             [
              0.4444444444444444,
              "#bd3786"
             ],
             [
              0.5555555555555556,
              "#d8576b"
             ],
             [
              0.6666666666666666,
              "#ed7953"
             ],
             [
              0.7777777777777778,
              "#fb9f3a"
             ],
             [
              0.8888888888888888,
              "#fdca26"
             ],
             [
              1,
              "#f0f921"
             ]
            ],
            "type": "surface"
           }
          ],
          "table": [
           {
            "cells": {
             "fill": {
              "color": "#EBF0F8"
             },
             "line": {
              "color": "white"
             }
            },
            "header": {
             "fill": {
              "color": "#C8D4E3"
             },
             "line": {
              "color": "white"
             }
            },
            "type": "table"
           }
          ]
         },
         "layout": {
          "annotationdefaults": {
           "arrowcolor": "#2a3f5f",
           "arrowhead": 0,
           "arrowwidth": 1
          },
          "autotypenumbers": "strict",
          "coloraxis": {
           "colorbar": {
            "outlinewidth": 0,
            "ticks": ""
           }
          },
          "colorscale": {
           "diverging": [
            [
             0,
             "#8e0152"
            ],
            [
             0.1,
             "#c51b7d"
            ],
            [
             0.2,
             "#de77ae"
            ],
            [
             0.3,
             "#f1b6da"
            ],
            [
             0.4,
             "#fde0ef"
            ],
            [
             0.5,
             "#f7f7f7"
            ],
            [
             0.6,
             "#e6f5d0"
            ],
            [
             0.7,
             "#b8e186"
            ],
            [
             0.8,
             "#7fbc41"
            ],
            [
             0.9,
             "#4d9221"
            ],
            [
             1,
             "#276419"
            ]
           ],
           "sequential": [
            [
             0,
             "#0d0887"
            ],
            [
             0.1111111111111111,
             "#46039f"
            ],
            [
             0.2222222222222222,
             "#7201a8"
            ],
            [
             0.3333333333333333,
             "#9c179e"
            ],
            [
             0.4444444444444444,
             "#bd3786"
            ],
            [
             0.5555555555555556,
             "#d8576b"
            ],
            [
             0.6666666666666666,
             "#ed7953"
            ],
            [
             0.7777777777777778,
             "#fb9f3a"
            ],
            [
             0.8888888888888888,
             "#fdca26"
            ],
            [
             1,
             "#f0f921"
            ]
           ],
           "sequentialminus": [
            [
             0,
             "#0d0887"
            ],
            [
             0.1111111111111111,
             "#46039f"
            ],
            [
             0.2222222222222222,
             "#7201a8"
            ],
            [
             0.3333333333333333,
             "#9c179e"
            ],
            [
             0.4444444444444444,
             "#bd3786"
            ],
            [
             0.5555555555555556,
             "#d8576b"
            ],
            [
             0.6666666666666666,
             "#ed7953"
            ],
            [
             0.7777777777777778,
             "#fb9f3a"
            ],
            [
             0.8888888888888888,
             "#fdca26"
            ],
            [
             1,
             "#f0f921"
            ]
           ]
          },
          "colorway": [
           "#636efa",
           "#EF553B",
           "#00cc96",
           "#ab63fa",
           "#FFA15A",
           "#19d3f3",
           "#FF6692",
           "#B6E880",
           "#FF97FF",
           "#FECB52"
          ],
          "font": {
           "color": "#2a3f5f"
          },
          "geo": {
           "bgcolor": "white",
           "lakecolor": "white",
           "landcolor": "#E5ECF6",
           "showlakes": true,
           "showland": true,
           "subunitcolor": "white"
          },
          "hoverlabel": {
           "align": "left"
          },
          "hovermode": "closest",
          "mapbox": {
           "style": "light"
          },
          "paper_bgcolor": "white",
          "plot_bgcolor": "#E5ECF6",
          "polar": {
           "angularaxis": {
            "gridcolor": "white",
            "linecolor": "white",
            "ticks": ""
           },
           "bgcolor": "#E5ECF6",
           "radialaxis": {
            "gridcolor": "white",
            "linecolor": "white",
            "ticks": ""
           }
          },
          "scene": {
           "xaxis": {
            "backgroundcolor": "#E5ECF6",
            "gridcolor": "white",
            "gridwidth": 2,
            "linecolor": "white",
            "showbackground": true,
            "ticks": "",
            "zerolinecolor": "white"
           },
           "yaxis": {
            "backgroundcolor": "#E5ECF6",
            "gridcolor": "white",
            "gridwidth": 2,
            "linecolor": "white",
            "showbackground": true,
            "ticks": "",
            "zerolinecolor": "white"
           },
           "zaxis": {
            "backgroundcolor": "#E5ECF6",
            "gridcolor": "white",
            "gridwidth": 2,
            "linecolor": "white",
            "showbackground": true,
            "ticks": "",
            "zerolinecolor": "white"
           }
          },
          "shapedefaults": {
           "line": {
            "color": "#2a3f5f"
           }
          },
          "ternary": {
           "aaxis": {
            "gridcolor": "white",
            "linecolor": "white",
            "ticks": ""
           },
           "baxis": {
            "gridcolor": "white",
            "linecolor": "white",
            "ticks": ""
           },
           "bgcolor": "#E5ECF6",
           "caxis": {
            "gridcolor": "white",
            "linecolor": "white",
            "ticks": ""
           }
          },
          "title": {
           "x": 0.05
          },
          "xaxis": {
           "automargin": true,
           "gridcolor": "white",
           "linecolor": "white",
           "ticks": "",
           "title": {
            "standoff": 15
           },
           "zerolinecolor": "white",
           "zerolinewidth": 2
          },
          "yaxis": {
           "automargin": true,
           "gridcolor": "white",
           "linecolor": "white",
           "ticks": "",
           "title": {
            "standoff": 15
           },
           "zerolinecolor": "white",
           "zerolinewidth": 2
          }
         }
        },
        "title": {
         "text": "Top 20 Most Frequent Words"
        },
        "xaxis": {
         "anchor": "y",
         "domain": [
          0,
          1
         ],
         "title": {
          "text": "Words"
         }
        },
        "yaxis": {
         "anchor": "x",
         "domain": [
          0,
          1
         ],
         "title": {
          "text": "Frequency"
         }
        }
       }
      }
     },
     "metadata": {},
     "output_type": "display_data"
    }
   ],
   "source": [
    "du.bar_plot_word_frequency(\n",
    "    cleaned_bs_teachingstaff,\n",
    "    doc_types_to_include=[\"teaching_staff\"],\n",
    "    top_n=20\n",
    ")"
   ]
  },
  {
   "cell_type": "code",
   "execution_count": 12,
   "metadata": {},
   "outputs": [
    {
     "data": {
      "application/vnd.plotly.v1+json": {
       "config": {
        "plotlyServerURL": "https://plot.ly"
       },
       "data": [
        {
         "hovertemplate": "N-Gram=%{x}<br>Frequency=%{marker.color}<br>text=%{text}<extra></extra>",
         "legendgroup": "",
         "marker": {
          "color": {
           "bdata": "OCcWFhEREREKCAcGBgYGBQUFBQQ=",
           "dtype": "i1"
          },
          "coloraxis": "coloraxis",
          "pattern": {
           "shape": ""
          }
         },
         "name": "",
         "orientation": "v",
         "showlegend": false,
         "text": [
          "56 (6.01%)",
          "39 (4.18%)",
          "22 (2.36%)",
          "22 (2.36%)",
          "17 (1.82%)",
          "17 (1.82%)",
          "17 (1.82%)",
          "17 (1.82%)",
          "10 (1.07%)",
          "8 (0.86%)",
          "7 (0.75%)",
          "6 (0.64%)",
          "6 (0.64%)",
          "6 (0.64%)",
          "6 (0.64%)",
          "5 (0.54%)",
          "5 (0.54%)",
          "5 (0.54%)",
          "5 (0.54%)",
          "4 (0.43%)"
         ],
         "textposition": "outside",
         "type": "bar",
         "x": [
          "adjunct lecturer",
          "assistant professor",
          "invited teaching",
          "teaching assistant",
          "invited assistant",
          "professor of",
          "of the",
          "the practice",
          "full professor",
          "associate professor",
          "rodrigues adjunct",
          "teaching staff",
          "santos assistant",
          "fernandes invited",
          "dos santos",
          "neves assistant",
          "research assistant",
          "fernandes adjunct",
          "pereira adjunct",
          "silva adjunct"
         ],
         "xaxis": "x",
         "y": {
          "bdata": "OCcWFhEREREKCAcGBgYGBQUFBQQ=",
          "dtype": "i1"
         },
         "yaxis": "y"
        }
       ],
       "layout": {
        "bargap": 0.2,
        "barmode": "relative",
        "coloraxis": {
         "colorbar": {
          "title": {
           "text": "Frequency"
          }
         },
         "colorscale": [
          [
           0,
           "rgb(247,251,255)"
          ],
          [
           0.125,
           "rgb(222,235,247)"
          ],
          [
           0.25,
           "rgb(198,219,239)"
          ],
          [
           0.375,
           "rgb(158,202,225)"
          ],
          [
           0.5,
           "rgb(107,174,214)"
          ],
          [
           0.625,
           "rgb(66,146,198)"
          ],
          [
           0.75,
           "rgb(33,113,181)"
          ],
          [
           0.875,
           "rgb(8,81,156)"
          ],
          [
           1,
           "rgb(8,48,107)"
          ]
         ],
         "showscale": false
        },
        "legend": {
         "tracegroupgap": 0
        },
        "template": {
         "data": {
          "bar": [
           {
            "error_x": {
             "color": "#2a3f5f"
            },
            "error_y": {
             "color": "#2a3f5f"
            },
            "marker": {
             "line": {
              "color": "#E5ECF6",
              "width": 0.5
             },
             "pattern": {
              "fillmode": "overlay",
              "size": 10,
              "solidity": 0.2
             }
            },
            "type": "bar"
           }
          ],
          "barpolar": [
           {
            "marker": {
             "line": {
              "color": "#E5ECF6",
              "width": 0.5
             },
             "pattern": {
              "fillmode": "overlay",
              "size": 10,
              "solidity": 0.2
             }
            },
            "type": "barpolar"
           }
          ],
          "carpet": [
           {
            "aaxis": {
             "endlinecolor": "#2a3f5f",
             "gridcolor": "white",
             "linecolor": "white",
             "minorgridcolor": "white",
             "startlinecolor": "#2a3f5f"
            },
            "baxis": {
             "endlinecolor": "#2a3f5f",
             "gridcolor": "white",
             "linecolor": "white",
             "minorgridcolor": "white",
             "startlinecolor": "#2a3f5f"
            },
            "type": "carpet"
           }
          ],
          "choropleth": [
           {
            "colorbar": {
             "outlinewidth": 0,
             "ticks": ""
            },
            "type": "choropleth"
           }
          ],
          "contour": [
           {
            "colorbar": {
             "outlinewidth": 0,
             "ticks": ""
            },
            "colorscale": [
             [
              0,
              "#0d0887"
             ],
             [
              0.1111111111111111,
              "#46039f"
             ],
             [
              0.2222222222222222,
              "#7201a8"
             ],
             [
              0.3333333333333333,
              "#9c179e"
             ],
             [
              0.4444444444444444,
              "#bd3786"
             ],
             [
              0.5555555555555556,
              "#d8576b"
             ],
             [
              0.6666666666666666,
              "#ed7953"
             ],
             [
              0.7777777777777778,
              "#fb9f3a"
             ],
             [
              0.8888888888888888,
              "#fdca26"
             ],
             [
              1,
              "#f0f921"
             ]
            ],
            "type": "contour"
           }
          ],
          "contourcarpet": [
           {
            "colorbar": {
             "outlinewidth": 0,
             "ticks": ""
            },
            "type": "contourcarpet"
           }
          ],
          "heatmap": [
           {
            "colorbar": {
             "outlinewidth": 0,
             "ticks": ""
            },
            "colorscale": [
             [
              0,
              "#0d0887"
             ],
             [
              0.1111111111111111,
              "#46039f"
             ],
             [
              0.2222222222222222,
              "#7201a8"
             ],
             [
              0.3333333333333333,
              "#9c179e"
             ],
             [
              0.4444444444444444,
              "#bd3786"
             ],
             [
              0.5555555555555556,
              "#d8576b"
             ],
             [
              0.6666666666666666,
              "#ed7953"
             ],
             [
              0.7777777777777778,
              "#fb9f3a"
             ],
             [
              0.8888888888888888,
              "#fdca26"
             ],
             [
              1,
              "#f0f921"
             ]
            ],
            "type": "heatmap"
           }
          ],
          "histogram": [
           {
            "marker": {
             "pattern": {
              "fillmode": "overlay",
              "size": 10,
              "solidity": 0.2
             }
            },
            "type": "histogram"
           }
          ],
          "histogram2d": [
           {
            "colorbar": {
             "outlinewidth": 0,
             "ticks": ""
            },
            "colorscale": [
             [
              0,
              "#0d0887"
             ],
             [
              0.1111111111111111,
              "#46039f"
             ],
             [
              0.2222222222222222,
              "#7201a8"
             ],
             [
              0.3333333333333333,
              "#9c179e"
             ],
             [
              0.4444444444444444,
              "#bd3786"
             ],
             [
              0.5555555555555556,
              "#d8576b"
             ],
             [
              0.6666666666666666,
              "#ed7953"
             ],
             [
              0.7777777777777778,
              "#fb9f3a"
             ],
             [
              0.8888888888888888,
              "#fdca26"
             ],
             [
              1,
              "#f0f921"
             ]
            ],
            "type": "histogram2d"
           }
          ],
          "histogram2dcontour": [
           {
            "colorbar": {
             "outlinewidth": 0,
             "ticks": ""
            },
            "colorscale": [
             [
              0,
              "#0d0887"
             ],
             [
              0.1111111111111111,
              "#46039f"
             ],
             [
              0.2222222222222222,
              "#7201a8"
             ],
             [
              0.3333333333333333,
              "#9c179e"
             ],
             [
              0.4444444444444444,
              "#bd3786"
             ],
             [
              0.5555555555555556,
              "#d8576b"
             ],
             [
              0.6666666666666666,
              "#ed7953"
             ],
             [
              0.7777777777777778,
              "#fb9f3a"
             ],
             [
              0.8888888888888888,
              "#fdca26"
             ],
             [
              1,
              "#f0f921"
             ]
            ],
            "type": "histogram2dcontour"
           }
          ],
          "mesh3d": [
           {
            "colorbar": {
             "outlinewidth": 0,
             "ticks": ""
            },
            "type": "mesh3d"
           }
          ],
          "parcoords": [
           {
            "line": {
             "colorbar": {
              "outlinewidth": 0,
              "ticks": ""
             }
            },
            "type": "parcoords"
           }
          ],
          "pie": [
           {
            "automargin": true,
            "type": "pie"
           }
          ],
          "scatter": [
           {
            "fillpattern": {
             "fillmode": "overlay",
             "size": 10,
             "solidity": 0.2
            },
            "type": "scatter"
           }
          ],
          "scatter3d": [
           {
            "line": {
             "colorbar": {
              "outlinewidth": 0,
              "ticks": ""
             }
            },
            "marker": {
             "colorbar": {
              "outlinewidth": 0,
              "ticks": ""
             }
            },
            "type": "scatter3d"
           }
          ],
          "scattercarpet": [
           {
            "marker": {
             "colorbar": {
              "outlinewidth": 0,
              "ticks": ""
             }
            },
            "type": "scattercarpet"
           }
          ],
          "scattergeo": [
           {
            "marker": {
             "colorbar": {
              "outlinewidth": 0,
              "ticks": ""
             }
            },
            "type": "scattergeo"
           }
          ],
          "scattergl": [
           {
            "marker": {
             "colorbar": {
              "outlinewidth": 0,
              "ticks": ""
             }
            },
            "type": "scattergl"
           }
          ],
          "scattermap": [
           {
            "marker": {
             "colorbar": {
              "outlinewidth": 0,
              "ticks": ""
             }
            },
            "type": "scattermap"
           }
          ],
          "scattermapbox": [
           {
            "marker": {
             "colorbar": {
              "outlinewidth": 0,
              "ticks": ""
             }
            },
            "type": "scattermapbox"
           }
          ],
          "scatterpolar": [
           {
            "marker": {
             "colorbar": {
              "outlinewidth": 0,
              "ticks": ""
             }
            },
            "type": "scatterpolar"
           }
          ],
          "scatterpolargl": [
           {
            "marker": {
             "colorbar": {
              "outlinewidth": 0,
              "ticks": ""
             }
            },
            "type": "scatterpolargl"
           }
          ],
          "scatterternary": [
           {
            "marker": {
             "colorbar": {
              "outlinewidth": 0,
              "ticks": ""
             }
            },
            "type": "scatterternary"
           }
          ],
          "surface": [
           {
            "colorbar": {
             "outlinewidth": 0,
             "ticks": ""
            },
            "colorscale": [
             [
              0,
              "#0d0887"
             ],
             [
              0.1111111111111111,
              "#46039f"
             ],
             [
              0.2222222222222222,
              "#7201a8"
             ],
             [
              0.3333333333333333,
              "#9c179e"
             ],
             [
              0.4444444444444444,
              "#bd3786"
             ],
             [
              0.5555555555555556,
              "#d8576b"
             ],
             [
              0.6666666666666666,
              "#ed7953"
             ],
             [
              0.7777777777777778,
              "#fb9f3a"
             ],
             [
              0.8888888888888888,
              "#fdca26"
             ],
             [
              1,
              "#f0f921"
             ]
            ],
            "type": "surface"
           }
          ],
          "table": [
           {
            "cells": {
             "fill": {
              "color": "#EBF0F8"
             },
             "line": {
              "color": "white"
             }
            },
            "header": {
             "fill": {
              "color": "#C8D4E3"
             },
             "line": {
              "color": "white"
             }
            },
            "type": "table"
           }
          ]
         },
         "layout": {
          "annotationdefaults": {
           "arrowcolor": "#2a3f5f",
           "arrowhead": 0,
           "arrowwidth": 1
          },
          "autotypenumbers": "strict",
          "coloraxis": {
           "colorbar": {
            "outlinewidth": 0,
            "ticks": ""
           }
          },
          "colorscale": {
           "diverging": [
            [
             0,
             "#8e0152"
            ],
            [
             0.1,
             "#c51b7d"
            ],
            [
             0.2,
             "#de77ae"
            ],
            [
             0.3,
             "#f1b6da"
            ],
            [
             0.4,
             "#fde0ef"
            ],
            [
             0.5,
             "#f7f7f7"
            ],
            [
             0.6,
             "#e6f5d0"
            ],
            [
             0.7,
             "#b8e186"
            ],
            [
             0.8,
             "#7fbc41"
            ],
            [
             0.9,
             "#4d9221"
            ],
            [
             1,
             "#276419"
            ]
           ],
           "sequential": [
            [
             0,
             "#0d0887"
            ],
            [
             0.1111111111111111,
             "#46039f"
            ],
            [
             0.2222222222222222,
             "#7201a8"
            ],
            [
             0.3333333333333333,
             "#9c179e"
            ],
            [
             0.4444444444444444,
             "#bd3786"
            ],
            [
             0.5555555555555556,
             "#d8576b"
            ],
            [
             0.6666666666666666,
             "#ed7953"
            ],
            [
             0.7777777777777778,
             "#fb9f3a"
            ],
            [
             0.8888888888888888,
             "#fdca26"
            ],
            [
             1,
             "#f0f921"
            ]
           ],
           "sequentialminus": [
            [
             0,
             "#0d0887"
            ],
            [
             0.1111111111111111,
             "#46039f"
            ],
            [
             0.2222222222222222,
             "#7201a8"
            ],
            [
             0.3333333333333333,
             "#9c179e"
            ],
            [
             0.4444444444444444,
             "#bd3786"
            ],
            [
             0.5555555555555556,
             "#d8576b"
            ],
            [
             0.6666666666666666,
             "#ed7953"
            ],
            [
             0.7777777777777778,
             "#fb9f3a"
            ],
            [
             0.8888888888888888,
             "#fdca26"
            ],
            [
             1,
             "#f0f921"
            ]
           ]
          },
          "colorway": [
           "#636efa",
           "#EF553B",
           "#00cc96",
           "#ab63fa",
           "#FFA15A",
           "#19d3f3",
           "#FF6692",
           "#B6E880",
           "#FF97FF",
           "#FECB52"
          ],
          "font": {
           "color": "#2a3f5f"
          },
          "geo": {
           "bgcolor": "white",
           "lakecolor": "white",
           "landcolor": "#E5ECF6",
           "showlakes": true,
           "showland": true,
           "subunitcolor": "white"
          },
          "hoverlabel": {
           "align": "left"
          },
          "hovermode": "closest",
          "mapbox": {
           "style": "light"
          },
          "paper_bgcolor": "white",
          "plot_bgcolor": "#E5ECF6",
          "polar": {
           "angularaxis": {
            "gridcolor": "white",
            "linecolor": "white",
            "ticks": ""
           },
           "bgcolor": "#E5ECF6",
           "radialaxis": {
            "gridcolor": "white",
            "linecolor": "white",
            "ticks": ""
           }
          },
          "scene": {
           "xaxis": {
            "backgroundcolor": "#E5ECF6",
            "gridcolor": "white",
            "gridwidth": 2,
            "linecolor": "white",
            "showbackground": true,
            "ticks": "",
            "zerolinecolor": "white"
           },
           "yaxis": {
            "backgroundcolor": "#E5ECF6",
            "gridcolor": "white",
            "gridwidth": 2,
            "linecolor": "white",
            "showbackground": true,
            "ticks": "",
            "zerolinecolor": "white"
           },
           "zaxis": {
            "backgroundcolor": "#E5ECF6",
            "gridcolor": "white",
            "gridwidth": 2,
            "linecolor": "white",
            "showbackground": true,
            "ticks": "",
            "zerolinecolor": "white"
           }
          },
          "shapedefaults": {
           "line": {
            "color": "#2a3f5f"
           }
          },
          "ternary": {
           "aaxis": {
            "gridcolor": "white",
            "linecolor": "white",
            "ticks": ""
           },
           "baxis": {
            "gridcolor": "white",
            "linecolor": "white",
            "ticks": ""
           },
           "bgcolor": "#E5ECF6",
           "caxis": {
            "gridcolor": "white",
            "linecolor": "white",
            "ticks": ""
           }
          },
          "title": {
           "x": 0.05
          },
          "xaxis": {
           "automargin": true,
           "gridcolor": "white",
           "linecolor": "white",
           "ticks": "",
           "title": {
            "standoff": 15
           },
           "zerolinecolor": "white",
           "zerolinewidth": 2
          },
          "yaxis": {
           "automargin": true,
           "gridcolor": "white",
           "linecolor": "white",
           "ticks": "",
           "title": {
            "standoff": 15
           },
           "zerolinecolor": "white",
           "zerolinewidth": 2
          }
         }
        },
        "title": {
         "text": "Top 20 Most Frequent 2-Grams"
        },
        "xaxis": {
         "anchor": "y",
         "domain": [
          0,
          1
         ],
         "title": {
          "text": "2-Grams"
         }
        },
        "yaxis": {
         "anchor": "x",
         "domain": [
          0,
          1
         ],
         "title": {
          "text": "Frequency"
         }
        }
       }
      }
     },
     "metadata": {},
     "output_type": "display_data"
    }
   ],
   "source": [
    "du.bar_plot_ngram_frequency(\n",
    "    cleaned_bs_teachingstaff,\n",
    "    doc_types_to_include=[\"teaching_staff\"],\n",
    "    n=2, \n",
    "    top_n=20\n",
    ")"
   ]
  },
  {
   "cell_type": "markdown",
   "metadata": {},
   "source": [
    "# Analysing the results"
   ]
  },
  {
   "cell_type": "code",
   "execution_count": 13,
   "metadata": {},
   "outputs": [
    {
     "name": "stdout",
     "output_type": "stream",
     "text": [
      "\n",
      "--- Document: bachelor_data-science_teaching-staff_text.txt ---\n",
      "Course Name: Data Science\n",
      "Document Type: teaching_staff\n",
      "\n",
      "Text Content:\n",
      "Text from https://www.novaims.unl.pt/en//programs/bachelor-s-degrees/data-science/teaching-staff/#: Teaching Staff en Programs Bachelor's Degrees Data Science Teaching Staff Américo Rio Invited Assistant Professor americo.rio@novaims.unl.pt Ana Cristina Costa Associate Professor cristina@novaims.unl.pt Artur Varanda Adjunct Lecturer avaranda@novaims.unl.pt Augusto Santos Assistant Professor ajrsantos@novaims.unl.pt Bruno Damásio Assistant Professor bdamasio@novaims.unl.pt Carina Albuquerque Assistant Professor calbuquerque@novaims.unl.pt Carolina Maria Shaul Adjunct Lecturer cshaul@novaims.unl.pt Carolina Santos Maximiano Adjunct Lecturer cmaximiano@novaims.unl.pt Carolina Vasconcelos Invited Teaching Assistant cvasconcelos@novaims.unl.pt Catarina Neves Assistant Professor cneves@novaims.unl.pt Catarina Palha Invited Teaching Assistant cpalha@novaims.unl.pt Dhruv Akshay Pandit Invited Teaching Assistant dpandit@novaims.unl.pt Diogo Rasteiro Research Assistant drasteiro@novaims.unl.pt Fernando Bação Full Professor bacao@novaims.unl.pt Filipe Marques Professor of the Practice fjmarques@novaims.unl.pt Gonçalo Baptista Professor of the Practice gbaptista@novaims.unl.pt Helena Guerra Invited Assistant Professor helena@novaims.unl.pt Ian Scott Assistant Professor iscott@novaims.unl.pt Ivo Bernardo Adjunct Lecturer ibernardo@novaims.unl.pt Joana Neves Assistant Professor jneves@novaims.unl.pt Jorge Neves Invited Assistant Professor jnneves@novaims.unl.pt José Carvalho Invited Teaching Assistant jcarvalho@novaims.unl.pt Leon Debatin Adjunct Lecturer 20230549@novaims.unl.pt Leonardo Vanneschi Full Professor lvanneschi@novaims.unl.pt Liah Rosenfeld Invited Teaching Assistant lrosenfeld@novaims.unl.pt Manuel Rodrigues Adjunct Lecturer merodrigues@novaims.unl.pt Manuela Aparício Assistant Professor manuela.aparicio@novaims.unl.pt Maria Fernandes Invited Assistant Professor mfernandes@novaims.unl.pt Mariana Dias Invited Teaching Assistant midias@novaims.unl.pt Marisa Fernandes Adjunct Lecturer mmfernandes@novaims.unl.pt Marisa Nunes Adjunct Lecturer mnunes@novaims.unl.pt Mauro Castelli Full Professor mcastelli@novaims.unl.pt Mijail Naranjo-Zolotov Assistant Professor mijail.naranjo@novaims.unl.pt Niclas Frederic Sturm Research Assistant nsturm@novaims.unl.pt Paulo Lapa Adjunct Lecturer plapa@novaims.unl.pt Pedro Fernandes Adjunct Lecturer pmfernandes@novaims.unl.pt Pedro Mota Professor of the Practice pmota@novaims.unl.pt Rafael dos Santos Pereira Adjunct Lecturer rpereira@novaims.unl.pt Roberto Henriques Associate Professor roberto@novaims.unl.pt Rute Silva Adjunct Lecturer rpsilva@novaims.unl.pt Samuel Santos Adjunct Lecturer samuel.santos@novaims.unl.pt Sandra Cristina Roque Candeias Adjunct Lecturer scandeias@novaims.unl.pt Sara dos Santos Fernandes Invited Teaching Assistant sfernandes@novaims.unl.pt Sofia Carreira da Conceição Alves Pereira Adjunct Lecturer spereira@novaims.unl.pt Tiago Santos Adjunct Lecturer tmsantos@novaims.unl.pt Victor Lobo Invited Full Professor vlobo@novaims.unl.pt Vítor Santos Assistant Professor vsantos@novaims.unl.pt Yuriy Perezhohin Research Assistant yperezhohin@novaims.unl.pt\n",
      "\n",
      "--------------------------------------------------\n"
     ]
    }
   ],
   "source": [
    "dh.print_text_context_from_program_dicts(\n",
    "    data=cleaned_bs_teachingstaff,\n",
    "    course_names_to_include=[\"Data Science\"],\n",
    "    doc_types_to_include=[\"teaching_staff\"]\n",
    ")"
   ]
  },
  {
   "cell_type": "code",
   "execution_count": 14,
   "metadata": {},
   "outputs": [
    {
     "name": "stdout",
     "output_type": "stream",
     "text": [
      "\n",
      "--- Document: bachelor_information-management_teaching-staff_text.txt ---\n",
      "Course Name: Information Management\n",
      "Document Type: teaching_staff\n",
      "\n",
      "Text Content:\n",
      "Text from https://www.novaims.unl.pt/en//programs/bachelor-s-degrees/information-management/teaching-staff/#: Teaching Staff en Programs Bachelor's Degrees Information Management Teaching Staff Ana Beatriz Domingues Farinha Adjunct Lecturer afarinha@novaims.unl.pt Ana Cristina Costa Associate Professor cristina@novaims.unl.pt André Barriguinha Professor of the Practice abarriguinha@novaims.unl.pt Augusto Santos Assistant Professor ajrsantos@novaims.unl.pt Bruno Damásio Assistant Professor bdamasio@novaims.unl.pt Bruno Rodrigues Adjunct Lecturer brodrigues@novaims.unl.pt Carlos Tam Professor of the Practice carlosvai@novaims.unl.pt Carolina Maria Shaul Adjunct Lecturer cshaul@novaims.unl.pt Carolina Vasconcelos Invited Teaching Assistant cvasconcelos@novaims.unl.pt Catarina Neves Assistant Professor cneves@novaims.unl.pt Catarina Oliveira Ferraz Invited Teaching Assistant cferraz@novaims.unl.pt Constança Filipa Ferreira Rodrigues Adjunct Lecturer cfrodrigues@novaims.unl.pt Daniel Caridade Adjunct Lecturer dcaridade@novaims.unl.pt Diogo Rasteiro Research Assistant drasteiro@novaims.unl.pt Fernando Bação Full Professor bacao@novaims.unl.pt Filipe Marques Professor of the Practice fjmarques@novaims.unl.pt Frederico Cruz Jesus Associate Professor fjesus@novaims.unl.pt Gonçalo Baptista Professor of the Practice gbaptista@novaims.unl.pt Helena Guerra Invited Assistant Professor helena@novaims.unl.pt Henrique Carreiro Invited Assistant Professor hcarreiro@novaims.unl.pt Joana Neves Assistant Professor jneves@novaims.unl.pt João Martins Professor of the Practice jmartins@novaims.unl.pt Jorge Carrola Rodrigues Invited Assistant Professor jcarrola@novaims.unl.pt Jorge Neves Invited Assistant Professor jnneves@novaims.unl.pt José Carvalho Invited Teaching Assistant jcarvalho@novaims.unl.pt Leonardo Vanneschi Full Professor lvanneschi@novaims.unl.pt Liah Rosenfeld Invited Teaching Assistant lrosenfeld@novaims.unl.pt Manuel Cabugueira Professor of the Practice mcabugueira@novaims.unl.pt Manuel Rodrigues Adjunct Lecturer merodrigues@novaims.unl.pt Manuela Aparício Assistant Professor manuela.aparicio@novaims.unl.pt Márcia Lourenço Baptista Assistant Professor m.baptista@novaims.unl.pt Marco Galão Adjunct Lecturer mgalao@novaims.unl.pt Maria Fernandes Invited Assistant Professor mfernandes@novaims.unl.pt Maria Ferreira Adjunct Lecturer mferreira@novaims.unl.pt Mariana Dias Invited Teaching Assistant midias@novaims.unl.pt Mário Centeno Invited Full Professor mcenteno@novaims.unl.pt Marisa Fernandes Adjunct Lecturer mmfernandes@novaims.unl.pt Marisa Nunes Adjunct Lecturer mnunes@novaims.unl.pt Paulo Lapa Adjunct Lecturer plapa@novaims.unl.pt Pedro Malta Invited Assistant Professor pmalta@novaims.unl.pt Pedro Mota Professor of the Practice pmota@novaims.unl.pt Pedro Oliveira Adjunct Lecturer poliveira@novaims.unl.pt Rafael dos Santos Pereira Adjunct Lecturer rpereira@novaims.unl.pt Ricardo Santos Invited Teaching Assistant rcsantos@novaims.unl.pt Rita Lourenço Adjunct Lecturer rlourenco@novaims.unl.pt Roberto Henriques Associate Professor roberto@novaims.unl.pt Rute Silva Adjunct Lecturer rpsilva@novaims.unl.pt Salvador Rosado Invited Teaching Assistant srosado@novaims.unl.pt Samuel Santos Adjunct Lecturer samuel.santos@novaims.unl.pt Sandra Cristina Roque Candeias Adjunct Lecturer scandeias@novaims.unl.pt Sara dos Santos Fernandes Invited Teaching Assistant sfernandes@novaims.unl.pt Sofia Carreira da Conceição Alves Pereira Adjunct Lecturer spereira@novaims.unl.pt Sofia Lourenço Adjunct Lecturer slourenco@novaims.unl.pt Susana Esteves Invited Assistant Professor susana@novaims.unl.pt Tiago Humberto Oliveira Adjunct Lecturer tiago.oliveira@novaims.unl.pt Vicente Tang Invited Teaching Assistant vtang@novaims.unl.pt Vítor Santos Assistant Professor vsantos@novaims.unl.pt\n",
      "\n",
      "--------------------------------------------------\n"
     ]
    }
   ],
   "source": [
    "dh.print_text_context_from_program_dicts(\n",
    "    data=cleaned_bs_teachingstaff,\n",
    "    course_names_to_include=[\"Information Management\"],\n",
    "    doc_types_to_include=[\"teaching_staff\"]\n",
    ")"
   ]
  },
  {
   "cell_type": "code",
   "execution_count": 15,
   "metadata": {},
   "outputs": [
    {
     "name": "stdout",
     "output_type": "stream",
     "text": [
      "\n",
      "--- Document: bachelor_information-systems_teaching-staff_text.txt ---\n",
      "Course Name: Information Systems\n",
      "Document Type: teaching_staff\n",
      "\n",
      "Text Content:\n",
      "Text from https://www.novaims.unl.pt/en//programs/bachelor-s-degrees/information-systems/teaching-staff/#: Teaching Staff en Programs Bachelor's Degrees Information Systems Teaching Staff Américo Rio Invited Assistant Professor americo.rio@novaims.unl.pt Ana Cristina Costa Associate Professor cristina@novaims.unl.pt André Barriguinha Professor of the Practice abarriguinha@novaims.unl.pt António Monteiro Invited Teaching Assistant amonteiro@novaims.unl.pt Augusto Santos Assistant Professor ajrsantos@novaims.unl.pt Bruno Rodrigues Adjunct Lecturer brodrigues@novaims.unl.pt Carlos Tam Professor of the Practice carlosvai@novaims.unl.pt Carolina Beatriz Lopes Silvestre Adjunct Lecturer csilvestre@novaims.unl.pt Constança Filipa Ferreira Rodrigues Adjunct Lecturer cfrodrigues@novaims.unl.pt Diogo Rasteiro Research Assistant drasteiro@novaims.unl.pt Filipe Marques Professor of the Practice fjmarques@novaims.unl.pt Filipe Montargil Invited Associate Professor fmontargil@novaims.unl.pt Frederico Cruz Jesus Associate Professor fjesus@novaims.unl.pt Gonçalo Baptista Professor of the Practice gbaptista@novaims.unl.pt Gonçalo Rijo Adjunct Lecturer grijo@novaims.unl.pt Helena Guerra Invited Assistant Professor helena@novaims.unl.pt Henrique Carreiro Invited Assistant Professor hcarreiro@novaims.unl.pt Joana Neves Assistant Professor jneves@novaims.unl.pt Jorge Neves Invited Assistant Professor jnneves@novaims.unl.pt José Carvalho Invited Teaching Assistant jcarvalho@novaims.unl.pt José Mamede Professor of the Practice jmamede@novaims.unl.pt Leonardo Vanneschi Full Professor lvanneschi@novaims.unl.pt Liah Rosenfeld Invited Teaching Assistant lrosenfeld@novaims.unl.pt Manuel Rodrigues Adjunct Lecturer merodrigues@novaims.unl.pt Manuela Aparício Assistant Professor manuela.aparicio@novaims.unl.pt Márcia Lourenço Baptista Assistant Professor m.baptista@novaims.unl.pt Marco Silva Adjunct Lecturer masilva@novaims.unl.pt Maria Fernandes Invited Assistant Professor mfernandes@novaims.unl.pt Mariana Dias Invited Teaching Assistant midias@novaims.unl.pt Marisa Fernandes Adjunct Lecturer mmfernandes@novaims.unl.pt Marisa Nunes Adjunct Lecturer mnunes@novaims.unl.pt Mijail Naranjo-Zolotov Assistant Professor mijail.naranjo@novaims.unl.pt Patrícia Mestre Adjunct Lecturer pmestre@novaims.unl.pt Paulo Lapa Adjunct Lecturer plapa@novaims.unl.pt Pedro Antunes Adjunct Lecturer pantunes@novaims.unl.pt Pedro Fernandes Adjunct Lecturer pmfernandes@novaims.unl.pt Pedro Malta Invited Assistant Professor pmalta@novaims.unl.pt Pedro Mota Professor of the Practice pmota@novaims.unl.pt Rafael dos Santos Pereira Adjunct Lecturer rpereira@novaims.unl.pt Ricardo Martins Professor of the Practice rmartins@novaims.unl.pt Rita Lourenço Adjunct Lecturer rlourenco@novaims.unl.pt Rui Soares Adjunct Lecturer rsoares@novaims.unl.pt Rute Silva Adjunct Lecturer rpsilva@novaims.unl.pt Samuel Santos Adjunct Lecturer samuel.santos@novaims.unl.pt Sandra Cristina Roque Candeias Adjunct Lecturer scandeias@novaims.unl.pt Sara dos Santos Fernandes Invited Teaching Assistant sfernandes@novaims.unl.pt Sofia Lourenço Adjunct Lecturer slourenco@novaims.unl.pt Tiago Humberto Oliveira Adjunct Lecturer tiago.oliveira@novaims.unl.pt Tiago Oliveira Full Professor toliveira@novaims.unl.pt Vicente Tang Invited Teaching Assistant vtang@novaims.unl.pt Victor Lobo Invited Full Professor vlobo@novaims.unl.pt Vítor Santos Assistant Professor vsantos@novaims.unl.pt\n",
      "\n",
      "--------------------------------------------------\n"
     ]
    }
   ],
   "source": [
    "dh.print_text_context_from_program_dicts(\n",
    "    data=cleaned_bs_teachingstaff,\n",
    "    course_names_to_include=[\"Information Systems\"],\n",
    "    doc_types_to_include=[\"teaching_staff\"]\n",
    ")"
   ]
  },
  {
   "cell_type": "markdown",
   "metadata": {},
   "source": [
    "# Saving the cleaned files in dictionaries"
   ]
  },
  {
   "cell_type": "code",
   "execution_count": 17,
   "metadata": {},
   "outputs": [
    {
     "name": "stdout",
     "output_type": "stream",
     "text": [
      "Pickle files saved successfully!\n"
     ]
    }
   ],
   "source": [
    "import pickle \n",
    "# Define output folder\n",
    "output_folder = \"../../data/Preprocessing_text/bachelors_data\"\n",
    "\n",
    "os.makedirs(output_folder, exist_ok=True)  # Ensure output folder exists\n",
    "\n",
    "# Save each dictionary as a separate Pickle file\n",
    "with open(os.path.join(output_folder, \"dict_teachingstaff_cleaned.pkl\"), \"wb\") as f:\n",
    "    pickle.dump(cleaned_teachingstaff, f)\n",
    "\n",
    "print(\"Pickle files saved successfully!\")"
   ]
  }
 ],
 "metadata": {
  "kernelspec": {
   "display_name": "my_env",
   "language": "python",
   "name": "python3"
  },
  "language_info": {
   "codemirror_mode": {
    "name": "ipython",
    "version": 3
   },
   "file_extension": ".py",
   "mimetype": "text/x-python",
   "name": "python",
   "nbconvert_exporter": "python",
   "pygments_lexer": "ipython3",
   "version": "3.13.2"
  }
 },
 "nbformat": 4,
 "nbformat_minor": 2
}

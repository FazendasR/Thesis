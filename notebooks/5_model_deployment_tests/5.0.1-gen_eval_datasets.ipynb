{
 "cells": [
  {
   "cell_type": "code",
   "execution_count": 1,
   "id": "8f0f59bc",
   "metadata": {},
   "outputs": [],
   "source": [
    "import json\n",
    "import pandas as pd\n",
    "import os"
   ]
  },
  {
   "cell_type": "code",
   "execution_count": 7,
   "id": "add6b9c8",
   "metadata": {},
   "outputs": [
    {
     "name": "stdout",
     "output_type": "stream",
     "text": [
      "✅ Extracted reference data saved to C:\\Users\\1176153\\Downloads\\github\\Thesis\\data\\Preprocessing_text\\ref_data.xlsx\n"
     ]
    }
   ],
   "source": [
    "# === Paths ===\n",
    "json_input_path = r\"C:\\Users\\1176153\\Downloads\\github\\Thesis\\data\\Preprocessing_text\\generation_evaluation_dataset.json\"\n",
    "ref_xlsx_path = r\"C:\\Users\\1176153\\Downloads\\github\\Thesis\\data\\Preprocessing_text\\ref_data.xlsx\"\n",
    "gen_xlsx_path = r\"C:\\Users\\1176153\\Downloads\\github\\Thesis\\model\\src\\rag_no_prompting_medium_Mistral_results.xlsx\"\n",
    "final_output_json_path = r\"C:\\Users\\1176153\\Downloads\\github\\Thesis\\data\\Preprocessing_text\\evaluation_generation_dataset_mistral_hard.json\"\n",
    "\n",
    "### === STEP 1: Extract from JSON to XLSX ===\n",
    "\n",
    "with open(json_input_path, \"r\", encoding=\"utf-8\") as f:\n",
    "    data = json.load(f)\n",
    "\n",
    "# Grab first 29 items only\n",
    "records = data[\"evaluation_generation_dataset\"][:29]\n",
    "\n",
    "ref_data = {\n",
    "    \"reference_answer\": [entry[\"reference_answer\"][0] if entry[\"reference_answer\"] else \"\" for entry in records],\n",
    "    \"relevant_docs\": [\", \".join(entry[\"relevant_docs\"]) for entry in records]\n",
    "}\n",
    "\n",
    "ref_df = pd.DataFrame(ref_data)\n",
    "ref_df.to_excel(ref_xlsx_path, index=False)\n",
    "print(f\"✅ Extracted reference data saved to {ref_xlsx_path}\")"
   ]
  },
  {
   "cell_type": "code",
   "execution_count": 8,
   "id": "7872e1d0",
   "metadata": {},
   "outputs": [
    {
     "name": "stdout",
     "output_type": "stream",
     "text": [
      "✅ Final JSON file with 50 entries saved to: C:\\Users\\1176153\\Downloads\\github\\Thesis\\data\\Preprocessing_text\\evaluation_generation_dataset_mistral_hard.json\n"
     ]
    }
   ],
   "source": [
    "### === STEP 2: Recombine all into final JSON ===\n",
    "\n",
    "# Load 50 question-generated_answer pairs\n",
    "gen_df = pd.read_excel(gen_xlsx_path, engine=\"openpyxl\", skiprows=1, usecols=[0, 1], nrows=50)\n",
    "gen_df.columns = [\"question\", \"generated_answer\"]\n",
    "gen_df.fillna(\"\", inplace=True)\n",
    "\n",
    "# Load reference answers and docs (29 rows)\n",
    "ref_df = pd.read_excel(ref_xlsx_path)\n",
    "ref_df.fillna(\"\", inplace=True)\n",
    "\n",
    "final_entries = []\n",
    "\n",
    "for idx in range(len(gen_df)):\n",
    "    question = gen_df.loc[idx, \"question\"]\n",
    "    generated_answer = gen_df.loc[idx, \"generated_answer\"]\n",
    "\n",
    "    if idx < len(ref_df):\n",
    "        reference_answer = [ref_df.loc[idx, \"reference_answer\"]]\n",
    "        relevant_docs = [doc.strip() for doc in str(ref_df.loc[idx, \"relevant_docs\"]).split(\",\")]\n",
    "    else:\n",
    "        reference_answer = [\"\"]\n",
    "        relevant_docs = [\"\"]\n",
    "\n",
    "    entry = {\n",
    "        \"id\": idx + 1,\n",
    "        \"question\": question,\n",
    "        \"relevant_docs\": relevant_docs,\n",
    "        \"reference_answer\": reference_answer,\n",
    "        \"generated_answer\": [generated_answer],\n",
    "        \"human_score\": 0\n",
    "    }\n",
    "    final_entries.append(entry)\n",
    "\n",
    "# Save to final JSON\n",
    "with open(final_output_json_path, \"w\", encoding=\"utf-8\") as f:\n",
    "    json.dump({\"evaluation_generation_dataset_mistral_hard\": final_entries}, f, indent=2, ensure_ascii=False)\n",
    "\n",
    "print(f\"✅ Final JSON file with 50 entries saved to: {final_output_json_path}\")"
   ]
  },
  {
   "cell_type": "code",
   "execution_count": null,
   "id": "5e7d8ef4",
   "metadata": {},
   "outputs": [],
   "source": []
  }
 ],
 "metadata": {
  "kernelspec": {
   "display_name": "thesis_env",
   "language": "python",
   "name": "python3"
  },
  "language_info": {
   "codemirror_mode": {
    "name": "ipython",
    "version": 3
   },
   "file_extension": ".py",
   "mimetype": "text/x-python",
   "name": "python",
   "nbconvert_exporter": "python",
   "pygments_lexer": "ipython3",
   "version": "3.11.8"
  }
 },
 "nbformat": 4,
 "nbformat_minor": 5
}

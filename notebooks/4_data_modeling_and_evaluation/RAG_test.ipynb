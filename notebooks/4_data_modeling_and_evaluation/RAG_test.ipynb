{
 "cells": [
  {
   "cell_type": "code",
   "execution_count": 1,
   "id": "c70ece3a",
   "metadata": {},
   "outputs": [
    {
     "name": "stdout",
     "output_type": "stream",
     "text": [
      "Current Directory: c:\\Users\\1176153\\Downloads\\github\\Thesis\\model\\src\n"
     ]
    }
   ],
   "source": [
    "import os\n",
    "# Move to Thesis directory (two levels up)\n",
    "os.chdir(os.path.abspath(os.path.join(\"..\", \"..\")))\n",
    "\n",
    "# Move to model/src if it exists\n",
    "model_dir = os.path.join(os.getcwd(), \"model\", \"src\")\n",
    "if os.path.exists(model_dir):\n",
    "    os.chdir(model_dir)\n",
    "\n",
    "print(\"Current Directory:\", os.getcwd())"
   ]
  },
  {
   "cell_type": "code",
   "execution_count": 22,
   "id": "d3484bc1",
   "metadata": {},
   "outputs": [],
   "source": [
    "# %pip install ragatouille\n",
    "# %pip install bitsandbytes \n",
    "# %pip install sentence-transformers \n",
    "# %pip install faiss-cpu\n",
    "# %pip install pacmap  \n",
    "# %pip install langchain_community\n",
    "# %pip install langchain-chroma\n",
    "#%pip install langgraph\n"
   ]
  },
  {
   "cell_type": "code",
   "execution_count": 2,
   "id": "c58696cf",
   "metadata": {},
   "outputs": [],
   "source": [
    "import os\n",
    "from langchain_core.documents import Document\n",
    "import pickle\n",
    "import re\n",
    "import torch"
   ]
  },
  {
   "cell_type": "markdown",
   "id": "39d6c942",
   "metadata": {},
   "source": [
    "# Load all documents in a folder with pickle dictionaries"
   ]
  },
  {
   "cell_type": "code",
   "execution_count": 4,
   "id": "b774c8e9",
   "metadata": {},
   "outputs": [
    {
     "name": "stdout",
     "output_type": "stream",
     "text": [
      "Total documents loaded: 9\n",
      "Sample document metadata: {'source': 'data-science_main_course_extracted_text.txt'}\n"
     ]
    }
   ],
   "source": [
    "# Folder where your pickle files are stored\n",
    "pickle_folder = r\"../../data/Preprocessing_text/bachelors_data_old\"\n",
    "\n",
    "# List to store all LangChain Documents\n",
    "all_documents = []\n",
    "\n",
    "# Loop through all files in the folder\n",
    "for filename in os.listdir(pickle_folder):\n",
    "    if filename.endswith(\".pkl\"):\n",
    "        file_path = os.path.join(pickle_folder, filename)\n",
    "        with open(file_path, \"rb\") as f:\n",
    "            docs_dict = pickle.load(f)\n",
    "        \n",
    "        # Convert each key-value pair into a Document object\n",
    "        documents = [\n",
    "            Document(page_content=text, metadata={\"source\": key})\n",
    "            for key, text in docs_dict.items()\n",
    "        ]\n",
    "        \n",
    "        all_documents.extend(documents)\n",
    "\n",
    "print(f\"Total documents loaded: {len(all_documents)}\")\n",
    "print(\"Sample document metadata:\", all_documents[0].metadata)"
   ]
  },
  {
   "cell_type": "code",
   "execution_count": 5,
   "id": "73e10c8b",
   "metadata": {},
   "outputs": [
    {
     "name": "stdout",
     "output_type": "stream",
     "text": [
      "Total documents loaded: 9\n",
      "\n",
      "Sample Document Object:\n",
      "page_content='Text from https://www.novaims.unl.pt/en///bachelor-s-degrees/data-science/: Data Science Degree in Data Science en Bachelor's Degrees Data Science In the Bachelor´s Degree in Data Science, students learn the most modern techniques of artificial intelligence and machine learning to analyze large volumes of data (Big Data). They will become true data scientists - considered the sexiest profession of the 21 st century by the Harvard Business Review. The main objective of this course is to train future professionals capable of understanding, developing and using models, algorithms and the most advanced techniques in data science, to analyze and extract knowledge from Big Data. The 3 rd phase of applications under the International Student Statute for the 2025/26 academic year are open from February 26 th to March 27 th , 2025. Duration 3 years (6 semesters) Timetable Daytime Start September 2025 Career Opportunities The Bachelor´s Degree in Data Science allows a quick integration in the most varied sectors of activity, namely: Information Technology Companies, Communication Companies, Banking, Insurance, Retail, Telecommunications, Utilities Companies, Biomedical Companies, Pharmaceuticals, Public Administration and Companies industrial. The main professional opportunities are: Big Data Analyst; Data Scientist; Data Engineer; Specialist in Artificial Intelligence Systems; Specialist in Machine Learning; Specialist in the development of Automatic Learning Algorithms. Technical and Managerial Positions in Public Administration. At NOVA IMS we encourage continuous individual development through excellence. - For this reason, we believe that we must reward all those who stand out at the entrance of the Bachelor´s Degree courses and who, during their academic career, work to exceed their and our expectations. At NOVA IMS we encourage continuous individual development through excellence. - For this reason, we believe that we must reward all those who stand out at the entrance of the Bachelor´s Degree courses and who, during their academic career, work to exceed their and our expectations. Award for Academic Excellence Incentive Application prize awarded to all students whose average entry grade to the National Competition is equal to or greater than 18 values Who is it for? Who is it for? Program Goals Program Structure Admissions and Fees Achievement Awards Teaching Staff Tuition Fee Scholarships Calendar, Timetable and Exams FAQ Regulations and Accreditations Who is it for? This degree is intended for all final-year students who aspire to become data scientists. Thus, the study cycle is suitable for all students who wish to obtain in-depth training in the most recent techniques of data science and artificial intelligence, based on automatic logical reasoning, data management methods and techniques, as well as machine learning applications. The course aims to train highly specialized professionals who will enable organizations to take advantage of the huge volume of data they currently have at their disposal. For information about the International Student Access, please click here . Program Goals The bachelor's degree in Data Science aims to strengthen the intermediate step between data collection and decision making based on them, i.e. to develop advanced methods of data science and artificial intelligence. To this end, the course of study adopts a primarily technical perspective. The goal is to provide in-depth knowledge of the fundamental methodologies and concepts, in order to provide the student with the ability to update more specific technical knowledge and to keep up with the rapid evolution of this sector. In this context, the graduate in Data Science should: Understand the theoretical foundations of statistics, Machine Learning and Artificial Intelligence methods; Identify and understand the most efficient algorithm for each specific problem; Design and develop state-of-the-art data science algorithms; Work closely with IT specialists to integrate Data Science algorithms into existing systems; Identify underlying patterns and extract useful information from the large volume of heterogeneous data that exists in organizations; Be proficient in commonly used statistical procedures, frameworks, machine learning techniques and systems; Stimulate interest in keeping up with scientific advances in the field of Data Science and Artificial Intelligence. Program Structure The course lasts 3 years (6 semesters) and classes start in September 2025. The study plan corresponds to 180 ECTS, of which 150 ECTS correspond to mandatory curricular units (the first 5 semesters) and 30 ECTS correspond to optional curricular units (last semester of the course), which will be chosen by each Student, from among a wide range of curricular units available. See study plan Admissions and Fees Establishment Code: 0906 - Universidade Nova de Lisboa - Instituto Superior de Estatística e Gestão de Informação Course Code: L188 Entry Exam Subjects (One of the following): 19 - Mathematics A and 02 - Biology and Geology 19 - Mathematics A and 04 - Economy 19 - Mathematics A and 07 - Physics and Chemistry 19 - Mathematics A and 09 - Geography 19 - Mathematics A and 10 - Descriptive Geometry 19 - Mathematics A and 18 - Portuguese Course Unit NOTICE: The exams presented are valid for admissions in the 2025/26 academic year, through the National Competition for Access to Higher . Minimum Grades Applicants Grade: 100 Entry Exam Grade: 95 Formula of Applicants Grade Secondary School Grade: 50% Entry Exam Subjects: 50% Prerequesites None Vacancies 45 General Quota Last Entry Grade 2024-2025 1 st Phase - 17.78 2025/26 Academic Year Consult the entrance exams applicable to 2025/26 in the Frequently Asked Questions. Achievement Awards (*) Prize corresponding to the 1 st year tuition fee. The undergraduate students who achieve a high level of academic performance each year will have access to the following awards (1) : Approved ECTS Average (Values) Award At the end of the 1 st year of Enrollment equal or greater than 60 equal or greater than 16,5 700€ At the end of the 2 nd year of Enrollment equal or greater than 120 equal or greater than 16,5 700€ At the end of the 3 rd year of Enrollment equal or greater than 180 equal or greater than 16,5 €3.000 off (2) (1) Prize applied to students admitted in 2024/2025. (2) The value of the tuition for a master's degree to be attended at the NOVA IMS, if admission and enrollment occur in the year immediately following the completion of the bachelor's degree. Not cumulative with Alumni discount. Cumulative with financial discount. Excellence awards given by the Members of AD NOVA IMS and other supportive entities (3) All students that stand out, during their academic path, for their academic excellence in the different course units and are also awarded. (3) Prizes in force in the school year 2023/24. Supportive Entities Best student of the Course Unit €1.000 Best Student of Undergraduate and Master Degree Scholarship with Value to be Defined Best Application Grade €1.000 Curricular Unit Program Annual Prize Value Tuition Fee The annual fee set for the academic year 2024/25, for the students of the National Contest for Access to Higher , is €697. This payment can be paid in full or in 10 instalments. For the students of the International Student Contest, the annual fee for the academic year 2024/25, is €7.500. This payment can also be paid in full or in 5 instalments. The Student (national or international), when registering for a school year, has to take into account that the full payment of the tuition fee fixed for that school year (the monthly fees/benefits are a payment facility), even if they cancel the registration/withdraw of the course. For more information, please consult the Frequently Asked Questions at the bottom of the page. FAQ What is the language of instruction of the course? The course is taught in English. Nowadays, being comfortable with the English language is a competitive advantage, which makes a difference in the global job market. NOVA IMS students have all the support to quickly adapt to the language and can always speak in Portuguese when they are unable to express themselves. Where is NOVA IMS located? NOVA IMS is located on the Campolide Campus, in Lisbon. Watch the campus tour made by NOVA IMS Students here . What is the schedule? The Bachelor´s Degree will work on daytime , 5 days a week. Where can I see an overview of undergraduate ? You can watch it here and for more information click here . What is the cost of the tuition and enrollment fee for the students of the National Contest? The value of the Annual Fee for 2024/2025 is €697 . The student, enrolling in a school year, has to consider that full payment of the fee fixed for that year (tuition / benefits are ease of payment) is due, although they may unsubscribe / fold the course. The payment of tuition fees can be made as follows: At once (€697), until October 8 th , 2024 or in 10 installments: 1 st Installment: September 27 th to October 8 th , 2024: €69,70 (to be received upon registration); 2 nd Installment: November 1 st to 8 th , 2024: €69,70; 3 rd Installment: December 1 st to 8 th , 2024: €69,70; 4 th Installment: January 1 st to 8 th , 2025: €69,70; 5 th Installment: February 1 st to 8 th , 2025: €69,70; 6 th Installment: March 1 st to 8 th , 2025: €69,70; 7 th Installment: April 1 st to 8 th , 2025: €69,70; 8 th Installment: May 1 st to 8 th , 2025: €69,70; 9 th Installment: June 1 st to 8 th , 2025: €69,70; 10 th Installment: July 1 st to 8 th , 2025: €69,70. For students who have applied for the Merit (SAS / UNL) scholarship, the payment of tuition fees should only be made after the delivery of the final decision about the case, and if the scholarship is granted, the payment must be done afterwards. The student has, in these cases, a period of 15 days to rectify the situation. To apply for the scholarship the student must register on-time and deliver the declaration of honor (paper provided by the Academic Services) on how he/she is applying for this benefit. For further enquiries please contact Admissions office at NOVA rectory. Upon registration, the students should make the following payments: €69,70 - for 1 st installment of tuition fee; €35 - for annual enrollment fee; €1,40 - for annual school insurance. The enrolment fees are updated annually in the Universidade NOVA de Lisboa table of emoluments, published in the Official Portuguese Government Gazette (Diário da República) . What is the cost of the tuition and enrollment fee for the students of the International Student Contest? The annual fee set for the academic year 2024/25, for the students of the International Student Contest, is €7500. This payment can be as following: Full payment (€7500), unit October 1 st , 2024, or in 5 installments: 1 st installment: September 1 st to 8 th , 2024: €1500; 2 nd installment: November 1 st to 8 th , 2024: €1500; 3 rd installment: January 1 st to 8 th , 2025: €1500; 4 th installment: March 1 st to 8 th , 2025: €1500; 5 th installment: May 1 st to 8 th , 2025: €1500. Are there special access quotas? There are several special quotas, beyond to the general quota, to which certain percentages of vacancies are allocated, intended for candidates who meet the conditions of each quota. These are: Candidates from the Autonomous Region of the Açores; Candidates from the Autonomous Region of Madeira; Portuguese Emigrant Candidates and family members who live with them; Military Candidates Under Contract; Candidates with Disabilities. I completed secondary abroad or at a foreign school. Can I apply for the national contest? Yes, however there are some conditions that are important to know. For more information, you should contact Direcção-Geral do Ensino Superior . What is the application process for the international student? Candidates who do not have the nationality of a Member State of the European Union and who have not lived in Portugal for more than two consecutive years can apply for a Bachelor's degree at NOVA IMS under the International Student status. The application process is different from the National Contest for Access to Higher . For more information, click here . What is ObipNOVA? ObipNOVA is the Observatory of Graduates’ Transitions into Work at NOVA. The ObipNOVA analyses the graduates of all the study cycles: bachelors, masters and doctorates. Every year, a series of phone surveys are conducted to evaluate the professional activity of those who graduated in the previous year. The more recent data is related to 2019 graduated students. Regulations and Accreditations Regulations Regulation n.º 820/2021, on September 1 st (in Portuguese); Partial Time Student Regulation (in Portuguese). Accreditations Submission of the application - New study cycle (in Portuguese); External Review Team Final Report (CAE) (in Portuguese); Decision of the A3ES Board of Directors (in Portuguese); A3ES Deliberation . Support and Funding https://recuperarportugal.gov.pt/ Curricular Unit Program Annual Prize Value' metadata={'source': 'data-science_main_course_extracted_text.txt'}\n",
      "\n",
      "Metadata and preview:\n",
      "Metadata: {'source': 'data-science_main_course_extracted_text.txt'}\n",
      "Content preview: Text from https://www.novaims.unl.pt/en///bachelor-s-degrees/data-science/: Data Science Degree in Data Science en Bachelor's Degrees Data Science In the Bachelor´s Degree in Data Science, students learn the most modern techniques of artificial intelligence and machine learning to analyze large volu\n"
     ]
    }
   ],
   "source": [
    "# Check how many documents were loaded\n",
    "print(f\"Total documents loaded: {len(all_documents)}\")\n",
    "\n",
    "# Print a sample document (first one)\n",
    "print(\"\\nSample Document Object:\")\n",
    "print(all_documents[0])\n",
    "\n",
    "# Print just the metadata and a preview of content\n",
    "print(\"\\nMetadata and preview:\")\n",
    "print(\"Metadata:\", all_documents[0].metadata)\n",
    "print(\"Content preview:\", all_documents[0].page_content[:300])  # first 300 chars"
   ]
  },
  {
   "cell_type": "code",
   "execution_count": 6,
   "id": "c7656fbe",
   "metadata": {},
   "outputs": [
    {
     "data": {
      "text/plain": [
       "[Document(metadata={'source': 'data-science_main_course_extracted_text.txt'}, page_content=\"Text from https://www.novaims.unl.pt/en///bachelor-s-degrees/data-science/: Data Science Degree in Data Science en Bachelor's Degrees Data Science In the Bachelor´s Degree in Data Science, students learn the most modern techniques of artificial intelligence and machine learning to analyze large volumes of data (Big Data). They will become true data scientists - considered the sexiest profession of the 21 st century by the Harvard Business Review. The main objective of this course is to train future professionals capable of understanding, developing and using models, algorithms and the most advanced techniques in data science, to analyze and extract knowledge from Big Data. The 3 rd phase of applications under the International Student Statute for the 2025/26 academic year are open from February 26 th to March 27 th , 2025. Duration 3 years (6 semesters) Timetable Daytime Start September 2025 Career Opportunities The Bachelor´s Degree in Data Science allows a quick integration in the most varied sectors of activity, namely: Information Technology Companies, Communication Companies, Banking, Insurance, Retail, Telecommunications, Utilities Companies, Biomedical Companies, Pharmaceuticals, Public Administration and Companies industrial. The main professional opportunities are: Big Data Analyst; Data Scientist; Data Engineer; Specialist in Artificial Intelligence Systems; Specialist in Machine Learning; Specialist in the development of Automatic Learning Algorithms. Technical and Managerial Positions in Public Administration. At NOVA IMS we encourage continuous individual development through excellence. - For this reason, we believe that we must reward all those who stand out at the entrance of the Bachelor´s Degree courses and who, during their academic career, work to exceed their and our expectations. At NOVA IMS we encourage continuous individual development through excellence. - For this reason, we believe that we must reward all those who stand out at the entrance of the Bachelor´s Degree courses and who, during their academic career, work to exceed their and our expectations. Award for Academic Excellence Incentive Application prize awarded to all students whose average entry grade to the National Competition is equal to or greater than 18 values Who is it for? Who is it for? Program Goals Program Structure Admissions and Fees Achievement Awards Teaching Staff Tuition Fee Scholarships Calendar, Timetable and Exams FAQ Regulations and Accreditations Who is it for? This degree is intended for all final-year students who aspire to become data scientists. Thus, the study cycle is suitable for all students who wish to obtain in-depth training in the most recent techniques of data science and artificial intelligence, based on automatic logical reasoning, data management methods and techniques, as well as machine learning applications. The course aims to train highly specialized professionals who will enable organizations to take advantage of the huge volume of data they currently have at their disposal. For information about the International Student Access, please click here . Program Goals The bachelor's degree in Data Science aims to strengthen the intermediate step between data collection and decision making based on them, i.e. to develop advanced methods of data science and artificial intelligence. To this end, the course of study adopts a primarily technical perspective. The goal is to provide in-depth knowledge of the fundamental methodologies and concepts, in order to provide the student with the ability to update more specific technical knowledge and to keep up with the rapid evolution of this sector. In this context, the graduate in Data Science should: Understand the theoretical foundations of statistics, Machine Learning and Artificial Intelligence methods; Identify and understand the most efficient algorithm for each specific problem; Design and develop state-of-the-art data science algorithms; Work closely with IT specialists to integrate Data Science algorithms into existing systems; Identify underlying patterns and extract useful information from the large volume of heterogeneous data that exists in organizations; Be proficient in commonly used statistical procedures, frameworks, machine learning techniques and systems; Stimulate interest in keeping up with scientific advances in the field of Data Science and Artificial Intelligence. Program Structure The course lasts 3 years (6 semesters) and classes start in September 2025. The study plan corresponds to 180 ECTS, of which 150 ECTS correspond to mandatory curricular units (the first 5 semesters) and 30 ECTS correspond to optional curricular units (last semester of the course), which will be chosen by each Student, from among a wide range of curricular units available. See study plan Admissions and Fees Establishment Code: 0906 - Universidade Nova de Lisboa - Instituto Superior de Estatística e Gestão de Informação Course Code: L188 Entry Exam Subjects (One of the following): 19 - Mathematics A and 02 - Biology and Geology 19 - Mathematics A and 04 - Economy 19 - Mathematics A and 07 - Physics and Chemistry 19 - Mathematics A and 09 - Geography 19 - Mathematics A and 10 - Descriptive Geometry 19 - Mathematics A and 18 - Portuguese Course Unit NOTICE: The exams presented are valid for admissions in the 2025/26 academic year, through the National Competition for Access to Higher . Minimum Grades Applicants Grade: 100 Entry Exam Grade: 95 Formula of Applicants Grade Secondary School Grade: 50% Entry Exam Subjects: 50% Prerequesites None Vacancies 45 General Quota Last Entry Grade 2024-2025 1 st Phase - 17.78 2025/26 Academic Year Consult the entrance exams applicable to 2025/26 in the Frequently Asked Questions. Achievement Awards (*) Prize corresponding to the 1 st year tuition fee. The undergraduate students who achieve a high level of academic performance each year will have access to the following awards (1) : Approved ECTS Average (Values) Award At the end of the 1 st year of Enrollment equal or greater than 60 equal or greater than 16,5 700€ At the end of the 2 nd year of Enrollment equal or greater than 120 equal or greater than 16,5 700€ At the end of the 3 rd year of Enrollment equal or greater than 180 equal or greater than 16,5 €3.000 off (2) (1) Prize applied to students admitted in 2024/2025. (2) The value of the tuition for a master's degree to be attended at the NOVA IMS, if admission and enrollment occur in the year immediately following the completion of the bachelor's degree. Not cumulative with Alumni discount. Cumulative with financial discount. Excellence awards given by the Members of AD NOVA IMS and other supportive entities (3) All students that stand out, during their academic path, for their academic excellence in the different course units and are also awarded. (3) Prizes in force in the school year 2023/24. Supportive Entities Best student of the Course Unit €1.000 Best Student of Undergraduate and Master Degree Scholarship with Value to be Defined Best Application Grade €1.000 Curricular Unit Program Annual Prize Value Tuition Fee The annual fee set for the academic year 2024/25, for the students of the National Contest for Access to Higher , is €697. This payment can be paid in full or in 10 instalments. For the students of the International Student Contest, the annual fee for the academic year 2024/25, is €7.500. This payment can also be paid in full or in 5 instalments. The Student (national or international), when registering for a school year, has to take into account that the full payment of the tuition fee fixed for that school year (the monthly fees/benefits are a payment facility), even if they cancel the registration/withdraw of the course. For more information, please consult the Frequently Asked Questions at the bottom of the page. FAQ What is the language of instruction of the course? The course is taught in English. Nowadays, being comfortable with the English language is a competitive advantage, which makes a difference in the global job market. NOVA IMS students have all the support to quickly adapt to the language and can always speak in Portuguese when they are unable to express themselves. Where is NOVA IMS located? NOVA IMS is located on the Campolide Campus, in Lisbon. Watch the campus tour made by NOVA IMS Students here . What is the schedule? The Bachelor´s Degree will work on daytime , 5 days a week. Where can I see an overview of undergraduate ? You can watch it here and for more information click here . What is the cost of the tuition and enrollment fee for the students of the National Contest? The value of the Annual Fee for 2024/2025 is €697 . The student, enrolling in a school year, has to consider that full payment of the fee fixed for that year (tuition / benefits are ease of payment) is due, although they may unsubscribe / fold the course. The payment of tuition fees can be made as follows: At once (€697), until October 8 th , 2024 or in 10 installments: 1 st Installment: September 27 th to October 8 th , 2024: €69,70 (to be received upon registration); 2 nd Installment: November 1 st to 8 th , 2024: €69,70; 3 rd Installment: December 1 st to 8 th , 2024: €69,70; 4 th Installment: January 1 st to 8 th , 2025: €69,70; 5 th Installment: February 1 st to 8 th , 2025: €69,70; 6 th Installment: March 1 st to 8 th , 2025: €69,70; 7 th Installment: April 1 st to 8 th , 2025: €69,70; 8 th Installment: May 1 st to 8 th , 2025: €69,70; 9 th Installment: June 1 st to 8 th , 2025: €69,70; 10 th Installment: July 1 st to 8 th , 2025: €69,70. For students who have applied for the Merit (SAS / UNL) scholarship, the payment of tuition fees should only be made after the delivery of the final decision about the case, and if the scholarship is granted, the payment must be done afterwards. The student has, in these cases, a period of 15 days to rectify the situation. To apply for the scholarship the student must register on-time and deliver the declaration of honor (paper provided by the Academic Services) on how he/she is applying for this benefit. For further enquiries please contact Admissions office at NOVA rectory. Upon registration, the students should make the following payments: €69,70 - for 1 st installment of tuition fee; €35 - for annual enrollment fee; €1,40 - for annual school insurance. The enrolment fees are updated annually in the Universidade NOVA de Lisboa table of emoluments, published in the Official Portuguese Government Gazette (Diário da República) . What is the cost of the tuition and enrollment fee for the students of the International Student Contest? The annual fee set for the academic year 2024/25, for the students of the International Student Contest, is €7500. This payment can be as following: Full payment (€7500), unit October 1 st , 2024, or in 5 installments: 1 st installment: September 1 st to 8 th , 2024: €1500; 2 nd installment: November 1 st to 8 th , 2024: €1500; 3 rd installment: January 1 st to 8 th , 2025: €1500; 4 th installment: March 1 st to 8 th , 2025: €1500; 5 th installment: May 1 st to 8 th , 2025: €1500. Are there special access quotas? There are several special quotas, beyond to the general quota, to which certain percentages of vacancies are allocated, intended for candidates who meet the conditions of each quota. These are: Candidates from the Autonomous Region of the Açores; Candidates from the Autonomous Region of Madeira; Portuguese Emigrant Candidates and family members who live with them; Military Candidates Under Contract; Candidates with Disabilities. I completed secondary abroad or at a foreign school. Can I apply for the national contest? Yes, however there are some conditions that are important to know. For more information, you should contact Direcção-Geral do Ensino Superior . What is the application process for the international student? Candidates who do not have the nationality of a Member State of the European Union and who have not lived in Portugal for more than two consecutive years can apply for a Bachelor's degree at NOVA IMS under the International Student status. The application process is different from the National Contest for Access to Higher . For more information, click here . What is ObipNOVA? ObipNOVA is the Observatory of Graduates’ Transitions into Work at NOVA. The ObipNOVA analyses the graduates of all the study cycles: bachelors, masters and doctorates. Every year, a series of phone surveys are conducted to evaluate the professional activity of those who graduated in the previous year. The more recent data is related to 2019 graduated students. Regulations and Accreditations Regulations Regulation n.º 820/2021, on September 1 st (in Portuguese); Partial Time Student Regulation (in Portuguese). Accreditations Submission of the application - New study cycle (in Portuguese); External Review Team Final Report (CAE) (in Portuguese); Decision of the A3ES Board of Directors (in Portuguese); A3ES Deliberation . Support and Funding https://recuperarportugal.gov.pt/ Curricular Unit Program Annual Prize Value\"),\n",
       " Document(metadata={'source': 'information-management_main_course_extracted_text.txt'}, page_content=\"Text from https://www.novaims.unl.pt/en///bachelor-s-degrees/information-management/: Information Management Degree in Information Management en Bachelor's Degrees Information Management The Bachelor’s degree in Information Management combines management with data science . It prepares students to be managers of the new generation, capable of understanding business and the current challenges of modern management, transforming data into information. In today's society, business is increasingly complex and companies deal daily with a huge volume of data, generated by numerous sources. This reality causes a high demand for professionals with skills in the area of information management, who are able to use the most modern techniques and analytical tools to support decision making. The 3 rd phase of applications under the International Student Statute for the 2025/26 academic year are open from February 26 th to March 27 th , 2025. Duration 3 years (6 semesters) Timetable Daytime Start September 2025 Career Opportunities The Bachelor´s Degree in Information Management allows a quick integration in the most varied sectors of activity, namely: Information Technology Companies, Banking, Insurance, Health, Telecommunications, Logistics/Distribution, Marketing and Market Research, Retail, Consulting and Public Administration. The main professional opportunities are: Business Process Analyst; Business Analyst; Data Analyst; Information Manager; Specialist in Analytical Marketing; Specialist in Data Science applied to Management; Specialist in Decision Support Systems. Technical and Managerial Positions in Public Administration. What does an Information Manager? Frederico Cruz Jesus | Coordinator of the Bachelor Degree Sorry, your browser doesn't support embedded videos. Play video Who is it for? Who is it for? Program Goals Program Structure Admissions and Fees Achievement Awards Teaching Staff Tuition Fee Scholarships Calendar, Timetable and Exams FAQ Regulations and Accreditations Who is it for? This degree is aimed at all 12 th grade finalist's students that are seeking proper into the current Knowledge Society to enable them to manage the analytical processes of organizations and decision support systems. A degree in Information Management aims at training professionals able to collect, organize and analyze information from organizations and translate it into actions conducive to the achievement of their goals. The course aims at training professionals with fundamental knowledge about a wide range of tools and techniques, analytical and computational, which transform information into a strategic asset of organizations. For information about the International Student Access, please click here . Program Goals In this degree, it is intended that students acquire skills to perform new functions in the information society and knowledge. In this context, the graduated in Information Management should: Master a set of techniques and methodologies for data collection; Master the tools and processes used for the storage, organization and access to information in a business context; Understand the paradigms and technologies currently used in the management and dissemination of information; Master the methodologies as well as statistical and computational tools for exploring and analyzing information in order to reduce the levels of uncertainty associated with decision making; Develop models for the establishment of information flow to improve the processes of decision support and business management; Be able to identify problems related to the management of information in organizations; Know how to transform data into useful and relevant information, using language accessible to various decision centers; Be able to develop autonomously, solutions to new problems based on the knowledge gained from the answer to previous problems. Program Structure The course lasts 3 years (6 semesters) and classes start in September 2025. The study plan corresponds to 180 ECTS, of which 150 ECTS correspond to mandatory curricular units (the first 5 semesters) and 30 ECTS correspond to optional curricular units (last semester of the course), which will be chosen by each Student, from among a wide range of curricular units available. See the study plan Admissions and Fees Establishment Code: 0906 - Universidade Nova de Lisboa - Instituto Superior de Estatística e Gestão de Informação Course Code: 9155 Entry Exam Subjects (one of the following): 19 - Mathematics A and 04 - Economics 19 - Mathematics A and 02 - Biology and Geology 19 - Mathematics A and 07 - Physics and Chemistry 16 - Mathematics and 18 - Portuguese 16 - Mathematics and 09 - Geography 16 - Mathematics and 13 - English Course Unit NOTICE: The exams presented are valid for admissions in the 2025/26 academic year, through the National Competition for Access to Higher . Minimum Grades Applicants Grade: 100 Entry Exam Grade: 95 Formula of Applicants Grade Secondary School Grade: 50% Entry Exam Subjects: 50% Prerequesites None Vacancies 64 General Quota Last Entry Grade 2024-2025 1 st Phase - 17.36 2 nd Phase - 17.90 2025/26 Academic Year Consult the entrance exams applicable to 2025/26 in the Frequently Asked Questions. Achievement Awards (*) Prize corresponding to the 1 st year tuition fee. The undergraduate students who achieve a high level of academic performance each year will have access to the following awards (1) : Approved ECTS Average (Values) Award At the end of the 1 st year of Enrollment equal or greater than 60 equal or greater than 16,5 700€ At the end of the 2 nd year of Enrollment equal or greater than 120 equal or greater than 16,5 700€ At the end of the 3 rd year of Enrollment equal or greater than 180 equal or greater than 16,5 €3.000 off (2) (1) Prize applied to students admitted in 2024/2025. (2) The value of the tuition for a master's degree to be attended at the NOVA IMS, if admission and enrollment occur in the year immediately following the completion of the bachelor's degree. Not cumulative with Alumni discount. Cumulative with financial discount. Excellence awards given by the Members of AD NOVA IMS and other supportive entities (3) All students that stand out, during their academic path, for their academic excellence in the different course units and are also awarded. (3) Prizes in force in the school year 2023/24. AD NOVA IMS Member Best Finalist Student €1.500 Best Student of the Course Units €1.500 Curricular Unit Program Annual Prize Value Supportive Entities Best student of the Course Unit €1.000 Best Student of Undergraduate and Master Degree Scholarship with Value to be Defined Best Application Grade €1.000 Curricular Unit Program Annual Prize Value Tuition Fee The annual fee set for the academic year 2024/25, for the students of the National Contest for Access to Higher , is €697. This payment can be paid in full or in 10 instalments. For the students of the International Student Contest, the annual fee for the academic year 2024/25, is €7.500. This payment can also be paid in full or in 5 instalments. The Student (national or international), when registering for a school year, has to take into account that the full payment of the tuition fee fixed for that school year (the monthly fees/benefits are a payment facility), even if they cancel the registration/withdraw of the course. For more information, please consult the Frequently Asked Questions at the bottom of the page. FAQ What is the language of instruction of the course? The course is taught in English. Nowadays, being comfortable with the English language is a competitive advantage, which makes a difference in the global job market. NOVA IMS students have all the support to quickly adapt to the language and can always speak in Portuguese when they are unable to express themselves. Where is NOVA IMS located? NOVA IMS is located on the Campolide Campus, in Lisbon. Watch the campus tour made by NOVA IMS Students here . What is the schedule? The Bachelor´s Degree will work on daytime , 5 days a week. Where can I see an overview of undergraduate ? You can watch it here and for more information click here . What is the cost of the tuition and enrollment fee for the students of the National Contest? The value of the Annual Fee for 2024/2025 is €697 . The student, enrolling in a school year, has to consider that full payment of the fee fixed for that year (tuition / benefits are ease of payment) is due, although they may unsubscribe / fold the course. The payment of tuition fees can be made as follows: At once (€697), until October 8 th , 2024 or in 10 installments: 1 st Installment: September 27 th to October 8 th , 2024: €69,70 (to be received upon registration); 2 nd Installment: November 1 st to 8 th , 2024: €69,70; 3 rd Installment: December 1 st to 8 th , 2024: €69,70; 4 th Installment: January 1 st to 8 th , 2025: €69,70; 5 th Installment: February 1 st to 8 th , 2025: €69,70; 6 th Installment: March 1 st to 8 th , 2025: €69,70; 7 th Installment: April 1 st to 8 th , 2025: €69,70; 8 th Installment: May 1 st to 8 th , 2025: €69,70; 9 th Installment: June 1 st to 8 th , 2025: €69,70; 10 th Installment: July 1 st to 8 th , 2025: €69,70. For students who have applied for the Merit (SAS / UNL) scholarship, the payment of tuition fees should only be made after the delivery of the final decision about the case, and if the scholarship is granted, the payment must be done afterwards. The student has, in these cases, a period of 15 days to rectify the situation. To apply for the scholarship the student must register on-time and deliver the declaration of honor (paper provided by the Academic Services) on how he/she is applying for this benefit. For further enquiries please contact Admissions office at NOVA rectory. Upon registration, the students should make the following payments: €69,70 - for 1 st installment of tuition fee; €35 - for annual enrollment fee; €1,40 - for annual school insurance. The enrolment fees are updated annually in the Universidade NOVA de Lisboa table of emoluments, published in the Official Portuguese Government Gazette (Diário da República) . What is the cost of the tuition and enrollment fee for the students of the International Student Contest? The annual fee set for the academic year 2024/25, for the students of the International Student Contest, is €7500. This payment can be as following: Full payment (€7.500), unit October 1 st , 2024, or in 5 installments: 1 st installment: September 1 st to 8 th , 2024: €1500; 2 nd installment: November 1 st to 8 th , 2024: €1500; 3 rd installment: January 1 st to 8 th , 2025: €1500; 4 th installment: March 1 st to 8 th , 2025: €1500; 5 th installment: May 1 st to 8 th , 2025: €1500. Are there special access quotas? There are several special quotas, beyond to the general quota, to which certain percentages of vacancies are allocated, intended for candidates who meet the conditions of each quota. These are: Candidates from the Autonomous Region of the Açores; Candidates from the Autonomous Region of Madeira; Portuguese Emigrant Candidates and family members who live with them; Military Candidates Under Contract; Candidates with Disabilities. I completed secondary abroad or at a foreign school. Can I apply for the national contest? Yes, however there are some conditions that are important to know. For more information, you should contact Direcção-Geral do Ensino Superior . What is the application process for the international student? Candidates who do not have the nationality of a Member State of the European Union and who have not lived in Portugal for more than two consecutive years can apply for a Bachelor's degree at NOVA IMS under the International Student status. The application process is different from the National Contest for Access to Higher . For more information, click here . What is ObipNOVA? ObipNOVA is the Observatory of Graduates’ Transitions into Work at NOVA. The ObipNOVA analyses the graduates of all the study cycles: bachelors, masters and doctorates. Every year, a series of phone surveys are conducted to evaluate the professional activity of those who graduated in the previous year. The more recent data is related to 2019 graduated students. Regulations and Accreditations Regulations Regulation nº 848/2021, September 10 th (in Portuguese); Study plan for the study cycle leading to the degree of Bachelor in Information Management, operating at the Campus of Universidade NOVA de Lisboa in Cairo (ID-3048) (Regulation No. 387/2024, published in the Official Gazette, 2nd series, No.11, January 16th, 2024) (in Portuguese). Partial Time Student Regulation (in Portuguese). Accreditations Study Program Self-Evaluation Report (in Portuguese); External Review Team Final Report (CAE) (in Portuguese); Decision of the A3ES Board of Directors (in Portuguese); A3ES Deliberation.\"),\n",
       " Document(metadata={'source': 'information-systems_main_course_extracted_text.txt'}, page_content=\"Text from https://www.novaims.unl.pt/en///bachelor-s-degrees/information-systems/: Information Systems Degree in Information Systems en Bachelor's Degrees Information Systems Nowadays, Information Technologies are present in the most diverse areas of knowledge and people's everyday lives, even when they do not realize it. We permanently use intelligent systems, connectivity services, network equipment and data integration, which correspond to the computing platforms we know as: computers, tablets, smartphones, among many other equipment that share information and perform tasks. In the Bachelor´s Degree in Information Systems, students learn to analyze, design and implement information systems, fundamental in modern organizations, which include artificial intelligence, new programming languages, development of apps and web systems, mobile computing, among others. They also acquire a set of tools that support the companies' business processes. The 3 rd phase of applications under the International Student Statute for the 2025/26 academic year are open from February 26 th to March 27 th , 2025. Duration 3 years (6 semesters) Timetable Daytime Start September 2025 Career Opportunities The Bachelor´s Degree in Information Systems allows fast integration in the most varied sectors of activity, namely: Information Technology Companies, Banking, Insurance, Health, Telecommunications, Logistics/Distribution, E-Business, Consulting and Public Administration. The main professional opportunities are: Consultant in Information Systems and Technologies; Database Administrator and Programmer; Information Systems Project Manager; Specialist in the development of Artificial Intelligence Systems; Specialist in the implementation of Information Systems; Software Developer; Systems Analyst. Technical and Managerial Positions in Public Administration. At NOVA IMS we encourage continuous individual development through excellence. - For this reason, we believe that we must reward all those who stand out at the entrance of the Bachelor´s Degree courses and who, during their academic career, work to exceed their and our expectations. At NOVA IMS we encourage continuous individual development through excellence. - For this reason, we believe that we must reward all those who stand out at the entrance of the Bachelor´s Degree courses and who, during their academic career, work to exceed their and our expectations. Award for Academic Excellence Incentive Application prize awarded to all students whose average entry grade to the National Competition is equal to or greater than 18 values What does a graduate with Degree in Information Systems? Manuela Aparício | Coordinator of the Bachelor Degree Sorry, your browser doesn't support embedded videos. Play video Who is it for? Who is it for? Program Goals Program Structure Admissions and Fees Achievement Awards Teaching Staff Tuition Fee Scholarships Calendar, Timetable and Exams FAQ Regulations and Accreditations Who is it for? This degree is addressed to all high school finalist students, who are seeking a college that enables them to master the Information Technologies in the operational management of the organizations, creating new products, services and business processes. A degree in Information Systems aims at training professionals who are characterized by the ability to make the connection between the different business areas and the area of information systems. Being experts in analysis, design and implementation of information systems whose main task to improve the quality of decision making in organizations. For information about the International Student Access, please click here . Program Goals In this degree, it is intended that students acquire skills to analyze, design and implement systems and information technologies, providing a link between the different business areas and the area of information systems. In this context, by the end of the program, the Graduated in Information Systems shall: Know the fundamentals of information systems as tools for effective increase productivity; Master the concepts and theory that explains and motivates the methods and practices of the development and use of information systems in organizations as ways to increase organizational performance; Understand the technical aspects of computer architecture, operating systems and connecting information resources via computer networks; Be able to identify different approaches to physical design information systems using Systems Managers Database and development environments; Be able to manage projects of information systems. Program al Objectives The Program al objectives of the Information Systems are to produce graduates who, following a few years after graduation, are able to: Become productive, responsible information systems professionals capable of conducting research and/or designing, developing, or maintaining projects in the various areas of Information Systems; Demonstrate independent thinking, self-management, and functioning effectively in team-oriented and open-ended activities in a business or an industrial environment; Develop leadership skills and perform ethically and professionally in business, industry, and society; Excel in a career in an Information Systems related field. Student Outcomes The program objectives are to train experts and managers to be able to analyze, design and implement information systems, establishing the link between the different business areas and the area of information systems. Thus, the program aims to train graduates capable of using the information systems for improving the decision making process of organizations, with an advanced level of knowledge, comprehension and skills. In this context, students that obtain a degree in Information Systems by NOVA IMS should be able to: Analyze a complex computing problem and to apply principles of computing and other relevant disciplines to identify solutions; Design, implement, and evaluate a computing-based solution to meet a given set of computing requirements in the context of Information Systems; Communicate effectively in a variety of professional contexts; Recognize professional responsibilities and make informed judgments in computing practice based on legal and ethical principles; Function effectively as a member or leader of a team engaged in activities appropriate to Information Systems; Support the delivery, use, and management of information systems within an information systems environment. Information Systems Environment The main information systems environment area is Business, including Organizational Management, Finance and Marketing. The Curriculum includes various courses that provide background in this environment. The courses are as follows: Organizational Behavior; Business Management; Web Marketing and E-Commerce; Information Systems Project Management; Information Technologies, Governance and Service Management; Entrepreneurship and Project Analysis; Risk Management. Degree Statistics The total number of enrolled students in the three years of the program was 177 in 2020/2021, 165 in 2021/2022, and 182 in 2022/2023. The number of graduates over the three years of the program was 40 in 2020/2021, 34 in 2021/2022, and 33 in 2022/2023. Program Structure The course lasts 3 years (6 semesters) and classes start in September 2025. The study plan corresponds to 180 ECTS, of which 150 ECTS correspond to mandatory curricular units (the first 5 semesters) and 30 ECTS correspond to optional curricular units (last semester of the course), which will be chosen by each Student, from among a wide range of curricular units available. See study plan Admissions and Fees Establishment Code: 0906 - Universidade Nova de Lisboa - Instituto Superior de Estatística e Gestão de Informação Course Code: 8259 Entry Exam Subjects (One of the following): 19 - Mathematics A and 04 - Economy 19 - Mathematics A and 02 - Biology and Geology 19 - Mathematics A and 07 - Physics and Chemistry 16 - Mathematics and 18 - Portuguese 16 - Mathematics and 09 - Geography 16 - Mathematics and 13 - English Course Unit NOTICE: The exams presented are valid for admissions in the 2025/26 academic year, through the National Competition for Access to Higher . Minimum Grades Applicants Grade: 100 Entry Exam Grade: 95 Formula of Applicants Grade Secondary School Grade: 50% Entry Exam Subjects: 50% Prerequesites None Vacancies 43 General Quota Last Entry Grade 2024-2025 1 st Phase - 16.88 2 nd Phase - 17.11 2025/26 Academic Year Consult the entrance exams applicable to 2025/26 in the Frequently Asked Questions. Achievement Awards (*) Prize corresponding to the 1 st year tuition fee. The undergraduate students who achieve a high level of academic performance each year will have access to the following awards (1) : Approved ECTS Average (Values) Award At the end of the 1 st year of Enrollment equal or greater than 60 equal or greater than 16,5 700€ At the end of the 2 nd year of Enrollment equal or greater than 120 equal or greater than 16,5 700€ At the end of the 3 rd year of Enrollment equal or greater than 180 equal or greater than 16,5 €3.000 off (2) (1) Prize applied to students admitted in 2024/2025. (2) The value of the tuition for a master's degree to be attended at the NOVA IMS, if admission and enrollment occur in the year immediately following the completion of the bachelor's degree. Not cumulative with Alumni discount. Cumulative with financial discount. Excellence awards given by the Members of AD NOVA IMS and other supportive entities (3) All students that stand out, during their academic path, for their academic excellence in the different course units and are also awarded. (3) Prizes in force in the school year 2023/24. AD NOVA IMS Member Best Finalist Student €1.500 Best Student of the Course Units €1.500 Best Student of the Course Unit Curricular Unit Program Annual Prize Value Supportive Entities Best student of the Course Unit €1.000 Best Student of Undergraduate and Master Degree Scholarship with Value to be Defined Best Application Grade €1.000 Curricular Unit Program Annual Prize Value Tuition Fee The annual fee set for the academic year 2024/25, for the students of the National Contest for Access to Higher , is €697. This payment can be paid in full or in 10 instalments. For the students of the International Student Contest, the annual fee for the academic year 2024/25, is €7500. This payment can also be paid in full or in 5 instalments. The Student (national or international), when registering for a school year, has to take into account that the full payment of the tuition fee fixed for that school year (the monthly fees/benefits are a payment facility), even if they cancel the registration/withdraw of the course. For more information, please consult the Frequently Asked Questions at the bottom of the page. FAQ What is the language of instruction of the course? The course is taught in English. Nowadays, being comfortable with the English language is a competitive advantage, which makes a difference in the global job market. NOVA IMS students have all the support to quickly adapt to the language and can always speak in Portuguese when they are unable to express themselves. Where is NOVA IMS located? NOVA IMS is located on the Campolide Campus, in Lisbon. Watch the campus tour made by NOVA IMS Students here . What is the schedule? The Bachelor´s Degree will work on daytime , 5 days a week. Where can I see an overview of undergraduate ? You can watch it here and for more information click here . What is the cost of the tuition and enrollment fee for the students of the National Contest? The value of the Annual Fee for 2024/2025 is €697 . The student, enrolling in a school year, has to consider that full payment of the fee fixed for that year (tuition / benefits are ease of payment) is due, although they may unsubscribe / fold the course. The payment of tuition fees can be made as follows: At once (€697), until October 8 th , 2024 or in 10 installments: 1 st Installment: September 27 th to October 8 th , 2024: €69,70 (to be received upon registration); 2 nd Installment: November 1 st to 8 th , 2024: €69,70; 3 rd Installment: December 1 st to 8 th , 2024: €69,70; 4 th Installment: January 1 st to 8 th , 2025: €69,70; 5 th Installment: February 1 st to 8 th , 2025: €69,70; 6 th Installment: March 1 st to 8 th , 2025: €69,70; 7 th Installment: April 1 st to 8 th , 2025: €69,70; 8 th Installment: May 1 st to 8 th , 2025: €69,70; 9 th Installment: June 1 st to 8 th , 2025: €69,70; 10 th Installment: July 1 st to 8 th , 2025: €69,70. For students who have applied for the Merit (SAS / UNL) scholarship, the payment of tuition fees should only be made after the delivery of the final decision about the case, and if the scholarship is granted, the payment must be done afterwards. The student has, in these cases, a period of 15 days to rectify the situation. To apply for the scholarship the student must register on-time and deliver the declaration of honor (paper provided by the Academic Services) on how he/she is applying for this benefit. For further enquiries please contact Admissions office at NOVA rectory. Upon registration, the students should make the following payments: €69,70 - for 1 st installment of tuition fee; €35 - for annual enrollment fee; €1,40 - for annual school insurance. The enrolment fees are updated annually in the Universidade NOVA de Lisboa table of emoluments, published in the Official Portuguese Government Gazette (Diário da República) . What is the cost of the tuition and enrollment fee for the students of the International Student Contest? The annual fee set for the academic year 2024/25 , for the students of the International Student Contest, is €7500. This payment can be as following: Full payment (€7500), unit October 1 st , 2024, or in 5 installments: 1 st installment: September 1 st to 8 th , 2024: €1500; 2 nd installment: November 1 st to 8 th , 2024: €1500; 3 rd installment: January 1 st to 8 th , 2025: €1500; 4 th installment: March 1 st to 8 th , 2025: €1500; 5 th installment: May 1 st to 8 th , 2025: €1500. What is the timetable and exams calendar? Academic Calendar See here the 1 st Year for academic year 2022-2023; See here the 2 nd & 3 rd Years for academic year 2022-2023. Exams Calendar See the Spring Semester for academic year 2021-2022. Are there special access quotas? There are several special quotas, beyond to the general quota, to which certain percentages of vacancies are allocated, intended for candidates who meet the conditions of each quota. These are: Candidates from the Autonomous Region of the Açores; Candidates from the Autonomous Region of Madeira; Portuguese Emigrant Candidates and family members who live with them; Military Candidates Under Contract; Candidates with Disabilities. I completed secondary abroad or at a foreign school. Can I apply for the national contest? Yes, however there are some conditions that are important to know. For more information, you should contact Direcção-Geral do Ensino Superior . What is the application process for the international student? Candidates who do not have the nationality of a Member State of the European Union and who have not lived in Portugal for more than two consecutive years can apply for a Bachelor's degree at NOVA IMS under the International Student status. The application process is different from the National Contest for Access to Higher . For more information, click here . What is ObipNOVA? ObipNOVA is the Observatory of Graduates’ Transitions into Work at NOVA. The ObipNOVA analyses the graduates of all the study cycles: bachelors, masters and doctorates. Every year, a series of phone surveys are conducted to evaluate the professional activity of those who graduated in the previous year. The more recent data is related to 2019 graduated students. Regulations and Accreditations Regulations Regulation n.º 300/2022, on 25 th March (in Portuguese); Partial Time Student Regulation (in Portuguese). Accreditations Study Program Self-Evaluation Report (in Portuguese); External Review Team Final Report (CAE) (in Portuguese); Decision of the A3ES Board of Directors (in Portuguese); A3ES Deliberation.\"),\n",
       " Document(metadata={'source': 'data-science_program_extracted_text.txt'}, page_content=\"Text from https://www.novaims.unl.pt/en///bachelor-s-degrees/data-science/program/#: Program Study Plan en Bachelor's Degrees Data Science Program 1 st year - Fall Semester Course Units Duration Type Contact Hours Total Workload ECTS Computers' Architecture Semester Mandatory TP - 45 | OT - 5 112 4 Foundational aspects of data science Semester Mandatory TP - 45 | OT - 5 112 4 Information Systems Semester Mandatory TP - 64,5 | S - 3 | OT - 7,5 168 6 Introduction to Programming Semester Mandatory TP - 67,5 | OT - 7,5 196 7 Linear Algebra Semester Mandatory T - 22,5 | PL - 22,5 | OT - 7,5 112 4 Show subtitles T – Theoretical Teaching; TP – Theoretical/ Practical Teaching; TC – Field Work; PL – Theoretical/ Practical Teaching; S – Seminar; OT – Tutor Group; ** – Course Unit available in both semesters; 1 st year - Spring Semester Course Units Duration Type Contact Hours Total Workload ECTS Algorithms and Data Structures Semester Mandatory TP - 67,5 | OT - 7,5 168 6 Introduction to Artificial Intelligence Semester Mandatory TP - 67,5 | OT - 15 140 5 Introduction to Computational Thinking and Data Science Semester Mandatory TP - 45 | OT - 5 112 4 Mathematical Analysis I ** Semester Mandatory T - 22,5 | PL - 45 | OT - 7,5 140 5 Mathematical Analysis II ** Semester Mandatory T - 22,5 | PL - 45 | OT - 7,5 196 7 Personal Development I Semester Mandatory TP - 22,5 | OT - 7,5 56 2 Statistics and Probability Distributions Semester Mandatory TP - 67,5 | OT - 7,5 168 6 Show subtitles T – Theoretical Teaching; TP – Theoretical/ Practical Teaching; TC – Field Work; PL – Theoretical/ Practical Teaching; S – Seminar; OT – Tutor Group; ** – Course Unit available in both semesters; Semestre 1 - 2; 2 nd year - Fall Semester Course Units Duration Type Contact Hours Total Workload ECTS Data preprocessing and visualization Semester Mandatory TP - 67,5 | OT - 7,5 168 6 Databases Semester Mandatory TP - 64,5 | S - 3 | OT - 7,5 168 6 Machine Learning I Semester Mandatory TP - 67,5 | OT - 7,5 168 6 Programming for Data Science Semester Mandatory TP - 67,5 | OT - 7,5 168 6 Statistical Inference Semester Mandatory TP - 67,5 | OT - 7,5 168 6 Show subtitles T – Theoretical Teaching; TP – Theoretical/ Practical Teaching; TC – Field Work; PL – Theoretical/ Practical Teaching; S – Seminar; OT – Tutor Group; ** – Course Unit available in both semesters; Semestre 2 - 1; 2 nd year - Spring Semester Course Units Duration Type Contact Hours Total Workload ECTS Big Data Storage Semester Mandatory TP - 67,5 | OT - 7,5 168 6 Forecasting Methods Semester Mandatory TP - 67,5 | OT - 15 168 6 Machine Learning II Semester Mandatory TP - 67,5 | OT - 7,5 168 6 Optimization Algorithms Semester Mandatory TP - 67,5 | OT - 7,5 168 6 Regression Analysis Semester Mandatory TP - 67,5 | OT - 7,5 168 6 Show subtitles T – Theoretical Teaching; TP – Theoretical/ Practical Teaching; TC – Field Work; PL – Theoretical/ Practical Teaching; S – Seminar; OT – Tutor Group; ** – Course Unit available in both semesters; 3 rd year - Fall Semester Course Units Duration Type Contact Hours Total Workload ECTS Big Data Analysis Semester Mandatory TP - 67,5 | OT - 15 168 6 Capstone Project Semester Mandatory TP - 22,5 | OT - 45 224 8 Deep Learning Semester Mandatory TP - 67,5 | OT - 15 168 6 Ethical, Social and Legal Aspects of Artificial Intelligence Semester Mandatory TP - 22,5 | OT - 7,5 56 2 Personal Development II Semester Mandatory TP - 22,5 | OT - 7,5 56 2 Text Mining Semester Mandatory TP - 45 | OT - 12,5 168 6 Show subtitles T – Theoretical Teaching; TP – Theoretical/ Practical Teaching; TC – Field Work; PL – Theoretical/ Practical Teaching; S – Seminar; OT – Tutor Group; ** – Course Unit available in both semesters; 3 rd year - Spring Semester Course Units Duration Type Contact Hours Total Workload ECTS Applied Economics Semester Elective TP - 45 | OT - 5 112 4 Digital Innovation Projects Semester Elective TP - 45 | OT - 10 112 4 Entrepreneurship and Project Analysis Semester Elective TP - 45 | OT - 7,5 112 4 Financial Calculus and Project Analysis Semester Elective TP - 45 112 4 Geospatial Analytics Semester Elective TP - 45 | OT - 7,5 112 4 Informatics and Information Law Semester Elective TP - 45 | OT - 10 112 4 Information Systems Seminar Semester Elective T - 9 | S - 45 | OT - 7,5 | TC - 13,5 168 6 Information Tecnologies, Governance and Service Management Semester Elective TP - 77,5 | OT - 10 168 6 Network Analysis Semester Elective TP - 67,5 | OT - 10 168 6 People Management and Leadership Semester Elective TP - 45 112 4 Process Intelligence Semester Elective TP - 45 | OT - 7,5 112 4 Risk Management Semester Elective TP - 67,5 | OT - 10 168 6 Web Analytics Semester Elective TP - 45 | OT - 7,5 112 4 Web Marketing and E-business Semester Elective TP - 45 | OT - 10 112 4 Show subtitles T – Theoretical Teaching; TP – Theoretical/ Practical Teaching; TC – Field Work; PL – Theoretical/ Practical Teaching; S – Seminar; OT – Tutor Group; ** – Course Unit available in both semesters; Course Unit\"),\n",
       " Document(metadata={'source': 'information-management_program_extracted_text.txt'}, page_content=\"Text from https://www.novaims.unl.pt/en///bachelor-s-degrees/information-management/program/#: Program Study Plan en Bachelor's Degrees Information Management Program 1 st year - Fall Semester Course Units Duration Type Contact Hours Total Workload ECTS Business Management Semester Mandatory TP - 45 | OT - 5 112 4 Computation I Semester Mandatory TP - 67,5 | OT - 7,5 196 7 Economic Analysis Semester Mandatory TP - 45 | OT - 5 112 4 Information Systems Semester Mandatory TP - 64,5 | S - 3 | OT - 7,5 168 6 Linear Algebra Semester Mandatory T - 22,5 | PL - 22,5 | OT - 7,5 112 4 Mathematical Analysis I ** Semester Mandatory T - 22,5 | PL - 45 | OT - 7,5 140 5 Show subtitles T – Theoretical Teaching; TP – Theoretical/ Practical Teaching; TC – Field Work; PL – Theoretical/ Practical Teaching; S – Seminar; OT – Tutor Group; ** – Course Unit available in both semesters; 1 st year - Spring Semester Course Units Duration Type Contact Hours Total Workload ECTS Foundational Aspects of Information Semester Mandatory TP - 67,5 | OT - 7,5 140 5 Marketing Semester Mandatory TP - 45 | OT - 5 112 4 Mathematical Analysis II ** Semester Mandatory T - 22,5 | PL - 45 | OT - 7,5 196 7 Personal Development I Semester Mandatory TP - 22,5 | OT - 7,5 56 2 Programming for Business Semester Mandatory T - 22,5 | PL - 45 | OT - 7,5 168 6 Statistics and Probability Distributions Semester Mandatory TP - 67,5 | OT - 7,5 168 6 Show subtitles T – Theoretical Teaching; TP – Theoretical/ Practical Teaching; TC – Field Work; PL – Theoretical/ Practical Teaching; S – Seminar; OT – Tutor Group; ** – Course Unit available in both semesters; 2 nd year - Fall Semester Course Units Duration Type Contact Hours Total Workload ECTS Data Analysis Semester Mandatory TP - 67,5 | OT - 7,5 168 6 Data Preprocessing Semester Mandatory TP - 45 | OT - 5 112 4 Databases I Semester Mandatory TP - 64,5 | S - 3 | OT - 7,5 168 6 Financial Analysis and Management Control Semester Mandatory TP - 45 | OT - 5 112 4 Geospatial Intelligence Semester Mandatory TP - 45 | OT - 5 112 4 Statistical Inference Semester Mandatory TP - 67,5 | OT - 7,5 168 6 Show subtitles T – Theoretical Teaching; TP – Theoretical/ Practical Teaching; TC – Field Work; PL – Theoretical/ Practical Teaching; S – Seminar; OT – Tutor Group; ** – Course Unit available in both semesters; 2 nd year - Spring Semester Course Units Duration Type Contact Hours Total Workload ECTS Business Intelligence Semester Mandatory TP - 67,5 | OT - 7,5 168 6 Computational Methods for Optimization Semester Mandatory TP - 45 | OT - 5 112 4 Econometrics I Semester Mandatory TP - 67,5 | OT - 7,5 168 6 Machine Learning Semester Mandatory TP - 67,5 | OT - 7,5 168 6 Nonparametric and Computational Statistics Semester Mandatory TP - 45 | OT - 5 112 4 Survey Methodology Semester Mandatory TP - 45 | OT - 5 112 4 Show subtitles T – Theoretical Teaching; TP – Theoretical/ Practical Teaching; TC – Field Work; PL – Theoretical/ Practical Teaching; S – Seminar; OT – Tutor Group; ** – Course Unit available in both semesters; 3 rd year - Fall Semester Course Units Duration Type Contact Hours Total Workload ECTS Business Process Management Semester Mandatory TP - 67,5 | OT - 7,5 168 6 Business Strategy and Digital Transformation Semester Mandatory TP - 67,5 | OT - 7,5 168 6 Econometrics II Semester Mandatory TP - 67,5 | OT - 7,5 168 6 Enterprise Information Systems Semester Mandatory TP - 67,5 | OT - 7,5 168 6 Market Research Semester Mandatory TP - 45 | OT - 5 112 4 Personal Development II Semester Mandatory TP - 22,5 | OT - 5 56 2 Geospatial Intelligence Semester Elective TP - 52,5 112 4 Show subtitles T – Theoretical Teaching; TP – Theoretical/ Practical Teaching; TC – Field Work; PL – Theoretical/ Practical Teaching; S – Seminar; OT – Tutor Group; ** – Course Unit available in both semesters; 3 rd year - Spring Semester Course Units Duration Type Contact Hours Total Workload ECTS Applied Cybersecurity Semester Elective TP - 45 112 4 Applied Economics Semester Elective TP - 45 | OT - 5 112 4 Business Law Semester Elective TP - 45 | OT - 7,5 112 4 Digital Innovation Projects Semester Elective TP - 45 | OT - 10 112 4 Entrepreneurship and Project Analysis Semester Elective TP - 45 | OT - 7,5 112 4 Financial Calculus and Project Analysis Semester Elective TP - 45 | OT - 7,5 112 4 Forecasting Methods Semester Elective TP - 67,5 | OT - 15 168 6 Geospatial Analytics Semester Elective TP - 45 | OT - 7,5 112 4 Informatics and Information Law Semester Elective TP - 45 | OT - 10 112 4 Information Systems Seminar Semester Elective T - 9 | S - 45 | OT - 7,5 | TC - 13,5 168 6 Information Tecnologies, Governance and Service Management Semester Elective T - 22,5 | PL - 45 | OT - 10 168 6 Mobile Apps Development Semester Elective T - 22,5 | PL - 42 140 5 Network Analysis Semester Elective T - 67,5 168 6 People Management and Leadership Semester Elective TP - 45 | OT - 7,5 112 4 Process Intelligence Semester Elective TP - 45 112 4 Project Management Semester Elective TP - 45 | OT - 7,5 112 4 Remote Sensing Semester Elective TP - 67,5 | OT - 10 168 6 Risk Management Semester Elective TP - 67,5 | OT - 10 168 6 Smart and Sustainable Cities Semester Elective TP - 45 | OT - 7,5 112 4 Startup Venture Studio Semester Elective TP - 64,5 | OT - 7,5 168 6 Technologies and Web Apps Semester Elective TP - 22,5 | PL - 42 140 5 Web Analytics Semester Elective TP - 45 | OT - 7,5 112 4 Web Marketing and E-business Semester Elective TP - 45 | OT - 10 112 4 Show subtitles T – Theoretical Teaching; TP – Theoretical/ Practical Teaching; TC – Field Work; PL – Theoretical/ Practical Teaching; S – Seminar; OT – Tutor Group; ** – Course Unit available in both semesters; Course Unit\"),\n",
       " Document(metadata={'source': 'information-systems_program_extracted_text.txt'}, page_content=\"Text from https://www.novaims.unl.pt/en///bachelor-s-degrees/information-systems/program/#: Program Study Plan en Bachelor's Degrees Information Systems Program 1 st year - Fall Semester Course Units Duration Type Contact Hours Total Workload ECTS Business Management Semester Mandatory TP - 45 | OT - 5 112 4 Computation I Semester Mandatory TP - 67,5 | OT - 7,5 196 7 Information Systems Semester Mandatory TP - 64,5 | S - 3 | OT - 7,5 168 6 Linear Algebra Semester Mandatory T - 22,5 | PL - 22,5 | OT - 7,5 112 4 Mathematical Analysis I ** Semester Mandatory T - 22,5 | PL - 45 | OT - 7,5 140 5 Organizations Behavior Semester Mandatory TP - 45 | OT - 5 112 4 Show subtitles T – Theoretical Teaching; TP – Theoretical/ Practical Teaching; TC – Field Work; PL – Theoretical/ Practical Teaching; S – Seminar; OT – Tutor Group; ** – Course Unit available in both semesters; 1 st year - Spring Semester Course Units Duration Type Contact Hours Total Workload ECTS Computation II Semester Mandatory TP - 67,5 | OT - 7,5 168 6 Mathematical Analysis II ** Semester Mandatory T - 22,5 | PL - 45 | OT - 7,5 196 7 Personal Development I Semester Mandatory TP - 22,5 | OT - 7,5 56 2 Statistics and Probability Distributions Semester Mandatory TP - 67,5 | OT - 7,5 168 6 Technologies and Web Apps Semester Mandatory TP - 22,5 | PL - 42 140 5 Theory and Practice of Information Systems Semester Mandatory TP - 45 | OT - 5 112 4 Show subtitles T – Theoretical Teaching; TP – Theoretical/ Practical Teaching; TC – Field Work; PL – Theoretical/ Practical Teaching; S – Seminar; OT – Tutor Group; ** – Course Unit available in both semesters; 2 nd year - Fall Semester Course Units Duration Type Contact Hours Total Workload ECTS Computation III Semester Mandatory TP - 67,5 | OT - 10 168 6 Databases I Semester Mandatory TP - 64,5 | S - 3 | OT - 7,5 168 6 Information Technologies Hardware and Software Semester Mandatory TP - 67,5 | OT - 10 168 6 Statistical Inference Semester Mandatory TP - 67,5 | OT - 7,5 168 6 Systems Analysis Semester Mandatory TP - 64,5 | S - 3 | OT - 7,5 168 6 Show subtitles T – Theoretical Teaching; TP – Theoretical/ Practical Teaching; TC – Field Work; PL – Theoretical/ Practical Teaching; S – Seminar; OT – Tutor Group; ** – Course Unit available in both semesters; 2 nd year - Spring Semester Course Units Duration Type Contact Hours Total Workload ECTS Computer Networks & Cloud Computing Semester Mandatory T - 22,5 | PL - 45 | OT - 7,5 140 5 Databases II Semester Mandatory T - 22,5 | PL - 45 | OT - 7,5 168 6 Human - Computer Interaction Semester Mandatory TP - 67,5 | OT - 10 140 5 Information Systems Project Management (A) Semester Mandatory T - 22,5 | PL - 42 | S - 3 | OT - 7,5 140 5 Mobile Apps Development Semester Mandatory T - 22,5 | PL - 42 140 5 Web Marketing and E-business Semester Mandatory TP - 45 | OT - 5 112 4 Show subtitles T – Theoretical Teaching; TP – Theoretical/ Practical Teaching; TC – Field Work; PL – Theoretical/ Practical Teaching; S – Seminar; OT – Tutor Group; ** – Course Unit available in both semesters; (A) - Possible IPMA Certificat; 3 rd year - Fall Semester Course Units Duration Type Contact Hours Total Workload ECTS Artificial Intelligence Semester Mandatory T - 22,5 | PL - 45 | OT - 15 168 6 Business Process Management Semester Mandatory TP - 67,5 | OT - 7,5 168 6 Cybersecurity Semester Mandatory TP - 67,5 | OT - 10 112 4 Geospatial Intelligence Semester Mandatory TP - 45 | OT - 7,5 112 4 Personal Development II Semester Mandatory TP - 22,5 | OT - 5 56 2 Project of Information Systems Powered by Webasto Semester Mandatory TP - 22,5 | PL - 45 | OT - 10 224 8 Show subtitles T – Theoretical Teaching; TP – Theoretical/ Practical Teaching; TC – Field Work; PL – Theoretical/ Practical Teaching; S – Seminar; OT – Tutor Group; ** – Course Unit available in both semesters; 3 rd year - Spring Semester Course Units Duration Type Contact Hours Total Workload ECTS Applied Cybersecurity Semester Elective TP - 45 | OT - 7,5 112 4 Applied Economics Semester Elective T - 45 | OT - 5 112 4 Business Law Semester Elective TP - 45 | OT - 7,5 112 4 Digital Innovation Projects Semester Elective T - 45 | OT - 10 112 4 Entrepreneurship and Project Analysis Semester Elective TP - 45 | OT - 7,5 112 4 Financial Calculus and Project Analysis Semester Elective TP - 45 | OT - 7,5 112 4 Forecasting Methods Semester Elective T - 67,5 | OT - 15 168 6 Geospatial Analytics Semester Elective TP - 45 | OT - 7,5 112 4 Informatics and Information Law Semester Elective TP - 45 | OT - 10 112 4 Information Systems Seminar Semester Elective T - 9 | S - 45 | TC - 13,5 168 6 Information Tecnologies, Governance and Service Management Semester Elective T - 22,5 | PL - 45 | OT - 10 168 6 Machine Learning Semester Elective TP - 67,5 | OT - 15 168 6 Network Analysis Semester Elective T - 67,5 168 6 Nonparametric and Computational Statistics Semester Elective TP - 45 | OT - 5 112 4 People Management and Leadership Semester Elective TP - 45 | OT - 7,5 112 4 Process Intelligence Semester Elective TP - 45 112 4 Remote Sensing Semester Elective TP - 67,5 | OT - 10 168 6 Risk Management Semester Elective TP - 67,5 | OT - 10 168 6 Smart and Sustainable Cities Semester Elective T - 45 | OT - 7,5 112 4 Startup Venture Studio Semester Elective TP - 64,5 | OT - 7,5 168 6 Survey Methodology Semester Elective TP - 45 | OT - 5 112 4 Web Analytics Semester Elective TP - 45 | OT - 7,5 112 4 Show subtitles T – Theoretical Teaching; TP – Theoretical/ Practical Teaching; TC – Field Work; PL – Theoretical/ Practical Teaching; S – Seminar; OT – Tutor Group; ** – Course Unit available in both semesters; Course Unit\"),\n",
       " Document(metadata={'source': 'data-science_teaching-staff_extracted_text.txt'}, page_content=\"Text from https://www.novaims.unl.pt/en//programs/bachelor-s-degrees/data-science/teaching-staff/#: Teaching Staff en Programs Bachelor's Degrees Data Science Teaching Staff Américo Rio Invited Assistant Professor americo.rio@novaims.unl.pt Ana Cristina Costa Associate Professor cristina@novaims.unl.pt Artur Varanda Adjunct Lecturer avaranda@novaims.unl.pt Augusto Santos Assistant Professor ajrsantos@novaims.unl.pt Bruno Damásio Assistant Professor bdamasio@novaims.unl.pt Carina Albuquerque Assistant Professor calbuquerque@novaims.unl.pt Carolina Maria Shaul Adjunct Lecturer cshaul@novaims.unl.pt Carolina Santos Maximiano Adjunct Lecturer cmaximiano@novaims.unl.pt Carolina Vasconcelos Invited Teaching Assistant cvasconcelos@novaims.unl.pt Catarina Neves Assistant Professor cneves@novaims.unl.pt Catarina Palha Invited Teaching Assistant cpalha@novaims.unl.pt Dhruv Akshay Pandit Invited Teaching Assistant dpandit@novaims.unl.pt Diogo Rasteiro Research Assistant drasteiro@novaims.unl.pt Fernando Bação Full Professor bacao@novaims.unl.pt Filipe Marques Professor of the Practice fjmarques@novaims.unl.pt Gonçalo Baptista Professor of the Practice gbaptista@novaims.unl.pt Helena Guerra Invited Assistant Professor helena@novaims.unl.pt Ian Scott Assistant Professor iscott@novaims.unl.pt Ivo Bernardo Adjunct Lecturer ibernardo@novaims.unl.pt Joana Neves Assistant Professor jneves@novaims.unl.pt Jorge Neves Invited Assistant Professor jnneves@novaims.unl.pt José Carvalho Invited Teaching Assistant jcarvalho@novaims.unl.pt Leon Debatin Adjunct Lecturer 20230549@novaims.unl.pt Leonardo Vanneschi Full Professor lvanneschi@novaims.unl.pt Liah Rosenfeld Invited Teaching Assistant lrosenfeld@novaims.unl.pt Manuel Rodrigues Adjunct Lecturer merodrigues@novaims.unl.pt Manuela Aparício Assistant Professor manuela.aparicio@novaims.unl.pt Maria Fernandes Invited Assistant Professor mfernandes@novaims.unl.pt Mariana Dias Invited Teaching Assistant midias@novaims.unl.pt Marisa Fernandes Adjunct Lecturer mmfernandes@novaims.unl.pt Marisa Nunes Adjunct Lecturer mnunes@novaims.unl.pt Mauro Castelli Full Professor mcastelli@novaims.unl.pt Mijail Naranjo-Zolotov Assistant Professor mijail.naranjo@novaims.unl.pt Niclas Frederic Sturm Research Assistant nsturm@novaims.unl.pt Paulo Lapa Adjunct Lecturer plapa@novaims.unl.pt Pedro Fernandes Adjunct Lecturer pmfernandes@novaims.unl.pt Pedro Mota Professor of the Practice pmota@novaims.unl.pt Rafael dos Santos Pereira Adjunct Lecturer rpereira@novaims.unl.pt Roberto Henriques Associate Professor roberto@novaims.unl.pt Rute Silva Adjunct Lecturer rpsilva@novaims.unl.pt Samuel Santos Adjunct Lecturer samuel.santos@novaims.unl.pt Sandra Cristina Roque Candeias Adjunct Lecturer scandeias@novaims.unl.pt Sara dos Santos Fernandes Invited Teaching Assistant sfernandes@novaims.unl.pt Sofia Carreira da Conceição Alves Pereira Adjunct Lecturer spereira@novaims.unl.pt Tiago Santos Adjunct Lecturer tmsantos@novaims.unl.pt Victor Lobo Invited Full Professor vlobo@novaims.unl.pt Vítor Santos Assistant Professor vsantos@novaims.unl.pt Yuriy Perezhohin Research Assistant yperezhohin@novaims.unl.pt\"),\n",
       " Document(metadata={'source': 'information-management_teaching-staff_extracted_text.txt'}, page_content=\"Text from https://www.novaims.unl.pt/en//programs/bachelor-s-degrees/information-management/teaching-staff/#: Teaching Staff en Programs Bachelor's Degrees Information Management Teaching Staff Ana Beatriz Domingues Farinha Adjunct Lecturer afarinha@novaims.unl.pt Ana Cristina Costa Associate Professor cristina@novaims.unl.pt André Barriguinha Professor of the Practice abarriguinha@novaims.unl.pt Augusto Santos Assistant Professor ajrsantos@novaims.unl.pt Bruno Damásio Assistant Professor bdamasio@novaims.unl.pt Bruno Rodrigues Adjunct Lecturer brodrigues@novaims.unl.pt Carlos Tam Professor of the Practice carlosvai@novaims.unl.pt Carolina Maria Shaul Adjunct Lecturer cshaul@novaims.unl.pt Carolina Vasconcelos Invited Teaching Assistant cvasconcelos@novaims.unl.pt Catarina Neves Assistant Professor cneves@novaims.unl.pt Catarina Oliveira Ferraz Invited Teaching Assistant cferraz@novaims.unl.pt Constança Filipa Ferreira Rodrigues Adjunct Lecturer cfrodrigues@novaims.unl.pt Daniel Caridade Adjunct Lecturer dcaridade@novaims.unl.pt Diogo Rasteiro Research Assistant drasteiro@novaims.unl.pt Fernando Bação Full Professor bacao@novaims.unl.pt Filipe Marques Professor of the Practice fjmarques@novaims.unl.pt Frederico Cruz Jesus Associate Professor fjesus@novaims.unl.pt Gonçalo Baptista Professor of the Practice gbaptista@novaims.unl.pt Helena Guerra Invited Assistant Professor helena@novaims.unl.pt Henrique Carreiro Invited Assistant Professor hcarreiro@novaims.unl.pt Joana Neves Assistant Professor jneves@novaims.unl.pt João Martins Professor of the Practice jmartins@novaims.unl.pt Jorge Carrola Rodrigues Invited Assistant Professor jcarrola@novaims.unl.pt Jorge Neves Invited Assistant Professor jnneves@novaims.unl.pt José Carvalho Invited Teaching Assistant jcarvalho@novaims.unl.pt Leonardo Vanneschi Full Professor lvanneschi@novaims.unl.pt Liah Rosenfeld Invited Teaching Assistant lrosenfeld@novaims.unl.pt Manuel Cabugueira Professor of the Practice mcabugueira@novaims.unl.pt Manuel Rodrigues Adjunct Lecturer merodrigues@novaims.unl.pt Manuela Aparício Assistant Professor manuela.aparicio@novaims.unl.pt Márcia Lourenço Baptista Assistant Professor m.baptista@novaims.unl.pt Marco Galão Adjunct Lecturer mgalao@novaims.unl.pt Maria Fernandes Invited Assistant Professor mfernandes@novaims.unl.pt Maria Ferreira Adjunct Lecturer mferreira@novaims.unl.pt Mariana Dias Invited Teaching Assistant midias@novaims.unl.pt Mário Centeno Invited Full Professor mcenteno@novaims.unl.pt Marisa Fernandes Adjunct Lecturer mmfernandes@novaims.unl.pt Marisa Nunes Adjunct Lecturer mnunes@novaims.unl.pt Paulo Lapa Adjunct Lecturer plapa@novaims.unl.pt Pedro Malta Invited Assistant Professor pmalta@novaims.unl.pt Pedro Mota Professor of the Practice pmota@novaims.unl.pt Pedro Oliveira Adjunct Lecturer poliveira@novaims.unl.pt Rafael dos Santos Pereira Adjunct Lecturer rpereira@novaims.unl.pt Ricardo Santos Invited Teaching Assistant rcsantos@novaims.unl.pt Rita Lourenço Adjunct Lecturer rlourenco@novaims.unl.pt Roberto Henriques Associate Professor roberto@novaims.unl.pt Rute Silva Adjunct Lecturer rpsilva@novaims.unl.pt Salvador Rosado Invited Teaching Assistant srosado@novaims.unl.pt Samuel Santos Adjunct Lecturer samuel.santos@novaims.unl.pt Sandra Cristina Roque Candeias Adjunct Lecturer scandeias@novaims.unl.pt Sara dos Santos Fernandes Invited Teaching Assistant sfernandes@novaims.unl.pt Sofia Carreira da Conceição Alves Pereira Adjunct Lecturer spereira@novaims.unl.pt Sofia Lourenço Adjunct Lecturer slourenco@novaims.unl.pt Susana Esteves Invited Assistant Professor susana@novaims.unl.pt Tiago Humberto Oliveira Adjunct Lecturer tiago.oliveira@novaims.unl.pt Vicente Tang Invited Teaching Assistant vtang@novaims.unl.pt Vítor Santos Assistant Professor vsantos@novaims.unl.pt\"),\n",
       " Document(metadata={'source': 'information-systems_teaching-staff_extracted_text.txt'}, page_content=\"Text from https://www.novaims.unl.pt/en//programs/bachelor-s-degrees/information-systems/teaching-staff/#: Teaching Staff en Programs Bachelor's Degrees Information Systems Teaching Staff Américo Rio Invited Assistant Professor americo.rio@novaims.unl.pt Ana Cristina Costa Associate Professor cristina@novaims.unl.pt André Barriguinha Professor of the Practice abarriguinha@novaims.unl.pt António Monteiro Invited Teaching Assistant amonteiro@novaims.unl.pt Augusto Santos Assistant Professor ajrsantos@novaims.unl.pt Bruno Rodrigues Adjunct Lecturer brodrigues@novaims.unl.pt Carlos Tam Professor of the Practice carlosvai@novaims.unl.pt Carolina Beatriz Lopes Silvestre Adjunct Lecturer csilvestre@novaims.unl.pt Constança Filipa Ferreira Rodrigues Adjunct Lecturer cfrodrigues@novaims.unl.pt Diogo Rasteiro Research Assistant drasteiro@novaims.unl.pt Filipe Marques Professor of the Practice fjmarques@novaims.unl.pt Filipe Montargil Invited Associate Professor fmontargil@novaims.unl.pt Frederico Cruz Jesus Associate Professor fjesus@novaims.unl.pt Gonçalo Baptista Professor of the Practice gbaptista@novaims.unl.pt Gonçalo Rijo Adjunct Lecturer grijo@novaims.unl.pt Helena Guerra Invited Assistant Professor helena@novaims.unl.pt Henrique Carreiro Invited Assistant Professor hcarreiro@novaims.unl.pt Joana Neves Assistant Professor jneves@novaims.unl.pt Jorge Neves Invited Assistant Professor jnneves@novaims.unl.pt José Carvalho Invited Teaching Assistant jcarvalho@novaims.unl.pt José Mamede Professor of the Practice jmamede@novaims.unl.pt Leonardo Vanneschi Full Professor lvanneschi@novaims.unl.pt Liah Rosenfeld Invited Teaching Assistant lrosenfeld@novaims.unl.pt Manuel Rodrigues Adjunct Lecturer merodrigues@novaims.unl.pt Manuela Aparício Assistant Professor manuela.aparicio@novaims.unl.pt Márcia Lourenço Baptista Assistant Professor m.baptista@novaims.unl.pt Marco Silva Adjunct Lecturer masilva@novaims.unl.pt Maria Fernandes Invited Assistant Professor mfernandes@novaims.unl.pt Mariana Dias Invited Teaching Assistant midias@novaims.unl.pt Marisa Fernandes Adjunct Lecturer mmfernandes@novaims.unl.pt Marisa Nunes Adjunct Lecturer mnunes@novaims.unl.pt Mijail Naranjo-Zolotov Assistant Professor mijail.naranjo@novaims.unl.pt Patrícia Mestre Adjunct Lecturer pmestre@novaims.unl.pt Paulo Lapa Adjunct Lecturer plapa@novaims.unl.pt Pedro Antunes Adjunct Lecturer pantunes@novaims.unl.pt Pedro Fernandes Adjunct Lecturer pmfernandes@novaims.unl.pt Pedro Malta Invited Assistant Professor pmalta@novaims.unl.pt Pedro Mota Professor of the Practice pmota@novaims.unl.pt Rafael dos Santos Pereira Adjunct Lecturer rpereira@novaims.unl.pt Ricardo Martins Professor of the Practice rmartins@novaims.unl.pt Rita Lourenço Adjunct Lecturer rlourenco@novaims.unl.pt Rui Soares Adjunct Lecturer rsoares@novaims.unl.pt Rute Silva Adjunct Lecturer rpsilva@novaims.unl.pt Samuel Santos Adjunct Lecturer samuel.santos@novaims.unl.pt Sandra Cristina Roque Candeias Adjunct Lecturer scandeias@novaims.unl.pt Sara dos Santos Fernandes Invited Teaching Assistant sfernandes@novaims.unl.pt Sofia Lourenço Adjunct Lecturer slourenco@novaims.unl.pt Tiago Humberto Oliveira Adjunct Lecturer tiago.oliveira@novaims.unl.pt Tiago Oliveira Full Professor toliveira@novaims.unl.pt Vicente Tang Invited Teaching Assistant vtang@novaims.unl.pt Victor Lobo Invited Full Professor vlobo@novaims.unl.pt Vítor Santos Assistant Professor vsantos@novaims.unl.pt\")]"
      ]
     },
     "execution_count": 6,
     "metadata": {},
     "output_type": "execute_result"
    }
   ],
   "source": [
    "all_documents"
   ]
  },
  {
   "cell_type": "markdown",
   "id": "1502efb6",
   "metadata": {},
   "source": [
    "## Chunking"
   ]
  },
  {
   "cell_type": "markdown",
   "id": "f52a81be",
   "metadata": {},
   "source": [
    "**Bachelors teaching staff example**"
   ]
  },
  {
   "cell_type": "code",
   "execution_count": 7,
   "id": "96e17587",
   "metadata": {},
   "outputs": [],
   "source": [
    "def split_teaching_staff_grouped(text, metadata=None, max_token_size=200):\n",
    "    # Regex pattern to match a block of \"Name\\nTitle\\nEmail\"\n",
    "    pattern = r\"([A-Z][a-zA-Zçéàèíóõâêã]+\\s+[A-Z][a-zA-Zçéàèíóõâêã]+.*?)\\s([\\w\\.\\s]+?)\\s([\\w\\.-]+@novaims\\.unl\\.pt)\"\n",
    "    matches = re.findall(pattern, text)\n",
    "    \n",
    "    grouped_text = \"\"\n",
    "    chunks = []\n",
    "    current_chunk_token_count = 0  # Keep track of the current chunk's token count\n",
    "\n",
    "    for match in matches:\n",
    "        name, title, email = match\n",
    "        professor_info = f\"{name}\\n{title}\\n{email}\\n\\n\"\n",
    "        \n",
    "        # Estimate the number of tokens in the new professor info (rough estimate by splitting on space)\n",
    "        token_count = len(professor_info.split())\n",
    "\n",
    "        # If adding this professor exceeds the max token size, start a new chunk\n",
    "        if current_chunk_token_count + token_count > max_token_size:\n",
    "            if grouped_text:\n",
    "                # Add the current chunk as a new document and reset\n",
    "                chunks.append(Document(page_content=grouped_text, metadata=metadata or {}))\n",
    "                grouped_text = \"\"  # Reset for the next group\n",
    "                current_chunk_token_count = 0  # Reset token count for the new chunk\n",
    "        \n",
    "        # Add the current professor to the group\n",
    "        grouped_text += professor_info\n",
    "        current_chunk_token_count += token_count\n",
    "\n",
    "    # Add the last chunk if there's any remaining text\n",
    "    if grouped_text:\n",
    "        chunks.append(Document(page_content=grouped_text, metadata=metadata or {}))\n",
    "\n",
    "    return chunks"
   ]
  },
  {
   "cell_type": "code",
   "execution_count": 8,
   "id": "634d6a76",
   "metadata": {},
   "outputs": [
    {
     "name": "stdout",
     "output_type": "stream",
     "text": [
      "2\n",
      "Teaching Staff en Programs Bachelor's\n",
      "Degrees Data Science Teaching Staff Américo Rio Invited Assistant Professor\n",
      "americo.rio@novaims.unl.pt\n",
      "\n",
      "Ana Cristina\n",
      "Costa Associate Professor\n",
      "cristina@novaims.unl.pt\n",
      "\n",
      "Artur Varanda\n",
      "Adjunct Lecturer\n",
      "avaranda@novaims.unl.pt\n",
      "\n",
      "Augusto Santos\n",
      "Assistant Professor\n",
      "ajrsantos@novaims.unl.pt\n",
      "\n",
      "Bruno Damásio\n",
      "Assistant Professor\n",
      "bdamasio@novaims.unl.pt\n",
      "\n",
      "Carina Albuquerque\n",
      "Assistant Professor\n",
      "calbuquerque@novaims.unl.pt\n",
      "\n",
      "Carolina Maria\n",
      "Shaul Adjunct Lecturer\n",
      "cshaul@novaims.unl.pt\n",
      "\n",
      "Carolina Santos\n",
      "Maximiano Adjunct Lecturer\n",
      "cmaximiano@novaims.unl.pt\n",
      "\n",
      "Carolina Vasconcelos\n",
      "Invited Teaching Assistant\n",
      "cvasconcelos@novaims.unl.pt\n",
      "\n",
      "Catarina Neves\n",
      "Assistant Professor\n",
      "cneves@novaims.unl.pt\n",
      "\n",
      "Catarina Palha\n",
      "Invited Teaching Assistant\n",
      "cpalha@novaims.unl.pt\n",
      "\n",
      "Dhruv Akshay\n",
      "Pandit Invited Teaching Assistant\n",
      "dpandit@novaims.unl.pt\n",
      "\n",
      "Diogo Rasteiro\n",
      "Research Assistant\n",
      "drasteiro@novaims.unl.pt\n",
      "\n",
      "Fernando Bação\n",
      "Full Professor\n",
      "bacao@novaims.unl.pt\n",
      "\n",
      "Filipe Marques\n",
      "Professor of the Practice\n",
      "fjmarques@novaims.unl.pt\n",
      "\n",
      "Gonçalo Baptista\n",
      "Professor of the Practice\n",
      "gbaptista@novaims.unl.pt\n",
      "\n",
      "Helena Guerra\n",
      "Invited Assistant Professor\n",
      "helena@novaims.unl.pt\n",
      "\n",
      "Ian Scott\n",
      "Assistant Professor\n",
      "iscott@novaims.unl.pt\n",
      "\n",
      "Ivo Bernardo\n",
      "Adjunct Lecturer\n",
      "ibernardo@novaims.unl.pt\n",
      "\n",
      "Joana Neves\n",
      "Assistant Professor\n",
      "jneves@novaims.unl.pt\n",
      "\n",
      "Jorge Neves\n",
      "Invited Assistant Professor\n",
      "jnneves@novaims.unl.pt\n",
      "\n",
      "José Carvalho\n",
      "Invited Teaching Assistant\n",
      "jcarvalho@novaims.unl.pt\n",
      "\n",
      "Leon Debatin\n",
      "Adjunct Lecturer\n",
      "20230549@novaims.unl.pt\n",
      "\n",
      "Leonardo Vanneschi\n",
      "Full Professor\n",
      "lvanneschi@novaims.unl.pt\n",
      "\n",
      "Liah Rosenfeld\n",
      "Invited Teaching Assistant\n",
      "lrosenfeld@novaims.unl.pt\n",
      "\n",
      "Manuel Rodrigues\n",
      "Adjunct Lecturer\n",
      "merodrigues@novaims.unl.pt\n",
      "\n",
      "Manuela Aparício\n",
      "Assistant Professor\n",
      "manuela.aparicio@novaims.unl.pt\n",
      "\n",
      "Maria Fernandes\n",
      "Invited Assistant Professor\n",
      "mfernandes@novaims.unl.pt\n",
      "\n",
      "Mariana Dias\n",
      "Invited Teaching Assistant\n",
      "midias@novaims.unl.pt\n",
      "\n",
      "Marisa Fernandes\n",
      "Adjunct Lecturer\n",
      "mmfernandes@novaims.unl.pt\n",
      "\n",
      "Marisa Nunes\n",
      "Adjunct Lecturer\n",
      "mnunes@novaims.unl.pt\n",
      "\n",
      "Mauro Castelli\n",
      "Full Professor\n",
      "mcastelli@novaims.unl.pt\n",
      "\n",
      "Mijail Naranjo-Zolotov\n",
      "Assistant Professor\n",
      "mijail.naranjo@novaims.unl.pt\n",
      "\n",
      "Niclas Frederic\n",
      "Sturm Research Assistant\n",
      "nsturm@novaims.unl.pt\n",
      "\n",
      "\n"
     ]
    }
   ],
   "source": [
    "# Extract the text content from the Document\n",
    "staff_text = all_documents[6].page_content\n",
    "\n",
    "# Pass the extracted text to the split function\n",
    "staff_chunks = split_teaching_staff_grouped(staff_text, metadata={\"source\": \"teaching_staff\"})\n",
    "\n",
    "# Print the number of chunks and the content of the first chunk\n",
    "print(len(staff_chunks))\n",
    "print(staff_chunks[0].page_content)"
   ]
  },
  {
   "cell_type": "markdown",
   "id": "ec3343f7",
   "metadata": {},
   "source": [
    "## Embeddings"
   ]
  },
  {
   "cell_type": "markdown",
   "id": "0fc76064",
   "metadata": {},
   "source": [
    "To clean cache to fix the error of loop in importing torch: %pip cache purge"
   ]
  },
  {
   "cell_type": "code",
   "execution_count": 9,
   "id": "6051a56e",
   "metadata": {},
   "outputs": [
    {
     "ename": "KeyboardInterrupt",
     "evalue": "",
     "output_type": "error",
     "traceback": [
      "\u001b[31m---------------------------------------------------------------------------\u001b[39m",
      "\u001b[31mKeyboardInterrupt\u001b[39m                         Traceback (most recent call last)",
      "\u001b[36mCell\u001b[39m\u001b[36m \u001b[39m\u001b[32mIn[9]\u001b[39m\u001b[32m, line 3\u001b[39m\n\u001b[32m      1\u001b[39m \u001b[38;5;28;01mfrom\u001b[39;00m\u001b[38;5;250m \u001b[39m\u001b[34;01mlangchain_huggingface\u001b[39;00m\u001b[38;5;250m \u001b[39m\u001b[38;5;28;01mimport\u001b[39;00m HuggingFaceEmbeddings\n\u001b[32m----> \u001b[39m\u001b[32m3\u001b[39m embeddings = \u001b[43mHuggingFaceEmbeddings\u001b[49m\u001b[43m(\u001b[49m\u001b[43mmodel_name\u001b[49m\u001b[43m=\u001b[49m\u001b[33;43m\"\u001b[39;49m\u001b[33;43msentence-transformers/all-mpnet-base-v2\u001b[39;49m\u001b[33;43m\"\u001b[39;49m\u001b[43m)\u001b[49m\n",
      "\u001b[36mFile \u001b[39m\u001b[32mc:\\Users\\1176153\\Downloads\\github\\Thesis\\thesis_env\\Lib\\site-packages\\langchain_huggingface\\embeddings\\huggingface.py:52\u001b[39m, in \u001b[36mHuggingFaceEmbeddings.__init__\u001b[39m\u001b[34m(self, **kwargs)\u001b[39m\n\u001b[32m     50\u001b[39m \u001b[38;5;28msuper\u001b[39m().\u001b[34m__init__\u001b[39m(**kwargs)\n\u001b[32m     51\u001b[39m \u001b[38;5;28;01mtry\u001b[39;00m:\n\u001b[32m---> \u001b[39m\u001b[32m52\u001b[39m     \u001b[38;5;28;01mimport\u001b[39;00m\u001b[38;5;250m \u001b[39m\u001b[34;01msentence_transformers\u001b[39;00m  \u001b[38;5;66;03m# type: ignore[import]\u001b[39;00m\n\u001b[32m     53\u001b[39m \u001b[38;5;28;01mexcept\u001b[39;00m \u001b[38;5;167;01mImportError\u001b[39;00m \u001b[38;5;28;01mas\u001b[39;00m exc:\n\u001b[32m     54\u001b[39m     \u001b[38;5;28;01mraise\u001b[39;00m \u001b[38;5;167;01mImportError\u001b[39;00m(\n\u001b[32m     55\u001b[39m         \u001b[33m\"\u001b[39m\u001b[33mCould not import sentence_transformers python package. \u001b[39m\u001b[33m\"\u001b[39m\n\u001b[32m     56\u001b[39m         \u001b[33m\"\u001b[39m\u001b[33mPlease install it with `pip install sentence-transformers`.\u001b[39m\u001b[33m\"\u001b[39m\n\u001b[32m     57\u001b[39m     ) \u001b[38;5;28;01mfrom\u001b[39;00m\u001b[38;5;250m \u001b[39m\u001b[34;01mexc\u001b[39;00m\n",
      "\u001b[36mFile \u001b[39m\u001b[32mc:\\Users\\1176153\\Downloads\\github\\Thesis\\thesis_env\\Lib\\site-packages\\sentence_transformers\\__init__.py:14\u001b[39m\n\u001b[32m      7\u001b[39m \u001b[38;5;28;01mimport\u001b[39;00m\u001b[38;5;250m \u001b[39m\u001b[34;01mos\u001b[39;00m\n\u001b[32m      9\u001b[39m \u001b[38;5;28;01mfrom\u001b[39;00m\u001b[38;5;250m \u001b[39m\u001b[34;01msentence_transformers\u001b[39;00m\u001b[34;01m.\u001b[39;00m\u001b[34;01mbackend\u001b[39;00m\u001b[38;5;250m \u001b[39m\u001b[38;5;28;01mimport\u001b[39;00m (\n\u001b[32m     10\u001b[39m     export_dynamic_quantized_onnx_model,\n\u001b[32m     11\u001b[39m     export_optimized_onnx_model,\n\u001b[32m     12\u001b[39m     export_static_quantized_openvino_model,\n\u001b[32m     13\u001b[39m )\n\u001b[32m---> \u001b[39m\u001b[32m14\u001b[39m \u001b[38;5;28;01mfrom\u001b[39;00m\u001b[38;5;250m \u001b[39m\u001b[34;01msentence_transformers\u001b[39;00m\u001b[34;01m.\u001b[39;00m\u001b[34;01mcross_encoder\u001b[39;00m\u001b[38;5;250m \u001b[39m\u001b[38;5;28;01mimport\u001b[39;00m (\n\u001b[32m     15\u001b[39m     CrossEncoder,\n\u001b[32m     16\u001b[39m     CrossEncoderModelCardData,\n\u001b[32m     17\u001b[39m     CrossEncoderTrainer,\n\u001b[32m     18\u001b[39m     CrossEncoderTrainingArguments,\n\u001b[32m     19\u001b[39m )\n\u001b[32m     20\u001b[39m \u001b[38;5;28;01mfrom\u001b[39;00m\u001b[38;5;250m \u001b[39m\u001b[34;01msentence_transformers\u001b[39;00m\u001b[34;01m.\u001b[39;00m\u001b[34;01mdatasets\u001b[39;00m\u001b[38;5;250m \u001b[39m\u001b[38;5;28;01mimport\u001b[39;00m ParallelSentencesDataset, SentencesDataset\n\u001b[32m     21\u001b[39m \u001b[38;5;28;01mfrom\u001b[39;00m\u001b[38;5;250m \u001b[39m\u001b[34;01msentence_transformers\u001b[39;00m\u001b[34;01m.\u001b[39;00m\u001b[34;01mLoggingHandler\u001b[39;00m\u001b[38;5;250m \u001b[39m\u001b[38;5;28;01mimport\u001b[39;00m LoggingHandler\n",
      "\u001b[36mFile \u001b[39m\u001b[32mc:\\Users\\1176153\\Downloads\\github\\Thesis\\thesis_env\\Lib\\site-packages\\sentence_transformers\\cross_encoder\\__init__.py:3\u001b[39m\n\u001b[32m      1\u001b[39m \u001b[38;5;28;01mfrom\u001b[39;00m\u001b[38;5;250m \u001b[39m\u001b[34;01m__future__\u001b[39;00m\u001b[38;5;250m \u001b[39m\u001b[38;5;28;01mimport\u001b[39;00m annotations\n\u001b[32m----> \u001b[39m\u001b[32m3\u001b[39m \u001b[38;5;28;01mfrom\u001b[39;00m\u001b[38;5;250m \u001b[39m\u001b[34;01m.\u001b[39;00m\u001b[34;01mCrossEncoder\u001b[39;00m\u001b[38;5;250m \u001b[39m\u001b[38;5;28;01mimport\u001b[39;00m CrossEncoder\n\u001b[32m      4\u001b[39m \u001b[38;5;28;01mfrom\u001b[39;00m\u001b[38;5;250m \u001b[39m\u001b[34;01m.\u001b[39;00m\u001b[34;01mmodel_card\u001b[39;00m\u001b[38;5;250m \u001b[39m\u001b[38;5;28;01mimport\u001b[39;00m CrossEncoderModelCardData\n\u001b[32m      5\u001b[39m \u001b[38;5;28;01mfrom\u001b[39;00m\u001b[38;5;250m \u001b[39m\u001b[34;01m.\u001b[39;00m\u001b[34;01mtrainer\u001b[39;00m\u001b[38;5;250m \u001b[39m\u001b[38;5;28;01mimport\u001b[39;00m CrossEncoderTrainer\n",
      "\u001b[36mFile \u001b[39m\u001b[32mc:\\Users\\1176153\\Downloads\\github\\Thesis\\thesis_env\\Lib\\site-packages\\sentence_transformers\\cross_encoder\\CrossEncoder.py:15\u001b[39m\n\u001b[32m     13\u001b[39m \u001b[38;5;28;01mfrom\u001b[39;00m\u001b[38;5;250m \u001b[39m\u001b[34;01mtorch\u001b[39;00m\u001b[38;5;250m \u001b[39m\u001b[38;5;28;01mimport\u001b[39;00m nn\n\u001b[32m     14\u001b[39m \u001b[38;5;28;01mfrom\u001b[39;00m\u001b[38;5;250m \u001b[39m\u001b[34;01mtqdm\u001b[39;00m\u001b[34;01m.\u001b[39;00m\u001b[34;01mautonotebook\u001b[39;00m\u001b[38;5;250m \u001b[39m\u001b[38;5;28;01mimport\u001b[39;00m trange\n\u001b[32m---> \u001b[39m\u001b[32m15\u001b[39m \u001b[38;5;28;01mfrom\u001b[39;00m\u001b[38;5;250m \u001b[39m\u001b[34;01mtransformers\u001b[39;00m\u001b[38;5;250m \u001b[39m\u001b[38;5;28;01mimport\u001b[39;00m (\n\u001b[32m     16\u001b[39m     AutoConfig,\n\u001b[32m     17\u001b[39m     AutoModelForSequenceClassification,\n\u001b[32m     18\u001b[39m     AutoTokenizer,\n\u001b[32m     19\u001b[39m     PretrainedConfig,\n\u001b[32m     20\u001b[39m     PreTrainedModel,\n\u001b[32m     21\u001b[39m )\n\u001b[32m     22\u001b[39m \u001b[38;5;28;01mfrom\u001b[39;00m\u001b[38;5;250m \u001b[39m\u001b[34;01mtransformers\u001b[39;00m\u001b[34;01m.\u001b[39;00m\u001b[34;01mutils\u001b[39;00m\u001b[38;5;250m \u001b[39m\u001b[38;5;28;01mimport\u001b[39;00m PushToHubMixin\n\u001b[32m     23\u001b[39m \u001b[38;5;28;01mfrom\u001b[39;00m\u001b[38;5;250m \u001b[39m\u001b[34;01mtyping_extensions\u001b[39;00m\u001b[38;5;250m \u001b[39m\u001b[38;5;28;01mimport\u001b[39;00m deprecated\n",
      "\u001b[36mFile \u001b[39m\u001b[32m<frozen importlib._bootstrap>:1229\u001b[39m, in \u001b[36m_handle_fromlist\u001b[39m\u001b[34m(module, fromlist, import_, recursive)\u001b[39m\n",
      "\u001b[36mFile \u001b[39m\u001b[32mc:\\Users\\1176153\\Downloads\\github\\Thesis\\thesis_env\\Lib\\site-packages\\transformers\\utils\\import_utils.py:1964\u001b[39m, in \u001b[36m_LazyModule.__getattr__\u001b[39m\u001b[34m(self, name)\u001b[39m\n\u001b[32m   1962\u001b[39m     value = Placeholder\n\u001b[32m   1963\u001b[39m \u001b[38;5;28;01melif\u001b[39;00m name \u001b[38;5;129;01min\u001b[39;00m \u001b[38;5;28mself\u001b[39m._class_to_module.keys():\n\u001b[32m-> \u001b[39m\u001b[32m1964\u001b[39m     module = \u001b[38;5;28;43mself\u001b[39;49m\u001b[43m.\u001b[49m\u001b[43m_get_module\u001b[49m\u001b[43m(\u001b[49m\u001b[38;5;28;43mself\u001b[39;49m\u001b[43m.\u001b[49m\u001b[43m_class_to_module\u001b[49m\u001b[43m[\u001b[49m\u001b[43mname\u001b[49m\u001b[43m]\u001b[49m\u001b[43m)\u001b[49m\n\u001b[32m   1965\u001b[39m     value = \u001b[38;5;28mgetattr\u001b[39m(module, name)\n\u001b[32m   1966\u001b[39m \u001b[38;5;28;01melif\u001b[39;00m name \u001b[38;5;129;01min\u001b[39;00m \u001b[38;5;28mself\u001b[39m._modules:\n",
      "\u001b[36mFile \u001b[39m\u001b[32mc:\\Users\\1176153\\Downloads\\github\\Thesis\\thesis_env\\Lib\\site-packages\\transformers\\utils\\import_utils.py:1976\u001b[39m, in \u001b[36m_LazyModule._get_module\u001b[39m\u001b[34m(self, module_name)\u001b[39m\n\u001b[32m   1974\u001b[39m \u001b[38;5;28;01mdef\u001b[39;00m\u001b[38;5;250m \u001b[39m\u001b[34m_get_module\u001b[39m(\u001b[38;5;28mself\u001b[39m, module_name: \u001b[38;5;28mstr\u001b[39m):\n\u001b[32m   1975\u001b[39m     \u001b[38;5;28;01mtry\u001b[39;00m:\n\u001b[32m-> \u001b[39m\u001b[32m1976\u001b[39m         \u001b[38;5;28;01mreturn\u001b[39;00m \u001b[43mimportlib\u001b[49m\u001b[43m.\u001b[49m\u001b[43mimport_module\u001b[49m\u001b[43m(\u001b[49m\u001b[33;43m\"\u001b[39;49m\u001b[33;43m.\u001b[39;49m\u001b[33;43m\"\u001b[39;49m\u001b[43m \u001b[49m\u001b[43m+\u001b[49m\u001b[43m \u001b[49m\u001b[43mmodule_name\u001b[49m\u001b[43m,\u001b[49m\u001b[43m \u001b[49m\u001b[38;5;28;43mself\u001b[39;49m\u001b[43m.\u001b[49m\u001b[34;43m__name__\u001b[39;49m\u001b[43m)\u001b[49m\n\u001b[32m   1977\u001b[39m     \u001b[38;5;28;01mexcept\u001b[39;00m \u001b[38;5;167;01mException\u001b[39;00m \u001b[38;5;28;01mas\u001b[39;00m e:\n\u001b[32m   1978\u001b[39m         \u001b[38;5;28;01mraise\u001b[39;00m \u001b[38;5;167;01mRuntimeError\u001b[39;00m(\n\u001b[32m   1979\u001b[39m             \u001b[33mf\u001b[39m\u001b[33m\"\u001b[39m\u001b[33mFailed to import \u001b[39m\u001b[38;5;132;01m{\u001b[39;00m\u001b[38;5;28mself\u001b[39m.\u001b[34m__name__\u001b[39m\u001b[38;5;132;01m}\u001b[39;00m\u001b[33m.\u001b[39m\u001b[38;5;132;01m{\u001b[39;00mmodule_name\u001b[38;5;132;01m}\u001b[39;00m\u001b[33m because of the following error (look up to see its\u001b[39m\u001b[33m\"\u001b[39m\n\u001b[32m   1980\u001b[39m             \u001b[33mf\u001b[39m\u001b[33m\"\u001b[39m\u001b[33m traceback):\u001b[39m\u001b[38;5;130;01m\\n\u001b[39;00m\u001b[38;5;132;01m{\u001b[39;00me\u001b[38;5;132;01m}\u001b[39;00m\u001b[33m\"\u001b[39m\n\u001b[32m   1981\u001b[39m         ) \u001b[38;5;28;01mfrom\u001b[39;00m\u001b[38;5;250m \u001b[39m\u001b[34;01me\u001b[39;00m\n",
      "\u001b[36mFile \u001b[39m\u001b[32m~\\AppData\\Local\\Programs\\Python\\Python311\\Lib\\importlib\\__init__.py:126\u001b[39m, in \u001b[36mimport_module\u001b[39m\u001b[34m(name, package)\u001b[39m\n\u001b[32m    124\u001b[39m             \u001b[38;5;28;01mbreak\u001b[39;00m\n\u001b[32m    125\u001b[39m         level += \u001b[32m1\u001b[39m\n\u001b[32m--> \u001b[39m\u001b[32m126\u001b[39m \u001b[38;5;28;01mreturn\u001b[39;00m \u001b[43m_bootstrap\u001b[49m\u001b[43m.\u001b[49m\u001b[43m_gcd_import\u001b[49m\u001b[43m(\u001b[49m\u001b[43mname\u001b[49m\u001b[43m[\u001b[49m\u001b[43mlevel\u001b[49m\u001b[43m:\u001b[49m\u001b[43m]\u001b[49m\u001b[43m,\u001b[49m\u001b[43m \u001b[49m\u001b[43mpackage\u001b[49m\u001b[43m,\u001b[49m\u001b[43m \u001b[49m\u001b[43mlevel\u001b[49m\u001b[43m)\u001b[49m\n",
      "\u001b[36mFile \u001b[39m\u001b[32mc:\\Users\\1176153\\Downloads\\github\\Thesis\\thesis_env\\Lib\\site-packages\\transformers\\models\\__init__.py:15\u001b[39m\n\u001b[32m      1\u001b[39m \u001b[38;5;66;03m# Copyright 2020 The HuggingFace Team. All rights reserved.\u001b[39;00m\n\u001b[32m      2\u001b[39m \u001b[38;5;66;03m#\u001b[39;00m\n\u001b[32m      3\u001b[39m \u001b[38;5;66;03m# Licensed under the Apache License, Version 2.0 (the \"License\");\u001b[39;00m\n\u001b[32m   (...)\u001b[39m\u001b[32m     12\u001b[39m \u001b[38;5;66;03m# See the License for the specific language governing permissions and\u001b[39;00m\n\u001b[32m     13\u001b[39m \u001b[38;5;66;03m# limitations under the License.\u001b[39;00m\n\u001b[32m---> \u001b[39m\u001b[32m15\u001b[39m \u001b[38;5;28;01mfrom\u001b[39;00m\u001b[38;5;250m \u001b[39m\u001b[34;01m.\u001b[39;00m\u001b[38;5;250m \u001b[39m\u001b[38;5;28;01mimport\u001b[39;00m (\n\u001b[32m     16\u001b[39m     albert,\n\u001b[32m     17\u001b[39m     align,\n\u001b[32m     18\u001b[39m     altclip,\n\u001b[32m     19\u001b[39m     aria,\n\u001b[32m     20\u001b[39m     audio_spectrogram_transformer,\n\u001b[32m     21\u001b[39m     auto,\n\u001b[32m     22\u001b[39m     autoformer,\n\u001b[32m     23\u001b[39m     aya_vision,\n\u001b[32m     24\u001b[39m     bamba,\n\u001b[32m     25\u001b[39m     bark,\n\u001b[32m     26\u001b[39m     bart,\n\u001b[32m     27\u001b[39m     barthez,\n\u001b[32m     28\u001b[39m     bartpho,\n\u001b[32m     29\u001b[39m     beit,\n\u001b[32m     30\u001b[39m     bert,\n\u001b[32m     31\u001b[39m     bert_generation,\n\u001b[32m     32\u001b[39m     bert_japanese,\n\u001b[32m     33\u001b[39m     bertweet,\n\u001b[32m     34\u001b[39m     big_bird,\n\u001b[32m     35\u001b[39m     bigbird_pegasus,\n\u001b[32m     36\u001b[39m     biogpt,\n\u001b[32m     37\u001b[39m     bit,\n\u001b[32m     38\u001b[39m     blenderbot,\n\u001b[32m     39\u001b[39m     blenderbot_small,\n\u001b[32m     40\u001b[39m     blip,\n\u001b[32m     41\u001b[39m     blip_2,\n\u001b[32m     42\u001b[39m     bloom,\n\u001b[32m     43\u001b[39m     bridgetower,\n\u001b[32m     44\u001b[39m     bros,\n\u001b[32m     45\u001b[39m     byt5,\n\u001b[32m     46\u001b[39m     camembert,\n\u001b[32m     47\u001b[39m     canine,\n\u001b[32m     48\u001b[39m     chameleon,\n\u001b[32m     49\u001b[39m     chinese_clip,\n\u001b[32m     50\u001b[39m     clap,\n\u001b[32m     51\u001b[39m     clip,\n\u001b[32m     52\u001b[39m     clipseg,\n\u001b[32m     53\u001b[39m     clvp,\n\u001b[32m     54\u001b[39m     code_llama,\n\u001b[32m     55\u001b[39m     codegen,\n\u001b[32m     56\u001b[39m     cohere,\n\u001b[32m     57\u001b[39m     cohere2,\n\u001b[32m     58\u001b[39m     colpali,\n\u001b[32m     59\u001b[39m     conditional_detr,\n\u001b[32m     60\u001b[39m     convbert,\n\u001b[32m     61\u001b[39m     convnext,\n\u001b[32m     62\u001b[39m     convnextv2,\n\u001b[32m     63\u001b[39m     cpm,\n\u001b[32m     64\u001b[39m     cpmant,\n\u001b[32m     65\u001b[39m     ctrl,\n\u001b[32m     66\u001b[39m     cvt,\n\u001b[32m     67\u001b[39m     dab_detr,\n\u001b[32m     68\u001b[39m     dac,\n\u001b[32m     69\u001b[39m     data2vec,\n\u001b[32m     70\u001b[39m     dbrx,\n\u001b[32m     71\u001b[39m     deberta,\n\u001b[32m     72\u001b[39m     deberta_v2,\n\u001b[32m     73\u001b[39m     decision_transformer,\n\u001b[32m     74\u001b[39m     deformable_detr,\n\u001b[32m     75\u001b[39m     deit,\n\u001b[32m     76\u001b[39m     deprecated,\n\u001b[32m     77\u001b[39m     depth_anything,\n\u001b[32m     78\u001b[39m     depth_pro,\n\u001b[32m     79\u001b[39m     detr,\n\u001b[32m     80\u001b[39m     dialogpt,\n\u001b[32m     81\u001b[39m     diffllama,\n\u001b[32m     82\u001b[39m     dinat,\n\u001b[32m     83\u001b[39m     dinov2,\n\u001b[32m     84\u001b[39m     dinov2_with_registers,\n\u001b[32m     85\u001b[39m     distilbert,\n\u001b[32m     86\u001b[39m     dit,\n\u001b[32m     87\u001b[39m     donut,\n\u001b[32m     88\u001b[39m     dpr,\n\u001b[32m     89\u001b[39m     dpt,\n\u001b[32m     90\u001b[39m     efficientnet,\n\u001b[32m     91\u001b[39m     electra,\n\u001b[32m     92\u001b[39m     emu3,\n\u001b[32m     93\u001b[39m     encodec,\n\u001b[32m     94\u001b[39m     encoder_decoder,\n\u001b[32m     95\u001b[39m     ernie,\n\u001b[32m     96\u001b[39m     esm,\n\u001b[32m     97\u001b[39m     falcon,\n\u001b[32m     98\u001b[39m     falcon_mamba,\n\u001b[32m     99\u001b[39m     fastspeech2_conformer,\n\u001b[32m    100\u001b[39m     flaubert,\n\u001b[32m    101\u001b[39m     flava,\n\u001b[32m    102\u001b[39m     fnet,\n\u001b[32m    103\u001b[39m     focalnet,\n\u001b[32m    104\u001b[39m     fsmt,\n\u001b[32m    105\u001b[39m     funnel,\n\u001b[32m    106\u001b[39m     fuyu,\n\u001b[32m    107\u001b[39m     gemma,\n\u001b[32m    108\u001b[39m     gemma2,\n\u001b[32m    109\u001b[39m     gemma3,\n\u001b[32m    110\u001b[39m     git,\n\u001b[32m    111\u001b[39m     glm,\n\u001b[32m    112\u001b[39m     glpn,\n\u001b[32m    113\u001b[39m     got_ocr2,\n\u001b[32m    114\u001b[39m     gpt2,\n\u001b[32m    115\u001b[39m     gpt_bigcode,\n\u001b[32m    116\u001b[39m     gpt_neo,\n\u001b[32m    117\u001b[39m     gpt_neox,\n\u001b[32m    118\u001b[39m     gpt_neox_japanese,\n\u001b[32m    119\u001b[39m     gpt_sw3,\n\u001b[32m    120\u001b[39m     gptj,\n\u001b[32m    121\u001b[39m     granite,\n\u001b[32m    122\u001b[39m     granitemoe,\n\u001b[32m    123\u001b[39m     granitemoeshared,\n\u001b[32m    124\u001b[39m     grounding_dino,\n\u001b[32m    125\u001b[39m     groupvit,\n\u001b[32m    126\u001b[39m     helium,\n\u001b[32m    127\u001b[39m     herbert,\n\u001b[32m    128\u001b[39m     hiera,\n\u001b[32m    129\u001b[39m     hubert,\n\u001b[32m    130\u001b[39m     ibert,\n\u001b[32m    131\u001b[39m     idefics,\n\u001b[32m    132\u001b[39m     idefics2,\n\u001b[32m    133\u001b[39m     idefics3,\n\u001b[32m    134\u001b[39m     ijepa,\n\u001b[32m    135\u001b[39m     imagegpt,\n\u001b[32m    136\u001b[39m     informer,\n\u001b[32m    137\u001b[39m     instructblip,\n\u001b[32m    138\u001b[39m     instructblipvideo,\n\u001b[32m    139\u001b[39m     jamba,\n\u001b[32m    140\u001b[39m     jetmoe,\n\u001b[32m    141\u001b[39m     kosmos2,\n\u001b[32m    142\u001b[39m     layoutlm,\n\u001b[32m    143\u001b[39m     layoutlmv2,\n\u001b[32m    144\u001b[39m     layoutlmv3,\n\u001b[32m    145\u001b[39m     layoutxlm,\n\u001b[32m    146\u001b[39m     led,\n\u001b[32m    147\u001b[39m     levit,\n\u001b[32m    148\u001b[39m     lilt,\n\u001b[32m    149\u001b[39m     llama,\n\u001b[32m    150\u001b[39m     llava,\n\u001b[32m    151\u001b[39m     llava_next,\n\u001b[32m    152\u001b[39m     llava_next_video,\n\u001b[32m    153\u001b[39m     llava_onevision,\n\u001b[32m    154\u001b[39m     longformer,\n\u001b[32m    155\u001b[39m     longt5,\n\u001b[32m    156\u001b[39m     luke,\n\u001b[32m    157\u001b[39m     lxmert,\n\u001b[32m    158\u001b[39m     m2m_100,\n\u001b[32m    159\u001b[39m     mamba,\n\u001b[32m    160\u001b[39m     mamba2,\n\u001b[32m    161\u001b[39m     marian,\n\u001b[32m    162\u001b[39m     markuplm,\n\u001b[32m    163\u001b[39m     mask2former,\n\u001b[32m    164\u001b[39m     maskformer,\n\u001b[32m    165\u001b[39m     mbart,\n\u001b[32m    166\u001b[39m     mbart50,\n\u001b[32m    167\u001b[39m     megatron_bert,\n\u001b[32m    168\u001b[39m     megatron_gpt2,\n\u001b[32m    169\u001b[39m     mgp_str,\n\u001b[32m    170\u001b[39m     mimi,\n\u001b[32m    171\u001b[39m     mistral,\n\u001b[32m    172\u001b[39m     mistral3,\n\u001b[32m    173\u001b[39m     mixtral,\n\u001b[32m    174\u001b[39m     mllama,\n\u001b[32m    175\u001b[39m     mluke,\n\u001b[32m    176\u001b[39m     mobilebert,\n\u001b[32m    177\u001b[39m     mobilenet_v1,\n\u001b[32m    178\u001b[39m     mobilenet_v2,\n\u001b[32m    179\u001b[39m     mobilevit,\n\u001b[32m    180\u001b[39m     mobilevitv2,\n\u001b[32m    181\u001b[39m     modernbert,\n\u001b[32m    182\u001b[39m     moonshine,\n\u001b[32m    183\u001b[39m     moshi,\n\u001b[32m    184\u001b[39m     mpnet,\n\u001b[32m    185\u001b[39m     mpt,\n\u001b[32m    186\u001b[39m     mra,\n\u001b[32m    187\u001b[39m     mt5,\n\u001b[32m    188\u001b[39m     musicgen,\n\u001b[32m    189\u001b[39m     musicgen_melody,\n\u001b[32m    190\u001b[39m     mvp,\n\u001b[32m    191\u001b[39m     myt5,\n\u001b[32m    192\u001b[39m     nemotron,\n\u001b[32m    193\u001b[39m     nllb,\n\u001b[32m    194\u001b[39m     nllb_moe,\n\u001b[32m    195\u001b[39m     nougat,\n\u001b[32m    196\u001b[39m     nystromformer,\n\u001b[32m    197\u001b[39m     olmo,\n\u001b[32m    198\u001b[39m     olmo2,\n\u001b[32m    199\u001b[39m     olmoe,\n\u001b[32m    200\u001b[39m     omdet_turbo,\n\u001b[32m    201\u001b[39m     oneformer,\n\u001b[32m    202\u001b[39m     openai,\n\u001b[32m    203\u001b[39m     opt,\n\u001b[32m    204\u001b[39m     owlv2,\n\u001b[32m    205\u001b[39m     owlvit,\n\u001b[32m    206\u001b[39m     paligemma,\n\u001b[32m    207\u001b[39m     patchtsmixer,\n\u001b[32m    208\u001b[39m     patchtst,\n\u001b[32m    209\u001b[39m     pegasus,\n\u001b[32m    210\u001b[39m     pegasus_x,\n\u001b[32m    211\u001b[39m     perceiver,\n\u001b[32m    212\u001b[39m     persimmon,\n\u001b[32m    213\u001b[39m     phi,\n\u001b[32m    214\u001b[39m     phi3,\n\u001b[32m    215\u001b[39m     phimoe,\n\u001b[32m    216\u001b[39m     phobert,\n\u001b[32m    217\u001b[39m     pix2struct,\n\u001b[32m    218\u001b[39m     pixtral,\n\u001b[32m    219\u001b[39m     plbart,\n\u001b[32m    220\u001b[39m     poolformer,\n\u001b[32m    221\u001b[39m     pop2piano,\n\u001b[32m    222\u001b[39m     prompt_depth_anything,\n\u001b[32m    223\u001b[39m     prophetnet,\n\u001b[32m    224\u001b[39m     pvt,\n\u001b[32m    225\u001b[39m     pvt_v2,\n\u001b[32m    226\u001b[39m     qwen2,\n\u001b[32m    227\u001b[39m     qwen2_5_vl,\n\u001b[32m    228\u001b[39m     qwen2_audio,\n\u001b[32m    229\u001b[39m     qwen2_moe,\n\u001b[32m    230\u001b[39m     qwen2_vl,\n\u001b[32m    231\u001b[39m     rag,\n\u001b[32m    232\u001b[39m     recurrent_gemma,\n\u001b[32m    233\u001b[39m     reformer,\n\u001b[32m    234\u001b[39m     regnet,\n\u001b[32m    235\u001b[39m     rembert,\n\u001b[32m    236\u001b[39m     resnet,\n\u001b[32m    237\u001b[39m     roberta,\n\u001b[32m    238\u001b[39m     roberta_prelayernorm,\n\u001b[32m    239\u001b[39m     roc_bert,\n\u001b[32m    240\u001b[39m     roformer,\n\u001b[32m    241\u001b[39m     rt_detr,\n\u001b[32m    242\u001b[39m     rt_detr_v2,\n\u001b[32m    243\u001b[39m     rwkv,\n\u001b[32m    244\u001b[39m     sam,\n\u001b[32m    245\u001b[39m     seamless_m4t,\n\u001b[32m    246\u001b[39m     seamless_m4t_v2,\n\u001b[32m    247\u001b[39m     segformer,\n\u001b[32m    248\u001b[39m     seggpt,\n\u001b[32m    249\u001b[39m     sew,\n\u001b[32m    250\u001b[39m     sew_d,\n\u001b[32m    251\u001b[39m     shieldgemma2,\n\u001b[32m    252\u001b[39m     siglip,\n\u001b[32m    253\u001b[39m     siglip2,\n\u001b[32m    254\u001b[39m     smolvlm,\n\u001b[32m    255\u001b[39m     speech_encoder_decoder,\n\u001b[32m    256\u001b[39m     speech_to_text,\n\u001b[32m    257\u001b[39m     speecht5,\n\u001b[32m    258\u001b[39m     splinter,\n\u001b[32m    259\u001b[39m     squeezebert,\n\u001b[32m    260\u001b[39m     stablelm,\n\u001b[32m    261\u001b[39m     starcoder2,\n\u001b[32m    262\u001b[39m     superglue,\n\u001b[32m    263\u001b[39m     superpoint,\n\u001b[32m    264\u001b[39m     swiftformer,\n\u001b[32m    265\u001b[39m     swin,\n\u001b[32m    266\u001b[39m     swin2sr,\n\u001b[32m    267\u001b[39m     swinv2,\n\u001b[32m    268\u001b[39m     switch_transformers,\n\u001b[32m    269\u001b[39m     t5,\n\u001b[32m    270\u001b[39m     table_transformer,\n\u001b[32m    271\u001b[39m     tapas,\n\u001b[32m    272\u001b[39m     textnet,\n\u001b[32m    273\u001b[39m     time_series_transformer,\n\u001b[32m    274\u001b[39m     timesformer,\n\u001b[32m    275\u001b[39m     timm_backbone,\n\u001b[32m    276\u001b[39m     timm_wrapper,\n\u001b[32m    277\u001b[39m     trocr,\n\u001b[32m    278\u001b[39m     tvp,\n\u001b[32m    279\u001b[39m     udop,\n\u001b[32m    280\u001b[39m     umt5,\n\u001b[32m    281\u001b[39m     unispeech,\n\u001b[32m    282\u001b[39m     unispeech_sat,\n\u001b[32m    283\u001b[39m     univnet,\n\u001b[32m    284\u001b[39m     upernet,\n\u001b[32m    285\u001b[39m     video_llava,\n\u001b[32m    286\u001b[39m     videomae,\n\u001b[32m    287\u001b[39m     vilt,\n\u001b[32m    288\u001b[39m     vipllava,\n\u001b[32m    289\u001b[39m     vision_encoder_decoder,\n\u001b[32m    290\u001b[39m     vision_text_dual_encoder,\n\u001b[32m    291\u001b[39m     visual_bert,\n\u001b[32m    292\u001b[39m     vit,\n\u001b[32m    293\u001b[39m     vit_mae,\n\u001b[32m    294\u001b[39m     vit_msn,\n\u001b[32m    295\u001b[39m     vitdet,\n\u001b[32m    296\u001b[39m     vitmatte,\n\u001b[32m    297\u001b[39m     vitpose,\n\u001b[32m    298\u001b[39m     vitpose_backbone,\n\u001b[32m    299\u001b[39m     vits,\n\u001b[32m    300\u001b[39m     vivit,\n\u001b[32m    301\u001b[39m     wav2vec2,\n\u001b[32m    302\u001b[39m     wav2vec2_bert,\n\u001b[32m    303\u001b[39m     wav2vec2_conformer,\n\u001b[32m    304\u001b[39m     wav2vec2_phoneme,\n\u001b[32m    305\u001b[39m     wav2vec2_with_lm,\n\u001b[32m    306\u001b[39m     wavlm,\n\u001b[32m    307\u001b[39m     whisper,\n\u001b[32m    308\u001b[39m     x_clip,\n\u001b[32m    309\u001b[39m     xglm,\n\u001b[32m    310\u001b[39m     xlm,\n\u001b[32m    311\u001b[39m     xlm_roberta,\n\u001b[32m    312\u001b[39m     xlm_roberta_xl,\n\u001b[32m    313\u001b[39m     xlnet,\n\u001b[32m    314\u001b[39m     xmod,\n\u001b[32m    315\u001b[39m     yolos,\n\u001b[32m    316\u001b[39m     yoso,\n\u001b[32m    317\u001b[39m     zamba,\n\u001b[32m    318\u001b[39m     zamba2,\n\u001b[32m    319\u001b[39m     zoedepth,\n\u001b[32m    320\u001b[39m )\n",
      "\u001b[36mFile \u001b[39m\u001b[32mc:\\Users\\1176153\\Downloads\\github\\Thesis\\thesis_env\\Lib\\site-packages\\transformers\\models\\vit\\__init__.py:32\u001b[39m\n\u001b[32m     29\u001b[39m \u001b[38;5;28;01mimport\u001b[39;00m\u001b[38;5;250m \u001b[39m\u001b[34;01msys\u001b[39;00m\n\u001b[32m     31\u001b[39m _file = \u001b[38;5;28mglobals\u001b[39m()[\u001b[33m\"\u001b[39m\u001b[33m__file__\u001b[39m\u001b[33m\"\u001b[39m]\n\u001b[32m---> \u001b[39m\u001b[32m32\u001b[39m sys.modules[\u001b[34m__name__\u001b[39m] = _LazyModule(\u001b[34m__name__\u001b[39m, _file, \u001b[43mdefine_import_structure\u001b[49m\u001b[43m(\u001b[49m\u001b[43m_file\u001b[49m\u001b[43m)\u001b[49m, module_spec=__spec__)\n",
      "\u001b[36mFile \u001b[39m\u001b[32mc:\\Users\\1176153\\Downloads\\github\\Thesis\\thesis_env\\Lib\\site-packages\\transformers\\utils\\import_utils.py:2400\u001b[39m, in \u001b[36mdefine_import_structure\u001b[39m\u001b[34m(module_path)\u001b[39m\n\u001b[32m   2379\u001b[39m \u001b[38;5;28;01mdef\u001b[39;00m\u001b[38;5;250m \u001b[39m\u001b[34mdefine_import_structure\u001b[39m(module_path: \u001b[38;5;28mstr\u001b[39m) -> IMPORT_STRUCTURE_T:\n\u001b[32m   2380\u001b[39m \u001b[38;5;250m    \u001b[39m\u001b[33;03m\"\"\"\u001b[39;00m\n\u001b[32m   2381\u001b[39m \u001b[33;03m    This method takes a module_path as input and creates an import structure digestible by a _LazyModule.\u001b[39;00m\n\u001b[32m   2382\u001b[39m \n\u001b[32m   (...)\u001b[39m\u001b[32m   2398\u001b[39m \u001b[33;03m    The import structure is a dict defined with frozensets as keys, and dicts of strings to sets of objects.\u001b[39;00m\n\u001b[32m   2399\u001b[39m \u001b[33;03m    \"\"\"\u001b[39;00m\n\u001b[32m-> \u001b[39m\u001b[32m2400\u001b[39m     import_structure = \u001b[43mcreate_import_structure_from_path\u001b[49m\u001b[43m(\u001b[49m\u001b[43mmodule_path\u001b[49m\u001b[43m)\u001b[49m\n\u001b[32m   2401\u001b[39m     \u001b[38;5;28;01mreturn\u001b[39;00m spread_import_structure(import_structure)\n",
      "\u001b[36mFile \u001b[39m\u001b[32mc:\\Users\\1176153\\Downloads\\github\\Thesis\\thesis_env\\Lib\\site-packages\\transformers\\utils\\import_utils.py:2170\u001b[39m, in \u001b[36mcreate_import_structure_from_path\u001b[39m\u001b[34m(module_path)\u001b[39m\n\u001b[32m   2167\u001b[39m \u001b[38;5;28;01mif\u001b[39;00m \u001b[38;5;129;01mnot\u001b[39;00m module_name.endswith(\u001b[33m\"\u001b[39m\u001b[33m.py\u001b[39m\u001b[33m\"\u001b[39m):\n\u001b[32m   2168\u001b[39m     \u001b[38;5;28;01mcontinue\u001b[39;00m\n\u001b[32m-> \u001b[39m\u001b[32m2170\u001b[39m \u001b[38;5;28;01mwith\u001b[39;00m \u001b[38;5;28mopen\u001b[39m(os.path.join(directory, module_name), encoding=\u001b[33m\"\u001b[39m\u001b[33mutf-8\u001b[39m\u001b[33m\"\u001b[39m) \u001b[38;5;28;01mas\u001b[39;00m f:\n\u001b[32m   2171\u001b[39m     file_content = f.read()\n\u001b[32m   2173\u001b[39m \u001b[38;5;66;03m# Remove the .py suffix\u001b[39;00m\n",
      "\u001b[36mFile \u001b[39m\u001b[32m<frozen codecs>:309\u001b[39m, in \u001b[36m__init__\u001b[39m\u001b[34m(self, errors)\u001b[39m\n",
      "\u001b[31mKeyboardInterrupt\u001b[39m: "
     ]
    }
   ],
   "source": [
    "from langchain_huggingface import HuggingFaceEmbeddings\n",
    "\n",
    "embeddings = HuggingFaceEmbeddings(model_name=\"sentence-transformers/all-mpnet-base-v2\")"
   ]
  },
  {
   "cell_type": "code",
   "execution_count": null,
   "id": "60c4bdc9",
   "metadata": {},
   "outputs": [
    {
     "name": "stdout",
     "output_type": "stream",
     "text": [
      "Generated vectors of length 768\n",
      "\n",
      "[0.0196357611566782, 0.020146800205111504, -0.060562487691640854, -0.010044388473033905, 0.026554178446531296, 0.0070470524951815605, 0.013940292410552502, -0.002698678057640791, -0.0296754390001297, 0.0073015145026147366]\n"
     ]
    }
   ],
   "source": [
    "vector_1 = embeddings.embed_query(staff_chunks[0].page_content)\n",
    "vector_2 = embeddings.embed_query(staff_chunks[1].page_content)\n",
    "\n",
    "assert len(vector_1) == len(vector_2)\n",
    "print(f\"Generated vectors of length {len(vector_1)}\\n\")\n",
    "print(vector_1[:10])"
   ]
  },
  {
   "cell_type": "code",
   "execution_count": null,
   "id": "06507531",
   "metadata": {},
   "outputs": [],
   "source": [
    "from langchain_chroma import Chroma\n",
    "\n",
    "vector_store = Chroma(\n",
    "    collection_name=\"example_collection\",\n",
    "    embedding_function=embeddings,\n",
    "    persist_directory=\"./chroma_langchain_db\",  # Where to save data locally, remove if not necessary\n",
    ")"
   ]
  },
  {
   "cell_type": "code",
   "execution_count": null,
   "id": "d4781b97",
   "metadata": {},
   "outputs": [],
   "source": [
    "ids = vector_store.add_documents(documents=staff_chunks)"
   ]
  },
  {
   "cell_type": "code",
   "execution_count": null,
   "id": "62e3dbe7",
   "metadata": {},
   "outputs": [
    {
     "name": "stdout",
     "output_type": "stream",
     "text": [
      "page_content='Teaching Staff en Programs Bachelor's\n",
      "Degrees Data Science Teaching Staff Américo Rio Invited Assistant Professor\n",
      "americo.rio@novaims.unl.pt\n",
      "\n",
      "Ana Cristina\n",
      "Costa Associate Professor\n",
      "cristina@novaims.unl.pt\n",
      "\n",
      "Artur Varanda\n",
      "Adjunct Lecturer\n",
      "avaranda@novaims.unl.pt\n",
      "\n",
      "Augusto Santos\n",
      "Assistant Professor\n",
      "ajrsantos@novaims.unl.pt\n",
      "\n",
      "Bruno Damásio\n",
      "Assistant Professor\n",
      "bdamasio@novaims.unl.pt\n",
      "\n",
      "Carina Albuquerque\n",
      "Assistant Professor\n",
      "calbuquerque@novaims.unl.pt\n",
      "\n",
      "Carolina Maria\n",
      "Shaul Adjunct Lecturer\n",
      "cshaul@novaims.unl.pt\n",
      "\n",
      "Carolina Santos\n",
      "Maximiano Adjunct Lecturer\n",
      "cmaximiano@novaims.unl.pt\n",
      "\n",
      "Carolina Vasconcelos\n",
      "Invited Teaching Assistant\n",
      "cvasconcelos@novaims.unl.pt\n",
      "\n",
      "Catarina Neves\n",
      "Assistant Professor\n",
      "cneves@novaims.unl.pt\n",
      "\n",
      "Catarina Palha\n",
      "Invited Teaching Assistant\n",
      "cpalha@novaims.unl.pt\n",
      "\n",
      "Dhruv Akshay\n",
      "Pandit Invited Teaching Assistant\n",
      "dpandit@novaims.unl.pt\n",
      "\n",
      "Diogo Rasteiro\n",
      "Research Assistant\n",
      "drasteiro@novaims.unl.pt\n",
      "\n",
      "Fernando Bação\n",
      "Full Professor\n",
      "bacao@novaims.unl.pt\n",
      "\n",
      "Filipe Marques\n",
      "Professor of the Practice\n",
      "fjmarques@novaims.unl.pt\n",
      "\n",
      "Gonçalo Baptista\n",
      "Professor of the Practice\n",
      "gbaptista@novaims.unl.pt\n",
      "\n",
      "Helena Guerra\n",
      "Invited Assistant Professor\n",
      "helena@novaims.unl.pt\n",
      "\n",
      "Ian Scott\n",
      "Assistant Professor\n",
      "iscott@novaims.unl.pt\n",
      "\n",
      "Ivo Bernardo\n",
      "Adjunct Lecturer\n",
      "ibernardo@novaims.unl.pt\n",
      "\n",
      "Joana Neves\n",
      "Assistant Professor\n",
      "jneves@novaims.unl.pt\n",
      "\n",
      "Jorge Neves\n",
      "Invited Assistant Professor\n",
      "jnneves@novaims.unl.pt\n",
      "\n",
      "José Carvalho\n",
      "Invited Teaching Assistant\n",
      "jcarvalho@novaims.unl.pt\n",
      "\n",
      "Leon Debatin\n",
      "Adjunct Lecturer\n",
      "20230549@novaims.unl.pt\n",
      "\n",
      "Leonardo Vanneschi\n",
      "Full Professor\n",
      "lvanneschi@novaims.unl.pt\n",
      "\n",
      "Liah Rosenfeld\n",
      "Invited Teaching Assistant\n",
      "lrosenfeld@novaims.unl.pt\n",
      "\n",
      "Manuel Rodrigues\n",
      "Adjunct Lecturer\n",
      "merodrigues@novaims.unl.pt\n",
      "\n",
      "Manuela Aparício\n",
      "Assistant Professor\n",
      "manuela.aparicio@novaims.unl.pt\n",
      "\n",
      "Maria Fernandes\n",
      "Invited Assistant Professor\n",
      "mfernandes@novaims.unl.pt\n",
      "\n",
      "Mariana Dias\n",
      "Invited Teaching Assistant\n",
      "midias@novaims.unl.pt\n",
      "\n",
      "Marisa Fernandes\n",
      "Adjunct Lecturer\n",
      "mmfernandes@novaims.unl.pt\n",
      "\n",
      "Marisa Nunes\n",
      "Adjunct Lecturer\n",
      "mnunes@novaims.unl.pt\n",
      "\n",
      "Mauro Castelli\n",
      "Full Professor\n",
      "mcastelli@novaims.unl.pt\n",
      "\n",
      "Mijail Naranjo-Zolotov\n",
      "Assistant Professor\n",
      "mijail.naranjo@novaims.unl.pt\n",
      "\n",
      "Niclas Frederic\n",
      "Sturm Research Assistant\n",
      "nsturm@novaims.unl.pt\n",
      "\n",
      "' metadata={'source': 'teaching_staff'}\n"
     ]
    }
   ],
   "source": [
    "results = vector_store.similarity_search(\n",
    "    \"Who are the data science professors?\"\n",
    ")\n",
    "\n",
    "print(results[1])"
   ]
  },
  {
   "cell_type": "code",
   "execution_count": null,
   "id": "56946e29",
   "metadata": {},
   "outputs": [
    {
     "name": "stdout",
     "output_type": "stream",
     "text": [
      "Score: 1.069201474965207\n",
      "\n",
      "page_content='Teaching Staff en Programs Bachelor's\n",
      "Degrees Data Science Teaching Staff Américo Rio Invited Assistant Professor\n",
      "americo.rio@novaims.unl.pt\n",
      "\n",
      "Ana Cristina\n",
      "Costa Associate Professor\n",
      "cristina@novaims.unl.pt\n",
      "\n",
      "Artur Varanda\n",
      "Adjunct Lecturer\n",
      "avaranda@novaims.unl.pt\n",
      "\n",
      "Augusto Santos\n",
      "Assistant Professor\n",
      "ajrsantos@novaims.unl.pt\n",
      "\n",
      "Bruno Damásio\n",
      "Assistant Professor\n",
      "bdamasio@novaims.unl.pt\n",
      "\n",
      "Carina Albuquerque\n",
      "Assistant Professor\n",
      "calbuquerque@novaims.unl.pt\n",
      "\n",
      "Carolina Maria\n",
      "Shaul Adjunct Lecturer\n",
      "cshaul@novaims.unl.pt\n",
      "\n",
      "Carolina Santos\n",
      "Maximiano Adjunct Lecturer\n",
      "cmaximiano@novaims.unl.pt\n",
      "\n",
      "Carolina Vasconcelos\n",
      "Invited Teaching Assistant\n",
      "cvasconcelos@novaims.unl.pt\n",
      "\n",
      "Catarina Neves\n",
      "Assistant Professor\n",
      "cneves@novaims.unl.pt\n",
      "\n",
      "Catarina Palha\n",
      "Invited Teaching Assistant\n",
      "cpalha@novaims.unl.pt\n",
      "\n",
      "Dhruv Akshay\n",
      "Pandit Invited Teaching Assistant\n",
      "dpandit@novaims.unl.pt\n",
      "\n",
      "Diogo Rasteiro\n",
      "Research Assistant\n",
      "drasteiro@novaims.unl.pt\n",
      "\n",
      "Fernando Bação\n",
      "Full Professor\n",
      "bacao@novaims.unl.pt\n",
      "\n",
      "Filipe Marques\n",
      "Professor of the Practice\n",
      "fjmarques@novaims.unl.pt\n",
      "\n",
      "' metadata={'source': 'teaching_staff'}\n"
     ]
    }
   ],
   "source": [
    "results = vector_store.similarity_search_with_score(\"Who are the data science teaching staff?\")\n",
    "doc, score = results[0]\n",
    "print(f\"Score: {score}\\n\")\n",
    "print(doc)"
   ]
  },
  {
   "cell_type": "code",
   "execution_count": null,
   "id": "a9cd9b4a",
   "metadata": {},
   "outputs": [],
   "source": [
    "from langchain_community.llms import LlamaCpp\n",
    "from langchain_core.callbacks import CallbackManager, StreamingStdOutCallbackHandler\n",
    "from langchain_core.prompts import PromptTemplate\n",
    "from langchain.chains import LLMChain"
   ]
  },
  {
   "cell_type": "code",
   "execution_count": null,
   "id": "4dcf6d70",
   "metadata": {},
   "outputs": [
    {
     "name": "stderr",
     "output_type": "stream",
     "text": [
      "c:\\Users\\1176153\\Downloads\\github\\Thesis\\thesis_env\\Lib\\site-packages\\langsmith\\client.py:278: LangSmithMissingAPIKeyWarning: API key must be provided when using hosted LangSmith API\n",
      "  warnings.warn(\n"
     ]
    },
    {
     "name": "stdout",
     "output_type": "stream",
     "text": [
      "You are an assistant for question-answering tasks. Use the following pieces of retrieved context to answer the question. If you don't know the answer, just say that you don't know. Use three sentences maximum and keep the answer concise.\n",
      "Question: (question goes here) \n",
      "Context: (context goes here) \n",
      "Answer:\n"
     ]
    }
   ],
   "source": [
    "from langchain import hub\n",
    "\n",
    "prompt = hub.pull(\"rlm/rag-prompt\")\n",
    "\n",
    "example_messages = prompt.invoke(\n",
    "    {\"context\": \"(context goes here)\", \"question\": \"(question goes here)\"}\n",
    ").to_messages()\n",
    "\n",
    "assert len(example_messages) == 1\n",
    "print(example_messages[0].content)\n",
    "\n",
    "callback_manager = CallbackManager([StreamingStdOutCallbackHandler()])"
   ]
  },
  {
   "cell_type": "code",
   "execution_count": null,
   "id": "53626cba",
   "metadata": {},
   "outputs": [],
   "source": [
    "from langchain_core.documents import Document\n",
    "from typing_extensions import List, TypedDict\n",
    "\n",
    "\n",
    "class State(TypedDict):\n",
    "    question: str\n",
    "    context: List[Document]\n",
    "    answer: str"
   ]
  },
  {
   "cell_type": "markdown",
   "id": "130e4cad",
   "metadata": {},
   "source": [
    "**Demystifying Chat Templates of LLM using llama-cpp**\n",
    "\n",
    "https://medium.com/@ahmet_celebi/demystifying-chat-templates-of-llm-using-llama-cpp-and-ctransformers-f17871569cd6"
   ]
  },
  {
   "cell_type": "code",
   "execution_count": null,
   "id": "b1a39fc1",
   "metadata": {},
   "outputs": [
    {
     "name": "stderr",
     "output_type": "stream",
     "text": [
      "llama_model_loader: loaded meta data with 24 key-value pairs and 291 tensors from C:\\Users\\1176153\\.cache\\huggingface\\hub\\models--TheBloke--Mistral-7B-Instruct-v0.2-GGUF\\snapshots\\3a6fbf4a41a1d52e415a4958cde6856d34b2db93\\mistral-7b-instruct-v0.2.Q4_K_M.gguf (version GGUF V3 (latest))\n",
      "llama_model_loader: Dumping metadata keys/values. Note: KV overrides do not apply in this output.\n",
      "llama_model_loader: - kv   0:                       general.architecture str              = llama\n",
      "llama_model_loader: - kv   1:                               general.name str              = mistralai_mistral-7b-instruct-v0.2\n",
      "llama_model_loader: - kv   2:                       llama.context_length u32              = 32768\n",
      "llama_model_loader: - kv   3:                     llama.embedding_length u32              = 4096\n",
      "llama_model_loader: - kv   4:                          llama.block_count u32              = 32\n",
      "llama_model_loader: - kv   5:                  llama.feed_forward_length u32              = 14336\n",
      "llama_model_loader: - kv   6:                 llama.rope.dimension_count u32              = 128\n",
      "llama_model_loader: - kv   7:                 llama.attention.head_count u32              = 32\n",
      "llama_model_loader: - kv   8:              llama.attention.head_count_kv u32              = 8\n",
      "llama_model_loader: - kv   9:     llama.attention.layer_norm_rms_epsilon f32              = 0.000010\n",
      "llama_model_loader: - kv  10:                       llama.rope.freq_base f32              = 1000000.000000\n",
      "llama_model_loader: - kv  11:                          general.file_type u32              = 15\n",
      "llama_model_loader: - kv  12:                       tokenizer.ggml.model str              = llama\n",
      "llama_model_loader: - kv  13:                      tokenizer.ggml.tokens arr[str,32000]   = [\"<unk>\", \"<s>\", \"</s>\", \"<0x00>\", \"<...\n",
      "llama_model_loader: - kv  14:                      tokenizer.ggml.scores arr[f32,32000]   = [0.000000, 0.000000, 0.000000, 0.0000...\n",
      "llama_model_loader: - kv  15:                  tokenizer.ggml.token_type arr[i32,32000]   = [2, 3, 3, 6, 6, 6, 6, 6, 6, 6, 6, 6, ...\n",
      "llama_model_loader: - kv  16:                tokenizer.ggml.bos_token_id u32              = 1\n",
      "llama_model_loader: - kv  17:                tokenizer.ggml.eos_token_id u32              = 2\n",
      "llama_model_loader: - kv  18:            tokenizer.ggml.unknown_token_id u32              = 0\n",
      "llama_model_loader: - kv  19:            tokenizer.ggml.padding_token_id u32              = 0\n",
      "llama_model_loader: - kv  20:               tokenizer.ggml.add_bos_token bool             = true\n",
      "llama_model_loader: - kv  21:               tokenizer.ggml.add_eos_token bool             = false\n",
      "llama_model_loader: - kv  22:                    tokenizer.chat_template str              = {{ bos_token }}{% for message in mess...\n",
      "llama_model_loader: - kv  23:               general.quantization_version u32              = 2\n",
      "llama_model_loader: - type  f32:   65 tensors\n",
      "llama_model_loader: - type q4_K:  193 tensors\n",
      "llama_model_loader: - type q6_K:   33 tensors\n",
      "print_info: file format = GGUF V3 (latest)\n",
      "print_info: file type   = Q4_K - Medium\n",
      "print_info: file size   = 4.07 GiB (4.83 BPW) \n",
      "init_tokenizer: initializing tokenizer for type 1\n",
      "load: control token:      2 '</s>' is not marked as EOG\n",
      "load: control token:      1 '<s>' is not marked as EOG\n",
      "load: special_eos_id is not in special_eog_ids - the tokenizer config may be incorrect\n",
      "load: special tokens cache size = 3\n",
      "load: token to piece cache size = 0.1637 MB\n",
      "print_info: arch             = llama\n",
      "print_info: vocab_only       = 0\n",
      "print_info: n_ctx_train      = 32768\n",
      "print_info: n_embd           = 4096\n",
      "print_info: n_layer          = 32\n",
      "print_info: n_head           = 32\n",
      "print_info: n_head_kv        = 8\n",
      "print_info: n_rot            = 128\n",
      "print_info: n_swa            = 0\n",
      "print_info: n_embd_head_k    = 128\n",
      "print_info: n_embd_head_v    = 128\n",
      "print_info: n_gqa            = 4\n",
      "print_info: n_embd_k_gqa     = 1024\n",
      "print_info: n_embd_v_gqa     = 1024\n",
      "print_info: f_norm_eps       = 0.0e+00\n",
      "print_info: f_norm_rms_eps   = 1.0e-05\n",
      "print_info: f_clamp_kqv      = 0.0e+00\n",
      "print_info: f_max_alibi_bias = 0.0e+00\n",
      "print_info: f_logit_scale    = 0.0e+00\n",
      "print_info: f_attn_scale     = 0.0e+00\n",
      "print_info: n_ff             = 14336\n",
      "print_info: n_expert         = 0\n",
      "print_info: n_expert_used    = 0\n",
      "print_info: causal attn      = 1\n",
      "print_info: pooling type     = 0\n",
      "print_info: rope type        = 0\n",
      "print_info: rope scaling     = linear\n",
      "print_info: freq_base_train  = 1000000.0\n",
      "print_info: freq_scale_train = 1\n",
      "print_info: n_ctx_orig_yarn  = 32768\n",
      "print_info: rope_finetuned   = unknown\n",
      "print_info: ssm_d_conv       = 0\n",
      "print_info: ssm_d_inner      = 0\n",
      "print_info: ssm_d_state      = 0\n",
      "print_info: ssm_dt_rank      = 0\n",
      "print_info: ssm_dt_b_c_rms   = 0\n",
      "print_info: model type       = 7B\n",
      "print_info: model params     = 7.24 B\n",
      "print_info: general.name     = mistralai_mistral-7b-instruct-v0.2\n",
      "print_info: vocab type       = SPM\n",
      "print_info: n_vocab          = 32000\n",
      "print_info: n_merges         = 0\n",
      "print_info: BOS token        = 1 '<s>'\n",
      "print_info: EOS token        = 2 '</s>'\n",
      "print_info: UNK token        = 0 '<unk>'\n",
      "print_info: PAD token        = 0 '<unk>'\n",
      "print_info: LF token         = 13 '<0x0A>'\n",
      "print_info: EOG token        = 2 '</s>'\n",
      "print_info: max token length = 48\n",
      "load_tensors: loading model tensors, this can take a while... (mmap = true)\n",
      "load_tensors: layer   0 assigned to device CPU\n",
      "load_tensors: layer   1 assigned to device CPU\n",
      "load_tensors: layer   2 assigned to device CPU\n",
      "load_tensors: layer   3 assigned to device CPU\n",
      "load_tensors: layer   4 assigned to device CPU\n",
      "load_tensors: layer   5 assigned to device CPU\n",
      "load_tensors: layer   6 assigned to device CPU\n",
      "load_tensors: layer   7 assigned to device CPU\n",
      "load_tensors: layer   8 assigned to device CPU\n",
      "load_tensors: layer   9 assigned to device CPU\n",
      "load_tensors: layer  10 assigned to device CPU\n",
      "load_tensors: layer  11 assigned to device CPU\n",
      "load_tensors: layer  12 assigned to device CPU\n",
      "load_tensors: layer  13 assigned to device CPU\n",
      "load_tensors: layer  14 assigned to device CPU\n",
      "load_tensors: layer  15 assigned to device CPU\n",
      "load_tensors: layer  16 assigned to device CPU\n",
      "load_tensors: layer  17 assigned to device CPU\n",
      "load_tensors: layer  18 assigned to device CPU\n",
      "load_tensors: layer  19 assigned to device CPU\n",
      "load_tensors: layer  20 assigned to device CPU\n",
      "load_tensors: layer  21 assigned to device CPU\n",
      "load_tensors: layer  22 assigned to device CPU\n",
      "load_tensors: layer  23 assigned to device CPU\n",
      "load_tensors: layer  24 assigned to device CPU\n",
      "load_tensors: layer  25 assigned to device CPU\n",
      "load_tensors: layer  26 assigned to device CPU\n",
      "load_tensors: layer  27 assigned to device CPU\n",
      "load_tensors: layer  28 assigned to device CPU\n",
      "load_tensors: layer  29 assigned to device CPU\n",
      "load_tensors: layer  30 assigned to device CPU\n",
      "load_tensors: layer  31 assigned to device CPU\n",
      "load_tensors: layer  32 assigned to device CPU\n",
      "load_tensors: tensor 'token_embd.weight' (q4_K) (and 290 others) cannot be used with preferred buffer type CPU_AARCH64, using CPU instead\n",
      "load_tensors:   CPU_Mapped model buffer size =  4165.37 MiB\n",
      ".................................................................................................\n",
      "llama_init_from_model: n_batch is less than GGML_KQ_MASK_PAD - increasing to 64\n",
      "llama_init_from_model: n_seq_max     = 1\n",
      "llama_init_from_model: n_ctx         = 4096\n",
      "llama_init_from_model: n_ctx_per_seq = 4096\n",
      "llama_init_from_model: n_batch       = 64\n",
      "llama_init_from_model: n_ubatch      = 8\n",
      "llama_init_from_model: flash_attn    = 0\n",
      "llama_init_from_model: freq_base     = 10000.0\n",
      "llama_init_from_model: freq_scale    = 1\n",
      "llama_init_from_model: n_ctx_per_seq (4096) < n_ctx_train (32768) -- the full capacity of the model will not be utilized\n",
      "llama_kv_cache_init: kv_size = 4096, offload = 1, type_k = 'f16', type_v = 'f16', n_layer = 32, can_shift = 1\n",
      "llama_kv_cache_init: layer 0: n_embd_k_gqa = 1024, n_embd_v_gqa = 1024\n",
      "llama_kv_cache_init: layer 1: n_embd_k_gqa = 1024, n_embd_v_gqa = 1024\n",
      "llama_kv_cache_init: layer 2: n_embd_k_gqa = 1024, n_embd_v_gqa = 1024\n",
      "llama_kv_cache_init: layer 3: n_embd_k_gqa = 1024, n_embd_v_gqa = 1024\n",
      "llama_kv_cache_init: layer 4: n_embd_k_gqa = 1024, n_embd_v_gqa = 1024\n",
      "llama_kv_cache_init: layer 5: n_embd_k_gqa = 1024, n_embd_v_gqa = 1024\n",
      "llama_kv_cache_init: layer 6: n_embd_k_gqa = 1024, n_embd_v_gqa = 1024\n",
      "llama_kv_cache_init: layer 7: n_embd_k_gqa = 1024, n_embd_v_gqa = 1024\n",
      "llama_kv_cache_init: layer 8: n_embd_k_gqa = 1024, n_embd_v_gqa = 1024\n",
      "llama_kv_cache_init: layer 9: n_embd_k_gqa = 1024, n_embd_v_gqa = 1024\n",
      "llama_kv_cache_init: layer 10: n_embd_k_gqa = 1024, n_embd_v_gqa = 1024\n",
      "llama_kv_cache_init: layer 11: n_embd_k_gqa = 1024, n_embd_v_gqa = 1024\n",
      "llama_kv_cache_init: layer 12: n_embd_k_gqa = 1024, n_embd_v_gqa = 1024\n",
      "llama_kv_cache_init: layer 13: n_embd_k_gqa = 1024, n_embd_v_gqa = 1024\n",
      "llama_kv_cache_init: layer 14: n_embd_k_gqa = 1024, n_embd_v_gqa = 1024\n",
      "llama_kv_cache_init: layer 15: n_embd_k_gqa = 1024, n_embd_v_gqa = 1024\n",
      "llama_kv_cache_init: layer 16: n_embd_k_gqa = 1024, n_embd_v_gqa = 1024\n",
      "llama_kv_cache_init: layer 17: n_embd_k_gqa = 1024, n_embd_v_gqa = 1024\n",
      "llama_kv_cache_init: layer 18: n_embd_k_gqa = 1024, n_embd_v_gqa = 1024\n",
      "llama_kv_cache_init: layer 19: n_embd_k_gqa = 1024, n_embd_v_gqa = 1024\n",
      "llama_kv_cache_init: layer 20: n_embd_k_gqa = 1024, n_embd_v_gqa = 1024\n",
      "llama_kv_cache_init: layer 21: n_embd_k_gqa = 1024, n_embd_v_gqa = 1024\n",
      "llama_kv_cache_init: layer 22: n_embd_k_gqa = 1024, n_embd_v_gqa = 1024\n",
      "llama_kv_cache_init: layer 23: n_embd_k_gqa = 1024, n_embd_v_gqa = 1024\n",
      "llama_kv_cache_init: layer 24: n_embd_k_gqa = 1024, n_embd_v_gqa = 1024\n",
      "llama_kv_cache_init: layer 25: n_embd_k_gqa = 1024, n_embd_v_gqa = 1024\n",
      "llama_kv_cache_init: layer 26: n_embd_k_gqa = 1024, n_embd_v_gqa = 1024\n",
      "llama_kv_cache_init: layer 27: n_embd_k_gqa = 1024, n_embd_v_gqa = 1024\n",
      "llama_kv_cache_init: layer 28: n_embd_k_gqa = 1024, n_embd_v_gqa = 1024\n",
      "llama_kv_cache_init: layer 29: n_embd_k_gqa = 1024, n_embd_v_gqa = 1024\n",
      "llama_kv_cache_init: layer 30: n_embd_k_gqa = 1024, n_embd_v_gqa = 1024\n",
      "llama_kv_cache_init: layer 31: n_embd_k_gqa = 1024, n_embd_v_gqa = 1024\n",
      "llama_kv_cache_init:        CPU KV buffer size =   512.00 MiB\n",
      "llama_init_from_model: KV self size  =  512.00 MiB, K (f16):  256.00 MiB, V (f16):  256.00 MiB\n",
      "llama_init_from_model:        CPU  output buffer size =     0.12 MiB\n",
      "llama_init_from_model:        CPU compute buffer size =     5.50 MiB\n",
      "llama_init_from_model: graph nodes  = 1030\n",
      "llama_init_from_model: graph splits = 1\n",
      "CPU : SSE3 = 1 | SSSE3 = 1 | AVX = 1 | AVX2 = 1 | F16C = 1 | FMA = 1 | LLAMAFILE = 1 | OPENMP = 1 | AARCH64_REPACK = 1 | \n",
      "Model metadata: {'general.name': 'mistralai_mistral-7b-instruct-v0.2', 'general.architecture': 'llama', 'llama.context_length': '32768', 'llama.rope.dimension_count': '128', 'llama.embedding_length': '4096', 'llama.block_count': '32', 'llama.feed_forward_length': '14336', 'llama.attention.head_count': '32', 'tokenizer.ggml.eos_token_id': '2', 'general.file_type': '15', 'llama.attention.head_count_kv': '8', 'llama.attention.layer_norm_rms_epsilon': '0.000010', 'llama.rope.freq_base': '1000000.000000', 'tokenizer.ggml.model': 'llama', 'general.quantization_version': '2', 'tokenizer.ggml.bos_token_id': '1', 'tokenizer.ggml.unknown_token_id': '0', 'tokenizer.ggml.padding_token_id': '0', 'tokenizer.ggml.add_bos_token': 'true', 'tokenizer.ggml.add_eos_token': 'false', 'tokenizer.chat_template': \"{{ bos_token }}{% for message in messages %}{% if (message['role'] == 'user') != (loop.index0 % 2 == 0) %}{{ raise_exception('Conversation roles must alternate user/assistant/user/assistant/...') }}{% endif %}{% if message['role'] == 'user' %}{{ '[INST] ' + message['content'] + ' [/INST]' }}{% elif message['role'] == 'assistant' %}{{ message['content'] + eos_token}}{% else %}{{ raise_exception('Only user and assistant roles are supported!') }}{% endif %}{% endfor %}\"}\n",
      "Available chat formats from metadata: chat_template.default\n",
      "Guessed chat format: mistral-instruct\n"
     ]
    }
   ],
   "source": [
    "llm = LlamaCpp(\n",
    "    model_path=r\"C:\\Users\\1176153\\.cache\\huggingface\\hub\\models--TheBloke--Mistral-7B-Instruct-v0.2-GGUF\\snapshots\\3a6fbf4a41a1d52e415a4958cde6856d34b2db93\\mistral-7b-instruct-v0.2.Q4_K_M.gguf\",\n",
    "    temperature=0.75,\n",
    "    max_tokens=2000,\n",
    "    top_p=1,\n",
    "    callback_manager=callback_manager,\n",
    "    verbose=True,\n",
    "    n_ctx=4096   # Verbose is required to pass to the callback manager\n",
    ")"
   ]
  },
  {
   "cell_type": "code",
   "execution_count": null,
   "id": "06a00504",
   "metadata": {},
   "outputs": [],
   "source": [
    "def retrieve(state: State):\n",
    "    retrieved_docs = vector_store.similarity_search(state[\"question\"], k=4)\n",
    "    return {\"context\": retrieved_docs}\n",
    "\n",
    "\n",
    "def generate(state: State):\n",
    "    docs_content = \"\\n\\n\".join(doc.page_content for doc in state[\"context\"])\n",
    "    messages = prompt.invoke({\"question\": state[\"question\"], \"context\": docs_content})\n",
    "    response = llm.invoke(messages)\n",
    "    return {\"answer\": response}"
   ]
  },
  {
   "cell_type": "code",
   "execution_count": null,
   "id": "c50d1fc0",
   "metadata": {},
   "outputs": [],
   "source": []
  },
  {
   "cell_type": "code",
   "execution_count": null,
   "id": "98bee674",
   "metadata": {},
   "outputs": [],
   "source": [
    "from langgraph.graph import START, StateGraph\n",
    "\n",
    "graph_builder = StateGraph(State).add_sequence([retrieve, generate])\n",
    "graph_builder.add_edge(START, \"retrieve\")\n",
    "graph = graph_builder.compile()"
   ]
  },
  {
   "cell_type": "code",
   "execution_count": null,
   "id": "d0f37d80",
   "metadata": {},
   "outputs": [
    {
     "data": {
      "image/png": "[encoded data removed]",
      "text/plain": [
       "<IPython.core.display.Image object>"
      ]
     },
     "metadata": {},
     "output_type": "display_data"
    }
   ],
   "source": [
    "from IPython.display import Image, display\n",
    "\n",
    "display(Image(graph.get_graph().draw_mermaid_png()))"
   ]
  },
  {
   "cell_type": "markdown",
   "id": "26be3552",
   "metadata": {},
   "source": [
    "- 11 m to respond"
   ]
  },
  {
   "cell_type": "code",
   "execution_count": null,
   "id": "de58c322",
   "metadata": {},
   "outputs": [
    {
     "name": "stdout",
     "output_type": "stream",
     "text": [
      " The provided context includes the names and roles of various teaching staff members in a Data Science program at Universidade Nova de Lisboa. These individuals include professors, assistant professors, adjunct lecturers, invited teaching assistants, and research assistants. Some of the names mentioned are Américo Rio, Ana Cristina Costa, Artur Varanda, Augusto Santos, Bruno Damásio, Carina Albuquerque, Carolina Maria, Carolina Santos, Carolina Vasconcelos, Catarina Neves, Catarina Palha, Dhruv Akshay, Diogo Rasteiro, Fernando Bação, Filipe Marques, Gonçalo Baptista, Helena Guerra, Ian Scott, Ivo Bernardo, Joana Neves, Jorge Neves, José Carvalho, Leon Debatin, Mauro Castelli, and Mijail Naranjo-Zolotov."
     ]
    },
    {
     "name": "stderr",
     "output_type": "stream",
     "text": [
      "llama_perf_context_print:        load time =  570241.15 ms\n",
      "llama_perf_context_print: prompt eval time =  570240.79 ms /  3249 tokens (  175.51 ms per token,     5.70 tokens per second)\n",
      "llama_perf_context_print:        eval time =   92861.61 ms /   193 runs   (  481.15 ms per token,     2.08 tokens per second)\n",
      "llama_perf_context_print:       total time =  663894.42 ms /  3442 tokens\n"
     ]
    },
    {
     "name": "stdout",
     "output_type": "stream",
     "text": [
      "Answer:  The provided context includes the names and roles of various teaching staff members in a Data Science program at Universidade Nova de Lisboa. These individuals include professors, assistant professors, adjunct lecturers, invited teaching assistants, and research assistants. Some of the names mentioned are Américo Rio, Ana Cristina Costa, Artur Varanda, Augusto Santos, Bruno Damásio, Carina Albuquerque, Carolina Maria, Carolina Santos, Carolina Vasconcelos, Catarina Neves, Catarina Palha, Dhruv Akshay, Diogo Rasteiro, Fernando Bação, Filipe Marques, Gonçalo Baptista, Helena Guerra, Ian Scott, Ivo Bernardo, Joana Neves, Jorge Neves, José Carvalho, Leon Debatin, Mauro Castelli, and Mijail Naranjo-Zolotov.\n"
     ]
    }
   ],
   "source": [
    "result = graph.invoke({\"question\": \"Who are the data science teaching staff?\"})\n",
    "\n",
    "#print(f'Context: {result[\"context\"]}\\n\\n')\n",
    "print(f'Answer: {result[\"answer\"]}')"
   ]
  },
  {
   "cell_type": "code",
   "execution_count": null,
   "id": "576497ca",
   "metadata": {},
   "outputs": [
    {
     "name": "stderr",
     "output_type": "stream",
     "text": [
      "Llama.generate: 60 prefix-match hit, remaining 2750 prompt tokens to eval\n"
     ]
    },
    {
     "name": "stdout",
     "output_type": "stream",
     "text": [
      " I'm unable to provide the email address you're looking for from this context. The given context only includes the names and roles of various academic staff members at Novaims, UNL. If you have any specific query related to a particular individual mentioned here or if you have some additional context that can help narrow down the search, please let me know and I'll be glad to help you out.\n",
      "\n",
      "Please note that providing email addresses without explicit consent from the individuals concerned may violate their privacy rights. Therefore, it is important to ensure that any information sharing is done in a responsible and ethical manner."
     ]
    },
    {
     "name": "stderr",
     "output_type": "stream",
     "text": [
      "llama_perf_context_print:        load time =  570241.15 ms\n",
      "llama_perf_context_print: prompt eval time =  510468.24 ms /  2750 tokens (  185.62 ms per token,     5.39 tokens per second)\n",
      "llama_perf_context_print:        eval time =   72944.57 ms /   125 runs   (  583.56 ms per token,     1.71 tokens per second)\n",
      "llama_perf_context_print:       total time =  583964.50 ms /  2875 tokens\n"
     ]
    },
    {
     "name": "stdout",
     "output_type": "stream",
     "text": [
      "Answer:  I'm unable to provide the email address you're looking for from this context. The given context only includes the names and roles of various academic staff members at Novaims, UNL. If you have any specific query related to a particular individual mentioned here or if you have some additional context that can help narrow down the search, please let me know and I'll be glad to help you out.\n",
      "\n",
      "Please note that providing email addresses without explicit consent from the individuals concerned may violate their privacy rights. Therefore, it is important to ensure that any information sharing is done in a responsible and ethical manner.\n"
     ]
    }
   ],
   "source": [
    "result = graph.invoke({\"question\": \"What is professors Ivo Bernado email?\"})\n",
    "\n",
    "#print(f'Context: {result[\"context\"]}\\n\\n')\n",
    "print(f'Answer: {result[\"answer\"]}')"
   ]
  },
  {
   "cell_type": "code",
   "execution_count": null,
   "id": "4df959a7",
   "metadata": {},
   "outputs": [],
   "source": []
  }
 ],
 "metadata": {
  "kernelspec": {
   "display_name": "thesis_env",
   "language": "python",
   "name": "python3"
  },
  "language_info": {
   "codemirror_mode": {
    "name": "ipython",
    "version": 3
   },
   "file_extension": ".py",
   "mimetype": "text/x-python",
   "name": "python",
   "nbconvert_exporter": "python",
   "pygments_lexer": "ipython3",
   "version": "3.11.8"
  }
 },
 "nbformat": 4,
 "nbformat_minor": 5
}
